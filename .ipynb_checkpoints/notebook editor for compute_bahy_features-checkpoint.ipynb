{
 "cells": [
  {
   "cell_type": "markdown",
   "metadata": {},
   "source": [
    "## Compute Ghost Trip Features"
   ]
  },
  {
   "cell_type": "markdown",
   "metadata": {},
   "source": [
    "- Suggested by: **Bahy Helmi Hartoyo Putra**\n",
    "- Email: **bahyhelmi97@gmail.com**"
   ]
  },
  {
   "cell_type": "markdown",
   "metadata": {},
   "source": [
    "Features list:\n",
    "- pings_cnt_AVAILABLE\n",
    "- pings_cnt_OTW_PICKUP\n",
    "- pings_cnt_OTW_DROPOFF\n",
    "- speed_mean_AVAILABLE\n",
    "- speed_median_AVAILABLE\n",
    "- speed_min_AVAILABLE\n",
    "- speed_max_AVAILABLE\n",
    "- speed_std_AVAILABLE\n",
    "- speed_mean_OTW_PICKUP\n",
    "- speed_median_OTW_PICKUP\n",
    "- speed_min_OTW_PICKUP\n",
    "- speed_max_OTW_PICKUP\n",
    "- speed_std_OTW_PICKUP\n",
    "- speed_mean_OTW_DROPOFF\n",
    "- speed_median_OTW_DROPOFF\n",
    "- speed_min_OTW_DROPOFF\n",
    "- speed_max_OTW_DROPOFF\n",
    "- speed_std_OTW_DROPOFF\n",
    "- diff_accuracy_mean_median_perc\n",
    "- diff_accuracy_min_max_perc\n",
    "- diff_accuracy_above_below_mean\n",
    "- constant_accuracy\n",
    "- quantile_skewness_distance_OTW_DROPOFF\n",
    "- kurtosis_test_distance_OTW_DROPOFF\n",
    "- ks_test_distance_OTW_DROPOFF\n",
    "- shapiro_wilk_test_distance_OTW_DROPOFF\n",
    "- unique_value_distance_OTW_DROPOFF"
   ]
  },
  {
   "cell_type": "code",
   "execution_count": 0,
   "metadata": {},
   "outputs": [],
   "source": [
    "# -*- coding: utf-8 -*-\n",
    "import dataiku\n",
    "import pandas as pd, numpy as np\n",
    "from dataiku import pandasutils as pdu\n",
    "import math as m\n",
    "import time\n",
    "from scipy.stats import kurtosis, ks_2samp, shapiro"
   ]
  },
  {
   "cell_type": "code",
   "execution_count": 0,
   "metadata": {},
   "outputs": [],
   "source": [
    "# Read recipe inputs\n",
    "print(\"Reading Data...\")\n",
    "ping_data_clean = dataiku.Dataset(\"ping_data_clean\")\n",
    "ping_data_clean_df = ping_data_clean.get_dataframe()"
   ]
  },
  {
   "cell_type": "code",
   "execution_count": 0,
   "metadata": {},
   "outputs": [],
   "source": [
    "def create_ping_features(df):\n",
    "    \"\"\"Engineer features using distance between pings\n",
    "\n",
    "    List of additional features:\n",
    "    - `distance`\n",
    "    - `calculated_speed`\n",
    "    - `time_diff`\n",
    "\n",
    "    The feature that is used in the `aggregated_features` is `calculated_speed`.\n",
    "\n",
    "    Args:\n",
    "        df (pd.DataFrame): filtered df\n",
    "\n",
    "    Returns:\n",
    "        pd.DataFrame: df with additional features `distance`, `time_diff`, `calculated_speed`\n",
    "    \"\"\"\n",
    "\n",
    "    df[\"latlong\"] = list(zip(df[\"latitude\"], df[\"longitude\"]))\n",
    "    df[\"distance\"] = df.groupby(\"order_no\")[\"latlong\"].transform(\n",
    "        calc_distance_between_pings\n",
    "    )\n",
    "    df[\"time_diff\"] = df.groupby(\"order_no\")[\"seconds\"].diff()\n",
    "    df[\"calculated_speed\"] = df[\"distance\"] / df[\"time_diff\"]\n",
    "    df[\"calculated_speed\"] = df[\"calculated_speed\"].replace(\n",
    "        [np.inf, -np.inf], np.nan\n",
    "    )\n",
    "    df = df.drop(\"latlong\", axis=1)\n",
    "\n",
    "    return df\n",
    "\n",
    "def calc_distance_between_pings(coords):\n",
    "    \"\"\"Calculate distance between pings\n",
    "\n",
    "    Important.\n",
    "    - The ping sequence has to be originated from the same driver.\n",
    "\n",
    "    Args:\n",
    "        coords (array-like): list of tuples of latitude longitude\n",
    "\n",
    "    Returns:\n",
    "        list: distance between pings\n",
    "    \"\"\"\n",
    "\n",
    "    if isinstance(coords, pd.DataFrame) or isinstance(coords, pd.Series):\n",
    "        coords = coords.values\n",
    "    temp = [0]\n",
    "    for i in range(1, len(coords)):\n",
    "        temp.append(calculate_dist(coords[i], coords[i - 1]))\n",
    "    return temp\n",
    "\n",
    "def calculate_dist(loc_next, loc_current, R=6373.0):\n",
    "    \"\"\"Calculate distance between two coordinates\n",
    "\n",
    "    Args:\n",
    "        loc_next (tuple): latitude longitude\n",
    "        loc_current (tuple): latitude longitude\n",
    "        R (float, optional): Defaults to 6373.0. earth's radius\n",
    "\n",
    "    Returns:\n",
    "        float: distance between `loc_next` and `loc_current`\n",
    "    \"\"\"\n",
    "\n",
    "    lat1, lon1 = loc_current\n",
    "    lat2, lon2 = loc_next\n",
    "    lat1, lon1, lat2, lon2 = map(m.radians, [lat1, lon1, lat2, lon2])\n",
    "    dlon = lon2 - lon1\n",
    "    dlat = lat2 - lat1\n",
    "    a = m.sin(dlat / 2) ** 2 + m.cos(lat1) * m.cos(lat2) * m.sin(dlon / 2) ** 2\n",
    "    c = 2 * m.atan2(m.sqrt(a), m.sqrt(1 - a))\n",
    "    distance = R * c * 1000\n",
    "    return distance"
   ]
  },
  {
   "cell_type": "code",
   "execution_count": 0,
   "metadata": {},
   "outputs": [],
   "source": [
    "## Load pings data & create distance, seconds, speed features from FGPS\n",
    "print(\"Creating Ping Features...\")\n",
    "pings = create_ping_features(ping_data_clean_df)"
   ]
  },
  {
   "cell_type": "markdown",
   "metadata": {},
   "source": [
    "**Calculated Speed**\n",
    "\n",
    "**Input**: df, disaggregated\n",
    "- pings\n",
    "\n",
    "**Process**:\n",
    "- Calculate the speed statistics (min, max, mean, median, std) per driver status per order.\n",
    "\n",
    "**Output**: df, aggregated\n",
    "- order_no\n",
    "- speed_mean_AVAILABLE\n",
    "- speed_median_AVAILABLE\n",
    "- speed_min_AVAILABLE\n",
    "- speed_max_AVAILABLE\n",
    "- speed_std_AVAILABLE\n",
    "- speed_mean_OTW_PICKUP\n",
    "- speed_median_OTW_PICKUP\n",
    "- speed_min_OTW_PICKUP\n",
    "- speed_max_OTW_PICKUP\n",
    "- speed_std_OTW_PICKUP\n",
    "- speed_mean_OTW_DROPOFF\n",
    "- speed_median_OTW_DROPOFF\n",
    "- speed_min_OTW_DROPOFF\n",
    "- speed_max_OTW_DROPOFF\n",
    "- speed_std_OTW_DROPOFF"
   ]
  },
  {
   "cell_type": "code",
   "execution_count": 0,
   "metadata": {},
   "outputs": [],
   "source": [
    "def calculate_speed(df_pings):\n",
    "    print(\"Start Speed Calculation...\")\n",
    "\n",
    "    avail_pings_mean = df_pings[df_pings.driver_status == 'AVAILABLE'].groupby(['order_no'])\\\n",
    "    .calculated_speed.mean().reset_index().rename(columns={\"calculated_speed\":\"speed_mean_AVAILABLE\"})\n",
    "    avail_pings_median = df_pings[df_pings.driver_status == 'AVAILABLE'].groupby(['order_no'])\\\n",
    "    .calculated_speed.median().reset_index().rename(columns={\"calculated_speed\":\"speed_median_AVAILABLE\"})\n",
    "    avail_pings_min = df_pings[df_pings.driver_status == 'AVAILABLE'].groupby(['order_no'])\\\n",
    "    .calculated_speed.min().reset_index().rename(columns={\"calculated_speed\":\"speed_min_AVAILABLE\"})\n",
    "    avail_pings_max = df_pings[df_pings.driver_status == 'AVAILABLE'].groupby(['order_no'])\\\n",
    "    .calculated_speed.max().reset_index().rename(columns={\"calculated_speed\":\"speed_max_AVAILABLE\"})\n",
    "    avail_pings_std = df_pings[df_pings.driver_status == 'AVAILABLE'].groupby(['order_no'])\\\n",
    "    .calculated_speed.std().reset_index().rename(columns={\"calculated_speed\":\"speed_std_AVAILABLE\"})\n",
    "\n",
    "    pu_pings_mean = df_pings[df_pings.driver_status == 'OTW_PICKUP'].groupby(['order_no'])\\\n",
    "    .calculated_speed.mean().reset_index().rename(columns={\"calculated_speed\":\"speed_mean_OTW_PICKUP\"})\n",
    "    pu_pings_median = df_pings[df_pings.driver_status == 'OTW_PICKUP'].groupby(['order_no'])\\\n",
    "    .calculated_speed.median().reset_index().rename(columns={\"calculated_speed\":\"speed_median_OTW_PICKUP\"})\n",
    "    pu_pings_min = df_pings[df_pings.driver_status == 'OTW_PICKUP'].groupby(['order_no'])\\\n",
    "    .calculated_speed.min().reset_index().rename(columns={\"calculated_speed\":\"speed_min_OTW_PICKUP\"})\n",
    "    pu_pings_max = df_pings[df_pings.driver_status == 'OTW_PICKUP'].groupby(['order_no'])\\\n",
    "    .calculated_speed.max().reset_index().rename(columns={\"calculated_speed\":\"speed_max_OTW_PICKUP\"})\n",
    "    pu_pings_std = df_pings[df_pings.driver_status == 'OTW_PICKUP'].groupby(['order_no'])\\\n",
    "    .calculated_speed.std().reset_index().rename(columns={\"calculated_speed\":\"speed_std_OTW_PICKUP\"})\n",
    "\n",
    "    do_pings_mean = df_pings[df_pings.driver_status == 'OTW_DROPOFF'].groupby(['order_no'])\\\n",
    "    .calculated_speed.mean().reset_index().rename(columns={\"calculated_speed\":\"speed_mean_OTW_DROPOFF\"})\n",
    "    do_pings_median = df_pings[df_pings.driver_status == 'OTW_DROPOFF'].groupby(['order_no'])\\\n",
    "    .calculated_speed.median().reset_index().rename(columns={\"calculated_speed\":\"speed_median_OTW_DROPOFF\"})\n",
    "    do_pings_min = df_pings[df_pings.driver_status == 'OTW_DROPOFF'].groupby(['order_no'])\\\n",
    "    .calculated_speed.min().reset_index().rename(columns={\"calculated_speed\":\"speed_min_OTW_DROPOFF\"})\n",
    "    do_pings_max = df_pings[df_pings.driver_status == 'OTW_DROPOFF'].groupby(['order_no'])\\\n",
    "    .calculated_speed.max().reset_index().rename(columns={\"calculated_speed\":\"speed_max_OTW_DROPOFF\"})\n",
    "    do_pings_std = df_pings[df_pings.driver_status == 'OTW_DROPOFF'].groupby(['order_no'])\\\n",
    "    .calculated_speed.std().reset_index().rename(columns={\"calculated_speed\":\"speed_std_OTW_DROPOFF\"})\n",
    "\n",
    "    cols = [avail_pings_mean, avail_pings_median, avail_pings_min, avail_pings_max, avail_pings_std,\\\n",
    "          pu_pings_mean, pu_pings_median, pu_pings_min, pu_pings_max, pu_pings_std,\\\n",
    "          do_pings_mean, do_pings_median, do_pings_min, do_pings_max, do_pings_std]\n",
    "\n",
    "    res = reduce(lambda left,right: pd.merge(left, right, on='order_no', how='outer'), cols)\n",
    "\n",
    "    print(\"Done Speed Calculation\")\n",
    "\n",
    "    return res"
   ]
  },
  {
   "cell_type": "markdown",
   "metadata": {},
   "source": [
    "**Pings Count**\n",
    "\n",
    "**Input**: df, disaggregated\n",
    "- pings\n",
    "\n",
    "**Process**:\n",
    "- Calculate the number of pings during each driver status\n",
    "\n",
    "**Output**: df, aggregated\n",
    "- order_no\n",
    "- pings_cnt_AVAILABLE\n",
    "- pings_cnt_OTW_PICKUP\n",
    "- pings_cnt_OTW_DROPOFF"
   ]
  },
  {
   "cell_type": "code",
   "execution_count": 0,
   "metadata": {},
   "outputs": [],
   "source": [
    "def pings_count(df_pings):\n",
    "    print(\"Start Pings Count...\")\n",
    "\n",
    "    avail_pings = df_pings[df_pings.driver_status == 'AVAILABLE'].groupby(['order_no']).count()['driver_id']\\\n",
    "    .reset_index().rename(columns={\"driver_id\":\"pings_cnt_AVAILABLE\"})\n",
    "\n",
    "    pu_pings = df_pings[df_pings.driver_status == 'OTW_PICKUP'].groupby(['order_no']).count()['driver_id']\\\n",
    "    .reset_index().rename(columns={\"driver_id\":\"pings_cnt_OTW_PICKUP\"})\n",
    "\n",
    "    do_pings = df_pings[df_pings.driver_status == 'OTW_DROPOFF'].groupby(['order_no']).count()['driver_id']\\\n",
    "    .reset_index().rename(columns={\"driver_id\":\"pings_cnt_OTW_DROPOFF\"})\n",
    "\n",
    "    res = avail_pings.merge(pu_pings, on='order_no', how='outer').merge(do_pings, on='order_no', how='outer')\n",
    "\n",
    "    res.fillna(0, inplace=True)\n",
    "\n",
    "    print(\"Done Pings Count\")\n",
    "\n",
    "    return res"
   ]
  },
  {
   "cell_type": "markdown",
   "metadata": {},
   "source": [
    "**Mean & Median Difference (in %) of Accuracy**\n",
    "\n",
    "**Input**: df, disaggregated\n",
    "- pings\n",
    "\n",
    "**Process**:\n",
    "- Calculate the absolute difference between mean and median of accuracy that each order has in percentage.\n",
    "\n",
    "**Output**: df, aggregated\n",
    "- order_no\n",
    "- diff_accuracy_mean_median_perc"
   ]
  },
  {
   "cell_type": "code",
   "execution_count": 0,
   "metadata": {},
   "outputs": [],
   "source": [
    "def diff_mean_median_accuracy(df_pings):\n",
    "    print(\"Start Mean-Median Diff...\")\n",
    "    temp = abs((df_pings.groupby(\"order_no\").accuracy_in_meters.median() - df_pings.groupby(\"order_no\")\\\n",
    "                .accuracy_in_meters.mean())/df_pings.groupby(\"order_no\").accuracy_in_meters.mean() * 100)\n",
    "    order_no = temp.index.values\n",
    "    diff = temp.values\n",
    "    print(\"Done Mean-Median Diff\")\n",
    "\n",
    "    return pd.DataFrame({\"order_no\": order_no, \"diff_accuracy_mean_median_perc\": diff})"
   ]
  },
  {
   "cell_type": "markdown",
   "metadata": {},
   "source": [
    "**Constant Accuracy**\n",
    "\n",
    "**Input**: df, disaggregated\n",
    "- pings\n",
    "\n",
    "**Process**:\n",
    "- Determine wether this order has a constant accuracy during the whole trip/not.\n",
    "\n",
    "**Output**: df, aggregated\n",
    "- order_no\n",
    "- constant_accuracy"
   ]
  },
  {
   "cell_type": "code",
   "execution_count": 0,
   "metadata": {},
   "outputs": [],
   "source": [
    "def constant_accuracy(df_pings):\n",
    "    print(\"Start Constant Accuracy...\")\n",
    "    pings_mask = df_pings.groupby(\"order_no\")['accuracy_in_meters'].min()\\\n",
    "                    == df_pings.groupby(\"order_no\")['accuracy_in_meters'].max()\n",
    "    df = pings_mask.to_frame().reset_index()\n",
    "\n",
    "    df_true = df[df.accuracy_in_meters == True]\n",
    "    df_true['constant'] = 1\n",
    "\n",
    "    df_false = df[df.accuracy_in_meters == False]\n",
    "    df_false['constant'] = 0\n",
    "\n",
    "    res = pd.concat([df_true, df_false])\n",
    "    print(\"Done Constant Accuracy\")\n",
    "\n",
    "    return pd.DataFrame({\"order_no\": res.order_no, \"constant_accuracy\": res.constant})"
   ]
  },
  {
   "cell_type": "markdown",
   "metadata": {},
   "source": [
    "**Min & Max Difference (in %) of Accuracy**\n",
    "\n",
    "**Input**: df, disaggregated\n",
    "- pings\n",
    "\n",
    "**Process**:\n",
    "- Calculate the absolute difference between min and max of accuracy that each order has in percentage.\n",
    "\n",
    "**Output**: df, aggregated\n",
    "- order_no\n",
    "- diff_accuracy_min_max_perc"
   ]
  },
  {
   "cell_type": "code",
   "execution_count": 0,
   "metadata": {},
   "outputs": [],
   "source": [
    "def diff_min_max_perc(df_pings):\n",
    "    print(\"Start Min & Max Accuracy...\")\n",
    "    min_accuracy = df_pings.groupby(\"order_no\")['accuracy_in_meters'].min()\n",
    "    max_accuracy = df_pings.groupby(\"order_no\")['accuracy_in_meters'].max()\n",
    "\n",
    "    res = (max_accuracy - min_accuracy)/max_accuracy\n",
    "    res = res.to_frame().reset_index()\n",
    "\n",
    "    print(\"Done Min & Max Accuracy\")\n",
    "\n",
    "    return pd.DataFrame({\"order_no\": res.order_no, \"diff_accuracy_min_max_perc\": res.accuracy_in_meters})"
   ]
  },
  {
   "cell_type": "markdown",
   "metadata": {},
   "source": [
    "**Distance Quantile Skewness**\n",
    "\n",
    "**Input**: df, disaggregated\n",
    "- pings\n",
    "\n",
    "**Process**:\n",
    "- Measure skewness as the difference between the lengths of the upper quartile (Q3-Q2) and the lower quartile (Q2-Q1), normalized by the length of the interquartile range (Q3-Q1)\n",
    "\n",
    "**Output**: df, aggregated\n",
    "- order_no\n",
    "- quantile_skewness_distance"
   ]
  },
  {
   "cell_type": "code",
   "execution_count": 0,
   "metadata": {},
   "outputs": [],
   "source": [
    "def quantile_skewness_distance(df_pings):\n",
    "    print(\"Start Quantile Skewness Distance...\")\n",
    "\n",
    "    q1 = df_pings[df_pings.driver_status == 'OTW_DROPOFF'].groupby(by=[\"order_no\",\"seconds\"]).distance.sum()\\\n",
    "    .groupby(level=[0]).cumsum().reset_index()\\\n",
    "    .groupby(\"order_no\").distance.quantile(0.25)\n",
    "\n",
    "    q2 = df_pings[df_pings.driver_status == 'OTW_DROPOFF'].groupby(by=[\"order_no\",\"seconds\"]).distance.sum()\\\n",
    "    .groupby(level=[0]).cumsum().reset_index()\\\n",
    "    .groupby(\"order_no\").distance.quantile(0.50)\n",
    "\n",
    "    q3 = df_pings[df_pings.driver_status == 'OTW_DROPOFF'].groupby(by=[\"order_no\",\"seconds\"]).distance.sum()\\\n",
    "    .groupby(level=[0]).cumsum().reset_index()\\\n",
    "    .groupby(\"order_no\").distance.quantile(0.75)\n",
    "\n",
    "    res = abs(((q3 - q2) - (q2 - q1)) / (q3 - q1)).to_frame().reset_index()\n",
    "    res.rename(columns={\"distance\": \"quantile_skewness_distance_OTW_DROPOFF\"}, inplace=True)\n",
    "    res['quantile_skewness_distance_OTW_DROPOFF'].fillna(1, inplace=True)\n",
    "\n",
    "    print(\"Done Qantile Skewness Distance\")\n",
    "\n",
    "    return res"
   ]
  },
  {
   "cell_type": "markdown",
   "metadata": {},
   "source": [
    "**KS-Test Distance**\n",
    "\n",
    "**Input**: df, disaggregated\n",
    "- pings\n",
    "\n",
    "**Process**:\n",
    "- Compute the Kolmogorov-Smirnov statistic on 2 samples.\n",
    "- Sample 1: Distances in corresponding order.\n",
    "- Sample 2 (Anchor): Array containing 140 \"0\" value.\n",
    "\n",
    "**Output**: df, aggregated\n",
    "- order_no\n",
    "- ks_test_distance_OTW_DROPOFF"
   ]
  },
  {
   "cell_type": "code",
   "execution_count": 0,
   "metadata": {},
   "outputs": [],
   "source": [
    "def ks_test_distance(df_pings):\n",
    "    print(\"Start KS-Test Distance...\")\n",
    "\n",
    "    anchor = np.repeat(0, 140)\n",
    "\n",
    "    res = df_pings[df_pings.driver_status=='OTW_DROPOFF'].groupby([\"order_no\"]).distance\\\n",
    "    .apply(lambda x: ks_2samp(x, anchor)[0]).reset_index()\\\n",
    "    .rename(columns={\"distance\": \"ks_test_distance_OTW_DROPOFF\"})\n",
    "\n",
    "    print(\"Done KS-Test Distance\")\n",
    "\n",
    "    return res"
   ]
  },
  {
   "cell_type": "markdown",
   "metadata": {},
   "source": [
    "**Kurtosis Test Distance**\n",
    "\n",
    "**Input**: df, disaggregated\n",
    "- pings\n",
    "\n",
    "**Process**:\n",
    "- Compute the Kurtosis Test on the cumulative distribution of distance.\n",
    "\n",
    "**Output**: df, aggregated\n",
    "- order_no\n",
    "- kurtosis_test_distance_OTW_DROPOFF"
   ]
  },
  {
   "cell_type": "code",
   "execution_count": 0,
   "metadata": {},
   "outputs": [],
   "source": [
    "def kurtosis_test_distance(df_pings):\n",
    "    print(\"Start Kurtosis Test Distance...\")\n",
    "\n",
    "    res = df_pings[df_pings.driver_status == 'OTW_DROPOFF'].groupby([\"order_no\",\"seconds\"]).distance.sum().cumsum()\\\n",
    "    .groupby(\"order_no\").apply(lambda x: kurtosis(x))\n",
    "\n",
    "    res = res.reset_index().rename(columns={\"distance\": \"kurtosis_test_distance_OTW_DROPOFF\"})\n",
    "\n",
    "    print(\"Done Kurtosis Test Distance\")\n",
    "\n",
    "    return res"
   ]
  },
  {
   "cell_type": "markdown",
   "metadata": {},
   "source": [
    "**Shapiro-Wilk Test Distance**\n",
    "\n",
    "**Input**: df, disaggregated\n",
    "- pings\n",
    "\n",
    "**Process**:\n",
    "- Compute the Shapiro-Wilk Test on the distribution of distance to test normality.\n",
    "\n",
    "**Output**: df, aggregated\n",
    "- order_no\n",
    "- shapiro_wilk_test_distance_OTW_DROPOFF"
   ]
  },
  {
   "cell_type": "code",
   "execution_count": 0,
   "metadata": {},
   "outputs": [],
   "source": [
    "def sw_test_distance(df_pings):\n",
    "    print(\"Start Shapiro-Wilk Test Distance...\")\n",
    "\n",
    "    def shapiro_func(x):\n",
    "        try:\n",
    "            return shapiro(x)[0]\n",
    "        except:\n",
    "            return np.nan\n",
    "\n",
    "    res = df_pings[df_pings.driver_status == 'OTW_DROPOFF'].groupby([\"order_no\"]).distance.apply(shapiro_func)\n",
    "    res = res.reset_index().rename(columns={\"distance\": \"shapiro_test_distance_OTW_DROPOFF\"})\n",
    "\n",
    "    print(\"Done Shapiro-Wilk Test Distance\")\n",
    "\n",
    "    return res"
   ]
  },
  {
   "cell_type": "markdown",
   "metadata": {},
   "source": [
    "**Unique Distance Value**\n",
    "\n",
    "**Input**: df, disaggregated\n",
    "- pings\n",
    "\n",
    "**Process**:\n",
    "- Calculate the number of (cumulative) distance distinct value observed during the OTW_DROPOFF status.\n",
    "\n",
    "**Output**: df, aggregated\n",
    "- order_no\n",
    "- unique_value_distance_OTW_DROPOFF"
   ]
  },
  {
   "cell_type": "code",
   "execution_count": 0,
   "metadata": {},
   "outputs": [],
   "source": [
    "def unique_value_distance(df_pings):\n",
    "    print(\"Start Unique Value Distance...\")\n",
    "\n",
    "    res = df_pings[df_pings.driver_status == 'OTW_DROPOFF'].groupby([\"order_no\",\"seconds\"]).distance.sum()\\\n",
    "                            .cumsum().groupby(\"order_no\").nunique()\n",
    "    res = res.reset_index().rename(columns={\"distance\": \"unique_value_distance_OTW_DROPOFF\"})\n",
    "\n",
    "    print(\"Done Unique Value Distance\")\n",
    "\n",
    "    return res"
   ]
  },
  {
   "cell_type": "markdown",
   "metadata": {},
   "source": [
    "**Above Mean & Below Mean n_values Difference (in %) of Accuracy**\n",
    "\n",
    "**Input**: df, disaggregated\n",
    "- pings\n",
    "\n",
    "**Process**:\n",
    "- Calculate the absolute difference between number of values exist above the mean and below the mean of accuracy within one standard deviation range.\n",
    "\n",
    "**Output**: df, aggregated\n",
    "- order_no\n",
    "- diff_above_below_mean_cnt_perc"
   ]
  },
  {
   "cell_type": "code",
   "execution_count": 0,
   "metadata": {},
   "outputs": [],
   "source": [
    "def diff_values_above_below_mean(df_pings):\n",
    "    print(\"Start Value Above - Below Mean Diff...\")\n",
    "\n",
    "    mean = df_pings.groupby([\"order_no\"]).accuracy_in_meters.mean()\n",
    "    std = df_pings.groupby([\"order_no\"]).accuracy_in_meters.std()\n",
    "    up = mean + std\n",
    "    down = mean - std\n",
    "\n",
    "    up_mask = list(up.repeat(df_pings.groupby(\"order_no\").size()))\n",
    "    up_mask = [round(x, 2) for x in up_mask]\n",
    "\n",
    "    down_mask = list(down.repeat(df_pings.groupby(\"order_no\").size()))\n",
    "    down_mask = [round(x, 2) for x in down_mask]\n",
    "\n",
    "    cleansed_mask = df_pings.groupby([\"order_no\", \"seconds\"])[['accuracy_in_meters']].sum()\\\n",
    "    .groupby(level=0, axis=1).apply(lambda x: (x <= up_mask) & (x >= down_mask))\n",
    "    cleansed = df_pings.groupby([\"order_no\", \"seconds\"])[['accuracy_in_meters']].sum()[cleansed_mask.accuracy_in_meters]\n",
    "\n",
    "    mean_adjusted = mean.reset_index().merge(cleansed.reset_index()[['order_no']].drop_duplicates(), on='order_no', how='inner').accuracy_in_meters\n",
    "    mean_mask = list(mean_adjusted.repeat(cleansed.groupby(\"order_no\").size()))\n",
    "    mean_mask = [round(x, 2) for x in mean_mask]\n",
    "\n",
    "    above_mean = cleansed.groupby([\"order_no\", \"seconds\"])[['accuracy_in_meters']].sum()\\\n",
    "    .groupby(level=0, axis=1).apply(lambda x: x >= mean_mask)\n",
    "    cnt_above_mean = above_mean[above_mean].groupby('order_no').accuracy_in_meters.count()\n",
    "\n",
    "    below_mean = cleansed.groupby([\"order_no\", \"seconds\"])[['accuracy_in_meters']].sum()\\\n",
    "    .groupby(level=0, axis=1).apply(lambda x: x <= mean_mask)\n",
    "    cnt_below_mean = below_mean[below_mean].groupby('order_no').accuracy_in_meters.count()\n",
    "\n",
    "    diff = abs(cnt_above_mean - cnt_below_mean)\n",
    "\n",
    "    res = diff.to_frame().reset_index()\n",
    "    res.rename(columns={\"accuracy_in_meters\": \"diff_accuracy_above_below_mean\"}, inplace=True)\n",
    "\n",
    "    print(\"Done Value Above - Below Mean Diff\")\n",
    "\n",
    "    return res"
   ]
  },
  {
   "cell_type": "code",
   "execution_count": 0,
   "metadata": {},
   "outputs": [],
   "source": [
    "df_ab_mean_acc = diff_values_above_below_mean(pings)"
   ]
  },
  {
   "cell_type": "code",
   "execution_count": 0,
   "metadata": {},
   "outputs": [],
   "source": [
    "df_mean_median_acc = diff_mean_median_accuracy(pings)"
   ]
  },
  {
   "cell_type": "code",
   "execution_count": 0,
   "metadata": {},
   "outputs": [],
   "source": [
    "df_calc_speed = calculate_speed(pings)"
   ]
  },
  {
   "cell_type": "code",
   "execution_count": 0,
   "metadata": {},
   "outputs": [],
   "source": [
    "df_min_max_acc = diff_min_max_perc(pings)"
   ]
  },
  {
   "cell_type": "code",
   "execution_count": 0,
   "metadata": {},
   "outputs": [],
   "source": [
    "df_ks_test_dist = ks_test_distance(pings)"
   ]
  },
  {
   "cell_type": "code",
   "execution_count": 0,
   "metadata": {},
   "outputs": [],
   "source": [
    "df_kurtosis_dist = kurtosis_test_distance(pings)"
   ]
  },
  {
   "cell_type": "code",
   "execution_count": 0,
   "metadata": {},
   "outputs": [],
   "source": [
    "df_sw_dist = sw_test_distance(pings)"
   ]
  },
  {
   "cell_type": "code",
   "execution_count": 0,
   "metadata": {},
   "outputs": [],
   "source": [
    "df_unique_dist = unique_value_distance(pings)"
   ]
  },
  {
   "cell_type": "code",
   "execution_count": 0,
   "metadata": {},
   "outputs": [],
   "source": [
    "df_pings_cnt = pings_count(pings)"
   ]
  },
  {
   "cell_type": "code",
   "execution_count": 0,
   "metadata": {},
   "outputs": [],
   "source": [
    "df_const_acc = constant_accuracy(pings)"
   ]
  },
  {
   "cell_type": "code",
   "execution_count": 0,
   "metadata": {},
   "outputs": [],
   "source": [
    "df_skewness_distance = quantile_skewness_distance(pings)"
   ]
  },
  {
   "cell_type": "code",
   "execution_count": 0,
   "metadata": {},
   "outputs": [],
   "source": [
    "dfs = [df_mean_median_acc, df_min_max_acc, df_ks_test_dist, df_sw_dist, df_kurtosis_dist, df_unique_dist,\\\n",
    "       df_pings_cnt, df_const_acc, df_skewness_distance, df_ab_mean_acc, df_calc_speed]"
   ]
  },
  {
   "cell_type": "code",
   "execution_count": 0,
   "metadata": {},
   "outputs": [],
   "source": [
    "columns = ['order_no', 'diff_accuracy_mean_median_perc', 'diff_accuracy_above_below_mean', \\\n",
    "           'diff_accuracy_min_max_perc', 'pings_cnt_AVAILABLE', 'pings_cnt_OTW_PICKUP', 'pings_cnt_OTW_DROPOFF',\\\n",
    "           'constant_accuracy', 'quantile_skewness_distance_OTW_DROPOFF', 'unique_value_distance_OTW_DROPOFF',\\\n",
    "           'ks_test_distance_OTW_DROPOFF', 'kurtosis_test_distance_OTW_DROPOFF', 'shapiro_test_distance_OTW_DROPOFF',\\\n",
    "           'speed_mean_AVAILABLE', 'speed_median_AVAILABLE', 'speed_min_AVAILABLE', 'speed_max_AVAILABLE',\\\n",
    "           'speed_std_AVAILABLE', 'speed_mean_OTW_PICKUP','speed_median_OTW_PICKUP', 'speed_min_OTW_PICKUP',\\\n",
    "           'speed_max_OTW_PICKUP', 'speed_std_OTW_PICKUP','speed_mean_OTW_DROPOFF', 'speed_median_OTW_DROPOFF',\\\n",
    "           'speed_min_OTW_DROPOFF', 'speed_max_OTW_DROPOFF','speed_std_OTW_DROPOFF']"
   ]
  },
  {
   "cell_type": "code",
   "execution_count": 0,
   "metadata": {},
   "outputs": [],
   "source": [
    "df_final = reduce(lambda left,right: pd.merge(left, right, on='order_no', how='outer'), dfs)"
   ]
  },
  {
   "cell_type": "code",
   "execution_count": 0,
   "metadata": {},
   "outputs": [],
   "source": [
    "df_final = df_final[columns].merge(pings[['order_no', 'label']].drop_duplicates(), on='order_no', how='inner')"
   ]
  },
  {
   "cell_type": "code",
   "execution_count": 0,
   "metadata": {},
   "outputs": [],
   "source": [
    "# Compute recipe outputs from inputs\n",
    "# TODO: Replace this part by your actual code that computes the output, as a Pandas dataframe\n",
    "# NB: DSS also supports other kinds of APIs for reading and writing data. Please see doc.\n",
    "\n",
    "bahy_features_df = df_final # For this sample code, simply copy input to output\n",
    "\n",
    "\n",
    "# Write recipe outputs\n",
    "bahy_features = dataiku.Dataset(\"bahy_features\")\n",
    "bahy_features.write_with_schema(bahy_features_df)"
   ]
  }
 ],
 "metadata": {
  "associatedRecipe": "compute_bahy_features",
  "creator": "admin",
  "kernelspec": {
   "display_name": "Python 2",
   "language": "python",
   "name": "python2"
  },
  "language_info": {
   "codemirror_mode": {
    "name": "ipython",
    "version": 2
   },
   "file_extension": ".py",
   "mimetype": "text/x-python",
   "name": "python",
   "nbconvert_exporter": "python",
   "pygments_lexer": "ipython2",
   "version": "2.7.13"
  },
  "tags": [
   "recipe-editor"
  ]
 },
 "nbformat": 4,
 "nbformat_minor": 1
}
