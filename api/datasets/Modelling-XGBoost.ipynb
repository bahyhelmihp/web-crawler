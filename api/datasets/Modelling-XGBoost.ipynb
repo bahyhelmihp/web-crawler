{
 "cells": [
  {
   "cell_type": "code",
   "execution_count": 24,
   "metadata": {},
   "outputs": [],
   "source": [
    "## Table & Visualization Libraries\n",
    "import pandas as pd\n",
    "import matplotlib.pyplot as plt\n",
    "import seaborn as sns\n",
    "import numpy as np\n",
    "import scipy\n",
    "import pickle\n",
    "import json\n",
    "\n",
    "## Prediction Libraries\n",
    "from sklearn.metrics import classification_report, confusion_matrix, \\\n",
    "accuracy_score, plot_confusion_matrix, auc, roc_curve\n",
    "\n",
    "## Cross-Validation Libraries\n",
    "from sklearn.model_selection import train_test_split, cross_val_score, StratifiedKFold, GridSearchCV\n",
    "\n",
    "## Model Libraries\n",
    "from xgboost import XGBClassifier"
   ]
  },
  {
   "cell_type": "code",
   "execution_count": 25,
   "metadata": {},
   "outputs": [],
   "source": [
    "## Change this to your new training data\n",
    "df = pd.read_csv(\"df_cleaned.csv\")\n",
    "df = df.drop_duplicates(subset='website')"
   ]
  },
  {
   "cell_type": "code",
   "execution_count": 26,
   "metadata": {},
   "outputs": [
    {
     "data": {
      "text/html": [
       "<div>\n",
       "<style scoped>\n",
       "    .dataframe tbody tr th:only-of-type {\n",
       "        vertical-align: middle;\n",
       "    }\n",
       "\n",
       "    .dataframe tbody tr th {\n",
       "        vertical-align: top;\n",
       "    }\n",
       "\n",
       "    .dataframe thead th {\n",
       "        text-align: right;\n",
       "    }\n",
       "</style>\n",
       "<table border=\"1\" class=\"dataframe\">\n",
       "  <thead>\n",
       "    <tr style=\"text-align: right;\">\n",
       "      <th></th>\n",
       "      <th>Unnamed: 0</th>\n",
       "      <th>merchant_name</th>\n",
       "      <th>broken_link_score</th>\n",
       "      <th>link_contact_us_exist</th>\n",
       "      <th>cu_email_exist</th>\n",
       "      <th>cu_phone_number_exist</th>\n",
       "      <th>link_about_us_exist</th>\n",
       "      <th>link_tnc_exist</th>\n",
       "      <th>tnc_refund_policy_exist</th>\n",
       "      <th>contact_us_score</th>\n",
       "      <th>tnc_score</th>\n",
       "      <th>links_response</th>\n",
       "      <th>website</th>\n",
       "      <th>fraud_score</th>\n",
       "      <th>label</th>\n",
       "    </tr>\n",
       "  </thead>\n",
       "  <tbody>\n",
       "    <tr>\n",
       "      <th>0</th>\n",
       "      <td>0</td>\n",
       "      <td>CV.ASIATRIPINDONESIA</td>\n",
       "      <td>0.000000</td>\n",
       "      <td>1.0</td>\n",
       "      <td>1.0</td>\n",
       "      <td>1.0</td>\n",
       "      <td>0.0</td>\n",
       "      <td>1.0</td>\n",
       "      <td>1.0</td>\n",
       "      <td>100.0</td>\n",
       "      <td>100.0</td>\n",
       "      <td>{'https://asiatrip.id/reseller/': '&lt;Response [...</td>\n",
       "      <td>http://asiatrip.id/</td>\n",
       "      <td>0.000000</td>\n",
       "      <td>APPROVED</td>\n",
       "    </tr>\n",
       "    <tr>\n",
       "      <th>1</th>\n",
       "      <td>1</td>\n",
       "      <td>Pt.BloomingLotusYoga</td>\n",
       "      <td>70.000000</td>\n",
       "      <td>1.0</td>\n",
       "      <td>1.0</td>\n",
       "      <td>1.0</td>\n",
       "      <td>1.0</td>\n",
       "      <td>1.0</td>\n",
       "      <td>1.0</td>\n",
       "      <td>100.0</td>\n",
       "      <td>100.0</td>\n",
       "      <td>{'http://www.blooming-lotus-yoga.com/bliss-mag...</td>\n",
       "      <td>https://www.blooming-lotus-yoga.com</td>\n",
       "      <td>0.000000</td>\n",
       "      <td>APPROVED</td>\n",
       "    </tr>\n",
       "    <tr>\n",
       "      <th>2</th>\n",
       "      <td>2</td>\n",
       "      <td>YayasanGreenSejahtera</td>\n",
       "      <td>11.111111</td>\n",
       "      <td>1.0</td>\n",
       "      <td>1.0</td>\n",
       "      <td>1.0</td>\n",
       "      <td>1.0</td>\n",
       "      <td>1.0</td>\n",
       "      <td>1.0</td>\n",
       "      <td>100.0</td>\n",
       "      <td>100.0</td>\n",
       "      <td>{'': 'No Response/Timeout', 'https://greenseja...</td>\n",
       "      <td>https://greensejahterafoundation.com/</td>\n",
       "      <td>0.000000</td>\n",
       "      <td>APPROVED</td>\n",
       "    </tr>\n",
       "    <tr>\n",
       "      <th>3</th>\n",
       "      <td>3</td>\n",
       "      <td>PTMatairTerraSolusi</td>\n",
       "      <td>12.500000</td>\n",
       "      <td>0.0</td>\n",
       "      <td>0.0</td>\n",
       "      <td>0.0</td>\n",
       "      <td>1.0</td>\n",
       "      <td>0.0</td>\n",
       "      <td>0.0</td>\n",
       "      <td>0.0</td>\n",
       "      <td>0.0</td>\n",
       "      <td>{'': 'No Response/Timeout', 'https://www.matai...</td>\n",
       "      <td>http://www.matair.co.id</td>\n",
       "      <td>0.666667</td>\n",
       "      <td>APPROVED</td>\n",
       "    </tr>\n",
       "    <tr>\n",
       "      <th>4</th>\n",
       "      <td>4</td>\n",
       "      <td>SimplyMii</td>\n",
       "      <td>0.000000</td>\n",
       "      <td>1.0</td>\n",
       "      <td>1.0</td>\n",
       "      <td>1.0</td>\n",
       "      <td>0.0</td>\n",
       "      <td>0.0</td>\n",
       "      <td>0.0</td>\n",
       "      <td>100.0</td>\n",
       "      <td>0.0</td>\n",
       "      <td>{'https://www.simplymii.com/products/category/...</td>\n",
       "      <td>https://www.simplymii.com/</td>\n",
       "      <td>0.000000</td>\n",
       "      <td>APPROVED</td>\n",
       "    </tr>\n",
       "  </tbody>\n",
       "</table>\n",
       "</div>"
      ],
      "text/plain": [
       "   Unnamed: 0          merchant_name  broken_link_score  \\\n",
       "0           0   CV.ASIATRIPINDONESIA           0.000000   \n",
       "1           1   Pt.BloomingLotusYoga          70.000000   \n",
       "2           2  YayasanGreenSejahtera          11.111111   \n",
       "3           3    PTMatairTerraSolusi          12.500000   \n",
       "4           4              SimplyMii           0.000000   \n",
       "\n",
       "   link_contact_us_exist  cu_email_exist  cu_phone_number_exist  \\\n",
       "0                    1.0             1.0                    1.0   \n",
       "1                    1.0             1.0                    1.0   \n",
       "2                    1.0             1.0                    1.0   \n",
       "3                    0.0             0.0                    0.0   \n",
       "4                    1.0             1.0                    1.0   \n",
       "\n",
       "   link_about_us_exist  link_tnc_exist  tnc_refund_policy_exist  \\\n",
       "0                  0.0             1.0                      1.0   \n",
       "1                  1.0             1.0                      1.0   \n",
       "2                  1.0             1.0                      1.0   \n",
       "3                  1.0             0.0                      0.0   \n",
       "4                  0.0             0.0                      0.0   \n",
       "\n",
       "   contact_us_score  tnc_score  \\\n",
       "0             100.0      100.0   \n",
       "1             100.0      100.0   \n",
       "2             100.0      100.0   \n",
       "3               0.0        0.0   \n",
       "4             100.0        0.0   \n",
       "\n",
       "                                      links_response  \\\n",
       "0  {'https://asiatrip.id/reseller/': '<Response [...   \n",
       "1  {'http://www.blooming-lotus-yoga.com/bliss-mag...   \n",
       "2  {'': 'No Response/Timeout', 'https://greenseja...   \n",
       "3  {'': 'No Response/Timeout', 'https://www.matai...   \n",
       "4  {'https://www.simplymii.com/products/category/...   \n",
       "\n",
       "                                 website  fraud_score     label  \n",
       "0                    http://asiatrip.id/     0.000000  APPROVED  \n",
       "1    https://www.blooming-lotus-yoga.com     0.000000  APPROVED  \n",
       "2  https://greensejahterafoundation.com/     0.000000  APPROVED  \n",
       "3                http://www.matair.co.id     0.666667  APPROVED  \n",
       "4             https://www.simplymii.com/     0.000000  APPROVED  "
      ]
     },
     "execution_count": 26,
     "metadata": {},
     "output_type": "execute_result"
    }
   ],
   "source": [
    "df.head()"
   ]
  },
  {
   "cell_type": "code",
   "execution_count": 27,
   "metadata": {},
   "outputs": [],
   "source": [
    "y = df['label'].apply(lambda x: 1 if x == 'REJECTED' else 0)"
   ]
  },
  {
   "cell_type": "code",
   "execution_count": 28,
   "metadata": {},
   "outputs": [],
   "source": [
    "X = df.iloc[:, 2:9]"
   ]
  },
  {
   "cell_type": "code",
   "execution_count": 29,
   "metadata": {},
   "outputs": [],
   "source": [
    "## Binarize broken_link_score, with threshold 50.0\n",
    "X[\"broken_link_score\"] = (X[\"broken_link_score\"] < 50.0)"
   ]
  },
  {
   "cell_type": "code",
   "execution_count": 30,
   "metadata": {},
   "outputs": [],
   "source": [
    "for col in X:\n",
    "    X[col] = X[col].astype(int)"
   ]
  },
  {
   "cell_type": "code",
   "execution_count": 31,
   "metadata": {
    "scrolled": true
   },
   "outputs": [
    {
     "data": {
      "text/html": [
       "<div>\n",
       "<style scoped>\n",
       "    .dataframe tbody tr th:only-of-type {\n",
       "        vertical-align: middle;\n",
       "    }\n",
       "\n",
       "    .dataframe tbody tr th {\n",
       "        vertical-align: top;\n",
       "    }\n",
       "\n",
       "    .dataframe thead th {\n",
       "        text-align: right;\n",
       "    }\n",
       "</style>\n",
       "<table border=\"1\" class=\"dataframe\">\n",
       "  <thead>\n",
       "    <tr style=\"text-align: right;\">\n",
       "      <th></th>\n",
       "      <th>broken_link_score</th>\n",
       "      <th>link_contact_us_exist</th>\n",
       "      <th>cu_email_exist</th>\n",
       "      <th>cu_phone_number_exist</th>\n",
       "      <th>link_about_us_exist</th>\n",
       "      <th>link_tnc_exist</th>\n",
       "      <th>tnc_refund_policy_exist</th>\n",
       "    </tr>\n",
       "  </thead>\n",
       "  <tbody>\n",
       "    <tr>\n",
       "      <th>0</th>\n",
       "      <td>1</td>\n",
       "      <td>1</td>\n",
       "      <td>1</td>\n",
       "      <td>1</td>\n",
       "      <td>0</td>\n",
       "      <td>1</td>\n",
       "      <td>1</td>\n",
       "    </tr>\n",
       "    <tr>\n",
       "      <th>1</th>\n",
       "      <td>0</td>\n",
       "      <td>1</td>\n",
       "      <td>1</td>\n",
       "      <td>1</td>\n",
       "      <td>1</td>\n",
       "      <td>1</td>\n",
       "      <td>1</td>\n",
       "    </tr>\n",
       "    <tr>\n",
       "      <th>2</th>\n",
       "      <td>1</td>\n",
       "      <td>1</td>\n",
       "      <td>1</td>\n",
       "      <td>1</td>\n",
       "      <td>1</td>\n",
       "      <td>1</td>\n",
       "      <td>1</td>\n",
       "    </tr>\n",
       "    <tr>\n",
       "      <th>3</th>\n",
       "      <td>1</td>\n",
       "      <td>0</td>\n",
       "      <td>0</td>\n",
       "      <td>0</td>\n",
       "      <td>1</td>\n",
       "      <td>0</td>\n",
       "      <td>0</td>\n",
       "    </tr>\n",
       "    <tr>\n",
       "      <th>4</th>\n",
       "      <td>1</td>\n",
       "      <td>1</td>\n",
       "      <td>1</td>\n",
       "      <td>1</td>\n",
       "      <td>0</td>\n",
       "      <td>0</td>\n",
       "      <td>0</td>\n",
       "    </tr>\n",
       "  </tbody>\n",
       "</table>\n",
       "</div>"
      ],
      "text/plain": [
       "   broken_link_score  link_contact_us_exist  cu_email_exist  \\\n",
       "0                  1                      1               1   \n",
       "1                  0                      1               1   \n",
       "2                  1                      1               1   \n",
       "3                  1                      0               0   \n",
       "4                  1                      1               1   \n",
       "\n",
       "   cu_phone_number_exist  link_about_us_exist  link_tnc_exist  \\\n",
       "0                      1                    0               1   \n",
       "1                      1                    1               1   \n",
       "2                      1                    1               1   \n",
       "3                      0                    1               0   \n",
       "4                      1                    0               0   \n",
       "\n",
       "   tnc_refund_policy_exist  \n",
       "0                        1  \n",
       "1                        1  \n",
       "2                        1  \n",
       "3                        0  \n",
       "4                        0  "
      ]
     },
     "execution_count": 31,
     "metadata": {},
     "output_type": "execute_result"
    }
   ],
   "source": [
    "X.head()"
   ]
  },
  {
   "cell_type": "code",
   "execution_count": 32,
   "metadata": {},
   "outputs": [
    {
     "data": {
      "text/plain": [
       "(292, 7)"
      ]
     },
     "execution_count": 32,
     "metadata": {},
     "output_type": "execute_result"
    }
   ],
   "source": [
    "X.shape"
   ]
  },
  {
   "cell_type": "code",
   "execution_count": 33,
   "metadata": {},
   "outputs": [
    {
     "data": {
      "text/plain": [
       "label\n",
       "APPROVED    215\n",
       "REJECTED     77\n",
       "dtype: int64"
      ]
     },
     "execution_count": 33,
     "metadata": {},
     "output_type": "execute_result"
    }
   ],
   "source": [
    "df.groupby(\"label\").size()"
   ]
  },
  {
   "cell_type": "code",
   "execution_count": 34,
   "metadata": {},
   "outputs": [
    {
     "data": {
      "text/plain": [
       "Index(['broken_link_score', 'link_contact_us_exist', 'cu_email_exist',\n",
       "       'cu_phone_number_exist', 'link_about_us_exist', 'link_tnc_exist',\n",
       "       'tnc_refund_policy_exist'],\n",
       "      dtype='object')"
      ]
     },
     "execution_count": 34,
     "metadata": {},
     "output_type": "execute_result"
    }
   ],
   "source": [
    "X.columns"
   ]
  },
  {
   "cell_type": "markdown",
   "metadata": {},
   "source": [
    "## Cross Validation & Hyperparameter Tuning\n",
    "Adopted from: https://weina.me/nested-cross-validation/"
   ]
  },
  {
   "cell_type": "markdown",
   "metadata": {},
   "source": [
    "#### Data Splitting"
   ]
  },
  {
   "cell_type": "code",
   "execution_count": 35,
   "metadata": {},
   "outputs": [],
   "source": [
    "## Divide data into train and \"unseen\" test set\n",
    "## Unseen test set will be used for final testing after best hyperparameter sets chose\n",
    "X_train, X_test_unseen, y_train, y_test_unseen = train_test_split(X, y, test_size=0.25, random_state=42)"
   ]
  },
  {
   "cell_type": "code",
   "execution_count": 36,
   "metadata": {},
   "outputs": [
    {
     "data": {
      "text/plain": [
       "0    159\n",
       "1     60\n",
       "Name: label, dtype: int64"
      ]
     },
     "execution_count": 36,
     "metadata": {},
     "output_type": "execute_result"
    }
   ],
   "source": [
    "y_train.value_counts()"
   ]
  },
  {
   "cell_type": "code",
   "execution_count": 37,
   "metadata": {},
   "outputs": [
    {
     "data": {
      "text/plain": [
       "0    56\n",
       "1    17\n",
       "Name: label, dtype: int64"
      ]
     },
     "execution_count": 37,
     "metadata": {},
     "output_type": "execute_result"
    }
   ],
   "source": [
    "y_test_unseen.value_counts()"
   ]
  },
  {
   "cell_type": "markdown",
   "metadata": {},
   "source": [
    "#### Find The Best Hyperparameter Candidates"
   ]
  },
  {
   "cell_type": "code",
   "execution_count": 85,
   "metadata": {},
   "outputs": [],
   "source": [
    "## Define a parameters grid\n",
    "p_grid = {\"learning_rate\":[0.05, 0.10, 0.15, 0.20, 0.25, 0.30],\n",
    "          \"max_depth\":[3, 4, 5, 6, 8, 10, 12, 15],\n",
    "          \"min_child_weight\" : [1, 3, 5, 7]}"
   ]
  },
  {
   "cell_type": "code",
   "execution_count": 86,
   "metadata": {},
   "outputs": [],
   "source": [
    "## Split train data to 5 (outer) folds\n",
    "skfold = StratifiedKFold(n_splits=5)"
   ]
  },
  {
   "cell_type": "code",
   "execution_count": 87,
   "metadata": {
    "scrolled": true
   },
   "outputs": [
    {
     "name": "stdout",
     "output_type": "stream",
     "text": [
      "Outer Fold 1\n",
      "Best Params: {'learning_rate': 0.1, 'max_depth': 3, 'min_child_weight': 5}\n",
      "Best Avg. Score: 0.919128205128205\n",
      "Outer Fold 2\n",
      "Best Params: {'learning_rate': 0.2, 'max_depth': 5, 'min_child_weight': 1}\n",
      "Best Avg. Score: 0.9389846153846154\n",
      "Outer Fold 3\n",
      "Best Params: {'learning_rate': 0.05, 'max_depth': 3, 'min_child_weight': 7}\n",
      "Best Avg. Score: 0.9341333333333333\n",
      "Outer Fold 4\n",
      "Best Params: {'learning_rate': 0.05, 'max_depth': 3, 'min_child_weight': 5}\n",
      "Best Avg. Score: 0.9272786324786324\n",
      "Outer Fold 5\n",
      "Best Params: {'learning_rate': 0.15, 'max_depth': 3, 'min_child_weight': 7}\n",
      "Best Avg. Score: 0.9122786324786324\n"
     ]
    }
   ],
   "source": [
    "i = 1\n",
    "folds = []\n",
    "for train_index_outer, test_index_outer in skfold.split(X_train, y_train):\n",
    "    fold_data = {}\n",
    "    \n",
    "    print(\"Outer Fold %s\" % i)\n",
    "    data_X_train = X_train.iloc[train_index_outer]\n",
    "    data_y_train = y_train.iloc[train_index_outer]\n",
    "    data_X_test = X_train.iloc[test_index_outer]\n",
    "    \n",
    "    ## Define model\n",
    "    model = XGBClassifier(random_state=0)\n",
    "    \n",
    "    ## Do cross validation in inner fold, get the best params\n",
    "    clf = GridSearchCV(model, p_grid, scoring='roc_auc', cv=skfold)\n",
    "    clf.fit(data_X_train, data_y_train)\n",
    "    print(\"Best Params: %s\" % clf.best_params_)\n",
    "    print(\"Best Avg. Score: %s\" % clf.best_score_)\n",
    "    fold_data['outer_fold'] = i\n",
    "    fold_data['best_param'] = clf.best_params_\n",
    "    fold_data['best_score'] = clf.best_score_\n",
    "    folds.append(fold_data)\n",
    "    \n",
    "    i+=1"
   ]
  },
  {
   "cell_type": "code",
   "execution_count": 88,
   "metadata": {},
   "outputs": [
    {
     "data": {
      "text/plain": [
       "[{'outer_fold': 1,\n",
       "  'best_param': {'learning_rate': 0.1, 'max_depth': 3, 'min_child_weight': 5},\n",
       "  'best_score': 0.919128205128205},\n",
       " {'outer_fold': 2,\n",
       "  'best_param': {'learning_rate': 0.2, 'max_depth': 5, 'min_child_weight': 1},\n",
       "  'best_score': 0.9389846153846154},\n",
       " {'outer_fold': 3,\n",
       "  'best_param': {'learning_rate': 0.05, 'max_depth': 3, 'min_child_weight': 7},\n",
       "  'best_score': 0.9341333333333333},\n",
       " {'outer_fold': 4,\n",
       "  'best_param': {'learning_rate': 0.05, 'max_depth': 3, 'min_child_weight': 5},\n",
       "  'best_score': 0.9272786324786324},\n",
       " {'outer_fold': 5,\n",
       "  'best_param': {'learning_rate': 0.15, 'max_depth': 3, 'min_child_weight': 7},\n",
       "  'best_score': 0.9122786324786324}]"
      ]
     },
     "execution_count": 88,
     "metadata": {},
     "output_type": "execute_result"
    }
   ],
   "source": [
    "folds"
   ]
  },
  {
   "cell_type": "code",
   "execution_count": 89,
   "metadata": {},
   "outputs": [],
   "source": [
    "df_outer_fold_result = pd.DataFrame({\"outer_fold\":[], \"learning_rate\":[], \"max_depth\":[],\\\n",
    "                                     \"min_child_weight\":[], \"best_score\":[]})\n",
    "for fold in folds:\n",
    "    res = pd.concat([pd.DataFrame(fold['best_param'], index=[0]),\\\n",
    "                    pd.DataFrame(fold, index=[0]).drop('best_param', axis=1)], axis=1)\n",
    "    df_outer_fold_result = pd.concat([df_outer_fold_result, res])"
   ]
  },
  {
   "cell_type": "code",
   "execution_count": 92,
   "metadata": {},
   "outputs": [
    {
     "data": {
      "text/html": [
       "<div>\n",
       "<style scoped>\n",
       "    .dataframe tbody tr th:only-of-type {\n",
       "        vertical-align: middle;\n",
       "    }\n",
       "\n",
       "    .dataframe tbody tr th {\n",
       "        vertical-align: top;\n",
       "    }\n",
       "\n",
       "    .dataframe thead th {\n",
       "        text-align: right;\n",
       "    }\n",
       "</style>\n",
       "<table border=\"1\" class=\"dataframe\">\n",
       "  <thead>\n",
       "    <tr style=\"text-align: right;\">\n",
       "      <th></th>\n",
       "      <th>outer_fold</th>\n",
       "      <th>learning_rate</th>\n",
       "      <th>max_depth</th>\n",
       "      <th>min_child_weight</th>\n",
       "      <th>best_score</th>\n",
       "    </tr>\n",
       "  </thead>\n",
       "  <tbody>\n",
       "    <tr>\n",
       "      <th>0</th>\n",
       "      <td>1.0</td>\n",
       "      <td>0.10</td>\n",
       "      <td>3.0</td>\n",
       "      <td>5.0</td>\n",
       "      <td>0.919128</td>\n",
       "    </tr>\n",
       "    <tr>\n",
       "      <th>0</th>\n",
       "      <td>2.0</td>\n",
       "      <td>0.20</td>\n",
       "      <td>5.0</td>\n",
       "      <td>1.0</td>\n",
       "      <td>0.938985</td>\n",
       "    </tr>\n",
       "    <tr>\n",
       "      <th>0</th>\n",
       "      <td>3.0</td>\n",
       "      <td>0.05</td>\n",
       "      <td>3.0</td>\n",
       "      <td>7.0</td>\n",
       "      <td>0.934133</td>\n",
       "    </tr>\n",
       "    <tr>\n",
       "      <th>0</th>\n",
       "      <td>4.0</td>\n",
       "      <td>0.05</td>\n",
       "      <td>3.0</td>\n",
       "      <td>5.0</td>\n",
       "      <td>0.927279</td>\n",
       "    </tr>\n",
       "    <tr>\n",
       "      <th>0</th>\n",
       "      <td>5.0</td>\n",
       "      <td>0.15</td>\n",
       "      <td>3.0</td>\n",
       "      <td>7.0</td>\n",
       "      <td>0.912279</td>\n",
       "    </tr>\n",
       "  </tbody>\n",
       "</table>\n",
       "</div>"
      ],
      "text/plain": [
       "   outer_fold  learning_rate  max_depth  min_child_weight  best_score\n",
       "0         1.0           0.10        3.0               5.0    0.919128\n",
       "0         2.0           0.20        5.0               1.0    0.938985\n",
       "0         3.0           0.05        3.0               7.0    0.934133\n",
       "0         4.0           0.05        3.0               5.0    0.927279\n",
       "0         5.0           0.15        3.0               7.0    0.912279"
      ]
     },
     "execution_count": 92,
     "metadata": {},
     "output_type": "execute_result"
    }
   ],
   "source": [
    "df_outer_fold_result"
   ]
  },
  {
   "cell_type": "markdown",
   "metadata": {},
   "source": [
    "#### Test All Candidates To Unseen Data"
   ]
  },
  {
   "cell_type": "code",
   "execution_count": 94,
   "metadata": {
    "scrolled": true
   },
   "outputs": [
    {
     "name": "stdout",
     "output_type": "stream",
     "text": [
      "==============================\n",
      "Fold 1\n",
      "Parameter: {'learning_rate': 0.1, 'max_depth': 3, 'min_child_weight': 5}\n",
      "AUC: 0.950\n",
      "Accuracy: 0.890 \n",
      "Precision: 0.737 \n",
      "Recall: 0.824 \n",
      "F1 Score: 0.778 \n",
      "True Positive: 14\n",
      "False Positive: 5\n",
      "True Negative: 51\n",
      "False Negative: 3\n",
      "==============================\n",
      "==============================\n",
      "Fold 2\n",
      "Parameter: {'learning_rate': 0.2, 'max_depth': 5, 'min_child_weight': 1}\n",
      "AUC: 0.942\n",
      "Accuracy: 0.836 \n",
      "Precision: 0.619 \n",
      "Recall: 0.765 \n",
      "F1 Score: 0.684 \n",
      "True Positive: 13\n",
      "False Positive: 8\n",
      "True Negative: 48\n",
      "False Negative: 4\n",
      "==============================\n",
      "==============================\n",
      "Fold 3\n",
      "Parameter: {'learning_rate': 0.05, 'max_depth': 3, 'min_child_weight': 7}\n",
      "AUC: 0.953\n",
      "Accuracy: 0.890 \n",
      "Precision: 0.737 \n",
      "Recall: 0.824 \n",
      "F1 Score: 0.778 \n",
      "True Positive: 14\n",
      "False Positive: 5\n",
      "True Negative: 51\n",
      "False Negative: 3\n",
      "==============================\n",
      "==============================\n",
      "Fold 4\n",
      "Parameter: {'learning_rate': 0.05, 'max_depth': 3, 'min_child_weight': 5}\n",
      "AUC: 0.952\n",
      "Accuracy: 0.890 \n",
      "Precision: 0.737 \n",
      "Recall: 0.824 \n",
      "F1 Score: 0.778 \n",
      "True Positive: 14\n",
      "False Positive: 5\n",
      "True Negative: 51\n",
      "False Negative: 3\n",
      "==============================\n",
      "==============================\n",
      "Fold 5\n",
      "Parameter: {'learning_rate': 0.15, 'max_depth': 3, 'min_child_weight': 7}\n",
      "AUC: 0.963\n",
      "Accuracy: 0.904 \n",
      "Precision: 0.778 \n",
      "Recall: 0.824 \n",
      "F1 Score: 0.800 \n",
      "True Positive: 14\n",
      "False Positive: 4\n",
      "True Negative: 52\n",
      "False Negative: 3\n",
      "==============================\n"
     ]
    }
   ],
   "source": [
    "pred_class = []\n",
    "pred_proba = []\n",
    "pred_auc = []\n",
    "for fold in folds:\n",
    "    model = XGBClassifier(random_state=0,\\\n",
    "                          learning_rate=fold['best_param']['learning_rate'],\\\n",
    "                          max_depth=fold['best_param']['max_depth'],\\\n",
    "                          min_child_weight=fold['best_param']['min_child_weight'])\n",
    "    \n",
    "    ## Predict\n",
    "    model.fit(X_train, y_train)\n",
    "    y_pred = model.predict(X_test_unseen)\n",
    "    y_pred_proba = model.predict_proba(X_test_unseen)\n",
    "    \n",
    "    ## Print metrics\n",
    "    print(\"==============================\")\n",
    "    print(\"Fold %s\" % fold['outer_fold'])\n",
    "    print(\"Parameter: %s\" % fold['best_param'])\n",
    "    fpr, tpr, thresholds = roc_curve(y_test_unseen, y_pred_proba[:,1])\n",
    "    auc_score = auc(fpr, tpr)\n",
    "    accuracy = accuracy_score(y_test_unseen, y_pred)\n",
    "    tn, fp, fn, tp = confusion_matrix(y_test_unseen, y_pred).ravel()\n",
    "    precision = tp / (tp + fp)\n",
    "    recall = tp / (tp + fn)\n",
    "    f1_score = 2 * (precision * recall) / (precision + recall)\n",
    "    \n",
    "    print(\"AUC: %.3f\" % auc_score)\n",
    "    print(\"Accuracy: %.3f \" % accuracy)\n",
    "    print(\"Precision: %.3f \" % precision)\n",
    "    print(\"Recall: %.3f \" % recall)\n",
    "    print(\"F1 Score: %.3f \" % f1_score)\n",
    "    print(\"True Positive: %s\" % tp)\n",
    "    print(\"False Positive: %s\" % fp)\n",
    "    print(\"True Negative: %s\" % tn)\n",
    "    print(\"False Negative: %s\" % fn)\n",
    "    print(\"==============================\")\n",
    "    \n",
    "    pred_class.append(y_pred)\n",
    "    pred_proba.append(y_pred_proba)\n",
    "    pred_auc.append(auc_score)"
   ]
  },
  {
   "cell_type": "code",
   "execution_count": 102,
   "metadata": {},
   "outputs": [],
   "source": [
    "## Best hyperparameter test to unseen data\n",
    "fold_best = folds[np.argmax(pred_auc)]"
   ]
  },
  {
   "cell_type": "code",
   "execution_count": 103,
   "metadata": {},
   "outputs": [],
   "source": [
    "## Predict with the best params\n",
    "model = XGBClassifier(random_state=0,\\\n",
    "                          learning_rate=fold_best['best_param']['learning_rate'],\\\n",
    "                          max_depth=fold_best['best_param']['max_depth'],\\\n",
    "                          min_child_weight=fold_best['best_param']['min_child_weight'])\n",
    "model.fit(X_train, y_train)\n",
    "y_pred = model.predict(X_test_unseen)\n",
    "y_pred_proba = model.predict_proba(X_test_unseen)"
   ]
  },
  {
   "cell_type": "code",
   "execution_count": 105,
   "metadata": {},
   "outputs": [
    {
     "name": "stdout",
     "output_type": "stream",
     "text": [
      "AUC: 0.963\n",
      "Accuracy: 0.904 \n",
      "Precision: 0.778 \n",
      "Recall: 0.824 \n",
      "F1 Score: 0.800 \n",
      "True Positive: 14\n",
      "False Positive: 4\n",
      "True Negative: 52\n",
      "False Negative: 3\n"
     ]
    }
   ],
   "source": [
    "fpr, tpr, thresholds = roc_curve(y_test_unseen, y_pred_proba[:,1])\n",
    "auc_score = auc(fpr, tpr)\n",
    "accuracy = accuracy_score(y_test_unseen, y_pred)\n",
    "tn, fp, fn, tp = confusion_matrix(y_test_unseen, y_pred).ravel()\n",
    "precision = tp / (tp + fp)\n",
    "recall = tp / (tp + fn)\n",
    "f1_score = 2 * (precision * recall) / (precision + recall)\n",
    "\n",
    "print(\"AUC: %.3f\" % auc_score)\n",
    "print(\"Accuracy: %.3f \" % accuracy)\n",
    "print(\"Precision: %.3f \" % precision)\n",
    "print(\"Recall: %.3f \" % recall)\n",
    "print(\"F1 Score: %.3f \" % f1_score)\n",
    "print(\"True Positive: %s\" % tp)\n",
    "print(\"False Positive: %s\" % fp)\n",
    "print(\"True Negative: %s\" % tn)\n",
    "print(\"False Negative: %s\" % fn)"
   ]
  },
  {
   "cell_type": "code",
   "execution_count": 106,
   "metadata": {},
   "outputs": [
    {
     "data": {
      "image/png": "[encoded data removed]",
      "text/plain": [
       "<Figure size 720x288 with 1 Axes>"
      ]
     },
     "metadata": {
      "needs_background": "light"
     },
     "output_type": "display_data"
    }
   ],
   "source": [
    "## ROC AUC Graph\n",
    "plt.figure(figsize=(10,4))\n",
    "plt.plot(fpr, tpr, label='ROC curve (area = %0.2f)' % (auc_score))\n",
    "plt.plot([0, 1], [0, 1], 'k--')\n",
    "plt.xlim([0.0, 1.0])\n",
    "plt.ylim([0.0, 1.05])\n",
    "plt.xlabel('False Positive Rate')\n",
    "plt.ylabel('True Positive Rate')\n",
    "plt.title('Receiver operating characteristic')\n",
    "plt.legend(loc=\"lower right\")\n",
    "plt.show()"
   ]
  },
  {
   "cell_type": "code",
   "execution_count": 108,
   "metadata": {},
   "outputs": [
    {
     "data": {
      "image/png": "[encoded data removed]",
      "text/plain": [
       "<Figure size 432x288 with 1 Axes>"
      ]
     },
     "metadata": {
      "needs_background": "light"
     },
     "output_type": "display_data"
    }
   ],
   "source": [
    "## Feature Importance based on XGBoost FScore\n",
    "feat_imp = pd.Series(model.get_booster().get_fscore()).sort_values(ascending=False)\n",
    "feat_imp.plot(kind='bar', title='Feature Importances')\n",
    "plt.ylabel('Feature Importance Score')\n",
    "plt.show()"
   ]
  },
  {
   "cell_type": "markdown",
   "metadata": {},
   "source": [
    "## Dump To Pickle"
   ]
  },
  {
   "cell_type": "code",
   "execution_count": 54,
   "metadata": {},
   "outputs": [],
   "source": [
    "# clf = model_choice\n",
    "# clf = clf.fit(X, y)\n",
    "# pickle.dump(clf, open('../models/model.pickle', 'wb'))"
   ]
  }
 ],
 "metadata": {
  "kernelspec": {
   "display_name": "Python 3",
   "language": "python",
   "name": "python3"
  },
  "language_info": {
   "codemirror_mode": {
    "name": "ipython",
    "version": 3
   },
   "file_extension": ".py",
   "mimetype": "text/x-python",
   "name": "python",
   "nbconvert_exporter": "python",
   "pygments_lexer": "ipython3",
   "version": "3.7.3"
  }
 },
 "nbformat": 4,
 "nbformat_minor": 4
}
