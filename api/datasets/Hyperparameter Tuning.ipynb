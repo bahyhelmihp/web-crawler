{
 "cells": [
  {
   "cell_type": "markdown",
   "metadata": {},
   "source": [
    "**Adpoted from**: \n",
    "https://www.analyticsvidhya.com/blog/2016/03/complete-guide-parameter-tuning-xgboost-with-codes-python/"
   ]
  },
  {
   "cell_type": "code",
   "execution_count": 216,
   "metadata": {},
   "outputs": [],
   "source": [
    "#Import libraries:\n",
    "import pandas as pd\n",
    "import numpy as np\n",
    "import xgboost as xgb\n",
    "from xgboost.sklearn import XGBClassifier\n",
    "from sklearn.model_selection import cross_validate, GridSearchCV, train_test_split\n",
    "from sklearn import metrics   #Additional scklearn functions\n",
    "\n",
    "import matplotlib.pylab as plt\n",
    "%matplotlib inline\n",
    "from matplotlib.pylab import rcParams\n",
    "rcParams['figure.figsize'] = 12, 4\n",
    "\n",
    "data = pd.read_csv('df_cleaned.csv').iloc[:,1:]\n",
    "data.replace(\"APPROVED\", 0, inplace=True)\n",
    "data.replace(\"REJECTED\", 1, inplace=True)\n",
    "target = 'label'\n",
    "predictors = [x for x in train.columns if x not in [target]][1:8]"
   ]
  },
  {
   "cell_type": "code",
   "execution_count": 230,
   "metadata": {},
   "outputs": [],
   "source": [
    "X_train, X_test, y_train, y_test = train_test_split(data[predictors]\\\n",
    "                                                    , data[target], test_size=0.33, random_state=42)"
   ]
  },
  {
   "cell_type": "code",
   "execution_count": 231,
   "metadata": {},
   "outputs": [],
   "source": [
    "train = X_train\n",
    "train['label'] = y_train"
   ]
  },
  {
   "cell_type": "code",
   "execution_count": 232,
   "metadata": {},
   "outputs": [],
   "source": [
    "test = X_test\n",
    "test['label'] = y_test"
   ]
  },
  {
   "cell_type": "code",
   "execution_count": 233,
   "metadata": {},
   "outputs": [
    {
     "data": {
      "text/plain": [
       "label\n",
       "0    245\n",
       "1     50\n",
       "dtype: int64"
      ]
     },
     "execution_count": 233,
     "metadata": {},
     "output_type": "execute_result"
    }
   ],
   "source": [
    "train.groupby(\"label\").size()"
   ]
  },
  {
   "cell_type": "code",
   "execution_count": 235,
   "metadata": {},
   "outputs": [
    {
     "data": {
      "text/plain": [
       "label\n",
       "0    111\n",
       "1     35\n",
       "dtype: int64"
      ]
     },
     "execution_count": 235,
     "metadata": {},
     "output_type": "execute_result"
    }
   ],
   "source": [
    "test.groupby(\"label\").size()"
   ]
  },
  {
   "cell_type": "markdown",
   "metadata": {},
   "source": [
    "## Fit Function"
   ]
  },
  {
   "cell_type": "code",
   "execution_count": 236,
   "metadata": {},
   "outputs": [],
   "source": [
    "def modelfit(alg, dtrain, dtest, predictors, useTrainCV=True, cv_folds=5, early_stopping_rounds=50):\n",
    "    \n",
    "    if useTrainCV:\n",
    "        xgb_param = alg.get_xgb_params()\n",
    "        xgtrain = xgb.DMatrix(dtrain[predictors].values, label=dtrain[target].values)\n",
    "        cvresult = xgb.cv(xgb_param, xgtrain, num_boost_round=alg.get_params()['n_estimators'], nfold=cv_folds,\n",
    "            metrics='auc', early_stopping_rounds=early_stopping_rounds, verbose_eval=True)\n",
    "        alg.set_params(n_estimators=cvresult.shape[0])\n",
    "    \n",
    "    #Fit the algorithm on the data\n",
    "    alg.fit(dtrain[predictors], dtrain['label'], eval_metric='auc')\n",
    "        \n",
    "    #Predict training set:\n",
    "    dtrain_predictions = alg.predict(dtrain[predictors])\n",
    "    dtrain_predprob = alg.predict_proba(dtrain[predictors])[:,1]\n",
    "    \n",
    "    #Predict testing set:\n",
    "    dtest_predictions = alg.predict(dtest[predictors])\n",
    "    dtest_predprob = alg.predict_proba(dtest[predictors])[:,1]\n",
    "        \n",
    "    #Print model report:\n",
    "    print(\"\\nModel Report\")\n",
    "    print(\"Accuracy : %.4g\" % metrics.accuracy_score(dtrain['label'].values, dtrain_predictions))\n",
    "    print(\"AUC Score (Train): %f\" % metrics.roc_auc_score(dtrain['label'], dtrain_predprob))\n",
    "    print(\"AUC Score (Test): %f\" % metrics.roc_auc_score(dtest['label'], dtest_predprob))\n",
    "                    \n",
    "    feat_imp = pd.Series(alg.get_booster().get_fscore()).sort_values(ascending=False)\n",
    "    feat_imp.plot(kind='bar', title='Feature Importances')\n",
    "    plt.ylabel('Feature Importance Score')"
   ]
  },
  {
   "cell_type": "markdown",
   "metadata": {},
   "source": [
    "## Step 1\n",
    "**Fix learning rate and number of estimators** for tuning tree-based parameters"
   ]
  },
  {
   "cell_type": "markdown",
   "metadata": {},
   "source": [
    "## XGB 1"
   ]
  },
  {
   "cell_type": "code",
   "execution_count": 240,
   "metadata": {
    "scrolled": true
   },
   "outputs": [
    {
     "name": "stdout",
     "output_type": "stream",
     "text": [
      "[0]\ttrain-auc:0.86488+0.01391\ttest-auc:0.87656+0.05659\n",
      "[1]\ttrain-auc:0.88842+0.02505\ttest-auc:0.88751+0.05436\n",
      "[2]\ttrain-auc:0.91162+0.01275\ttest-auc:0.88903+0.07019\n",
      "[3]\ttrain-auc:0.92803+0.01453\ttest-auc:0.90204+0.06078\n",
      "[4]\ttrain-auc:0.92849+0.01300\ttest-auc:0.90146+0.05430\n",
      "[5]\ttrain-auc:0.93040+0.01215\ttest-auc:0.90386+0.04987\n",
      "[6]\ttrain-auc:0.93594+0.00819\ttest-auc:0.90649+0.04641\n",
      "[7]\ttrain-auc:0.93834+0.00647\ttest-auc:0.90923+0.03855\n",
      "[8]\ttrain-auc:0.93993+0.00477\ttest-auc:0.91348+0.04077\n",
      "[9]\ttrain-auc:0.93915+0.00525\ttest-auc:0.90887+0.04467\n",
      "[10]\ttrain-auc:0.94009+0.00405\ttest-auc:0.91077+0.04324\n",
      "[11]\ttrain-auc:0.94104+0.00299\ttest-auc:0.91156+0.03986\n",
      "[12]\ttrain-auc:0.94417+0.00304\ttest-auc:0.91165+0.04389\n",
      "[13]\ttrain-auc:0.94641+0.00217\ttest-auc:0.91203+0.04348\n",
      "[14]\ttrain-auc:0.94628+0.00361\ttest-auc:0.90958+0.04411\n",
      "[15]\ttrain-auc:0.94702+0.00441\ttest-auc:0.91176+0.04366\n",
      "[16]\ttrain-auc:0.94933+0.00544\ttest-auc:0.91252+0.04407\n",
      "[17]\ttrain-auc:0.94943+0.00495\ttest-auc:0.91231+0.04702\n",
      "[18]\ttrain-auc:0.95111+0.00576\ttest-auc:0.91090+0.04905\n",
      "[19]\ttrain-auc:0.95144+0.00567\ttest-auc:0.91512+0.04770\n",
      "[20]\ttrain-auc:0.95362+0.00531\ttest-auc:0.91720+0.04819\n",
      "[21]\ttrain-auc:0.95397+0.00608\ttest-auc:0.91462+0.05086\n",
      "[22]\ttrain-auc:0.95350+0.00597\ttest-auc:0.91355+0.05185\n",
      "[23]\ttrain-auc:0.95426+0.00587\ttest-auc:0.91249+0.05239\n",
      "[24]\ttrain-auc:0.95453+0.00583\ttest-auc:0.91274+0.05028\n",
      "[25]\ttrain-auc:0.95473+0.00624\ttest-auc:0.91094+0.05102\n",
      "[26]\ttrain-auc:0.95536+0.00579\ttest-auc:0.91054+0.05079\n",
      "[27]\ttrain-auc:0.95678+0.00661\ttest-auc:0.90877+0.05424\n",
      "[28]\ttrain-auc:0.95735+0.00659\ttest-auc:0.90912+0.05381\n",
      "[29]\ttrain-auc:0.95827+0.00685\ttest-auc:0.90877+0.05350\n",
      "[30]\ttrain-auc:0.95887+0.00681\ttest-auc:0.90905+0.05169\n",
      "[31]\ttrain-auc:0.95875+0.00735\ttest-auc:0.90720+0.05175\n",
      "[32]\ttrain-auc:0.95925+0.00732\ttest-auc:0.90685+0.05155\n",
      "[33]\ttrain-auc:0.95967+0.00651\ttest-auc:0.90867+0.05010\n",
      "[34]\ttrain-auc:0.96032+0.00578\ttest-auc:0.90692+0.05363\n",
      "[35]\ttrain-auc:0.96108+0.00618\ttest-auc:0.90820+0.05344\n",
      "[36]\ttrain-auc:0.96133+0.00556\ttest-auc:0.90893+0.05329\n",
      "[37]\ttrain-auc:0.96157+0.00575\ttest-auc:0.90898+0.05402\n",
      "[38]\ttrain-auc:0.96136+0.00609\ttest-auc:0.91002+0.05260\n",
      "[39]\ttrain-auc:0.96207+0.00561\ttest-auc:0.90962+0.05371\n",
      "[40]\ttrain-auc:0.96238+0.00598\ttest-auc:0.90967+0.05367\n",
      "[41]\ttrain-auc:0.96230+0.00537\ttest-auc:0.90800+0.05213\n",
      "[42]\ttrain-auc:0.96276+0.00490\ttest-auc:0.90853+0.05292\n",
      "[43]\ttrain-auc:0.96270+0.00533\ttest-auc:0.90826+0.05115\n",
      "[44]\ttrain-auc:0.96336+0.00490\ttest-auc:0.90755+0.05271\n",
      "[45]\ttrain-auc:0.96454+0.00562\ttest-auc:0.90790+0.05231\n",
      "[46]\ttrain-auc:0.96429+0.00597\ttest-auc:0.90864+0.05281\n",
      "[47]\ttrain-auc:0.96508+0.00612\ttest-auc:0.90904+0.05225\n",
      "[48]\ttrain-auc:0.96603+0.00535\ttest-auc:0.90793+0.05286\n",
      "[49]\ttrain-auc:0.96646+0.00558\ttest-auc:0.90793+0.05148\n",
      "[50]\ttrain-auc:0.96705+0.00573\ttest-auc:0.90906+0.05009\n",
      "[51]\ttrain-auc:0.96727+0.00551\ttest-auc:0.91245+0.04830\n",
      "[52]\ttrain-auc:0.96807+0.00480\ttest-auc:0.91283+0.04719\n",
      "[53]\ttrain-auc:0.96810+0.00482\ttest-auc:0.91060+0.04978\n",
      "[54]\ttrain-auc:0.96844+0.00496\ttest-auc:0.91096+0.04932\n",
      "[55]\ttrain-auc:0.96899+0.00443\ttest-auc:0.91202+0.04798\n",
      "[56]\ttrain-auc:0.96950+0.00427\ttest-auc:0.91205+0.04798\n",
      "[57]\ttrain-auc:0.96931+0.00462\ttest-auc:0.91316+0.04667\n",
      "[58]\ttrain-auc:0.96947+0.00452\ttest-auc:0.91240+0.04754\n",
      "[59]\ttrain-auc:0.96934+0.00481\ttest-auc:0.91202+0.04798\n",
      "[60]\ttrain-auc:0.96962+0.00485\ttest-auc:0.91273+0.04712\n",
      "[61]\ttrain-auc:0.96999+0.00498\ttest-auc:0.91271+0.04780\n",
      "[62]\ttrain-auc:0.97001+0.00462\ttest-auc:0.91200+0.04738\n",
      "[63]\ttrain-auc:0.97040+0.00420\ttest-auc:0.91273+0.04712\n",
      "[64]\ttrain-auc:0.97094+0.00398\ttest-auc:0.91200+0.04865\n",
      "[65]\ttrain-auc:0.97111+0.00386\ttest-auc:0.91311+0.04798\n",
      "[66]\ttrain-auc:0.97114+0.00383\ttest-auc:0.91344+0.04756\n",
      "[67]\ttrain-auc:0.97189+0.00395\ttest-auc:0.91415+0.05030\n",
      "[68]\ttrain-auc:0.97210+0.00385\ttest-auc:0.91415+0.05030\n",
      "[69]\ttrain-auc:0.97243+0.00384\ttest-auc:0.91304+0.04809\n",
      "\n",
      "Model Report\n",
      "Accuracy : 0.9288\n",
      "AUC Score (Train): 0.954531\n",
      "AUC Score (Test): 0.943372\n"
     ]
    },
    {
     "data": {
      "image/png": "[encoded data removed]",
      "text/plain": [
       "<Figure size 864x288 with 1 Axes>"
      ]
     },
     "metadata": {
      "needs_background": "light"
     },
     "output_type": "display_data"
    }
   ],
   "source": [
    "xgb1 = XGBClassifier(\n",
    "     learning_rate=0.1,\n",
    "     n_estimators=1000,\n",
    "     max_depth=5,\n",
    "     min_child_weight=1,\n",
    "     gamma=0,\n",
    "     subsample=0.8,\n",
    "     colsample_bytree=0.8,\n",
    "     objective= 'binary:logistic',\n",
    "     nthread=4,\n",
    "     scale_pos_weight=1,\n",
    "     seed=27)\n",
    "modelfit(xgb1, train, test, predictors)"
   ]
  },
  {
   "cell_type": "markdown",
   "metadata": {},
   "source": [
    "## Step 2\n",
    "Tune **max_depth** and **min_child_weight**"
   ]
  },
  {
   "cell_type": "code",
   "execution_count": 241,
   "metadata": {},
   "outputs": [
    {
     "name": "stderr",
     "output_type": "stream",
     "text": [
      "c:\\users\\bahyh\\appdata\\local\\programs\\python\\python37\\lib\\site-packages\\sklearn\\model_selection\\_search.py:823: FutureWarning: The parameter 'iid' is deprecated in 0.22 and will be removed in 0.24.\n",
      "  \"removed in 0.24.\", FutureWarning\n"
     ]
    },
    {
     "data": {
      "text/plain": [
       "({'max_depth': 3, 'min_child_weight': 5}, 0.9051020408163266)"
      ]
     },
     "execution_count": 241,
     "metadata": {},
     "output_type": "execute_result"
    }
   ],
   "source": [
    "param_test1 = {\n",
    " 'max_depth':range(3,10,2),\n",
    " 'min_child_weight':range(1,6,2)\n",
    "}\n",
    "gsearch1 = GridSearchCV(estimator = XGBClassifier(\n",
    "    learning_rate =0.1, \n",
    "    n_estimators=69, \n",
    "    max_depth=5,\n",
    "    min_child_weight=1,\n",
    "    gamma=0,\n",
    "    subsample=0.8,\n",
    "    colsample_bytree=0.8,\n",
    "    objective= 'binary:logistic',\n",
    "    nthread=4,\n",
    "    scale_pos_weight=1,\n",
    "    seed=27), \n",
    "    param_grid = param_test1, scoring='roc_auc',n_jobs=4,iid=False, cv=5)\n",
    "gsearch1.fit(train[predictors],train[target])\n",
    "gsearch1.best_params_, gsearch1.best_score_"
   ]
  },
  {
   "cell_type": "markdown",
   "metadata": {},
   "source": [
    "The ideal values are 3 for max_depth and 5 for min_child_weight. \n",
    "Lets go one step deeper and look for optimum values. \n",
    "We’ll search for values 1 above and below the optimum values because we took an interval of two."
   ]
  },
  {
   "cell_type": "code",
   "execution_count": 242,
   "metadata": {},
   "outputs": [
    {
     "name": "stderr",
     "output_type": "stream",
     "text": [
      "c:\\users\\bahyh\\appdata\\local\\programs\\python\\python37\\lib\\site-packages\\sklearn\\model_selection\\_search.py:823: FutureWarning: The parameter 'iid' is deprecated in 0.22 and will be removed in 0.24.\n",
      "  \"removed in 0.24.\", FutureWarning\n"
     ]
    },
    {
     "data": {
      "text/plain": [
       "({'max_depth': 3, 'min_child_weight': 5}, 0.9051020408163266)"
      ]
     },
     "execution_count": 242,
     "metadata": {},
     "output_type": "execute_result"
    }
   ],
   "source": [
    "param_test2 = {\n",
    " 'max_depth':[2,3,4],\n",
    " 'min_child_weight':[4,5,6]\n",
    "}\n",
    "gsearch2 = GridSearchCV(estimator = XGBClassifier(\n",
    "    learning_rate=0.1, \n",
    "    n_estimators=69, \n",
    "    max_depth=3,\n",
    "    min_child_weight=5,\n",
    "    gamma=0,\n",
    "    subsample=0.8,\n",
    "    colsample_bytree=0.8,\n",
    "    objective= 'binary:logistic',\n",
    "    nthread=4,\n",
    "    scale_pos_weight=1,\n",
    "    seed=27), \n",
    "    param_grid = param_test2, scoring='roc_auc', n_jobs=4, iid=False, cv=5)\n",
    "gsearch2.fit(train[predictors],train[target])\n",
    "gsearch2.best_params_, gsearch2.best_score_"
   ]
  },
  {
   "cell_type": "markdown",
   "metadata": {},
   "source": [
    "It shows that the two params is changing its optimal values. Let's change the default param and recheck with higher values of **min_child_weight**."
   ]
  },
  {
   "cell_type": "code",
   "execution_count": 244,
   "metadata": {
    "scrolled": true
   },
   "outputs": [
    {
     "name": "stderr",
     "output_type": "stream",
     "text": [
      "c:\\users\\bahyh\\appdata\\local\\programs\\python\\python37\\lib\\site-packages\\sklearn\\model_selection\\_search.py:823: FutureWarning: The parameter 'iid' is deprecated in 0.22 and will be removed in 0.24.\n",
      "  \"removed in 0.24.\", FutureWarning\n"
     ]
    },
    {
     "data": {
      "text/plain": [
       "({'min_child_weight': 8}, 0.9083673469387754)"
      ]
     },
     "execution_count": 244,
     "metadata": {},
     "output_type": "execute_result"
    }
   ],
   "source": [
    "param_test2b = {\n",
    " 'min_child_weight':[6,8,10,12,14]\n",
    "}\n",
    "gsearch2b = GridSearchCV(estimator = XGBClassifier(\n",
    "    learning_rate =0.1, \n",
    "    n_estimators=69, \n",
    "    max_depth=3,\n",
    "    min_child_weight=5,\n",
    "    gamma=0,\n",
    "    subsample=0.8,\n",
    "    colsample_bytree=0.8,\n",
    "    objective= 'binary:logistic',\n",
    "    nthread=4,\n",
    "    scale_pos_weight=1,\n",
    "    seed=27), \n",
    "    param_grid = param_test2b, scoring='roc_auc', n_jobs=4, iid=False, cv=5)\n",
    "gsearch2b.fit(train[predictors],train[target])\n",
    "gsearch2b.best_params_, gsearch2b.best_score_"
   ]
  },
  {
   "cell_type": "markdown",
   "metadata": {},
   "source": [
    "It changes again, assume that the current optimal values for params are:\n",
    "    <br>\n",
    "    **min_child_weight: 8**\n",
    "    <br>\n",
    "    **max_depth: 2**"
   ]
  },
  {
   "cell_type": "markdown",
   "metadata": {},
   "source": [
    "## Step 3\n",
    "Tune the **gamma** value with other param using the previous optimal ones"
   ]
  },
  {
   "cell_type": "code",
   "execution_count": 245,
   "metadata": {},
   "outputs": [
    {
     "name": "stderr",
     "output_type": "stream",
     "text": [
      "c:\\users\\bahyh\\appdata\\local\\programs\\python\\python37\\lib\\site-packages\\sklearn\\model_selection\\_search.py:823: FutureWarning: The parameter 'iid' is deprecated in 0.22 and will be removed in 0.24.\n",
      "  \"removed in 0.24.\", FutureWarning\n"
     ]
    },
    {
     "data": {
      "text/plain": [
       "({'gamma': 0.0}, 0.9067346938775511)"
      ]
     },
     "execution_count": 245,
     "metadata": {},
     "output_type": "execute_result"
    }
   ],
   "source": [
    "param_test3 = {\n",
    " 'gamma':[i/10.0 for i in range(0,5)]\n",
    "}\n",
    "gsearch3 = GridSearchCV(estimator = XGBClassifier(\n",
    "    learning_rate=0.1, \n",
    "    n_estimators=59, \n",
    "    max_depth=2,\n",
    "    min_child_weight=8,\n",
    "    gamma=0,\n",
    "    subsample=0.8,\n",
    "    colsample_bytree=0.8,\n",
    "    objective= 'binary:logistic',\n",
    "    nthread=4,\n",
    "    scale_pos_weight=1,\n",
    "    seed=27), \n",
    "    param_grid = param_test3, scoring='roc_auc', n_jobs=4, iid=False, cv=5)\n",
    "gsearch3.fit(train[predictors], train[target])\n",
    "gsearch3.best_params_, gsearch3.best_score_"
   ]
  },
  {
   "cell_type": "markdown",
   "metadata": {},
   "source": [
    "Gamma does not changes, it's good to re-callibrate the number of boosting rounds."
   ]
  },
  {
   "cell_type": "markdown",
   "metadata": {},
   "source": [
    "## XGB 2"
   ]
  },
  {
   "cell_type": "code",
   "execution_count": 247,
   "metadata": {
    "scrolled": true
   },
   "outputs": [
    {
     "name": "stdout",
     "output_type": "stream",
     "text": [
      "[0]\ttrain-auc:0.80985+0.00991\ttest-auc:0.81899+0.04350\n",
      "[1]\ttrain-auc:0.85017+0.02973\ttest-auc:0.84891+0.06241\n",
      "[2]\ttrain-auc:0.88689+0.03400\ttest-auc:0.85910+0.07031\n",
      "[3]\ttrain-auc:0.91154+0.01358\ttest-auc:0.87801+0.05136\n",
      "[4]\ttrain-auc:0.91168+0.01237\ttest-auc:0.88502+0.04599\n",
      "[5]\ttrain-auc:0.91474+0.01598\ttest-auc:0.89399+0.04102\n",
      "[6]\ttrain-auc:0.91739+0.01171\ttest-auc:0.90474+0.03854\n",
      "[7]\ttrain-auc:0.91648+0.01371\ttest-auc:0.90376+0.03854\n",
      "[8]\ttrain-auc:0.92098+0.00972\ttest-auc:0.90573+0.03896\n",
      "[9]\ttrain-auc:0.92019+0.01086\ttest-auc:0.90644+0.03931\n",
      "[10]\ttrain-auc:0.91996+0.00976\ttest-auc:0.90878+0.03490\n",
      "[11]\ttrain-auc:0.92223+0.00851\ttest-auc:0.91328+0.04038\n",
      "[12]\ttrain-auc:0.92277+0.00746\ttest-auc:0.91349+0.03978\n",
      "[13]\ttrain-auc:0.92301+0.00736\ttest-auc:0.91271+0.03767\n",
      "[14]\ttrain-auc:0.92305+0.00786\ttest-auc:0.91236+0.03872\n",
      "[15]\ttrain-auc:0.92411+0.00863\ttest-auc:0.91165+0.04245\n",
      "[16]\ttrain-auc:0.92260+0.00837\ttest-auc:0.90978+0.04577\n",
      "[17]\ttrain-auc:0.92242+0.00850\ttest-auc:0.90869+0.04446\n",
      "[18]\ttrain-auc:0.92314+0.00871\ttest-auc:0.91098+0.04352\n",
      "[19]\ttrain-auc:0.92321+0.00889\ttest-auc:0.91063+0.04310\n",
      "[20]\ttrain-auc:0.92318+0.00887\ttest-auc:0.91061+0.04247\n",
      "[21]\ttrain-auc:0.92388+0.00920\ttest-auc:0.91058+0.04341\n",
      "[22]\ttrain-auc:0.92284+0.00932\ttest-auc:0.90896+0.04243\n",
      "[23]\ttrain-auc:0.92298+0.00888\ttest-auc:0.90970+0.04198\n",
      "[24]\ttrain-auc:0.92281+0.00938\ttest-auc:0.91005+0.04247\n",
      "[25]\ttrain-auc:0.92339+0.00924\ttest-auc:0.90826+0.04122\n",
      "[26]\ttrain-auc:0.92341+0.00897\ttest-auc:0.90936+0.04175\n",
      "[27]\ttrain-auc:0.92367+0.00975\ttest-auc:0.90919+0.04091\n",
      "[28]\ttrain-auc:0.92328+0.00907\ttest-auc:0.90785+0.04071\n",
      "[29]\ttrain-auc:0.92235+0.00996\ttest-auc:0.90490+0.03805\n",
      "[30]\ttrain-auc:0.92202+0.00976\ttest-auc:0.90492+0.03738\n",
      "[31]\ttrain-auc:0.92312+0.00973\ttest-auc:0.90568+0.03804\n",
      "[32]\ttrain-auc:0.92251+0.00959\ttest-auc:0.90752+0.03956\n",
      "[33]\ttrain-auc:0.92289+0.00932\ttest-auc:0.90803+0.03983\n",
      "[34]\ttrain-auc:0.92330+0.00963\ttest-auc:0.91102+0.04027\n",
      "[35]\ttrain-auc:0.92266+0.00950\ttest-auc:0.91196+0.03902\n",
      "[36]\ttrain-auc:0.92294+0.00857\ttest-auc:0.91044+0.04121\n",
      "[37]\ttrain-auc:0.92292+0.00923\ttest-auc:0.90973+0.03759\n",
      "[38]\ttrain-auc:0.92251+0.00862\ttest-auc:0.90824+0.03663\n",
      "[39]\ttrain-auc:0.92265+0.00845\ttest-auc:0.91009+0.03785\n",
      "[40]\ttrain-auc:0.92201+0.00830\ttest-auc:0.91044+0.03752\n",
      "[41]\ttrain-auc:0.92162+0.00833\ttest-auc:0.91040+0.03805\n",
      "[42]\ttrain-auc:0.92193+0.00820\ttest-auc:0.91042+0.03720\n",
      "[43]\ttrain-auc:0.92146+0.00801\ttest-auc:0.91002+0.03864\n",
      "[44]\ttrain-auc:0.92127+0.00797\ttest-auc:0.91040+0.03805\n",
      "[45]\ttrain-auc:0.92149+0.00788\ttest-auc:0.91077+0.03746\n",
      "[46]\ttrain-auc:0.92116+0.00733\ttest-auc:0.91151+0.03659\n",
      "[47]\ttrain-auc:0.92120+0.00732\ttest-auc:0.91151+0.03659\n",
      "[48]\ttrain-auc:0.92105+0.00735\ttest-auc:0.91151+0.03659\n",
      "[49]\ttrain-auc:0.92058+0.00686\ttest-auc:0.91151+0.03659\n",
      "[50]\ttrain-auc:0.92050+0.00694\ttest-auc:0.91037+0.03593\n",
      "[51]\ttrain-auc:0.92050+0.00694\ttest-auc:0.91037+0.03593\n",
      "[52]\ttrain-auc:0.92043+0.00695\ttest-auc:0.91037+0.03593\n",
      "[53]\ttrain-auc:0.92038+0.00701\ttest-auc:0.91002+0.03566\n",
      "[54]\ttrain-auc:0.91946+0.00644\ttest-auc:0.90984+0.03386\n",
      "[55]\ttrain-auc:0.91978+0.00657\ttest-auc:0.91020+0.03358\n",
      "[56]\ttrain-auc:0.91978+0.00657\ttest-auc:0.91020+0.03358\n",
      "[57]\ttrain-auc:0.91978+0.00657\ttest-auc:0.91020+0.03358\n",
      "[58]\ttrain-auc:0.91976+0.00660\ttest-auc:0.91020+0.03358\n",
      "[59]\ttrain-auc:0.91965+0.00657\ttest-auc:0.91020+0.03358\n",
      "[60]\ttrain-auc:0.91962+0.00660\ttest-auc:0.91020+0.03358\n",
      "[61]\ttrain-auc:0.91954+0.00670\ttest-auc:0.91020+0.03358\n",
      "\n",
      "Model Report\n",
      "Accuracy : 0.9119\n",
      "AUC Score (Train): 0.919224\n",
      "AUC Score (Test): 0.933462\n"
     ]
    },
    {
     "data": {
      "image/png": "[encoded data removed]",
      "text/plain": [
       "<Figure size 864x288 with 1 Axes>"
      ]
     },
     "metadata": {
      "needs_background": "light"
     },
     "output_type": "display_data"
    }
   ],
   "source": [
    "xgb2 = XGBClassifier(\n",
    " learning_rate=0.1,\n",
    " n_estimators=1000,\n",
    " max_depth=2,\n",
    " min_child_weight=8,\n",
    " gamma=0,\n",
    " subsample=0.8,\n",
    " colsample_bytree=0.8,\n",
    " objective= 'binary:logistic',\n",
    " nthread=4,\n",
    " scale_pos_weight=1,\n",
    " seed=27)\n",
    "modelfit(xgb2, train, test, predictors)"
   ]
  },
  {
   "cell_type": "markdown",
   "metadata": {},
   "source": [
    "**max_depth:** 2<br>\n",
    "**min_child_weight:** 8<br>\n",
    "**gamma:** 0.0<br>\n",
    "**n_estimators:** 61<br>"
   ]
  },
  {
   "cell_type": "markdown",
   "metadata": {},
   "source": [
    "## Step 3\n",
    "Tune the **subsample** and **colsample_bytree**"
   ]
  },
  {
   "cell_type": "code",
   "execution_count": 248,
   "metadata": {},
   "outputs": [
    {
     "name": "stderr",
     "output_type": "stream",
     "text": [
      "c:\\users\\bahyh\\appdata\\local\\programs\\python\\python37\\lib\\site-packages\\sklearn\\model_selection\\_search.py:823: FutureWarning: The parameter 'iid' is deprecated in 0.22 and will be removed in 0.24.\n",
      "  \"removed in 0.24.\", FutureWarning\n"
     ]
    },
    {
     "data": {
      "text/plain": [
       "({'colsample_bytree': 0.9, 'subsample': 0.8}, 0.9091836734693878)"
      ]
     },
     "execution_count": 248,
     "metadata": {},
     "output_type": "execute_result"
    }
   ],
   "source": [
    "param_test4 = {\n",
    " 'subsample':[i/10.0 for i in range(6,10)],\n",
    " 'colsample_bytree':[i/10.0 for i in range(6,10)]\n",
    "}\n",
    "gsearch4 = GridSearchCV(estimator = XGBClassifier(\n",
    "    learning_rate=0.1, \n",
    "    n_estimators=61, \n",
    "    max_depth=2,\n",
    "    min_child_weight=8,\n",
    "    gamma=0.0,\n",
    "    subsample=0.8,\n",
    "    colsample_bytree=0.8,\n",
    "    objective= 'binary:logistic',\n",
    "    nthread=4,\n",
    "    scale_pos_weight=1,\n",
    "    seed=27), \n",
    "    param_grid = param_test4, scoring='roc_auc', n_jobs=4, iid=False, cv=5)\n",
    "gsearch4.fit(train[predictors], train[target])\n",
    "gsearch4.best_params_, gsearch4.best_score_"
   ]
  },
  {
   "cell_type": "markdown",
   "metadata": {},
   "source": [
    "Give another range of values for colsample_bytree with an interval of 0.05 since it's changing"
   ]
  },
  {
   "cell_type": "code",
   "execution_count": 251,
   "metadata": {},
   "outputs": [
    {
     "name": "stderr",
     "output_type": "stream",
     "text": [
      "c:\\users\\bahyh\\appdata\\local\\programs\\python\\python37\\lib\\site-packages\\sklearn\\model_selection\\_search.py:823: FutureWarning: The parameter 'iid' is deprecated in 0.22 and will be removed in 0.24.\n",
      "  \"removed in 0.24.\", FutureWarning\n"
     ]
    },
    {
     "data": {
      "text/plain": [
       "({'colsample_bytree': 0.9, 'subsample': 0.8}, 0.9091836734693878)"
      ]
     },
     "execution_count": 251,
     "metadata": {},
     "output_type": "execute_result"
    }
   ],
   "source": [
    "param_test5 = {\n",
    " 'subsample':[i/100.0 for i in range(75,90,5)],\n",
    " 'colsample_bytree':[i/100.0 for i in range(85,95,5)]\n",
    "}\n",
    "gsearch5 = GridSearchCV(estimator = XGBClassifier(\n",
    "    learning_rate=0.1, \n",
    "    n_estimators=61, \n",
    "    max_depth=2,\n",
    "    min_child_weight=8,\n",
    "    gamma=0.0,\n",
    "    subsample=0.8,\n",
    "    colsample_bytree=0.9,\n",
    "    objective= 'binary:logistic',\n",
    "    nthread=4,\n",
    "    scale_pos_weight=1,\n",
    "    seed=27), \n",
    "    param_grid = param_test5, scoring='roc_auc', n_jobs=4, iid=False, cv=5)\n",
    "gsearch5.fit(train[predictors], train[target])\n",
    "gsearch5.best_params_, gsearch5.best_score_"
   ]
  },
  {
   "cell_type": "markdown",
   "metadata": {},
   "source": [
    "It stays, continue."
   ]
  },
  {
   "cell_type": "markdown",
   "metadata": {},
   "source": [
    "## Step 5\n",
    "Tuning regularization for the model to reduce overfitting"
   ]
  },
  {
   "cell_type": "code",
   "execution_count": 258,
   "metadata": {},
   "outputs": [
    {
     "name": "stderr",
     "output_type": "stream",
     "text": [
      "c:\\users\\bahyh\\appdata\\local\\programs\\python\\python37\\lib\\site-packages\\sklearn\\model_selection\\_search.py:823: FutureWarning: The parameter 'iid' is deprecated in 0.22 and will be removed in 0.24.\n",
      "  \"removed in 0.24.\", FutureWarning\n"
     ]
    },
    {
     "data": {
      "text/plain": [
       "({'reg_alpha': 0}, 0.9091836734693878)"
      ]
     },
     "execution_count": 258,
     "metadata": {},
     "output_type": "execute_result"
    }
   ],
   "source": [
    "param_test6 = {\n",
    " 'reg_alpha':[0, 1e-5, 1e-2, 0.1, 1, 100]\n",
    "}\n",
    "gsearch6 = GridSearchCV(estimator = XGBClassifier(\n",
    "    learning_rate=0.1, \n",
    "    n_estimators=61, \n",
    "    max_depth=2,\n",
    "    min_child_weight=8,\n",
    "    gamma=0.0,\n",
    "    subsample=0.8,\n",
    "    colsample_bytree=0.9,\n",
    "    objective= 'binary:logistic',\n",
    "    nthread=4,\n",
    "    scale_pos_weight=1,\n",
    "    seed=27), \n",
    "    param_grid = param_test6, scoring='roc_auc', n_jobs=4, iid=False, cv=5)\n",
    "gsearch6.fit(train[predictors], train[target])\n",
    "gsearch6.best_params_, gsearch5.best_score_"
   ]
  },
  {
   "cell_type": "markdown",
   "metadata": {},
   "source": [
    "## XGB 3"
   ]
  },
  {
   "cell_type": "code",
   "execution_count": 260,
   "metadata": {
    "scrolled": true
   },
   "outputs": [
    {
     "name": "stdout",
     "output_type": "stream",
     "text": [
      "[0]\ttrain-auc:0.80985+0.00991\ttest-auc:0.81899+0.04350\n",
      "[1]\ttrain-auc:0.85473+0.03543\ttest-auc:0.84838+0.06200\n",
      "[2]\ttrain-auc:0.89809+0.00265\ttest-auc:0.89663+0.02881\n",
      "[3]\ttrain-auc:0.90628+0.01256\ttest-auc:0.89691+0.02948\n",
      "[4]\ttrain-auc:0.90166+0.01491\ttest-auc:0.89198+0.03065\n",
      "[5]\ttrain-auc:0.90549+0.01514\ttest-auc:0.89996+0.03302\n",
      "[6]\ttrain-auc:0.90882+0.01109\ttest-auc:0.90771+0.03544\n",
      "[7]\ttrain-auc:0.91138+0.01347\ttest-auc:0.90006+0.04299\n",
      "[8]\ttrain-auc:0.91350+0.00880\ttest-auc:0.90166+0.04458\n",
      "[9]\ttrain-auc:0.91791+0.00600\ttest-auc:0.90431+0.04410\n",
      "[10]\ttrain-auc:0.92061+0.00784\ttest-auc:0.90966+0.03555\n",
      "[11]\ttrain-auc:0.92167+0.00819\ttest-auc:0.91700+0.03756\n",
      "[12]\ttrain-auc:0.92228+0.00643\ttest-auc:0.91629+0.03814\n",
      "[13]\ttrain-auc:0.92170+0.00701\ttest-auc:0.91629+0.03814\n",
      "[14]\ttrain-auc:0.92042+0.00826\ttest-auc:0.91371+0.03703\n",
      "[15]\ttrain-auc:0.92209+0.00775\ttest-auc:0.91212+0.04375\n",
      "[16]\ttrain-auc:0.92270+0.00647\ttest-auc:0.91252+0.04344\n",
      "[17]\ttrain-auc:0.92237+0.00726\ttest-auc:0.91482+0.03981\n",
      "[18]\ttrain-auc:0.92341+0.00700\ttest-auc:0.91186+0.04342\n",
      "[19]\ttrain-auc:0.92426+0.00789\ttest-auc:0.91224+0.04136\n",
      "[20]\ttrain-auc:0.92368+0.00923\ttest-auc:0.91120+0.04200\n",
      "[21]\ttrain-auc:0.92371+0.00890\ttest-auc:0.91007+0.04280\n",
      "[22]\ttrain-auc:0.92480+0.00866\ttest-auc:0.91310+0.04545\n",
      "[23]\ttrain-auc:0.92390+0.00894\ttest-auc:0.91308+0.04417\n",
      "[24]\ttrain-auc:0.92392+0.00917\ttest-auc:0.91235+0.04432\n",
      "[25]\ttrain-auc:0.92332+0.00875\ttest-auc:0.91273+0.04523\n",
      "[26]\ttrain-auc:0.92336+0.00962\ttest-auc:0.91235+0.04652\n",
      "[27]\ttrain-auc:0.92309+0.00934\ttest-auc:0.91182+0.04491\n",
      "[28]\ttrain-auc:0.92309+0.00955\ttest-auc:0.91252+0.04348\n",
      "[29]\ttrain-auc:0.92264+0.00957\ttest-auc:0.91018+0.03996\n",
      "[30]\ttrain-auc:0.92246+0.00959\ttest-auc:0.90944+0.04084\n",
      "[31]\ttrain-auc:0.92248+0.00925\ttest-auc:0.91053+0.04082\n",
      "[32]\ttrain-auc:0.92225+0.00976\ttest-auc:0.91328+0.04295\n",
      "[33]\ttrain-auc:0.92217+0.00963\ttest-auc:0.91037+0.04068\n",
      "[34]\ttrain-auc:0.92201+0.00962\ttest-auc:0.91039+0.03987\n",
      "[35]\ttrain-auc:0.92182+0.00928\ttest-auc:0.91100+0.03902\n",
      "[36]\ttrain-auc:0.92189+0.00964\ttest-auc:0.91140+0.03765\n",
      "[37]\ttrain-auc:0.92230+0.00909\ttest-auc:0.91064+0.03876\n",
      "[38]\ttrain-auc:0.92154+0.00938\ttest-auc:0.91320+0.03578\n",
      "[39]\ttrain-auc:0.92120+0.00909\ttest-auc:0.91206+0.03809\n",
      "[40]\ttrain-auc:0.92150+0.00899\ttest-auc:0.91168+0.03867\n",
      "[41]\ttrain-auc:0.92143+0.00880\ttest-auc:0.91135+0.03813\n",
      "[42]\ttrain-auc:0.92139+0.00872\ttest-auc:0.91133+0.03841\n",
      "[43]\ttrain-auc:0.92086+0.00874\ttest-auc:0.91247+0.03667\n",
      "[44]\ttrain-auc:0.92107+0.00857\ttest-auc:0.91209+0.03724\n",
      "[45]\ttrain-auc:0.92066+0.00856\ttest-auc:0.91247+0.03667\n",
      "[46]\ttrain-auc:0.92059+0.00847\ttest-auc:0.91209+0.03724\n",
      "[47]\ttrain-auc:0.92069+0.00837\ttest-auc:0.91133+0.03673\n",
      "[48]\ttrain-auc:0.92095+0.00822\ttest-auc:0.91133+0.03673\n",
      "[49]\ttrain-auc:0.92060+0.00839\ttest-auc:0.91133+0.03673\n",
      "[50]\ttrain-auc:0.92049+0.00850\ttest-auc:0.91057+0.03628\n",
      "[51]\ttrain-auc:0.92065+0.00833\ttest-auc:0.91057+0.03628\n",
      "[52]\ttrain-auc:0.92058+0.00836\ttest-auc:0.91057+0.03628\n",
      "[53]\ttrain-auc:0.92051+0.00841\ttest-auc:0.91022+0.03601\n",
      "[54]\ttrain-auc:0.92006+0.00846\ttest-auc:0.91060+0.03544\n",
      "[55]\ttrain-auc:0.92006+0.00843\ttest-auc:0.91098+0.03487\n",
      "[56]\ttrain-auc:0.92017+0.00831\ttest-auc:0.91098+0.03487\n",
      "[57]\ttrain-auc:0.92017+0.00831\ttest-auc:0.91098+0.03487\n",
      "[58]\ttrain-auc:0.92025+0.00823\ttest-auc:0.91098+0.03487\n",
      "[59]\ttrain-auc:0.92025+0.00821\ttest-auc:0.91007+0.03394\n",
      "[60]\ttrain-auc:0.92014+0.00832\ttest-auc:0.91007+0.03394\n",
      "\n",
      "Model Report\n",
      "Accuracy : 0.9119\n",
      "AUC Score (Train): 0.919714\n",
      "AUC Score (Test): 0.937452\n"
     ]
    },
    {
     "data": {
      "image/png": "[encoded data removed]",
      "text/plain": [
       "<Figure size 864x288 with 1 Axes>"
      ]
     },
     "metadata": {
      "needs_background": "light"
     },
     "output_type": "display_data"
    }
   ],
   "source": [
    "xgb3 = XGBClassifier(\n",
    " learning_rate =0.1,\n",
    " n_estimators=1000,\n",
    " max_depth=2,\n",
    " min_child_weight=8,\n",
    " gamma=0,\n",
    " subsample=0.8,\n",
    " colsample_bytree=0.9,\n",
    " reg_alpha=0,\n",
    " objective= 'binary:logistic',\n",
    " nthread=4,\n",
    " scale_pos_weight=1,\n",
    " seed=27)\n",
    "modelfit(xgb3, train, test, predictors)"
   ]
  },
  {
   "cell_type": "markdown",
   "metadata": {},
   "source": [
    "## Step 6\n",
    "Reduce the **learning_rate** and add more trees"
   ]
  },
  {
   "cell_type": "markdown",
   "metadata": {},
   "source": [
    "## XGB 4"
   ]
  },
  {
   "cell_type": "code",
   "execution_count": 269,
   "metadata": {
    "scrolled": true
   },
   "outputs": [
    {
     "name": "stdout",
     "output_type": "stream",
     "text": [
      "[0]\ttrain-auc:0.80985+0.00991\ttest-auc:0.81899+0.04350\n",
      "[1]\ttrain-auc:0.85473+0.03543\ttest-auc:0.84838+0.06200\n",
      "[2]\ttrain-auc:0.88289+0.02842\ttest-auc:0.87163+0.06334\n",
      "[3]\ttrain-auc:0.88542+0.02984\ttest-auc:0.87315+0.06390\n",
      "[4]\ttrain-auc:0.88081+0.02761\ttest-auc:0.86822+0.06261\n",
      "[5]\ttrain-auc:0.89367+0.00424\ttest-auc:0.89216+0.03056\n",
      "[6]\ttrain-auc:0.89539+0.00704\ttest-auc:0.89534+0.03664\n",
      "[7]\ttrain-auc:0.89773+0.00696\ttest-auc:0.89641+0.03618\n",
      "[8]\ttrain-auc:0.90532+0.00756\ttest-auc:0.91282+0.03123\n",
      "[9]\ttrain-auc:0.90737+0.00749\ttest-auc:0.91396+0.03196\n",
      "[10]\ttrain-auc:0.90848+0.00594\ttest-auc:0.91409+0.02815\n",
      "[11]\ttrain-auc:0.90974+0.00549\ttest-auc:0.91376+0.02874\n",
      "[12]\ttrain-auc:0.91057+0.00588\ttest-auc:0.91492+0.02914\n",
      "[13]\ttrain-auc:0.91022+0.00594\ttest-auc:0.91523+0.03109\n",
      "[14]\ttrain-auc:0.91288+0.00470\ttest-auc:0.91220+0.03441\n",
      "[15]\ttrain-auc:0.91370+0.00465\ttest-auc:0.91352+0.03627\n",
      "[16]\ttrain-auc:0.91355+0.00502\ttest-auc:0.91503+0.03422\n",
      "[17]\ttrain-auc:0.91304+0.00469\ttest-auc:0.91503+0.03422\n",
      "[18]\ttrain-auc:0.91487+0.00746\ttest-auc:0.91432+0.03481\n",
      "[19]\ttrain-auc:0.91499+0.00747\ttest-auc:0.91432+0.03481\n",
      "[20]\ttrain-auc:0.91499+0.00747\ttest-auc:0.91432+0.03481\n",
      "[21]\ttrain-auc:0.91502+0.00748\ttest-auc:0.91432+0.03481\n",
      "[22]\ttrain-auc:0.91495+0.00751\ttest-auc:0.91362+0.03476\n",
      "[23]\ttrain-auc:0.91513+0.00743\ttest-auc:0.91362+0.03476\n",
      "[24]\ttrain-auc:0.91555+0.00750\ttest-auc:0.91475+0.03339\n",
      "[25]\ttrain-auc:0.91537+0.00759\ttest-auc:0.91475+0.03339\n",
      "[26]\ttrain-auc:0.91806+0.00992\ttest-auc:0.91570+0.03233\n",
      "[27]\ttrain-auc:0.91835+0.01021\ttest-auc:0.91499+0.03305\n",
      "[28]\ttrain-auc:0.91827+0.01027\ttest-auc:0.91499+0.03305\n",
      "[29]\ttrain-auc:0.91907+0.00950\ttest-auc:0.91570+0.03233\n",
      "[30]\ttrain-auc:0.91933+0.00954\ttest-auc:0.91480+0.03325\n",
      "[31]\ttrain-auc:0.91879+0.00919\ttest-auc:0.91551+0.03253\n",
      "[32]\ttrain-auc:0.91969+0.00980\ttest-auc:0.91515+0.03255\n",
      "[33]\ttrain-auc:0.91889+0.00918\ttest-auc:0.91515+0.03255\n",
      "[34]\ttrain-auc:0.91881+0.00913\ttest-auc:0.91497+0.03275\n",
      "[35]\ttrain-auc:0.91844+0.00943\ttest-auc:0.91497+0.03275\n",
      "[36]\ttrain-auc:0.91873+0.00973\ttest-auc:0.91426+0.03345\n",
      "[37]\ttrain-auc:0.91878+0.00979\ttest-auc:0.91426+0.03345\n",
      "[38]\ttrain-auc:0.91865+0.00953\ttest-auc:0.91497+0.03275\n",
      "[39]\ttrain-auc:0.91883+0.00959\ttest-auc:0.91497+0.03275\n",
      "[40]\ttrain-auc:0.91883+0.00959\ttest-auc:0.91532+0.03242\n",
      "[41]\ttrain-auc:0.91892+0.00950\ttest-auc:0.92028+0.03359\n",
      "[42]\ttrain-auc:0.92027+0.00775\ttest-auc:0.92047+0.03365\n",
      "[43]\ttrain-auc:0.92040+0.00759\ttest-auc:0.91994+0.03339\n",
      "[44]\ttrain-auc:0.92066+0.00708\ttest-auc:0.92252+0.03455\n",
      "[45]\ttrain-auc:0.92090+0.00765\ttest-auc:0.92030+0.03470\n",
      "[46]\ttrain-auc:0.92092+0.00791\ttest-auc:0.92101+0.03394\n",
      "[47]\ttrain-auc:0.92096+0.00789\ttest-auc:0.91959+0.03550\n",
      "[48]\ttrain-auc:0.92142+0.00824\ttest-auc:0.92013+0.03578\n",
      "[49]\ttrain-auc:0.92087+0.00704\ttest-auc:0.92155+0.03421\n",
      "[50]\ttrain-auc:0.92153+0.00722\ttest-auc:0.92117+0.03469\n",
      "[51]\ttrain-auc:0.92198+0.00757\ttest-auc:0.91975+0.03623\n",
      "[52]\ttrain-auc:0.92162+0.00714\ttest-auc:0.91975+0.03623\n",
      "[53]\ttrain-auc:0.92214+0.00758\ttest-auc:0.91900+0.03714\n",
      "[54]\ttrain-auc:0.92062+0.00705\ttest-auc:0.92153+0.03433\n",
      "[55]\ttrain-auc:0.92046+0.00708\ttest-auc:0.91852+0.03829\n",
      "[56]\ttrain-auc:0.92048+0.00711\ttest-auc:0.91928+0.03722\n",
      "[57]\ttrain-auc:0.92045+0.00717\ttest-auc:0.91968+0.03597\n",
      "[58]\ttrain-auc:0.92063+0.00723\ttest-auc:0.92006+0.03546\n",
      "[59]\ttrain-auc:0.92058+0.00685\ttest-auc:0.91933+0.03631\n",
      "[60]\ttrain-auc:0.92090+0.00689\ttest-auc:0.91838+0.03759\n",
      "[61]\ttrain-auc:0.92087+0.00685\ttest-auc:0.91876+0.03707\n",
      "[62]\ttrain-auc:0.92079+0.00686\ttest-auc:0.91876+0.03707\n",
      "[63]\ttrain-auc:0.92103+0.00707\ttest-auc:0.91876+0.03707\n",
      "[64]\ttrain-auc:0.92126+0.00700\ttest-auc:0.91876+0.03707\n",
      "[65]\ttrain-auc:0.92118+0.00676\ttest-auc:0.91876+0.03707\n",
      "[66]\ttrain-auc:0.92223+0.00782\ttest-auc:0.91987+0.03572\n",
      "[67]\ttrain-auc:0.92239+0.00801\ttest-auc:0.92025+0.03522\n",
      "[68]\ttrain-auc:0.92241+0.00804\ttest-auc:0.91987+0.03572\n",
      "[69]\ttrain-auc:0.92231+0.00792\ttest-auc:0.91911+0.03675\n",
      "[70]\ttrain-auc:0.92215+0.00783\ttest-auc:0.91911+0.03675\n",
      "[71]\ttrain-auc:0.92220+0.00790\ttest-auc:0.91911+0.03675\n",
      "[72]\ttrain-auc:0.92223+0.00793\ttest-auc:0.91911+0.03675\n",
      "[73]\ttrain-auc:0.92201+0.00806\ttest-auc:0.91911+0.03675\n",
      "[74]\ttrain-auc:0.92212+0.00796\ttest-auc:0.91947+0.03643\n",
      "[75]\ttrain-auc:0.92255+0.00769\ttest-auc:0.91876+0.03707\n",
      "[76]\ttrain-auc:0.92259+0.00752\ttest-auc:0.91876+0.03707\n",
      "[77]\ttrain-auc:0.92277+0.00742\ttest-auc:0.91876+0.03707\n",
      "[78]\ttrain-auc:0.92279+0.00755\ttest-auc:0.91876+0.03707\n",
      "[79]\ttrain-auc:0.92285+0.00784\ttest-auc:0.91876+0.03707\n",
      "[80]\ttrain-auc:0.92269+0.00747\ttest-auc:0.91876+0.03707\n",
      "[81]\ttrain-auc:0.92301+0.00743\ttest-auc:0.91876+0.03707\n",
      "[82]\ttrain-auc:0.92294+0.00740\ttest-auc:0.91876+0.03707\n",
      "[83]\ttrain-auc:0.92315+0.00739\ttest-auc:0.91840+0.03687\n",
      "[84]\ttrain-auc:0.92315+0.00771\ttest-auc:0.91805+0.03668\n",
      "[85]\ttrain-auc:0.92311+0.00784\ttest-auc:0.91769+0.03702\n",
      "[86]\ttrain-auc:0.92334+0.00790\ttest-auc:0.91840+0.03741\n",
      "[87]\ttrain-auc:0.92311+0.00778\ttest-auc:0.91769+0.03702\n",
      "[88]\ttrain-auc:0.92310+0.00786\ttest-auc:0.91769+0.03702\n",
      "[89]\ttrain-auc:0.92288+0.00807\ttest-auc:0.91769+0.03702\n",
      "[90]\ttrain-auc:0.92292+0.00834\ttest-auc:0.91694+0.03804\n",
      "[91]\ttrain-auc:0.92307+0.00797\ttest-auc:0.91769+0.03702\n",
      "[92]\ttrain-auc:0.92317+0.00803\ttest-auc:0.91694+0.03804\n",
      "[93]\ttrain-auc:0.92323+0.00816\ttest-auc:0.91400+0.04145\n",
      "\n",
      "Model Report\n",
      "Accuracy : 0.9119\n",
      "AUC Score (Train): 0.917224\n",
      "AUC Score (Test): 0.926898\n"
     ]
    },
    {
     "data": {
      "image/png": "[encoded data removed]",
      "text/plain": [
       "<Figure size 864x288 with 1 Axes>"
      ]
     },
     "metadata": {
      "needs_background": "light"
     },
     "output_type": "display_data"
    }
   ],
   "source": [
    "xgb4 = XGBClassifier(\n",
    " learning_rate=0.01,\n",
    " n_estimators=1000,\n",
    " max_depth=2,\n",
    " min_child_weight=8,\n",
    " gamma=0,\n",
    " subsample=0.8,\n",
    " colsample_bytree=0.9,\n",
    " reg_alpha=0,\n",
    " objective= 'binary:logistic',\n",
    " nthread=4,\n",
    " scale_pos_weight=1,\n",
    " seed=27)\n",
    "modelfit(xgb4, train, test, predictors)"
   ]
  },
  {
   "cell_type": "markdown",
   "metadata": {},
   "source": [
    "Decreasing the learning rate **does not** make the model even better, so it should set back to default.<br>\n",
    "Final params:<br>\n",
    "     max_depth=**2**,<br>\n",
    "     min_child_weight=**8**,<br>\n",
    "     gamma=**0**,<br>\n",
    "     subsample=**0.8**,<br>\n",
    "     colsample_bytree=**0.9**<br>"
   ]
  },
  {
   "cell_type": "code",
   "execution_count": 271,
   "metadata": {
    "scrolled": true
   },
   "outputs": [
    {
     "data": {
      "text/plain": [
       "{'objective': 'binary:logistic',\n",
       " 'base_score': 0.5,\n",
       " 'booster': None,\n",
       " 'colsample_bylevel': 1,\n",
       " 'colsample_bynode': 1,\n",
       " 'colsample_bytree': 0.9,\n",
       " 'gamma': 0,\n",
       " 'gpu_id': -1,\n",
       " 'importance_type': 'gain',\n",
       " 'interaction_constraints': None,\n",
       " 'learning_rate': 0.1,\n",
       " 'max_delta_step': 0,\n",
       " 'max_depth': 2,\n",
       " 'min_child_weight': 8,\n",
       " 'missing': nan,\n",
       " 'monotone_constraints': None,\n",
       " 'n_estimators': 12,\n",
       " 'n_jobs': 4,\n",
       " 'num_parallel_tree': 1,\n",
       " 'random_state': 27,\n",
       " 'reg_alpha': 0,\n",
       " 'reg_lambda': 1,\n",
       " 'scale_pos_weight': 1,\n",
       " 'subsample': 0.8,\n",
       " 'tree_method': None,\n",
       " 'validate_parameters': False,\n",
       " 'verbosity': None,\n",
       " 'nthread': 4,\n",
       " 'seed': 27}"
      ]
     },
     "execution_count": 271,
     "metadata": {},
     "output_type": "execute_result"
    }
   ],
   "source": [
    "## Extract Params\n",
    "xgb3.get_params()"
   ]
  }
 ],
 "metadata": {
  "kernelspec": {
   "display_name": "Python 3",
   "language": "python",
   "name": "python3"
  },
  "language_info": {
   "codemirror_mode": {
    "name": "ipython",
    "version": 3
   },
   "file_extension": ".py",
   "mimetype": "text/x-python",
   "name": "python",
   "nbconvert_exporter": "python",
   "pygments_lexer": "ipython3",
   "version": "3.7.6"
  }
 },
 "nbformat": 4,
 "nbformat_minor": 4
}
