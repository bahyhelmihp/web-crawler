{
 "cells": [
  {
   "cell_type": "code",
   "execution_count": 23,
   "metadata": {},
   "outputs": [],
   "source": [
    "import pandas as pd"
   ]
  },
  {
   "cell_type": "code",
   "execution_count": 24,
   "metadata": {},
   "outputs": [],
   "source": [
    "df = pd.read_csv(\"results.csv\")"
   ]
  },
  {
   "cell_type": "code",
   "execution_count": 25,
   "metadata": {},
   "outputs": [],
   "source": [
    "df = df.iloc[:,1:]"
   ]
  },
  {
   "cell_type": "code",
   "execution_count": 26,
   "metadata": {},
   "outputs": [],
   "source": [
    "broken_link_df = df[df['broken_link_score'] > 0.0][['merchant_name', 'broken_link_score', 'broken_links']]"
   ]
  },
  {
   "cell_type": "code",
   "execution_count": 27,
   "metadata": {},
   "outputs": [
    {
     "data": {
      "text/html": [
       "<div>\n",
       "<style scoped>\n",
       "    .dataframe tbody tr th:only-of-type {\n",
       "        vertical-align: middle;\n",
       "    }\n",
       "\n",
       "    .dataframe tbody tr th {\n",
       "        vertical-align: top;\n",
       "    }\n",
       "\n",
       "    .dataframe thead th {\n",
       "        text-align: right;\n",
       "    }\n",
       "</style>\n",
       "<table border=\"1\" class=\"dataframe\">\n",
       "  <thead>\n",
       "    <tr style=\"text-align: right;\">\n",
       "      <th></th>\n",
       "      <th>merchant_name</th>\n",
       "      <th>broken_link_score</th>\n",
       "      <th>broken_links</th>\n",
       "    </tr>\n",
       "  </thead>\n",
       "  <tbody>\n",
       "    <tr>\n",
       "      <th>1</th>\n",
       "      <td>Pt. Blooming Lotus Yoga</td>\n",
       "      <td>10.0</td>\n",
       "      <td>{'https://www.blooming-lotus-yoga.com/drops-of...</td>\n",
       "    </tr>\n",
       "    <tr>\n",
       "      <th>10</th>\n",
       "      <td>SisilShop</td>\n",
       "      <td>100.0</td>\n",
       "      <td>{'': 'None'}</td>\n",
       "    </tr>\n",
       "    <tr>\n",
       "      <th>11</th>\n",
       "      <td>Gamma Media</td>\n",
       "      <td>100.0</td>\n",
       "      <td>{'': 'None'}</td>\n",
       "    </tr>\n",
       "    <tr>\n",
       "      <th>12</th>\n",
       "      <td>Shinhwa Global Sakura Bear</td>\n",
       "      <td>100.0</td>\n",
       "      <td>{'': 'None'}</td>\n",
       "    </tr>\n",
       "    <tr>\n",
       "      <th>14</th>\n",
       "      <td>Putri mitsubishi</td>\n",
       "      <td>100.0</td>\n",
       "      <td>{'': 'None'}</td>\n",
       "    </tr>\n",
       "    <tr>\n",
       "      <th>15</th>\n",
       "      <td>Toko Reza 999</td>\n",
       "      <td>100.0</td>\n",
       "      <td>{'': 'None'}</td>\n",
       "    </tr>\n",
       "    <tr>\n",
       "      <th>17</th>\n",
       "      <td>Barokah Lumintu</td>\n",
       "      <td>100.0</td>\n",
       "      <td>{'': 'None'}</td>\n",
       "    </tr>\n",
       "    <tr>\n",
       "      <th>18</th>\n",
       "      <td>Merah Hitam</td>\n",
       "      <td>100.0</td>\n",
       "      <td>{'': 'None'}</td>\n",
       "    </tr>\n",
       "  </tbody>\n",
       "</table>\n",
       "</div>"
      ],
      "text/plain": [
       "                 merchant_name  broken_link_score  \\\n",
       "1      Pt. Blooming Lotus Yoga               10.0   \n",
       "10                   SisilShop              100.0   \n",
       "11                 Gamma Media              100.0   \n",
       "12  Shinhwa Global Sakura Bear              100.0   \n",
       "14            Putri mitsubishi              100.0   \n",
       "15               Toko Reza 999              100.0   \n",
       "17             Barokah Lumintu              100.0   \n",
       "18                 Merah Hitam              100.0   \n",
       "\n",
       "                                         broken_links  \n",
       "1   {'https://www.blooming-lotus-yoga.com/drops-of...  \n",
       "10                                       {'': 'None'}  \n",
       "11                                       {'': 'None'}  \n",
       "12                                       {'': 'None'}  \n",
       "14                                       {'': 'None'}  \n",
       "15                                       {'': 'None'}  \n",
       "17                                       {'': 'None'}  \n",
       "18                                       {'': 'None'}  "
      ]
     },
     "execution_count": 27,
     "metadata": {},
     "output_type": "execute_result"
    }
   ],
   "source": [
    "broken_link_df"
   ]
  },
  {
   "cell_type": "code",
   "execution_count": 28,
   "metadata": {},
   "outputs": [
    {
     "name": "stdout",
     "output_type": "stream",
     "text": [
      "{'https://www.blooming-lotus-yoga.com/drops-of-nectar/': '<Response [403]>'}\n",
      "{'': 'None'}\n",
      "{'': 'None'}\n",
      "{'': 'None'}\n",
      "{'': 'None'}\n",
      "{'': 'None'}\n",
      "{'': 'None'}\n",
      "{'': 'None'}\n"
     ]
    }
   ],
   "source": [
    "for link in broken_link_df['broken_links'].values:\n",
    "    print(link)"
   ]
  }
 ],
 "metadata": {
  "kernelspec": {
   "display_name": "Python 3",
   "language": "python",
   "name": "python3"
  },
  "language_info": {
   "codemirror_mode": {
    "name": "ipython",
    "version": 3
   },
   "file_extension": ".py",
   "mimetype": "text/x-python",
   "name": "python",
   "nbconvert_exporter": "python",
   "pygments_lexer": "ipython3",
   "version": "3.6.9"
  }
 },
 "nbformat": 4,
 "nbformat_minor": 4
}
