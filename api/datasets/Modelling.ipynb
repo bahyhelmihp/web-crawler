{
 "cells": [
  {
   "cell_type": "code",
   "execution_count": 1,
   "metadata": {},
   "outputs": [],
   "source": [
    "## Table & Visualization Libraries\n",
    "import pandas as pd\n",
    "import matplotlib.pyplot as plt\n",
    "import seaborn as sns\n",
    "import numpy as np\n",
    "import scipy\n",
    "import pickle\n",
    "import json\n",
    "\n",
    "## Prediction Libraries\n",
    "from sklearn.metrics import classification_report, confusion_matrix, \\\n",
    "accuracy_score, plot_confusion_matrix, auc, roc_curve\n",
    "\n",
    "## Cross-Validation Libraries\n",
    "from sklearn.model_selection import train_test_split, cross_val_score, StratifiedKFold\n",
    "from xgboost import XGBClassifier\n",
    "\n",
    "## Model Libraries\n",
    "from sklearn.tree import DecisionTreeClassifier\n",
    "from sklearn.neighbors import KNeighborsClassifier\n",
    "from sklearn.naive_bayes import GaussianNB, BernoulliNB, MultinomialNB\n",
    "from sklearn.svm import SVC"
   ]
  },
  {
   "cell_type": "code",
   "execution_count": 2,
   "metadata": {
    "scrolled": true
   },
   "outputs": [],
   "source": [
    "## Tuned params\n",
    "params = {'objective': 'binary:logistic',\n",
    " 'base_score': 0.5,\n",
    " 'booster': None,\n",
    " 'colsample_bylevel': 1,\n",
    " 'colsample_bynode': 1,\n",
    " 'colsample_bytree': 0.9,\n",
    " 'gamma': 0,\n",
    " 'gpu_id': -1,\n",
    " 'importance_type': 'gain',\n",
    " 'interaction_constraints': None,\n",
    " 'learning_rate': 0.1,\n",
    " 'max_delta_step': 0,\n",
    " 'max_depth': 2,\n",
    " 'min_child_weight': 8,\n",
    " 'missing': None,\n",
    " 'monotone_constraints': None,\n",
    " 'n_estimators': 12,\n",
    " 'n_jobs': 4,\n",
    " 'num_parallel_tree': 1,\n",
    " 'random_state': 27,\n",
    " 'reg_alpha': 0,\n",
    " 'reg_lambda': 1,\n",
    " 'scale_pos_weight': 1,\n",
    " 'subsample': 0.8,\n",
    " 'tree_method': None,\n",
    " 'validate_parameters': False,\n",
    " 'verbosity': None,\n",
    " 'nthread': 4,\n",
    " 'seed': 27,\n",
    " 'tree_method': 'hist'}"
   ]
  },
  {
   "cell_type": "code",
   "execution_count": 3,
   "metadata": {},
   "outputs": [],
   "source": [
    "## Change this to your new training data\n",
    "df = pd.read_csv(\"df_cleaned.csv\").iloc[:,1:]\n",
    "df = df.drop_duplicates(subset='website')"
   ]
  },
  {
   "cell_type": "code",
   "execution_count": 4,
   "metadata": {},
   "outputs": [
    {
     "data": {
      "text/plain": [
       "label\n",
       "APPROVED    215\n",
       "REJECTED     77\n",
       "dtype: int64"
      ]
     },
     "execution_count": 4,
     "metadata": {},
     "output_type": "execute_result"
    }
   ],
   "source": [
    "df.groupby(\"label\").size()"
   ]
  },
  {
   "cell_type": "code",
   "execution_count": 5,
   "metadata": {
    "scrolled": true
   },
   "outputs": [],
   "source": [
    "# trained_tf_idf_df = df[(df.label == 'APPROVED') & (df.tnc_refund_policy_exist == 1)]\\\n",
    "# .sample(n=50, replace=False, random_state=50)\n",
    "# trained_tf_idf_df.to_csv(\"train_tf_idf.csv\", index=False)\n",
    "# df = df[~df.website.isin(trained_tf_idf_df.website)]"
   ]
  },
  {
   "cell_type": "code",
   "execution_count": 6,
   "metadata": {},
   "outputs": [],
   "source": [
    "# df.groupby(\"label\").size()"
   ]
  },
  {
   "cell_type": "code",
   "execution_count": 7,
   "metadata": {},
   "outputs": [],
   "source": [
    "y = df['label'].apply(lambda x: 1 if x == 'REJECTED' else 0)"
   ]
  },
  {
   "cell_type": "code",
   "execution_count": 8,
   "metadata": {},
   "outputs": [],
   "source": [
    "X = df.iloc[:, 1:8]\n",
    "# X = df.iloc[:, 2:8]"
   ]
  },
  {
   "cell_type": "markdown",
   "metadata": {},
   "source": [
    "## Train/Test Split"
   ]
  },
  {
   "cell_type": "code",
   "execution_count": 9,
   "metadata": {},
   "outputs": [
    {
     "data": {
      "text/plain": [
       "Index(['broken_link_score', 'link_contact_us_exist', 'cu_email_exist',\n",
       "       'cu_phone_number_exist', 'link_about_us_exist', 'link_tnc_exist',\n",
       "       'tnc_refund_policy_exist'],\n",
       "      dtype='object')"
      ]
     },
     "execution_count": 9,
     "metadata": {},
     "output_type": "execute_result"
    }
   ],
   "source": [
    "X.columns"
   ]
  },
  {
   "cell_type": "code",
   "execution_count": 10,
   "metadata": {},
   "outputs": [],
   "source": [
    "X_train, X_test, y_train, y_test = train_test_split(X, y, test_size=0.33, random_state=42)"
   ]
  },
  {
   "cell_type": "code",
   "execution_count": 11,
   "metadata": {},
   "outputs": [],
   "source": [
    "## Gaussian Naive Bayes has a good ability to predict REJECTED websites, but it is hard to got a low FP Rate with this model.\n",
    "## While XGBoost provides more reliable model with low FP rate and enough TP rate\n",
    "## Though, it goes back to the business decision which rate is more important\n",
    "\n",
    "model_choice = GaussianNB()\n",
    "# model_choice = BernoulliNB()\n",
    "# model_choice = MultinomialNB()\n",
    "# model_choice = XGBClassifier(**params)"
   ]
  },
  {
   "cell_type": "code",
   "execution_count": 12,
   "metadata": {},
   "outputs": [],
   "source": [
    "clf = model_choice\n",
    "clf = clf.fit(X_train, y_train)"
   ]
  },
  {
   "cell_type": "code",
   "execution_count": 13,
   "metadata": {},
   "outputs": [],
   "source": [
    "# ## Using the best TPR threshold\n",
    "# y_pred = (clf.predict_proba(X_test)[:,1] >= 0.6310040696227789).astype(bool)"
   ]
  },
  {
   "cell_type": "code",
   "execution_count": 14,
   "metadata": {},
   "outputs": [],
   "source": [
    "## Using the default threshold == 0.5\n",
    "y_pred = clf.predict(X_test)"
   ]
  },
  {
   "cell_type": "code",
   "execution_count": 15,
   "metadata": {},
   "outputs": [],
   "source": [
    "y_pred_proba = clf.predict_proba(X_test)"
   ]
  },
  {
   "cell_type": "code",
   "execution_count": 16,
   "metadata": {},
   "outputs": [
    {
     "data": {
      "text/plain": [
       "0.86"
      ]
     },
     "execution_count": 16,
     "metadata": {},
     "output_type": "execute_result"
    }
   ],
   "source": [
    "np.round(accuracy_score(y_test, y_pred), 2)"
   ]
  },
  {
   "cell_type": "code",
   "execution_count": 17,
   "metadata": {},
   "outputs": [
    {
     "data": {
      "text/plain": [
       "(0    141\n",
       " 1     54\n",
       " Name: label, dtype: int64,\n",
       " 0    74\n",
       " 1    23\n",
       " Name: label, dtype: int64)"
      ]
     },
     "execution_count": 17,
     "metadata": {},
     "output_type": "execute_result"
    }
   ],
   "source": [
    "y_train.value_counts(), y_test.value_counts()"
   ]
  },
  {
   "cell_type": "code",
   "execution_count": 18,
   "metadata": {},
   "outputs": [],
   "source": [
    "## Confusion matrix with best TPR threshold\n",
    "tn, fp, fn, tp = confusion_matrix(y_test, y_pred).ravel()"
   ]
  },
  {
   "cell_type": "code",
   "execution_count": 19,
   "metadata": {},
   "outputs": [
    {
     "data": {
      "text/plain": [
       "(0.87, 0.149)"
      ]
     },
     "execution_count": 19,
     "metadata": {},
     "output_type": "execute_result"
    }
   ],
   "source": [
    "tpr, fpr = np.round((tp/(tp+fn), fp/(fp+tn)), 3)\n",
    "## TPR = Dari semua REJECTED merchant berapa % yang berhasil kereject, \n",
    "## FPR = Dari semua APPROVED berapa % yang kita salah tebak sebagai REJECTED\n",
    "## This rate applies to a default threshold of 0.5\n",
    "tpr, fpr"
   ]
  },
  {
   "cell_type": "code",
   "execution_count": 20,
   "metadata": {},
   "outputs": [
    {
     "data": {
      "text/plain": [
       "(63, 11, 3, 20)"
      ]
     },
     "execution_count": 20,
     "metadata": {},
     "output_type": "execute_result"
    }
   ],
   "source": [
    "tn, fp, fn, tp"
   ]
  },
  {
   "cell_type": "code",
   "execution_count": 21,
   "metadata": {},
   "outputs": [
    {
     "data": {
      "image/png": "[encoded data removed]",
      "text/plain": [
       "<Figure size 432x288 with 2 Axes>"
      ]
     },
     "metadata": {
      "needs_background": "light"
     },
     "output_type": "display_data"
    }
   ],
   "source": [
    "## This matrix visualization is based on 0.5 threshold\n",
    "plot_confusion_matrix(clf, X_test, y_test, cmap=plt.cm.Blues)\n",
    "plt.show()"
   ]
  },
  {
   "cell_type": "code",
   "execution_count": 22,
   "metadata": {},
   "outputs": [],
   "source": [
    "fpr, tpr, thresholds = roc_curve(y_test, y_pred_proba[:,1])"
   ]
  },
  {
   "cell_type": "code",
   "execution_count": 23,
   "metadata": {},
   "outputs": [],
   "source": [
    "auc_score = auc(fpr, tpr)"
   ]
  },
  {
   "cell_type": "code",
   "execution_count": 24,
   "metadata": {},
   "outputs": [
    {
     "data": {
      "image/png": "[encoded data removed]",
      "text/plain": [
       "<Figure size 720x288 with 2 Axes>"
      ]
     },
     "metadata": {
      "needs_background": "light"
     },
     "output_type": "display_data"
    },
    {
     "name": "stdout",
     "output_type": "stream",
     "text": [
      " -- Optimum Threshold -- \n",
      "        fpr       tpr     1-fpr      tf  thresholds\n",
      "6  0.135135  0.869565  0.864865  0.0047    0.697484\n"
     ]
    }
   ],
   "source": [
    "plt.figure(figsize=(10,4))\n",
    "plt.plot(fpr, tpr, label='ROC curve (area = %0.2f)' % (auc_score))\n",
    "plt.plot([0, 1], [0, 1], 'k--')\n",
    "plt.xlim([0.0, 1.0])\n",
    "plt.ylim([0.0, 1.05])\n",
    "plt.xlabel('False Positive Rate')\n",
    "plt.ylabel('True Positive Rate')\n",
    "plt.title('Receiver operating characteristic')\n",
    "plt.legend(loc=\"lower right\")\n",
    "\n",
    "# find optimum thresholds\n",
    "i = np.arange(len(tpr)) # index for df\n",
    "roc = pd.DataFrame({'fpr' : pd.Series(fpr, index=i),'tpr' : pd.Series(tpr, index = i), '1-fpr' : pd.Series(1-fpr, index = i), 'tf' : pd.Series(tpr - (1-fpr), index = i).apply(lambda x: x), 'thresholds' : pd.Series(thresholds, index = i)})\n",
    "df_thresh = roc.iloc[(roc.tf-0).abs().argsort()[:1]]\n",
    "\n",
    "plt.plot(df_thresh['fpr'], df_thresh['tpr'], marker='o', markersize=8, color='darkblue')\n",
    "\n",
    "# create the axis of thresholds (scores)\n",
    "ax2 = plt.gca().twinx()\n",
    "ax2.plot(fpr, thresholds, markeredgecolor='r',linestyle='dashed', color='darkred')\n",
    "ax2.set_ylabel('Threshold',color='darkred')\n",
    "ax2.set_ylim([thresholds[-1],thresholds[0]])\n",
    "ax2.set_xlim([fpr[0],fpr[-1]])\n",
    "ax2.plot(df_thresh['fpr'], df_thresh['thresholds'], marker='o', markersize=8, color='darkred')\n",
    "\n",
    "\n",
    "plt.show()\n",
    "print(\" -- Optimum Threshold -- \")\n",
    "print(df_thresh)"
   ]
  },
  {
   "cell_type": "code",
   "execution_count": 25,
   "metadata": {
    "scrolled": true
   },
   "outputs": [
    {
     "name": "stdout",
     "output_type": "stream",
     "text": [
      "-- Best TPR Threshold -- \n",
      "TPR 0.0, FPR 0.0, Threshold 1.9998965813771563\n",
      "TPR 0.7391304347826086, FPR 0.0, Threshold 0.9998965813771564\n",
      "TPR 0.782608695652174, FPR 0.013513513513513514, Threshold 0.998894731290706\n",
      "TPR 0.8260869565217391, FPR 0.013513513513513514, Threshold 0.9974152591246527\n",
      "TPR 0.8260869565217391, FPR 0.10810810810810811, Threshold 0.7738980778512773\n",
      "TPR 0.8695652173913043, FPR 0.10810810810810811, Threshold 0.7658563238496804\n",
      "TPR 0.8695652173913043, FPR 0.13513513513513514, Threshold 0.6974840107669086\n",
      "TPR 0.8695652173913043, FPR 0.21621621621621623, Threshold 0.09663738214847684\n",
      "TPR 0.8695652173913043, FPR 0.24324324324324326, Threshold 0.05344330022682471\n",
      "TPR 0.8695652173913043, FPR 0.2702702702702703, Threshold 0.025992385231477275\n",
      "TPR 0.9130434782608695, FPR 0.28378378378378377, Threshold 0.019662597680987073\n",
      "TPR 0.9130434782608695, FPR 0.35135135135135137, Threshold 0.0027681744904294483\n",
      "TPR 0.9565217391304348, FPR 0.35135135135135137, Threshold 0.0017736390955103388\n",
      "TPR 0.9565217391304348, FPR 0.3783783783783784, Threshold 0.001026335576233771\n",
      "TPR 0.9565217391304348, FPR 0.3918918918918919, Threshold 0.0009727205145930551\n",
      "TPR 1.0, FPR 0.40540540540540543, Threshold 0.00012507631598138166\n",
      "TPR 1.0, FPR 0.5135135135135135, Threshold 8.341438549503477e-06\n",
      "TPR 1.0, FPR 0.5405405405405406, Threshold 6.36371334017303e-06\n",
      "TPR 1.0, FPR 0.5540540540540541, Threshold 2.7454516229357214e-06\n",
      "TPR 1.0, FPR 0.581081081081081, Threshold 2.063457981114524e-06\n",
      "TPR 1.0, FPR 0.6081081081081081, Threshold 1.3874211208408005e-06\n",
      "TPR 1.0, FPR 0.6486486486486487, Threshold 1.1307602778779887e-06\n",
      "TPR 1.0, FPR 0.7297297297297297, Threshold 2.2108397009838623e-07\n",
      "TPR 1.0, FPR 0.7567567567567568, Threshold 1.92882113452285e-07\n",
      "TPR 1.0, FPR 0.7837837837837838, Threshold 1.179347055264e-07\n",
      "TPR 1.0, FPR 0.8243243243243243, Threshold 1.056979351125682e-07\n",
      "TPR 1.0, FPR 0.8378378378378378, Threshold 1.9264784922599514e-08\n",
      "TPR 1.0, FPR 1.0, Threshold 6.041039825752644e-09\n"
     ]
    }
   ],
   "source": [
    "print(\"-- Best TPR Threshold -- \")\n",
    "## Finding threshold where TPR > Optimum TPR but FPR stays below 15%\n",
    "for i in range(len(fpr)):\n",
    "#     if tpr[i] > 0.85 and fpr[i] < 0.20:\n",
    "        print(\"TPR %s, FPR %s, Threshold %s\" % (tpr[i], fpr[i], thresholds[i]))"
   ]
  },
  {
   "cell_type": "markdown",
   "metadata": {},
   "source": [
    "## Bootstrapped"
   ]
  },
  {
   "cell_type": "code",
   "execution_count": null,
   "metadata": {
    "scrolled": true
   },
   "outputs": [],
   "source": [
    "accuracy_list = []\n",
    "auc_list = []\n",
    "for i in range(1000):\n",
    "    X_train, X_test, y_train, y_test = train_test_split(X, y, test_size=0.33, random_state=i)\n",
    "    clf = model_choice\n",
    "    clf = clf.fit(X_train, y_train)\n",
    "    y_pred = clf.predict(X_test)\n",
    "    y_pred_proba = clf.predict_proba(X_test)\n",
    "    accuracy = accuracy_score(y_test, y_pred)\n",
    "    fpr, tpr, thresholds = roc_curve(y_test, y_pred_proba[:,1])\n",
    "    auc_score = auc(fpr, tpr)\n",
    "    \n",
    "    accuracy_list.append(accuracy)\n",
    "    auc_list.append(auc_score)\n",
    "    print(\"Iteration %s: AUC:%s, Accuracy:%s\" % (i, auc_score, accuracy))"
   ]
  },
  {
   "cell_type": "code",
   "execution_count": 27,
   "metadata": {},
   "outputs": [
    {
     "data": {
      "image/png": "[encoded data removed]",
      "text/plain": [
       "<Figure size 1440x360 with 1 Axes>"
      ]
     },
     "metadata": {
      "needs_background": "light"
     },
     "output_type": "display_data"
    },
    {
     "name": "stdout",
     "output_type": "stream",
     "text": [
      "Accuracy mean: 0.84\n",
      "AUC mean: 0.93\n"
     ]
    }
   ],
   "source": [
    "plt.figure(figsize=(20,5))\n",
    "plt.title(\"1000 Tries of Split Validation\")\n",
    "sns.distplot(accuracy_list, bins=10, label = 'Accuracy', kde=False)\n",
    "sns.distplot(auc_list, bins=10, label = 'AUC', kde=False)\n",
    "plt.axvline(x=pd.Series(accuracy_list).mean(), lw=5)\n",
    "plt.axvline(x=pd.Series(auc_list).mean(), lw=5, color='orange')\n",
    "plt.legend()\n",
    "plt.show()\n",
    "print(\"Accuracy mean: %0.2f\" % pd.Series(accuracy_list).mean())\n",
    "print(\"AUC mean: %0.2f\" % pd.Series(auc_list).mean())"
   ]
  },
  {
   "cell_type": "markdown",
   "metadata": {},
   "source": [
    "## Model Comparison"
   ]
  },
  {
   "cell_type": "code",
   "execution_count": 28,
   "metadata": {},
   "outputs": [],
   "source": [
    "X_train, X_test, y_train, y_test = train_test_split(X, y, test_size=0.33, random_state=42)"
   ]
  },
  {
   "cell_type": "code",
   "execution_count": 29,
   "metadata": {},
   "outputs": [],
   "source": [
    "## Initiate models\n",
    "models = []\n",
    "models.append(('K-Nearest Neighbour', KNeighborsClassifier()))\n",
    "models.append(('Decision Tree Classifier', DecisionTreeClassifier()))\n",
    "models.append(('Gaussian Naive Bayes', GaussianNB()))\n",
    "models.append(('Bernoulli Naive Bayes', BernoulliNB()))\n",
    "models.append(('Multinomial Naive Bayes', MultinomialNB()))\n",
    "models.append(('XGBoost Classifier', XGBClassifier(**params)))"
   ]
  },
  {
   "cell_type": "code",
   "execution_count": 30,
   "metadata": {},
   "outputs": [
    {
     "name": "stdout",
     "output_type": "stream",
     "text": [
      "K-Nearest Neighbour: \n",
      "AUC Mean 0.875640, STD 0.030679\n",
      "\n",
      "Decision Tree Classifier: \n",
      "AUC Mean 0.830974, STD 0.054526\n",
      "\n",
      "Gaussian Naive Bayes: \n",
      "AUC Mean 0.920376, STD 0.045295\n",
      "\n",
      "Bernoulli Naive Bayes: \n",
      "AUC Mean 0.924758, STD 0.049689\n",
      "\n",
      "Multinomial Naive Bayes: \n",
      "AUC Mean 0.912342, STD 0.033855\n",
      "\n",
      "XGBoost Classifier: \n",
      "AUC Mean 0.884055, STD 0.053829\n",
      "\n"
     ]
    }
   ],
   "source": [
    "## Results\n",
    "results = []\n",
    "names = []\n",
    "for name, model in models:\n",
    "    kfold = StratifiedKFold(n_splits=5, random_state=42, shuffle=True)\n",
    "    ## AUC Scoring\n",
    "    cv_results = cross_val_score(model, X_train, y_train, cv=kfold, scoring='roc_auc')\n",
    "    results.append(cv_results)\n",
    "    names.append(name)\n",
    "    print('%s: \\nAUC Mean %f, STD %f\\n'%(name, cv_results.mean(), cv_results.std()))"
   ]
  },
  {
   "cell_type": "code",
   "execution_count": 31,
   "metadata": {},
   "outputs": [
    {
     "data": {
      "image/png": "[encoded data removed]",
      "text/plain": [
       "<Figure size 1440x576 with 1 Axes>"
      ]
     },
     "metadata": {
      "needs_background": "light"
     },
     "output_type": "display_data"
    }
   ],
   "source": [
    "## Results Distribution\n",
    "plt.figure(figsize=(20,8))\n",
    "plt.boxplot(results, labels=names)\n",
    "plt.title('CV Results Comparison')\n",
    "plt.show()"
   ]
  },
  {
   "cell_type": "markdown",
   "metadata": {},
   "source": [
    "## Dump To Pickle"
   ]
  },
  {
   "cell_type": "code",
   "execution_count": 32,
   "metadata": {},
   "outputs": [],
   "source": [
    "clf = model_choice\n",
    "clf = clf.fit(X, y)\n",
    "pickle.dump(clf, open('../models/final_prediction.pickle', 'wb'))"
   ]
  },
  {
   "cell_type": "code",
   "execution_count": 33,
   "metadata": {},
   "outputs": [],
   "source": [
    "# feat_imp = pd.Series(clf.get_booster().get_fscore()).sort_values(ascending=False)\n",
    "# feat_imp.plot(kind='bar', title='Feature Importances')\n",
    "# plt.ylabel('Feature Importance Score')\n",
    "# plt.show()"
   ]
  }
 ],
 "metadata": {
  "kernelspec": {
   "display_name": "Python 3",
   "language": "python",
   "name": "python3"
  },
  "language_info": {
   "codemirror_mode": {
    "name": "ipython",
    "version": 3
   },
   "file_extension": ".py",
   "mimetype": "text/x-python",
   "name": "python",
   "nbconvert_exporter": "python",
   "pygments_lexer": "ipython3",
   "version": "3.7.6"
  }
 },
 "nbformat": 4,
 "nbformat_minor": 4
}
