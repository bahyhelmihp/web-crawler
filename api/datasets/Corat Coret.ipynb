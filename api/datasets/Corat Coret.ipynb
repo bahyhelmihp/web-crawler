{
 "cells": [
  {
   "cell_type": "code",
   "execution_count": 1,
   "metadata": {},
   "outputs": [
    {
     "name": "stderr",
     "output_type": "stream",
     "text": [
      "[nltk_data] Downloading package stopwords to\n",
      "[nltk_data]     C:\\Users\\bahyh\\AppData\\Roaming\\nltk_data...\n",
      "[nltk_data]   Package stopwords is already up-to-date!\n"
     ]
    }
   ],
   "source": [
    "from sklearn.feature_extraction.text import TfidfVectorizer\n",
    "import nltk \n",
    "nltk.download('stopwords')  \n",
    "from nltk.corpus import stopwords\n",
    "## Table & Visualization Libraries\n",
    "import pandas as pd\n",
    "import matplotlib.pyplot as plt\n",
    "import seaborn as sns\n",
    "import numpy as np\n",
    "import scipy\n",
    "import pickle\n",
    "import json\n",
    "import re\n",
    "\n",
    "## Prediction Libraries\n",
    "from sklearn.metrics import classification_report, confusion_matrix, \\\n",
    "accuracy_score, plot_confusion_matrix, auc, roc_curve\n",
    "\n",
    "## Cross-Validation Libraries\n",
    "from sklearn.model_selection import train_test_split, cross_val_score, StratifiedKFold\n",
    "from xgboost import XGBClassifier\n",
    "\n",
    "## Model Libraries\n",
    "from sklearn.tree import DecisionTreeClassifier\n",
    "from sklearn.neighbors import KNeighborsClassifier\n",
    "from sklearn.naive_bayes import GaussianNB, BernoulliNB, MultinomialNB\n",
    "from sklearn.svm import SVC"
   ]
  },
  {
   "cell_type": "code",
   "execution_count": 2,
   "metadata": {},
   "outputs": [],
   "source": [
    "rejected_paragraphs = pd.read_csv(\"rejected_paragraphs.csv\")\n",
    "rejected_paragraphs['label'] = 1"
   ]
  },
  {
   "cell_type": "code",
   "execution_count": 3,
   "metadata": {},
   "outputs": [],
   "source": [
    "approved_paragraphs = pd.read_csv(\"approved_paragraphs.csv\")\n",
    "approved_paragraphs['label'] = 0"
   ]
  },
  {
   "cell_type": "code",
   "execution_count": 4,
   "metadata": {},
   "outputs": [],
   "source": [
    "paragraphs = pd.concat([approved_paragraphs, rejected_paragraphs])\n",
    "paragraphs = paragraphs.iloc[:-1,:]"
   ]
  },
  {
   "cell_type": "code",
   "execution_count": 5,
   "metadata": {},
   "outputs": [
    {
     "data": {
      "text/html": [
       "<div>\n",
       "<style scoped>\n",
       "    .dataframe tbody tr th:only-of-type {\n",
       "        vertical-align: middle;\n",
       "    }\n",
       "\n",
       "    .dataframe tbody tr th {\n",
       "        vertical-align: top;\n",
       "    }\n",
       "\n",
       "    .dataframe thead th {\n",
       "        text-align: right;\n",
       "    }\n",
       "</style>\n",
       "<table border=\"1\" class=\"dataframe\">\n",
       "  <thead>\n",
       "    <tr style=\"text-align: right;\">\n",
       "      <th></th>\n",
       "      <th>website</th>\n",
       "      <th>paragraph</th>\n",
       "      <th>label</th>\n",
       "    </tr>\n",
       "  </thead>\n",
       "  <tbody>\n",
       "    <tr>\n",
       "      <th>0</th>\n",
       "      <td>http://asiatrip.id/</td>\n",
       "      <td>\\nusername\\n\\n\\n\\npassword\\n\\n\\n\\n\\n\\n\\nforget...</td>\n",
       "      <td>0</td>\n",
       "    </tr>\n",
       "    <tr>\n",
       "      <th>1</th>\n",
       "      <td>https://www.blooming-lotus-yoga.com</td>\n",
       "      <td>there has been a critical error on your websit...</td>\n",
       "      <td>0</td>\n",
       "    </tr>\n",
       "    <tr>\n",
       "      <th>2</th>\n",
       "      <td>https://greensejahterafoundation.com/</td>\n",
       "      <td>yayasan green sejahtera mengajak seluruh masya...</td>\n",
       "      <td>0</td>\n",
       "    </tr>\n",
       "    <tr>\n",
       "      <th>3</th>\n",
       "      <td>http://www.matair.co.id</td>\n",
       "      <td>\\n\\n\\n\\n\\n\\n\\n\\n\\n\\n\\n\\n\\n\\n\\npt. matair terra...</td>\n",
       "      <td>0</td>\n",
       "    </tr>\n",
       "    <tr>\n",
       "      <th>4</th>\n",
       "      <td>https://www.simplymii.com/</td>\n",
       "      <td>\\n\\n\\n\\nlog in\\n\\n\\nen / \\n                   ...</td>\n",
       "      <td>0</td>\n",
       "    </tr>\n",
       "    <tr>\n",
       "      <th>...</th>\n",
       "      <td>...</td>\n",
       "      <td>...</td>\n",
       "      <td>...</td>\n",
       "    </tr>\n",
       "    <tr>\n",
       "      <th>71</th>\n",
       "      <td>https://malabis.co.id_OLD</td>\n",
       "      <td>NaN</td>\n",
       "      <td>1</td>\n",
       "    </tr>\n",
       "    <tr>\n",
       "      <th>72</th>\n",
       "      <td>http://www.xxx.com</td>\n",
       "      <td>you have tried to access a web page which is i...</td>\n",
       "      <td>1</td>\n",
       "    </tr>\n",
       "    <tr>\n",
       "      <th>73</th>\n",
       "      <td>http://www.asiabuana.com</td>\n",
       "      <td>\\n\\t\\t\\t\\t\\t\\t\\ttidak ada produk\\n\\t\\t\\t\\t\\t\\t...</td>\n",
       "      <td>1</td>\n",
       "    </tr>\n",
       "    <tr>\n",
       "      <th>74</th>\n",
       "      <td>http://go-modis.com/</td>\n",
       "      <td>NaN</td>\n",
       "      <td>1</td>\n",
       "    </tr>\n",
       "    <tr>\n",
       "      <th>75</th>\n",
       "      <td>http://www.japanchi.com</td>\n",
       "      <td>NaN</td>\n",
       "      <td>1</td>\n",
       "    </tr>\n",
       "  </tbody>\n",
       "</table>\n",
       "<p>291 rows × 3 columns</p>\n",
       "</div>"
      ],
      "text/plain": [
       "                                  website  \\\n",
       "0                     http://asiatrip.id/   \n",
       "1     https://www.blooming-lotus-yoga.com   \n",
       "2   https://greensejahterafoundation.com/   \n",
       "3                 http://www.matair.co.id   \n",
       "4              https://www.simplymii.com/   \n",
       "..                                    ...   \n",
       "71              https://malabis.co.id_OLD   \n",
       "72                     http://www.xxx.com   \n",
       "73               http://www.asiabuana.com   \n",
       "74                   http://go-modis.com/   \n",
       "75                http://www.japanchi.com   \n",
       "\n",
       "                                            paragraph  label  \n",
       "0   \\nusername\\n\\n\\n\\npassword\\n\\n\\n\\n\\n\\n\\nforget...      0  \n",
       "1   there has been a critical error on your websit...      0  \n",
       "2   yayasan green sejahtera mengajak seluruh masya...      0  \n",
       "3   \\n\\n\\n\\n\\n\\n\\n\\n\\n\\n\\n\\n\\n\\n\\npt. matair terra...      0  \n",
       "4   \\n\\n\\n\\nlog in\\n\\n\\nen / \\n                   ...      0  \n",
       "..                                                ...    ...  \n",
       "71                                                NaN      1  \n",
       "72  you have tried to access a web page which is i...      1  \n",
       "73  \\n\\t\\t\\t\\t\\t\\t\\ttidak ada produk\\n\\t\\t\\t\\t\\t\\t...      1  \n",
       "74                                                NaN      1  \n",
       "75                                                NaN      1  \n",
       "\n",
       "[291 rows x 3 columns]"
      ]
     },
     "execution_count": 5,
     "metadata": {},
     "output_type": "execute_result"
    }
   ],
   "source": [
    "paragraphs"
   ]
  },
  {
   "cell_type": "code",
   "execution_count": 6,
   "metadata": {},
   "outputs": [],
   "source": [
    "X = paragraphs.iloc[:, 1].values\n",
    "y = paragraphs.iloc[:, 2].values"
   ]
  },
  {
   "cell_type": "code",
   "execution_count": 7,
   "metadata": {},
   "outputs": [],
   "source": [
    "def preprocess_paragraph(X):\n",
    "    processed_paragraphs = []\n",
    "\n",
    "    for paragraph in range(0, len(X)):  \n",
    "        # Remove all the special characters\n",
    "        processed_paragraph = re.sub(r'\\W', ' ', str(X[paragraph]))\n",
    "\n",
    "        # remove all single characters\n",
    "        processed_paragraph = re.sub(r'\\s+[a-zA-Z]\\s+', ' ', processed_paragraph)\n",
    "\n",
    "        # Remove single characters from the start\n",
    "        processed_paragraph = re.sub(r'\\^[a-zA-Z]\\s+', ' ', processed_paragraph) \n",
    "\n",
    "        # Substituting multiple spaces with single space\n",
    "        processed_paragraph= re.sub(r'\\s+', ' ', processed_paragraph, flags=re.I)\n",
    "\n",
    "        # Removing prefixed 'b'\n",
    "        processed_paragraph = re.sub(r'^b\\s+', '', processed_paragraph)\n",
    "\n",
    "        # Converting to Lowercase\n",
    "        processed_paragraph = processed_paragraph.lower()\n",
    "\n",
    "        processed_paragraphs.append(processed_paragraph)\n",
    "    return processed_paragraphs"
   ]
  },
  {
   "cell_type": "code",
   "execution_count": 8,
   "metadata": {},
   "outputs": [],
   "source": [
    "processed = preprocess_paragraph(X)"
   ]
  },
  {
   "cell_type": "code",
   "execution_count": 9,
   "metadata": {},
   "outputs": [
    {
     "name": "stderr",
     "output_type": "stream",
     "text": [
      "c:\\users\\bahyh\\appdata\\local\\programs\\python\\python37\\lib\\site-packages\\sklearn\\feature_extraction\\text.py:385: UserWarning: Your stop_words may be inconsistent with your preprocessing. Tokenizing the stop words generated tokens ['baiknya', 'berkali', 'kali', 'kurangnya', 'mata', 'olah', 'sekurang', 'setidak', 'tama', 'tidaknya'] not in stop_words.\n",
      "  'stop_words.' % sorted(inconsistent))\n"
     ]
    }
   ],
   "source": [
    "tfidfconverter = TfidfVectorizer(max_features=2000, stop_words=stopwords.words('indonesian'))  \n",
    "X = tfidfconverter.fit_transform(processed).toarray()"
   ]
  },
  {
   "cell_type": "markdown",
   "metadata": {},
   "source": [
    "## Validate Model"
   ]
  },
  {
   "cell_type": "code",
   "execution_count": 10,
   "metadata": {},
   "outputs": [],
   "source": [
    "X_train, X_test, y_train, y_test = train_test_split(X, y, test_size=0.33, random_state=42)"
   ]
  },
  {
   "cell_type": "code",
   "execution_count": 11,
   "metadata": {},
   "outputs": [],
   "source": [
    "## Gaussian Naive Bayes has a good ability to predict REJECTED websites, but it is hard to got a low FP Rate with this model.\n",
    "## While XGBoost provides more reliable model with low FP rate and enough TP rate\n",
    "## Though, it goes back to the business decision which rate is more important\n",
    "\n",
    "model_choice = GaussianNB()\n",
    "# model_choice = BernoulliNB()\n",
    "# model_choice = MultinomialNB()\n",
    "# model_choice = XGBClassifier(**params)"
   ]
  },
  {
   "cell_type": "code",
   "execution_count": 12,
   "metadata": {},
   "outputs": [],
   "source": [
    "clf = model_choice\n",
    "clf = clf.fit(X_train, y_train)"
   ]
  },
  {
   "cell_type": "code",
   "execution_count": 13,
   "metadata": {},
   "outputs": [],
   "source": [
    "## Using the default threshold == 0.5\n",
    "y_pred = clf.predict(X_test)"
   ]
  },
  {
   "cell_type": "code",
   "execution_count": 14,
   "metadata": {},
   "outputs": [],
   "source": [
    "y_pred_proba = clf.predict_proba(X_test)"
   ]
  },
  {
   "cell_type": "code",
   "execution_count": 15,
   "metadata": {},
   "outputs": [
    {
     "data": {
      "text/plain": [
       "0.84"
      ]
     },
     "execution_count": 15,
     "metadata": {},
     "output_type": "execute_result"
    }
   ],
   "source": [
    "np.round(accuracy_score(y_test, y_pred), 2)"
   ]
  },
  {
   "cell_type": "code",
   "execution_count": 16,
   "metadata": {},
   "outputs": [
    {
     "data": {
      "text/plain": [
       "(0    141\n",
       " 1     53\n",
       " dtype: int64,\n",
       " 0    74\n",
       " 1    23\n",
       " dtype: int64)"
      ]
     },
     "execution_count": 16,
     "metadata": {},
     "output_type": "execute_result"
    }
   ],
   "source": [
    "pd.Series(y_train).value_counts(), pd.Series(y_test).value_counts()"
   ]
  },
  {
   "cell_type": "code",
   "execution_count": 17,
   "metadata": {},
   "outputs": [],
   "source": [
    "## Confusion matrix with best TPR threshold\n",
    "tn, fp, fn, tp = confusion_matrix(y_test, y_pred).ravel()"
   ]
  },
  {
   "cell_type": "code",
   "execution_count": 18,
   "metadata": {},
   "outputs": [
    {
     "data": {
      "text/plain": [
       "(0.609, 0.095)"
      ]
     },
     "execution_count": 18,
     "metadata": {},
     "output_type": "execute_result"
    }
   ],
   "source": [
    "tpr, fpr = np.round((tp/(tp+fn), fp/(fp+tn)), 3)\n",
    "## TPR = Dari semua REJECTED merchant berapa % yang berhasil kereject, \n",
    "## FPR = Dari semua APPROVED berapa % yang kita salah tebak sebagai REJECTED\n",
    "## This rate applies to a default threshold of 0.5\n",
    "tpr, fpr"
   ]
  },
  {
   "cell_type": "code",
   "execution_count": 19,
   "metadata": {},
   "outputs": [
    {
     "data": {
      "text/plain": [
       "(67, 7, 9, 14)"
      ]
     },
     "execution_count": 19,
     "metadata": {},
     "output_type": "execute_result"
    }
   ],
   "source": [
    "tn, fp, fn, tp"
   ]
  },
  {
   "cell_type": "code",
   "execution_count": 20,
   "metadata": {},
   "outputs": [
    {
     "data": {
      "image/png": "[encoded data removed]",
      "text/plain": [
       "<Figure size 432x288 with 2 Axes>"
      ]
     },
     "metadata": {
      "needs_background": "light"
     },
     "output_type": "display_data"
    }
   ],
   "source": [
    "## This matrix visualization is based on 0.5 threshold\n",
    "plot_confusion_matrix(clf, X_test, y_test, cmap=plt.cm.Blues)\n",
    "plt.show()"
   ]
  },
  {
   "cell_type": "code",
   "execution_count": 21,
   "metadata": {},
   "outputs": [],
   "source": [
    "fpr, tpr, thresholds = roc_curve(y_test, y_pred_proba[:,1])"
   ]
  },
  {
   "cell_type": "code",
   "execution_count": 22,
   "metadata": {},
   "outputs": [],
   "source": [
    "auc_score = auc(fpr, tpr)"
   ]
  },
  {
   "cell_type": "code",
   "execution_count": 23,
   "metadata": {},
   "outputs": [
    {
     "data": {
      "image/png": "[encoded data removed]",
      "text/plain": [
       "<Figure size 720x288 with 2 Axes>"
      ]
     },
     "metadata": {
      "needs_background": "light"
     },
     "output_type": "display_data"
    },
    {
     "name": "stdout",
     "output_type": "stream",
     "text": [
      " -- Optimum Threshold -- \n",
      "        fpr       tpr     1-fpr       tf  thresholds\n",
      "1  0.094595  0.608696  0.905405 -0.29671         1.0\n"
     ]
    }
   ],
   "source": [
    "plt.figure(figsize=(10,4))\n",
    "plt.plot(fpr, tpr, label='ROC curve (area = %0.2f)' % (auc_score))\n",
    "plt.plot([0, 1], [0, 1], 'k--')\n",
    "plt.xlim([0.0, 1.0])\n",
    "plt.ylim([0.0, 1.05])\n",
    "plt.xlabel('False Positive Rate')\n",
    "plt.ylabel('True Positive Rate')\n",
    "plt.title('Receiver operating characteristic')\n",
    "plt.legend(loc=\"lower right\")\n",
    "\n",
    "# find optimum thresholds\n",
    "i = np.arange(len(tpr)) # index for df\n",
    "roc = pd.DataFrame({'fpr' : pd.Series(fpr, index=i),'tpr' : pd.Series(tpr, index = i), '1-fpr' : pd.Series(1-fpr, index = i), 'tf' : pd.Series(tpr - (1-fpr), index = i).apply(lambda x: x), 'thresholds' : pd.Series(thresholds, index = i)})\n",
    "df_thresh = roc.iloc[(roc.tf-0).abs().argsort()[:1]]\n",
    "\n",
    "plt.plot(df_thresh['fpr'], df_thresh['tpr'], marker='o', markersize=8, color='darkblue')\n",
    "\n",
    "# create the axis of thresholds (scores)\n",
    "ax2 = plt.gca().twinx()\n",
    "ax2.plot(fpr, thresholds, markeredgecolor='r',linestyle='dashed', color='darkred')\n",
    "ax2.set_ylabel('Threshold',color='darkred')\n",
    "ax2.set_ylim([thresholds[-1],thresholds[0]])\n",
    "ax2.set_xlim([fpr[0],fpr[-1]])\n",
    "ax2.plot(df_thresh['fpr'], df_thresh['thresholds'], marker='o', markersize=8, color='darkred')\n",
    "\n",
    "\n",
    "plt.show()\n",
    "print(\" -- Optimum Threshold -- \")\n",
    "print(df_thresh)"
   ]
  },
  {
   "cell_type": "code",
   "execution_count": 24,
   "metadata": {
    "scrolled": true
   },
   "outputs": [
    {
     "name": "stdout",
     "output_type": "stream",
     "text": [
      "-- Best TPR Threshold -- \n",
      "TPR 0.0, FPR 0.0, Threshold 2.0\n",
      "TPR 0.6086956521739131, FPR 0.0945945945945946, Threshold 1.0\n",
      "TPR 1.0, FPR 1.0, Threshold 0.0\n"
     ]
    }
   ],
   "source": [
    "print(\"-- Best TPR Threshold -- \")\n",
    "## Finding threshold where TPR > Optimum TPR but FPR stays below 15%\n",
    "for i in range(len(fpr)):\n",
    "#     if tpr[i] > 0.85 and fpr[i] < 0.20:\n",
    "        print(\"TPR %s, FPR %s, Threshold %s\" % (tpr[i], fpr[i], thresholds[i]))"
   ]
  },
  {
   "cell_type": "markdown",
   "metadata": {},
   "source": [
    "## Bootstrapped"
   ]
  },
  {
   "cell_type": "code",
   "execution_count": null,
   "metadata": {
    "scrolled": true
   },
   "outputs": [],
   "source": [
    "accuracy_list = []\n",
    "auc_list = []\n",
    "for i in range(1000):\n",
    "    X_train, X_test, y_train, y_test = train_test_split(X, y, test_size=0.33, random_state=i)\n",
    "    clf = model_choice\n",
    "    clf = clf.fit(X_train, y_train)\n",
    "    y_pred = clf.predict(X_test)\n",
    "    y_pred_proba = clf.predict_proba(X_test)\n",
    "    accuracy = accuracy_score(y_test, y_pred)\n",
    "    fpr, tpr, thresholds = roc_curve(y_test, y_pred_proba[:,1])\n",
    "    auc_score = auc(fpr, tpr)\n",
    "    \n",
    "    accuracy_list.append(accuracy)\n",
    "    auc_list.append(auc_score)\n",
    "    print(\"Iteration %s: AUC:%s, Accuracy:%s\" % (i, auc_score, accuracy))"
   ]
  },
  {
   "cell_type": "code",
   "execution_count": 26,
   "metadata": {},
   "outputs": [
    {
     "data": {
      "image/png": "[encoded data removed]",
      "text/plain": [
       "<Figure size 1440x360 with 1 Axes>"
      ]
     },
     "metadata": {
      "needs_background": "light"
     },
     "output_type": "display_data"
    },
    {
     "name": "stdout",
     "output_type": "stream",
     "text": [
      "Accuracy mean: 0.79\n",
      "AUC mean: 0.75\n"
     ]
    }
   ],
   "source": [
    "plt.figure(figsize=(20,5))\n",
    "plt.title(\"1000 Tries of Split Validation\")\n",
    "sns.distplot(accuracy_list, bins=10, label = 'Accuracy', kde=False)\n",
    "sns.distplot(auc_list, bins=10, label = 'AUC', kde=False)\n",
    "plt.axvline(x=pd.Series(accuracy_list).mean(), lw=5)\n",
    "plt.axvline(x=pd.Series(auc_list).mean(), lw=5, color='orange')\n",
    "plt.legend()\n",
    "plt.show()\n",
    "print(\"Accuracy mean: %0.2f\" % pd.Series(accuracy_list).mean())\n",
    "print(\"AUC mean: %0.2f\" % pd.Series(auc_list).mean())"
   ]
  },
  {
   "cell_type": "markdown",
   "metadata": {},
   "source": [
    "## Model Comparison"
   ]
  },
  {
   "cell_type": "code",
   "execution_count": 27,
   "metadata": {},
   "outputs": [],
   "source": [
    "X_train, X_test, y_train, y_test = train_test_split(X, y, test_size=0.33, random_state=42)"
   ]
  },
  {
   "cell_type": "code",
   "execution_count": 28,
   "metadata": {},
   "outputs": [],
   "source": [
    "## Initiate models\n",
    "models = []\n",
    "models.append(('K-Nearest Neighbour', KNeighborsClassifier()))\n",
    "models.append(('Decision Tree Classifier', DecisionTreeClassifier()))\n",
    "models.append(('Gaussian Naive Bayes', GaussianNB()))\n",
    "models.append(('Bernoulli Naive Bayes', BernoulliNB()))\n",
    "models.append(('Multinomial Naive Bayes', MultinomialNB()))\n",
    "models.append(('XGBoost Classifier', XGBClassifier()))"
   ]
  },
  {
   "cell_type": "code",
   "execution_count": 29,
   "metadata": {
    "scrolled": true
   },
   "outputs": [
    {
     "name": "stdout",
     "output_type": "stream",
     "text": [
      "K-Nearest Neighbour: \n",
      "AUC Mean 0.723960, STD 0.047557\n",
      "\n",
      "Decision Tree Classifier: \n",
      "AUC Mean 0.681698, STD 0.029057\n",
      "\n",
      "Gaussian Naive Bayes: \n",
      "AUC Mean 0.734850, STD 0.059735\n",
      "\n",
      "Bernoulli Naive Bayes: \n",
      "AUC Mean 0.800629, STD 0.074208\n",
      "\n",
      "Multinomial Naive Bayes: \n",
      "AUC Mean 0.742744, STD 0.027108\n",
      "\n",
      "XGBoost Classifier: \n",
      "AUC Mean 0.797310, STD 0.038661\n",
      "\n"
     ]
    }
   ],
   "source": [
    "## Results\n",
    "results = []\n",
    "names = []\n",
    "for name, model in models:\n",
    "    kfold = StratifiedKFold(n_splits=5, random_state=42, shuffle=True)\n",
    "    ## AUC Scoring\n",
    "    cv_results = cross_val_score(model, X_train, y_train, cv=kfold, scoring='roc_auc')\n",
    "    results.append(cv_results)\n",
    "    names.append(name)\n",
    "    print('%s: \\nAUC Mean %f, STD %f\\n'%(name, cv_results.mean(), cv_results.std()))"
   ]
  },
  {
   "cell_type": "code",
   "execution_count": 30,
   "metadata": {},
   "outputs": [
    {
     "data": {
      "image/png": "[encoded data removed]",
      "text/plain": [
       "<Figure size 1440x576 with 1 Axes>"
      ]
     },
     "metadata": {
      "needs_background": "light"
     },
     "output_type": "display_data"
    }
   ],
   "source": [
    "## Results Distribution\n",
    "plt.figure(figsize=(20,8))\n",
    "plt.boxplot(results, labels=names)\n",
    "plt.title('CV Results Comparison')\n",
    "plt.show()"
   ]
  },
  {
   "cell_type": "markdown",
   "metadata": {},
   "source": [
    "## Test Data"
   ]
  },
  {
   "cell_type": "code",
   "execution_count": 31,
   "metadata": {},
   "outputs": [],
   "source": [
    "test_data = paragraphs.iloc[-1:, :]"
   ]
  },
  {
   "cell_type": "code",
   "execution_count": 32,
   "metadata": {},
   "outputs": [],
   "source": [
    "X_test = paragraphs.iloc[-1:, :].iloc[:, 1].values\n",
    "y_test = paragraphs.iloc[-1:, :].iloc[:, 2].values"
   ]
  },
  {
   "cell_type": "code",
   "execution_count": 33,
   "metadata": {},
   "outputs": [],
   "source": [
    "X_test = preprocess_paragraph(X_test)\n",
    "X_test = tfidfconverter.transform(X_test).toarray()"
   ]
  },
  {
   "cell_type": "code",
   "execution_count": 34,
   "metadata": {},
   "outputs": [],
   "source": [
    "clf = clf.fit(X_train, y_train)\n",
    "y_pred = clf.predict(X_test)\n",
    "y_pred_proba = clf.predict_proba(X_test)"
   ]
  },
  {
   "cell_type": "code",
   "execution_count": 35,
   "metadata": {},
   "outputs": [
    {
     "data": {
      "text/plain": [
       "array([1], dtype=int64)"
      ]
     },
     "execution_count": 35,
     "metadata": {},
     "output_type": "execute_result"
    }
   ],
   "source": [
    "y_pred"
   ]
  },
  {
   "cell_type": "code",
   "execution_count": 37,
   "metadata": {},
   "outputs": [
    {
     "data": {
      "text/plain": [
       "array([1.])"
      ]
     },
     "execution_count": 37,
     "metadata": {},
     "output_type": "execute_result"
    }
   ],
   "source": [
    "y_pred_proba[:,1]"
   ]
  },
  {
   "cell_type": "code",
   "execution_count": 38,
   "metadata": {},
   "outputs": [
    {
     "data": {
      "text/plain": [
       "array([1], dtype=int64)"
      ]
     },
     "execution_count": 38,
     "metadata": {},
     "output_type": "execute_result"
    }
   ],
   "source": [
    "y_test"
   ]
  }
 ],
 "metadata": {
  "kernelspec": {
   "display_name": "Python 3",
   "language": "python",
   "name": "python3"
  },
  "language_info": {
   "codemirror_mode": {
    "name": "ipython",
    "version": 3
   },
   "file_extension": ".py",
   "mimetype": "text/x-python",
   "name": "python",
   "nbconvert_exporter": "python",
   "pygments_lexer": "ipython3",
   "version": "3.7.6"
  }
 },
 "nbformat": 4,
 "nbformat_minor": 4
}
