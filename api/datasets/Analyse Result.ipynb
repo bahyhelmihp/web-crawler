{
 "cells": [
  {
   "cell_type": "code",
   "execution_count": 1,
   "metadata": {},
   "outputs": [],
   "source": [
    "import pandas as pd\n",
    "import matplotlib.pyplot as plt\n",
    "import seaborn as sns"
   ]
  },
  {
   "cell_type": "markdown",
   "metadata": {},
   "source": [
    "## Input"
   ]
  },
  {
   "cell_type": "code",
   "execution_count": 2,
   "metadata": {},
   "outputs": [],
   "source": [
    "input_df = pd.read_csv(\"merchants_cleaned.csv\")"
   ]
  },
  {
   "cell_type": "markdown",
   "metadata": {},
   "source": [
    "input_df.shape"
   ]
  },
  {
   "cell_type": "markdown",
   "metadata": {},
   "source": [
    "stripped_url = input_df['website'].apply(lambda x: str(x).replace(\" \", \"\"))"
   ]
  },
  {
   "cell_type": "markdown",
   "metadata": {},
   "source": [
    "stripped_url"
   ]
  },
  {
   "cell_type": "markdown",
   "metadata": {},
   "source": [
    "stripped_name = input_df['merchant_name'].apply(lambda x: str(x).replace(\" \", \"\"))"
   ]
  },
  {
   "cell_type": "markdown",
   "metadata": {},
   "source": [
    "stripped_name"
   ]
  },
  {
   "cell_type": "markdown",
   "metadata": {},
   "source": [
    "input_df['website'] = stripped_url\n",
    "input_df['merchant_name'] = stripped_name"
   ]
  },
  {
   "cell_type": "markdown",
   "metadata": {},
   "source": [
    "input_df.to_csv(\"merchants_cleaned_stripped.csv\")"
   ]
  },
  {
   "cell_type": "markdown",
   "metadata": {},
   "source": [
    "## Results All"
   ]
  },
  {
   "cell_type": "code",
   "execution_count": 3,
   "metadata": {},
   "outputs": [],
   "source": [
    "all_df = pd.concat([pd.read_csv(\"results_all.csv\"), pd.read_csv(\"results_all_2.csv\")])"
   ]
  },
  {
   "cell_type": "code",
   "execution_count": 4,
   "metadata": {},
   "outputs": [],
   "source": [
    "all_df = all_df.iloc[:,1:]"
   ]
  },
  {
   "cell_type": "code",
   "execution_count": 5,
   "metadata": {},
   "outputs": [
    {
     "data": {
      "text/plain": [
       "(456, 13)"
      ]
     },
     "execution_count": 5,
     "metadata": {},
     "output_type": "execute_result"
    }
   ],
   "source": [
    "all_df.shape"
   ]
  },
  {
   "cell_type": "code",
   "execution_count": 6,
   "metadata": {},
   "outputs": [
    {
     "data": {
      "text/html": [
       "<div>\n",
       "<style scoped>\n",
       "    .dataframe tbody tr th:only-of-type {\n",
       "        vertical-align: middle;\n",
       "    }\n",
       "\n",
       "    .dataframe tbody tr th {\n",
       "        vertical-align: top;\n",
       "    }\n",
       "\n",
       "    .dataframe thead th {\n",
       "        text-align: right;\n",
       "    }\n",
       "</style>\n",
       "<table border=\"1\" class=\"dataframe\">\n",
       "  <thead>\n",
       "    <tr style=\"text-align: right;\">\n",
       "      <th></th>\n",
       "      <th>merchant_name</th>\n",
       "      <th>broken_link_score</th>\n",
       "      <th>link_contact_us_exist</th>\n",
       "      <th>cu_email_exist</th>\n",
       "      <th>cu_phone_number_exist</th>\n",
       "      <th>link_about_us_exist</th>\n",
       "      <th>link_tnc_exist</th>\n",
       "      <th>tnc_refund_policy_exist</th>\n",
       "      <th>contact_us_score</th>\n",
       "      <th>tnc_score</th>\n",
       "      <th>broken_links</th>\n",
       "      <th>website</th>\n",
       "      <th>label</th>\n",
       "    </tr>\n",
       "  </thead>\n",
       "  <tbody>\n",
       "    <tr>\n",
       "      <th>0</th>\n",
       "      <td>CV.ASIATRIPINDONESIA</td>\n",
       "      <td>0.0</td>\n",
       "      <td>1.0</td>\n",
       "      <td>1.0</td>\n",
       "      <td>1.0</td>\n",
       "      <td>0.0</td>\n",
       "      <td>1.0</td>\n",
       "      <td>1.0</td>\n",
       "      <td>100.0</td>\n",
       "      <td>100.0</td>\n",
       "      <td>{}</td>\n",
       "      <td>http://asiatrip.id/</td>\n",
       "      <td>APPROVED</td>\n",
       "    </tr>\n",
       "    <tr>\n",
       "      <th>1</th>\n",
       "      <td>Pt.BloomingLotusYoga</td>\n",
       "      <td>0.0</td>\n",
       "      <td>1.0</td>\n",
       "      <td>1.0</td>\n",
       "      <td>1.0</td>\n",
       "      <td>1.0</td>\n",
       "      <td>1.0</td>\n",
       "      <td>0.0</td>\n",
       "      <td>100.0</td>\n",
       "      <td>0.0</td>\n",
       "      <td>{}</td>\n",
       "      <td>https://www.blooming-lotus-yoga.com</td>\n",
       "      <td>APPROVED</td>\n",
       "    </tr>\n",
       "    <tr>\n",
       "      <th>2</th>\n",
       "      <td>YayasanGreenSejahtera</td>\n",
       "      <td>0.0</td>\n",
       "      <td>1.0</td>\n",
       "      <td>1.0</td>\n",
       "      <td>1.0</td>\n",
       "      <td>1.0</td>\n",
       "      <td>1.0</td>\n",
       "      <td>1.0</td>\n",
       "      <td>100.0</td>\n",
       "      <td>100.0</td>\n",
       "      <td>{}</td>\n",
       "      <td>https://greensejahterafoundation.com/</td>\n",
       "      <td>APPROVED</td>\n",
       "    </tr>\n",
       "    <tr>\n",
       "      <th>3</th>\n",
       "      <td>PTMatairTerraSolusi</td>\n",
       "      <td>0.0</td>\n",
       "      <td>0.0</td>\n",
       "      <td>0.0</td>\n",
       "      <td>0.0</td>\n",
       "      <td>1.0</td>\n",
       "      <td>0.0</td>\n",
       "      <td>0.0</td>\n",
       "      <td>0.0</td>\n",
       "      <td>0.0</td>\n",
       "      <td>{}</td>\n",
       "      <td>http://www.matair.co.id</td>\n",
       "      <td>APPROVED</td>\n",
       "    </tr>\n",
       "    <tr>\n",
       "      <th>4</th>\n",
       "      <td>SimplyMii</td>\n",
       "      <td>0.0</td>\n",
       "      <td>1.0</td>\n",
       "      <td>0.0</td>\n",
       "      <td>1.0</td>\n",
       "      <td>0.0</td>\n",
       "      <td>0.0</td>\n",
       "      <td>0.0</td>\n",
       "      <td>50.0</td>\n",
       "      <td>0.0</td>\n",
       "      <td>{}</td>\n",
       "      <td>https://www.simplymii.com/</td>\n",
       "      <td>APPROVED</td>\n",
       "    </tr>\n",
       "    <tr>\n",
       "      <th>...</th>\n",
       "      <td>...</td>\n",
       "      <td>...</td>\n",
       "      <td>...</td>\n",
       "      <td>...</td>\n",
       "      <td>...</td>\n",
       "      <td>...</td>\n",
       "      <td>...</td>\n",
       "      <td>...</td>\n",
       "      <td>...</td>\n",
       "      <td>...</td>\n",
       "      <td>...</td>\n",
       "      <td>...</td>\n",
       "      <td>...</td>\n",
       "    </tr>\n",
       "    <tr>\n",
       "      <th>221</th>\n",
       "      <td>Yskosmetik</td>\n",
       "      <td>10.0</td>\n",
       "      <td>1.0</td>\n",
       "      <td>1.0</td>\n",
       "      <td>1.0</td>\n",
       "      <td>1.0</td>\n",
       "      <td>0.0</td>\n",
       "      <td>0.0</td>\n",
       "      <td>100.0</td>\n",
       "      <td>0.0</td>\n",
       "      <td>{'https://quadlayers.com/portfolio/wordpress-w...</td>\n",
       "      <td>Www.smm4us.co.id</td>\n",
       "      <td>REVIEWED</td>\n",
       "    </tr>\n",
       "    <tr>\n",
       "      <th>222</th>\n",
       "      <td>ARMYsOutfit</td>\n",
       "      <td>0.0</td>\n",
       "      <td>1.0</td>\n",
       "      <td>0.0</td>\n",
       "      <td>0.0</td>\n",
       "      <td>1.0</td>\n",
       "      <td>0.0</td>\n",
       "      <td>0.0</td>\n",
       "      <td>0.0</td>\n",
       "      <td>0.0</td>\n",
       "      <td>{}</td>\n",
       "      <td>www.armysoutfit.com</td>\n",
       "      <td>REJECTED</td>\n",
       "    </tr>\n",
       "    <tr>\n",
       "      <th>223</th>\n",
       "      <td>Sociolo</td>\n",
       "      <td>0.0</td>\n",
       "      <td>1.0</td>\n",
       "      <td>0.0</td>\n",
       "      <td>0.0</td>\n",
       "      <td>0.0</td>\n",
       "      <td>1.0</td>\n",
       "      <td>1.0</td>\n",
       "      <td>0.0</td>\n",
       "      <td>100.0</td>\n",
       "      <td>{}</td>\n",
       "      <td>https://sociolo.net/</td>\n",
       "      <td>REJECTED</td>\n",
       "    </tr>\n",
       "    <tr>\n",
       "      <th>224</th>\n",
       "      <td>InsanDigital</td>\n",
       "      <td>10.0</td>\n",
       "      <td>0.0</td>\n",
       "      <td>0.0</td>\n",
       "      <td>1.0</td>\n",
       "      <td>0.0</td>\n",
       "      <td>1.0</td>\n",
       "      <td>1.0</td>\n",
       "      <td>50.0</td>\n",
       "      <td>100.0</td>\n",
       "      <td>{'https://www.fpkita.com:9191/index.php/login/...</td>\n",
       "      <td>https://www.fastpay.co.id/?FA30448</td>\n",
       "      <td>REJECTED</td>\n",
       "    </tr>\n",
       "    <tr>\n",
       "      <th>225</th>\n",
       "      <td>BinaryOption</td>\n",
       "      <td>100.0</td>\n",
       "      <td>0.0</td>\n",
       "      <td>0.0</td>\n",
       "      <td>0.0</td>\n",
       "      <td>0.0</td>\n",
       "      <td>0.0</td>\n",
       "      <td>0.0</td>\n",
       "      <td>0.0</td>\n",
       "      <td>0.0</td>\n",
       "      <td>{'': 'None'}</td>\n",
       "      <td>https://binomoidn.com/id/cashier</td>\n",
       "      <td>REJECTED</td>\n",
       "    </tr>\n",
       "  </tbody>\n",
       "</table>\n",
       "<p>456 rows × 13 columns</p>\n",
       "</div>"
      ],
      "text/plain": [
       "             merchant_name  broken_link_score  link_contact_us_exist  \\\n",
       "0     CV.ASIATRIPINDONESIA                0.0                    1.0   \n",
       "1     Pt.BloomingLotusYoga                0.0                    1.0   \n",
       "2    YayasanGreenSejahtera                0.0                    1.0   \n",
       "3      PTMatairTerraSolusi                0.0                    0.0   \n",
       "4                SimplyMii                0.0                    1.0   \n",
       "..                     ...                ...                    ...   \n",
       "221             Yskosmetik               10.0                    1.0   \n",
       "222            ARMYsOutfit                0.0                    1.0   \n",
       "223                Sociolo                0.0                    1.0   \n",
       "224           InsanDigital               10.0                    0.0   \n",
       "225           BinaryOption              100.0                    0.0   \n",
       "\n",
       "     cu_email_exist  cu_phone_number_exist  link_about_us_exist  \\\n",
       "0               1.0                    1.0                  0.0   \n",
       "1               1.0                    1.0                  1.0   \n",
       "2               1.0                    1.0                  1.0   \n",
       "3               0.0                    0.0                  1.0   \n",
       "4               0.0                    1.0                  0.0   \n",
       "..              ...                    ...                  ...   \n",
       "221             1.0                    1.0                  1.0   \n",
       "222             0.0                    0.0                  1.0   \n",
       "223             0.0                    0.0                  0.0   \n",
       "224             0.0                    1.0                  0.0   \n",
       "225             0.0                    0.0                  0.0   \n",
       "\n",
       "     link_tnc_exist  tnc_refund_policy_exist  contact_us_score  tnc_score  \\\n",
       "0               1.0                      1.0             100.0      100.0   \n",
       "1               1.0                      0.0             100.0        0.0   \n",
       "2               1.0                      1.0             100.0      100.0   \n",
       "3               0.0                      0.0               0.0        0.0   \n",
       "4               0.0                      0.0              50.0        0.0   \n",
       "..              ...                      ...               ...        ...   \n",
       "221             0.0                      0.0             100.0        0.0   \n",
       "222             0.0                      0.0               0.0        0.0   \n",
       "223             1.0                      1.0               0.0      100.0   \n",
       "224             1.0                      1.0              50.0      100.0   \n",
       "225             0.0                      0.0               0.0        0.0   \n",
       "\n",
       "                                          broken_links  \\\n",
       "0                                                   {}   \n",
       "1                                                   {}   \n",
       "2                                                   {}   \n",
       "3                                                   {}   \n",
       "4                                                   {}   \n",
       "..                                                 ...   \n",
       "221  {'https://quadlayers.com/portfolio/wordpress-w...   \n",
       "222                                                 {}   \n",
       "223                                                 {}   \n",
       "224  {'https://www.fpkita.com:9191/index.php/login/...   \n",
       "225                                       {'': 'None'}   \n",
       "\n",
       "                                   website     label  \n",
       "0                      http://asiatrip.id/  APPROVED  \n",
       "1      https://www.blooming-lotus-yoga.com  APPROVED  \n",
       "2    https://greensejahterafoundation.com/  APPROVED  \n",
       "3                  http://www.matair.co.id  APPROVED  \n",
       "4               https://www.simplymii.com/  APPROVED  \n",
       "..                                     ...       ...  \n",
       "221                       Www.smm4us.co.id  REVIEWED  \n",
       "222                    www.armysoutfit.com  REJECTED  \n",
       "223                   https://sociolo.net/  REJECTED  \n",
       "224     https://www.fastpay.co.id/?FA30448  REJECTED  \n",
       "225       https://binomoidn.com/id/cashier  REJECTED  \n",
       "\n",
       "[456 rows x 13 columns]"
      ]
     },
     "execution_count": 6,
     "metadata": {},
     "output_type": "execute_result"
    }
   ],
   "source": [
    "all_df"
   ]
  },
  {
   "cell_type": "code",
   "execution_count": 7,
   "metadata": {},
   "outputs": [
    {
     "data": {
      "image/png": "[encoded data removed]",
      "text/plain": [
       "<Figure size 1440x360 with 1 Axes>"
      ]
     },
     "metadata": {
      "needs_background": "light"
     },
     "output_type": "display_data"
    }
   ],
   "source": [
    "plt.figure(figsize=(20, 5))\n",
    "sns.distplot(all_df[all_df.label == 'APPROVED']['broken_link_score'], label='APPROVED')\n",
    "sns.distplot(all_df[all_df.label == 'REJECTED']['broken_link_score'], label='REJECTED')\n",
    "plt.legend()\n",
    "plt.show()"
   ]
  },
  {
   "cell_type": "code",
   "execution_count": 8,
   "metadata": {},
   "outputs": [
    {
     "data": {
      "text/html": [
       "<div>\n",
       "<style scoped>\n",
       "    .dataframe tbody tr th:only-of-type {\n",
       "        vertical-align: middle;\n",
       "    }\n",
       "\n",
       "    .dataframe tbody tr th {\n",
       "        vertical-align: top;\n",
       "    }\n",
       "\n",
       "    .dataframe thead tr th {\n",
       "        text-align: left;\n",
       "    }\n",
       "\n",
       "    .dataframe thead tr:last-of-type th {\n",
       "        text-align: right;\n",
       "    }\n",
       "</style>\n",
       "<table border=\"1\" class=\"dataframe\">\n",
       "  <thead>\n",
       "    <tr>\n",
       "      <th></th>\n",
       "      <th colspan=\"8\" halign=\"left\">broken_link_score</th>\n",
       "    </tr>\n",
       "    <tr>\n",
       "      <th></th>\n",
       "      <th>count</th>\n",
       "      <th>mean</th>\n",
       "      <th>std</th>\n",
       "      <th>min</th>\n",
       "      <th>25%</th>\n",
       "      <th>50%</th>\n",
       "      <th>75%</th>\n",
       "      <th>max</th>\n",
       "    </tr>\n",
       "    <tr>\n",
       "      <th>label</th>\n",
       "      <th></th>\n",
       "      <th></th>\n",
       "      <th></th>\n",
       "      <th></th>\n",
       "      <th></th>\n",
       "      <th></th>\n",
       "      <th></th>\n",
       "      <th></th>\n",
       "    </tr>\n",
       "  </thead>\n",
       "  <tbody>\n",
       "    <tr>\n",
       "      <th>APPROVED</th>\n",
       "      <td>321.0</td>\n",
       "      <td>29.764130</td>\n",
       "      <td>44.181058</td>\n",
       "      <td>0.0</td>\n",
       "      <td>0.0</td>\n",
       "      <td>0.0</td>\n",
       "      <td>100.0</td>\n",
       "      <td>100.0</td>\n",
       "    </tr>\n",
       "    <tr>\n",
       "      <th>REJECTED</th>\n",
       "      <td>25.0</td>\n",
       "      <td>37.733333</td>\n",
       "      <td>48.138689</td>\n",
       "      <td>0.0</td>\n",
       "      <td>0.0</td>\n",
       "      <td>0.0</td>\n",
       "      <td>100.0</td>\n",
       "      <td>100.0</td>\n",
       "    </tr>\n",
       "    <tr>\n",
       "      <th>REVIEWED</th>\n",
       "      <td>110.0</td>\n",
       "      <td>34.878788</td>\n",
       "      <td>46.772874</td>\n",
       "      <td>0.0</td>\n",
       "      <td>0.0</td>\n",
       "      <td>0.0</td>\n",
       "      <td>100.0</td>\n",
       "      <td>100.0</td>\n",
       "    </tr>\n",
       "  </tbody>\n",
       "</table>\n",
       "</div>"
      ],
      "text/plain": [
       "         broken_link_score                                                   \n",
       "                     count       mean        std  min  25%  50%    75%    max\n",
       "label                                                                        \n",
       "APPROVED             321.0  29.764130  44.181058  0.0  0.0  0.0  100.0  100.0\n",
       "REJECTED              25.0  37.733333  48.138689  0.0  0.0  0.0  100.0  100.0\n",
       "REVIEWED             110.0  34.878788  46.772874  0.0  0.0  0.0  100.0  100.0"
      ]
     },
     "execution_count": 8,
     "metadata": {},
     "output_type": "execute_result"
    }
   ],
   "source": [
    "all_df[['broken_link_score', 'label']].groupby(\"label\").describe()"
   ]
  },
  {
   "cell_type": "code",
   "execution_count": 9,
   "metadata": {},
   "outputs": [],
   "source": [
    "## Approved but scored 100 in broken links\n",
    "anomaly_df = all_df[(all_df.label == 'APPROVED') & (all_df.broken_link_score == 100)]\\\n",
    "[['merchant_name','broken_link_score', 'label', 'website','broken_links']]"
   ]
  },
  {
   "cell_type": "code",
   "execution_count": 10,
   "metadata": {
    "scrolled": true
   },
   "outputs": [
    {
     "data": {
      "text/html": [
       "<div>\n",
       "<style scoped>\n",
       "    .dataframe tbody tr th:only-of-type {\n",
       "        vertical-align: middle;\n",
       "    }\n",
       "\n",
       "    .dataframe tbody tr th {\n",
       "        vertical-align: top;\n",
       "    }\n",
       "\n",
       "    .dataframe thead th {\n",
       "        text-align: right;\n",
       "    }\n",
       "</style>\n",
       "<table border=\"1\" class=\"dataframe\">\n",
       "  <thead>\n",
       "    <tr style=\"text-align: right;\">\n",
       "      <th></th>\n",
       "      <th>merchant_name</th>\n",
       "      <th>broken_link_score</th>\n",
       "      <th>label</th>\n",
       "      <th>website</th>\n",
       "      <th>broken_links</th>\n",
       "    </tr>\n",
       "  </thead>\n",
       "  <tbody>\n",
       "    <tr>\n",
       "      <th>32</th>\n",
       "      <td>HuaningIndonesiaSukses</td>\n",
       "      <td>100.0</td>\n",
       "      <td>APPROVED</td>\n",
       "      <td>https://www.jomooz.com</td>\n",
       "      <td>{}</td>\n",
       "    </tr>\n",
       "    <tr>\n",
       "      <th>62</th>\n",
       "      <td>LUBRICANTS</td>\n",
       "      <td>100.0</td>\n",
       "      <td>APPROVED</td>\n",
       "      <td>http://payment.server-development.net</td>\n",
       "      <td>{'': 'None'}</td>\n",
       "    </tr>\n",
       "    <tr>\n",
       "      <th>70</th>\n",
       "      <td>BayyinahQuranIndonesia</td>\n",
       "      <td>100.0</td>\n",
       "      <td>APPROVED</td>\n",
       "      <td>bayyinah.id</td>\n",
       "      <td>{'': 'None'}</td>\n",
       "    </tr>\n",
       "    <tr>\n",
       "      <th>73</th>\n",
       "      <td>Aromanis</td>\n",
       "      <td>100.0</td>\n",
       "      <td>APPROVED</td>\n",
       "      <td>https://blanjamandiri.com</td>\n",
       "      <td>{'': 'None'}</td>\n",
       "    </tr>\n",
       "    <tr>\n",
       "      <th>74</th>\n",
       "      <td>CitraSuksesAbadi</td>\n",
       "      <td>100.0</td>\n",
       "      <td>APPROVED</td>\n",
       "      <td>https://blanjamandiri.com</td>\n",
       "      <td>{'': 'None'}</td>\n",
       "    </tr>\n",
       "    <tr>\n",
       "      <th>...</th>\n",
       "      <td>...</td>\n",
       "      <td>...</td>\n",
       "      <td>...</td>\n",
       "      <td>...</td>\n",
       "      <td>...</td>\n",
       "    </tr>\n",
       "    <tr>\n",
       "      <th>120</th>\n",
       "      <td>Glowy</td>\n",
       "      <td>100.0</td>\n",
       "      <td>APPROVED</td>\n",
       "      <td>https://www.glowi.id</td>\n",
       "      <td>{'': 'None'}</td>\n",
       "    </tr>\n",
       "    <tr>\n",
       "      <th>121</th>\n",
       "      <td>Valettashop</td>\n",
       "      <td>100.0</td>\n",
       "      <td>APPROVED</td>\n",
       "      <td>http://www.valettashop.com</td>\n",
       "      <td>{'': 'None'}</td>\n",
       "    </tr>\n",
       "    <tr>\n",
       "      <th>123</th>\n",
       "      <td>SportHelmetOnlineStore</td>\n",
       "      <td>100.0</td>\n",
       "      <td>APPROVED</td>\n",
       "      <td>https://sporthelmet.site/</td>\n",
       "      <td>{'': 'None'}</td>\n",
       "    </tr>\n",
       "    <tr>\n",
       "      <th>124</th>\n",
       "      <td>indovies.com</td>\n",
       "      <td>100.0</td>\n",
       "      <td>APPROVED</td>\n",
       "      <td>http://www.indovies.com</td>\n",
       "      <td>{'': 'None'}</td>\n",
       "    </tr>\n",
       "    <tr>\n",
       "      <th>125</th>\n",
       "      <td>AuthenticSimply</td>\n",
       "      <td>100.0</td>\n",
       "      <td>APPROVED</td>\n",
       "      <td>https://www.authenticsimply.com/</td>\n",
       "      <td>{'': 'None'}</td>\n",
       "    </tr>\n",
       "  </tbody>\n",
       "</table>\n",
       "<p>88 rows × 5 columns</p>\n",
       "</div>"
      ],
      "text/plain": [
       "              merchant_name  broken_link_score     label  \\\n",
       "32   HuaningIndonesiaSukses              100.0  APPROVED   \n",
       "62               LUBRICANTS              100.0  APPROVED   \n",
       "70   BayyinahQuranIndonesia              100.0  APPROVED   \n",
       "73                 Aromanis              100.0  APPROVED   \n",
       "74         CitraSuksesAbadi              100.0  APPROVED   \n",
       "..                      ...                ...       ...   \n",
       "120                   Glowy              100.0  APPROVED   \n",
       "121             Valettashop              100.0  APPROVED   \n",
       "123  SportHelmetOnlineStore              100.0  APPROVED   \n",
       "124            indovies.com              100.0  APPROVED   \n",
       "125         AuthenticSimply              100.0  APPROVED   \n",
       "\n",
       "                                   website  broken_links  \n",
       "32                  https://www.jomooz.com            {}  \n",
       "62   http://payment.server-development.net  {'': 'None'}  \n",
       "70                             bayyinah.id  {'': 'None'}  \n",
       "73               https://blanjamandiri.com  {'': 'None'}  \n",
       "74               https://blanjamandiri.com  {'': 'None'}  \n",
       "..                                     ...           ...  \n",
       "120                   https://www.glowi.id  {'': 'None'}  \n",
       "121             http://www.valettashop.com  {'': 'None'}  \n",
       "123              https://sporthelmet.site/  {'': 'None'}  \n",
       "124                http://www.indovies.com  {'': 'None'}  \n",
       "125       https://www.authenticsimply.com/  {'': 'None'}  \n",
       "\n",
       "[88 rows x 5 columns]"
      ]
     },
     "execution_count": 10,
     "metadata": {},
     "output_type": "execute_result"
    }
   ],
   "source": [
    "anomaly_df"
   ]
  },
  {
   "cell_type": "code",
   "execution_count": 13,
   "metadata": {},
   "outputs": [],
   "source": [
    "def url_format_handler(url):\n",
    "    \"\"\"Return url with http/https prefix if not written\"\"\"\n",
    "\n",
    "    if not url.startswith(\"http\") and not url.startswith(\"https\"):\n",
    "        url = \"http://\" + url\n",
    "\n",
    "    return url"
   ]
  },
  {
   "cell_type": "code",
   "execution_count": 16,
   "metadata": {
    "scrolled": true
   },
   "outputs": [
    {
     "name": "stdout",
     "output_type": "stream",
     "text": [
      "https://www.jomooz.com <Response [522]>\n",
      "http://payment.server-development.net <Response [200]>\n",
      "bayyinah.id <Response [200]>\n",
      "https://blanjamandiri.com <Response [200]>\n",
      "https://blanjamandiri.com <Response [200]>\n",
      "http://mantap.com <Response [403]>\n",
      "https://blanjamandiri.com <Response [200]>\n",
      "https://blanjamandiri.com <Response [200]>\n",
      "https://blanjamandiri.com <Response [200]>\n",
      "https://www.worldshopdeluxe.com HTTPSConnectionPool(host='www.worldshopdeluxe.com', port=443): Max retries exceeded with url: / (Caused by SSLError(SSLCertVerificationError(1, '[SSL: CERTIFICATE_VERIFY_FAILED] certificate verify failed: certificate has expired (_ssl.c:1076)')))\n",
      "https://ieltsregistration-staging.britishcouncil.org/test-chooser <Response [200]>\n",
      "www.globomart.co <Response [200]>\n",
      "Https://hatapoda.id HTTPConnectionPool(host='https', port=80): Max retries exceeded with url: //hatapoda.id (Caused by NewConnectionError('<urllib3.connection.HTTPConnection object at 0x000001E6B2061FC8>: Failed to establish a new connection: [Errno 11001] getaddrinfo failed'))\n",
      "Http://ngastadamel.com HTTPConnectionPool(host='http', port=80): Max retries exceeded with url: //ngastadamel.com (Caused by NewConnectionError('<urllib3.connection.HTTPConnection object at 0x000001E6B2061F88>: Failed to establish a new connection: [Errno 11001] getaddrinfo failed'))\n",
      "Https://amayalin.com HTTPConnectionPool(host='https', port=80): Max retries exceeded with url: //amayalin.com (Caused by NewConnectionError('<urllib3.connection.HTTPConnection object at 0x000001E6B2061108>: Failed to establish a new connection: [Errno 11001] getaddrinfo failed'))\n",
      "zoyareseller.com <Response [200]>\n",
      "https://jsw2019.fxsudirman.com HTTPSConnectionPool(host='jsw2019.fxsudirman.com', port=443): Max retries exceeded with url: / (Caused by SSLError(SSLCertVerificationError(\"hostname 'jsw2019.fxsudirman.com' doesn't match either of '360.fx.co.id', 'www.360.fx.co.id'\")))\n",
      "https://www.bmd-net.com/ HTTPSConnectionPool(host='www.bmd-net.com', port=443): Max retries exceeded with url: / (Caused by SSLError(SSLCertVerificationError(1, '[SSL: CERTIFICATE_VERIFY_FAILED] certificate verify failed: self signed certificate (_ssl.c:1076)')))\n",
      "https://megadapur.com HTTPSConnectionPool(host='megadapur.com', port=443): Max retries exceeded with url: / (Caused by NewConnectionError('<urllib3.connection.VerifiedHTTPSConnection object at 0x000001E6B1C7C288>: Failed to establish a new connection: [Errno 11002] getaddrinfo failed'))\n",
      "https://www.osloflytte.com HTTPSConnectionPool(host='www.osloflytte.com', port=443): Max retries exceeded with url: / (Caused by SSLError(SSLCertVerificationError(\"hostname 'www.osloflytte.com' doesn't match either of '*.dynadot.com', 'dynadot.com'\")))\n",
      "http://www.anugrahalamindonesia.com HTTPConnectionPool(host='www.anugrahalamindonesia.com', port=80): Max retries exceeded with url: / (Caused by NewConnectionError('<urllib3.connection.HTTPConnection object at 0x000001E6B1ED41C8>: Failed to establish a new connection: [Errno 11001] getaddrinfo failed'))\n",
      "hennessydeclassified.id HTTPConnectionPool(host='hennessydeclassified.id', port=80): Max retries exceeded with url: / (Caused by NewConnectionError('<urllib3.connection.HTTPConnection object at 0x000001E6B2061F88>: Failed to establish a new connection: [Errno 11001] getaddrinfo failed'))\n",
      "https://www.jomooz.com <Response [523]>\n",
      "https://dections.com HTTPSConnectionPool(host='dections.com', port=443): Max retries exceeded with url: / (Caused by NewConnectionError('<urllib3.connection.VerifiedHTTPSConnection object at 0x000001E6B1B401C8>: Failed to establish a new connection: [WinError 10061] No connection could be made because the target machine actively refused it'))\n",
      "https://www.hotdealus.com/ HTTPSConnectionPool(host='www.hotdealus.com', port=443): Max retries exceeded with url: / (Caused by NewConnectionError('<urllib3.connection.VerifiedHTTPSConnection object at 0x000001E6B2061BC8>: Failed to establish a new connection: [Errno 11001] getaddrinfo failed'))\n",
      "https://www.risingstockadvisor.com/ HTTPSConnectionPool(host='www.risingstockadvisor.com', port=443): Max retries exceeded with url: / (Caused by SSLError(SSLCertVerificationError(\"hostname 'www.risingstockadvisor.com' doesn't match either of '*.dynadot.com', 'dynadot.com'\")))\n",
      "Belisada.co.id HTTPSConnectionPool(host='belisada.co.id', port=443): Max retries exceeded with url: / (Caused by SSLError(SSLCertVerificationError(1, '[SSL: CERTIFICATE_VERIFY_FAILED] certificate verify failed: certificate has expired (_ssl.c:1076)')))\n",
      "https://www.bmd-net.com/ HTTPSConnectionPool(host='www.bmd-net.com', port=443): Max retries exceeded with url: / (Caused by SSLError(SSLCertVerificationError(1, '[SSL: CERTIFICATE_VERIFY_FAILED] certificate verify failed: self signed certificate (_ssl.c:1076)')))\n",
      "www.lavieux.com HTTPSConnectionPool(host='www.lavieux.com', port=443): Max retries exceeded with url: / (Caused by SSLError(SSLCertVerificationError(\"hostname 'www.lavieux.com' doesn't match either of 'myshopify.com', '*.myshopify.com'\")))\n",
      "ZurichPro HTTPConnectionPool(host='zurichpro', port=80): Max retries exceeded with url: / (Caused by NewConnectionError('<urllib3.connection.HTTPConnection object at 0x000001E6B20659C8>: Failed to establish a new connection: [Errno 11001] getaddrinfo failed'))\n",
      "https://www.instagram.com/armybaseina/ <Response [200]>\n",
      "http://keppjjangfamstore.com HTTPConnectionPool(host='keppjjangfamstore.com', port=80): Max retries exceeded with url: / (Caused by NewConnectionError('<urllib3.connection.HTTPConnection object at 0x000001E6B1D23148>: Failed to establish a new connection: [Errno 11001] getaddrinfo failed'))\n",
      "http://www.loveclothing.top <Response [200]>\n",
      "https://gladeals.com/ HTTPSConnectionPool(host='gladeals.com', port=443): Max retries exceeded with url: / (Caused by SSLError(SSLCertVerificationError(1, '[SSL: CERTIFICATE_VERIFY_FAILED] certificate verify failed: unable to get local issuer certificate (_ssl.c:1076)')))\n",
      "http://www.alexagift.com ('Connection aborted.', ConnectionResetError(10054, 'An existing connection was forcibly closed by the remote host', None, 10054, None))\n",
      "https://dekorie.com/ HTTPSConnectionPool(host='dekorie.com', port=443): Max retries exceeded with url: / (Caused by SSLError(SSLCertVerificationError(\"hostname 'dekorie.com' doesn't match either of 'myshopify.com', '*.myshopify.com'\")))\n",
      "Https://cvatb.com HTTPConnectionPool(host='https', port=80): Max retries exceeded with url: //cvatb.com (Caused by NewConnectionError('<urllib3.connection.HTTPConnection object at 0x000001E6B206D688>: Failed to establish a new connection: [Errno 11001] getaddrinfo failed'))\n",
      "www.numuhta.goherbalife.com HTTPSConnectionPool(host='www.numuhta.goherbalife.com', port=443): Max retries exceeded with url: / (Caused by SSLError(SSLCertVerificationError(\"hostname 'www.numuhta.goherbalife.com' doesn't match either of 'herbalife.com', 'goherbalife.com', '*.herbalife.lv', '*.myherbalife.cn', 'herbalifeevents.com', '*.goherbalifenow.com', '*.herbalife.nl', 'herbalifevacations.com', 'www.herbalifefptr.com', '*.herbalife-aruba.com', '*.goherbalife.co.kr', 'herbalifeextravaganza.com', '*.herbalife-jamaica.com', '*.herbalife.pl', '*.goherbalife.nl', '*.herbalife.ro', 'www.herbalifeevents.com', '*.goherbalife.com', '*.herbalifeserbia.com', '*.visiteherbalife.com', '*.visiteherbalife.com.br', 'herbalifeldw.com', '*.goherbalife.de', '*.herbalife.se', 'www.herbalifeldw.com', 'www.herbalifevacations.com', 'www.herbalifeextravaganza.com', '*.herbalife.no', '*.herbalife.pt', '*.goherbalife.it', '*.herbalifenutrition.com', '*.herbalife.hu', '*.herbalife.com', '*.herbalife.it', 'herbalifefptr.com', '*.herbalife.cn', '*.herbalife.hr', 'herbalifenutrition.com'\")))\n",
      "https://cleopatrahotel.co.id <Response [200]>\n",
      "https://ebookmahasiswa.com HTTPSConnectionPool(host='ebookmahasiswa.com', port=443): Max retries exceeded with url: / (Caused by NewConnectionError('<urllib3.connection.VerifiedHTTPSConnection object at 0x000001E6B2072D48>: Failed to establish a new connection: [Errno 11001] getaddrinfo failed'))\n",
      "https://a7pro.id HTTPSConnectionPool(host='a7pro.id', port=443): Max retries exceeded with url: / (Caused by SSLError(SSLCertVerificationError(1, '[SSL: CERTIFICATE_VERIFY_FAILED] certificate verify failed: unable to get local issuer certificate (_ssl.c:1076)')))\n",
      "https://www.jeggerstore.com/ HTTPSConnectionPool(host='www.jeggerstore.com', port=443): Max retries exceeded with url: / (Caused by NewConnectionError('<urllib3.connection.VerifiedHTTPSConnection object at 0x000001E6B2072888>: Failed to establish a new connection: [Errno 11001] getaddrinfo failed'))\n"
     ]
    },
    {
     "name": "stdout",
     "output_type": "stream",
     "text": [
      "Coier.co <Response [409]>\n",
      "https://kitchenited.com HTTPSConnectionPool(host='kitchenited.com', port=443): Max retries exceeded with url: / (Caused by NewConnectionError('<urllib3.connection.VerifiedHTTPSConnection object at 0x000001E6B206D788>: Failed to establish a new connection: [WinError 10060] A connection attempt failed because the connected party did not properly respond after a period of time, or established connection failed because connected host has failed to respond'))\n",
      "http://ichveps.org/ <Response [200]>\n",
      "https://guesthouse.waroengdiggers.com HTTPSConnectionPool(host='guesthouse.waroengdiggers.com', port=443): Max retries exceeded with url: / (Caused by SSLError(SSLCertVerificationError(1, '[SSL: CERTIFICATE_VERIFY_FAILED] certificate verify failed: certificate has expired (_ssl.c:1076)')))\n",
      "Frameprint.archiola.com HTTPConnectionPool(host='frameprint.archiola.com', port=80): Max retries exceeded with url: / (Caused by NewConnectionError('<urllib3.connection.HTTPConnection object at 0x000001E6B20618C8>: Failed to establish a new connection: [Errno 11001] getaddrinfo failed'))\n",
      "www.cobatelur.com HTTPConnectionPool(host='www.cobatelur.com', port=80): Max retries exceeded with url: / (Caused by NewConnectionError('<urllib3.connection.HTTPConnection object at 0x000001E6B2061208>: Failed to establish a new connection: [Errno 11002] getaddrinfo failed'))\n",
      "https://www.manulife.co.id <Response [200]>\n",
      "https://dagangbareng.com HTTPSConnectionPool(host='dagangbareng.com', port=443): Max retries exceeded with url: / (Caused by NewConnectionError('<urllib3.connection.VerifiedHTTPSConnection object at 0x000001E6B20657C8>: Failed to establish a new connection: [Errno 11002] getaddrinfo failed'))\n",
      "https://anantostore.com HTTPSConnectionPool(host='anantostore.com', port=443): Max retries exceeded with url: / (Caused by NewConnectionError('<urllib3.connection.VerifiedHTTPSConnection object at 0x000001E6B2065C48>: Failed to establish a new connection: [Errno 11001] getaddrinfo failed'))\n",
      "https://mysneakercollective.com/ HTTPSConnectionPool(host='mysneakercollective.com', port=443): Max retries exceeded with url: / (Caused by SSLError(SSLCertVerificationError(\"hostname 'mysneakercollective.com' doesn't match either of 'myshopify.com', '*.myshopify.com'\")))\n",
      "https://makassarelektro.com HTTPSConnectionPool(host='makassarelektro.com', port=443): Max retries exceeded with url: / (Caused by NewConnectionError('<urllib3.connection.VerifiedHTTPSConnection object at 0x000001E6B2065A08>: Failed to establish a new connection: [WinError 10060] A connection attempt failed because the connected party did not properly respond after a period of time, or established connection failed because connected host has failed to respond'))\n",
      "http://www.itemar.net HTTPConnectionPool(host='www.itemar.net', port=80): Max retries exceeded with url: / (Caused by NewConnectionError('<urllib3.connection.HTTPConnection object at 0x000001E6B207D188>: Failed to establish a new connection: [Errno 11001] getaddrinfo failed'))\n",
      "https://poocheveryday.com HTTPSConnectionPool(host='poocheveryday.com', port=443): Max retries exceeded with url: / (Caused by NewConnectionError('<urllib3.connection.VerifiedHTTPSConnection object at 0x000001E6B2065608>: Failed to establish a new connection: [Errno 11001] getaddrinfo failed'))\n",
      "http://www.soxysocky.com HTTPConnectionPool(host='www.soxysocky.com', port=80): Max retries exceeded with url: / (Caused by NewConnectionError('<urllib3.connection.HTTPConnection object at 0x000001E6B2061808>: Failed to establish a new connection: [Errno 11001] getaddrinfo failed'))\n",
      "https://www.tokosepeda.com HTTPSConnectionPool(host='www.tokosepeda.com', port=443): Max retries exceeded with url: / (Caused by NewConnectionError('<urllib3.connection.VerifiedHTTPSConnection object at 0x000001E6B2065048>: Failed to establish a new connection: [Errno 11002] getaddrinfo failed'))\n",
      "https://www.baijan.co.id HTTPSConnectionPool(host='www.baijan.co.id', port=443): Max retries exceeded with url: / (Caused by NewConnectionError('<urllib3.connection.VerifiedHTTPSConnection object at 0x000001E6B2065C88>: Failed to establish a new connection: [Errno 11001] getaddrinfo failed'))\n",
      "www.bnitapcash.com HTTPConnectionPool(host='www.bnitapcash.com', port=80): Max retries exceeded with url: / (Caused by NewConnectionError('<urllib3.connection.HTTPConnection object at 0x000001E6B2065648>: Failed to establish a new connection: [Errno 11001] getaddrinfo failed'))\n",
      "https://ikanasin.top HTTPSConnectionPool(host='ikanasin.top', port=443): Max retries exceeded with url: / (Caused by NewConnectionError('<urllib3.connection.VerifiedHTTPSConnection object at 0x000001E6B20612C8>: Failed to establish a new connection: [Errno 11001] getaddrinfo failed'))\n",
      "https://a7pro.id HTTPSConnectionPool(host='a7pro.id', port=443): Max retries exceeded with url: / (Caused by SSLError(SSLCertVerificationError(1, '[SSL: CERTIFICATE_VERIFY_FAILED] certificate verify failed: unable to get local issuer certificate (_ssl.c:1076)')))\n",
      "https://malukutrade.com HTTPSConnectionPool(host='malukutrade.com', port=443): Max retries exceeded with url: / (Caused by SSLError(SSLError(1, '[SSL: TLSV1_ALERT_INTERNAL_ERROR] tlsv1 alert internal error (_ssl.c:1076)')))\n",
      "http://www.bandung.gausahbayar.com HTTPConnectionPool(host='www.bandung.gausahbayar.com', port=80): Max retries exceeded with url: / (Caused by NewConnectionError('<urllib3.connection.HTTPConnection object at 0x000001E6B2065E88>: Failed to establish a new connection: [Errno 11001] getaddrinfo failed'))\n",
      "http://www.kattoen.id/ <Response [200]>\n",
      "https://www.myarrum.com HTTPSConnectionPool(host='www.myarrum.com', port=443): Max retries exceeded with url: / (Caused by NewConnectionError('<urllib3.connection.VerifiedHTTPSConnection object at 0x000001E6B2061388>: Failed to establish a new connection: [Errno 11001] getaddrinfo failed'))\n",
      "http://www.letsgo4biggerworldbusiness.com <Response [200]>\n",
      "https://tokobalita.co.id HTTPSConnectionPool(host='tokobalita.co.id', port=443): Max retries exceeded with url: / (Caused by NewConnectionError('<urllib3.connection.VerifiedHTTPSConnection object at 0x000001E6B207DAC8>: Failed to establish a new connection: [Errno 11001] getaddrinfo failed'))\n",
      "http://www.dietkopihijau.com HTTPConnectionPool(host='www.dietkopihijau.com', port=80): Max retries exceeded with url: / (Caused by NewConnectionError('<urllib3.connection.HTTPConnection object at 0x000001E6B207DD88>: Failed to establish a new connection: [Errno 11001] getaddrinfo failed'))\n",
      "http://www.minoroprecuts.com <Response [200]>\n",
      "https://www.kioskorea.com HTTPSConnectionPool(host='www.kioskorea.com', port=443): Max retries exceeded with url: / (Caused by SSLError(SSLCertVerificationError(\"hostname 'www.kioskorea.com' doesn't match 'kioskorea.com'\")))\n",
      "https://www.pustakasirah.co.id/ HTTPSConnectionPool(host='www.pustakasirah.co.id', port=443): Max retries exceeded with url: / (Caused by NewConnectionError('<urllib3.connection.VerifiedHTTPSConnection object at 0x000001E6B207D648>: Failed to establish a new connection: [Errno 11001] getaddrinfo failed'))\n",
      "https://www.edumart.id/ HTTPSConnectionPool(host='www.edumart.id', port=443): Max retries exceeded with url: / (Caused by NewConnectionError('<urllib3.connection.VerifiedHTTPSConnection object at 0x000001E6B207DBC8>: Failed to establish a new connection: [Errno 11001] getaddrinfo failed'))\n",
      "http://dhiyatest.com HTTPConnectionPool(host='dhiyatest.com', port=80): Max retries exceeded with url: / (Caused by NewConnectionError('<urllib3.connection.HTTPConnection object at 0x000001E6B20773C8>: Failed to establish a new connection: [Errno 11001] getaddrinfo failed'))\n",
      "https://kraftnik.com HTTPSConnectionPool(host='kraftnik.com', port=443): Max retries exceeded with url: / (Caused by NewConnectionError('<urllib3.connection.VerifiedHTTPSConnection object at 0x000001E6B207D248>: Failed to establish a new connection: [Errno 11001] getaddrinfo failed'))\n",
      "http://www.orishop.id/ HTTPConnectionPool(host='www.orishop.id', port=80): Max retries exceeded with url: / (Caused by NewConnectionError('<urllib3.connection.HTTPConnection object at 0x000001E6B20774C8>: Failed to establish a new connection: [Errno 11001] getaddrinfo failed'))\n",
      "https://gayamu.id HTTPSConnectionPool(host='gayamu.id', port=443): Max retries exceeded with url: / (Caused by NewConnectionError('<urllib3.connection.VerifiedHTTPSConnection object at 0x000001E6B207DA88>: Failed to establish a new connection: [Errno 11001] getaddrinfo failed'))\n"
     ]
    },
    {
     "name": "stdout",
     "output_type": "stream",
     "text": [
      "http://hushhobbies.co HTTPConnectionPool(host='hushhobbies.co', port=80): Max retries exceeded with url: / (Caused by NewConnectionError('<urllib3.connection.HTTPConnection object at 0x000001E6B2077808>: Failed to establish a new connection: [Errno 11001] getaddrinfo failed'))\n",
      "https://shop.sapicow.com HTTPSConnectionPool(host='shop.sapicow.com', port=443): Max retries exceeded with url: / (Caused by NewConnectionError('<urllib3.connection.VerifiedHTTPSConnection object at 0x000001E6B207DB08>: Failed to establish a new connection: [Errno 11001] getaddrinfo failed'))\n",
      "https://aphroditeindonesia.com HTTPSConnectionPool(host='aphroditeindonesia.com', port=443): Max retries exceeded with url: / (Caused by NewConnectionError('<urllib3.connection.VerifiedHTTPSConnection object at 0x000001E6B2077A88>: Failed to establish a new connection: [Errno 11001] getaddrinfo failed'))\n",
      "https://www.asamax.com/ HTTPSConnectionPool(host='www.asamax.com', port=443): Max retries exceeded with url: / (Caused by NewConnectionError('<urllib3.connection.VerifiedHTTPSConnection object at 0x000001E6B207D9C8>: Failed to establish a new connection: [WinError 10060] A connection attempt failed because the connected party did not properly respond after a period of time, or established connection failed because connected host has failed to respond'))\n",
      "http://www.buatkueyuk.com HTTPSConnectionPool(host='www.buatkueyuk.com', port=443): Max retries exceeded with url: / (Caused by SSLError(SSLCertVerificationError(\"hostname 'www.buatkueyuk.com' doesn't match either of 'myshopify.com', '*.myshopify.com'\")))\n",
      "https://www.unclepandastore.com HTTPSConnectionPool(host='www.unclepandastore.com', port=443): Max retries exceeded with url: / (Caused by NewConnectionError('<urllib3.connection.VerifiedHTTPSConnection object at 0x000001E6B2077888>: Failed to establish a new connection: [Errno 11001] getaddrinfo failed'))\n",
      "https://www.t-lessfashion.com HTTPSConnectionPool(host='www.t-lessfashion.com', port=443): Max retries exceeded with url: / (Caused by NewConnectionError('<urllib3.connection.VerifiedHTTPSConnection object at 0x000001E6B2077F88>: Failed to establish a new connection: [Errno 11001] getaddrinfo failed'))\n",
      "https://www.glowi.id HTTPSConnectionPool(host='www.glowi.id', port=443): Max retries exceeded with url: / (Caused by NewConnectionError('<urllib3.connection.VerifiedHTTPSConnection object at 0x000001E6B2077788>: Failed to establish a new connection: [Errno 11001] getaddrinfo failed'))\n",
      "http://www.valettashop.com HTTPConnectionPool(host='www.valettashop.com', port=80): Max retries exceeded with url: / (Caused by NewConnectionError('<urllib3.connection.HTTPConnection object at 0x000001E6B2072388>: Failed to establish a new connection: [Errno 11002] getaddrinfo failed'))\n",
      "https://sporthelmet.site/ HTTPSConnectionPool(host='sporthelmet.site', port=443): Max retries exceeded with url: / (Caused by NewConnectionError('<urllib3.connection.VerifiedHTTPSConnection object at 0x000001E6B2077348>: Failed to establish a new connection: [Errno 11001] getaddrinfo failed'))\n",
      "http://www.indovies.com HTTPConnectionPool(host='www.indovies.com', port=80): Max retries exceeded with url: / (Caused by NewConnectionError('<urllib3.connection.HTTPConnection object at 0x000001E6B2072E88>: Failed to establish a new connection: [Errno 11001] getaddrinfo failed'))\n",
      "https://www.authenticsimply.com/ HTTPSConnectionPool(host='www.authenticsimply.com', port=443): Max retries exceeded with url: / (Caused by NewConnectionError('<urllib3.connection.VerifiedHTTPSConnection object at 0x000001E6B20726C8>: Failed to establish a new connection: [Errno 11001] getaddrinfo failed'))\n"
     ]
    }
   ],
   "source": [
    "import requests\n",
    "for website in anomaly_df['website'].values:\n",
    "    try:\n",
    "        print(website + \" \" + str(requests.get(url_format_handler(website))))\n",
    "    except Exception as e:\n",
    "        print(website + \" \" + str(e))"
   ]
  },
  {
   "cell_type": "code",
   "execution_count": 12,
   "metadata": {},
   "outputs": [
    {
     "data": {
      "text/plain": [
       "(45, 5)"
      ]
     },
     "execution_count": 12,
     "metadata": {},
     "output_type": "execute_result"
    }
   ],
   "source": [
    "anomaly_df.shape"
   ]
  },
  {
   "cell_type": "code",
   "execution_count": 14,
   "metadata": {},
   "outputs": [],
   "source": [
    "## Remove anomaly\n",
    "processed_df = all_df[~all_df['website'].isin(anomaly_df['website'])]"
   ]
  },
  {
   "cell_type": "code",
   "execution_count": 29,
   "metadata": {
    "scrolled": true
   },
   "outputs": [
    {
     "data": {
      "text/html": [
       "<div>\n",
       "<style scoped>\n",
       "    .dataframe tbody tr th:only-of-type {\n",
       "        vertical-align: middle;\n",
       "    }\n",
       "\n",
       "    .dataframe tbody tr th {\n",
       "        vertical-align: top;\n",
       "    }\n",
       "\n",
       "    .dataframe thead th {\n",
       "        text-align: right;\n",
       "    }\n",
       "</style>\n",
       "<table border=\"1\" class=\"dataframe\">\n",
       "  <thead>\n",
       "    <tr style=\"text-align: right;\">\n",
       "      <th></th>\n",
       "      <th>merchant_name</th>\n",
       "      <th>broken_link_score</th>\n",
       "      <th>link_contact_us_exist</th>\n",
       "      <th>cu_email_exist</th>\n",
       "      <th>cu_phone_number_exist</th>\n",
       "      <th>link_about_us_exist</th>\n",
       "      <th>link_tnc_exist</th>\n",
       "      <th>tnc_refund_policy_exist</th>\n",
       "      <th>contact_us_score</th>\n",
       "      <th>tnc_score</th>\n",
       "      <th>broken_links</th>\n",
       "      <th>website</th>\n",
       "      <th>label</th>\n",
       "    </tr>\n",
       "  </thead>\n",
       "  <tbody>\n",
       "    <tr>\n",
       "      <th>0</th>\n",
       "      <td>CV.ASIATRIPINDONESIA</td>\n",
       "      <td>0.0</td>\n",
       "      <td>1.0</td>\n",
       "      <td>1.0</td>\n",
       "      <td>1.0</td>\n",
       "      <td>0.0</td>\n",
       "      <td>1.0</td>\n",
       "      <td>1.0</td>\n",
       "      <td>100.0</td>\n",
       "      <td>100.0</td>\n",
       "      <td>{}</td>\n",
       "      <td>http://asiatrip.id/</td>\n",
       "      <td>APPROVED</td>\n",
       "    </tr>\n",
       "    <tr>\n",
       "      <th>1</th>\n",
       "      <td>Pt.BloomingLotusYoga</td>\n",
       "      <td>0.0</td>\n",
       "      <td>1.0</td>\n",
       "      <td>1.0</td>\n",
       "      <td>1.0</td>\n",
       "      <td>1.0</td>\n",
       "      <td>1.0</td>\n",
       "      <td>0.0</td>\n",
       "      <td>100.0</td>\n",
       "      <td>0.0</td>\n",
       "      <td>{}</td>\n",
       "      <td>https://www.blooming-lotus-yoga.com</td>\n",
       "      <td>APPROVED</td>\n",
       "    </tr>\n",
       "    <tr>\n",
       "      <th>2</th>\n",
       "      <td>YayasanGreenSejahtera</td>\n",
       "      <td>0.0</td>\n",
       "      <td>1.0</td>\n",
       "      <td>1.0</td>\n",
       "      <td>1.0</td>\n",
       "      <td>1.0</td>\n",
       "      <td>1.0</td>\n",
       "      <td>1.0</td>\n",
       "      <td>100.0</td>\n",
       "      <td>100.0</td>\n",
       "      <td>{}</td>\n",
       "      <td>https://greensejahterafoundation.com/</td>\n",
       "      <td>APPROVED</td>\n",
       "    </tr>\n",
       "    <tr>\n",
       "      <th>3</th>\n",
       "      <td>PTMatairTerraSolusi</td>\n",
       "      <td>0.0</td>\n",
       "      <td>0.0</td>\n",
       "      <td>0.0</td>\n",
       "      <td>0.0</td>\n",
       "      <td>1.0</td>\n",
       "      <td>0.0</td>\n",
       "      <td>0.0</td>\n",
       "      <td>0.0</td>\n",
       "      <td>0.0</td>\n",
       "      <td>{}</td>\n",
       "      <td>http://www.matair.co.id</td>\n",
       "      <td>APPROVED</td>\n",
       "    </tr>\n",
       "    <tr>\n",
       "      <th>4</th>\n",
       "      <td>SimplyMii</td>\n",
       "      <td>0.0</td>\n",
       "      <td>1.0</td>\n",
       "      <td>0.0</td>\n",
       "      <td>1.0</td>\n",
       "      <td>0.0</td>\n",
       "      <td>0.0</td>\n",
       "      <td>0.0</td>\n",
       "      <td>50.0</td>\n",
       "      <td>0.0</td>\n",
       "      <td>{}</td>\n",
       "      <td>https://www.simplymii.com/</td>\n",
       "      <td>APPROVED</td>\n",
       "    </tr>\n",
       "  </tbody>\n",
       "</table>\n",
       "</div>"
      ],
      "text/plain": [
       "           merchant_name  broken_link_score  link_contact_us_exist  \\\n",
       "0   CV.ASIATRIPINDONESIA                0.0                    1.0   \n",
       "1   Pt.BloomingLotusYoga                0.0                    1.0   \n",
       "2  YayasanGreenSejahtera                0.0                    1.0   \n",
       "3    PTMatairTerraSolusi                0.0                    0.0   \n",
       "4              SimplyMii                0.0                    1.0   \n",
       "\n",
       "   cu_email_exist  cu_phone_number_exist  link_about_us_exist  link_tnc_exist  \\\n",
       "0             1.0                    1.0                  0.0             1.0   \n",
       "1             1.0                    1.0                  1.0             1.0   \n",
       "2             1.0                    1.0                  1.0             1.0   \n",
       "3             0.0                    0.0                  1.0             0.0   \n",
       "4             0.0                    1.0                  0.0             0.0   \n",
       "\n",
       "   tnc_refund_policy_exist  contact_us_score  tnc_score broken_links  \\\n",
       "0                      1.0             100.0      100.0           {}   \n",
       "1                      0.0             100.0        0.0           {}   \n",
       "2                      1.0             100.0      100.0           {}   \n",
       "3                      0.0               0.0        0.0           {}   \n",
       "4                      0.0              50.0        0.0           {}   \n",
       "\n",
       "                                 website     label  \n",
       "0                    http://asiatrip.id/  APPROVED  \n",
       "1    https://www.blooming-lotus-yoga.com  APPROVED  \n",
       "2  https://greensejahterafoundation.com/  APPROVED  \n",
       "3                http://www.matair.co.id  APPROVED  \n",
       "4             https://www.simplymii.com/  APPROVED  "
      ]
     },
     "execution_count": 29,
     "metadata": {},
     "output_type": "execute_result"
    }
   ],
   "source": [
    "processed_df.head()"
   ]
  },
  {
   "cell_type": "code",
   "execution_count": 30,
   "metadata": {},
   "outputs": [
    {
     "data": {
      "text/html": [
       "<div>\n",
       "<style scoped>\n",
       "    .dataframe tbody tr th:only-of-type {\n",
       "        vertical-align: middle;\n",
       "    }\n",
       "\n",
       "    .dataframe tbody tr th {\n",
       "        vertical-align: top;\n",
       "    }\n",
       "\n",
       "    .dataframe thead tr th {\n",
       "        text-align: left;\n",
       "    }\n",
       "\n",
       "    .dataframe thead tr:last-of-type th {\n",
       "        text-align: right;\n",
       "    }\n",
       "</style>\n",
       "<table border=\"1\" class=\"dataframe\">\n",
       "  <thead>\n",
       "    <tr>\n",
       "      <th></th>\n",
       "      <th colspan=\"8\" halign=\"left\">broken_link_score</th>\n",
       "    </tr>\n",
       "    <tr>\n",
       "      <th></th>\n",
       "      <th>count</th>\n",
       "      <th>mean</th>\n",
       "      <th>std</th>\n",
       "      <th>min</th>\n",
       "      <th>25%</th>\n",
       "      <th>50%</th>\n",
       "      <th>75%</th>\n",
       "      <th>max</th>\n",
       "    </tr>\n",
       "    <tr>\n",
       "      <th>label</th>\n",
       "      <th></th>\n",
       "      <th></th>\n",
       "      <th></th>\n",
       "      <th></th>\n",
       "      <th></th>\n",
       "      <th></th>\n",
       "      <th></th>\n",
       "      <th></th>\n",
       "    </tr>\n",
       "  </thead>\n",
       "  <tbody>\n",
       "    <tr>\n",
       "      <th>APPROVED</th>\n",
       "      <td>150.0</td>\n",
       "      <td>3.000000</td>\n",
       "      <td>9.536226</td>\n",
       "      <td>0.0</td>\n",
       "      <td>0.0</td>\n",
       "      <td>0.0</td>\n",
       "      <td>0.0</td>\n",
       "      <td>60.0</td>\n",
       "    </tr>\n",
       "    <tr>\n",
       "      <th>REJECTED</th>\n",
       "      <td>21.0</td>\n",
       "      <td>39.682540</td>\n",
       "      <td>49.011391</td>\n",
       "      <td>0.0</td>\n",
       "      <td>0.0</td>\n",
       "      <td>0.0</td>\n",
       "      <td>100.0</td>\n",
       "      <td>100.0</td>\n",
       "    </tr>\n",
       "    <tr>\n",
       "      <th>REVIEWED</th>\n",
       "      <td>14.0</td>\n",
       "      <td>58.571429</td>\n",
       "      <td>49.901001</td>\n",
       "      <td>0.0</td>\n",
       "      <td>0.0</td>\n",
       "      <td>100.0</td>\n",
       "      <td>100.0</td>\n",
       "      <td>100.0</td>\n",
       "    </tr>\n",
       "  </tbody>\n",
       "</table>\n",
       "</div>"
      ],
      "text/plain": [
       "         broken_link_score                                                \\\n",
       "                     count       mean        std  min  25%    50%    75%   \n",
       "label                                                                      \n",
       "APPROVED             150.0   3.000000   9.536226  0.0  0.0    0.0    0.0   \n",
       "REJECTED              21.0  39.682540  49.011391  0.0  0.0    0.0  100.0   \n",
       "REVIEWED              14.0  58.571429  49.901001  0.0  0.0  100.0  100.0   \n",
       "\n",
       "                 \n",
       "            max  \n",
       "label            \n",
       "APPROVED   60.0  \n",
       "REJECTED  100.0  \n",
       "REVIEWED  100.0  "
      ]
     },
     "execution_count": 30,
     "metadata": {},
     "output_type": "execute_result"
    }
   ],
   "source": [
    "processed_df[['broken_link_score', 'label']].groupby(\"label\").describe()"
   ]
  },
  {
   "cell_type": "code",
   "execution_count": 31,
   "metadata": {},
   "outputs": [
    {
     "data": {
      "image/png": "[encoded data removed]",
      "text/plain": [
       "<Figure size 1440x360 with 1 Axes>"
      ]
     },
     "metadata": {
      "needs_background": "light"
     },
     "output_type": "display_data"
    },
    {
     "data": {
      "image/png": "[encoded data removed]",
      "text/plain": [
       "<Figure size 1440x360 with 1 Axes>"
      ]
     },
     "metadata": {
      "needs_background": "light"
     },
     "output_type": "display_data"
    },
    {
     "data": {
      "image/png": "[encoded data removed]",
      "text/plain": [
       "<Figure size 1440x360 with 1 Axes>"
      ]
     },
     "metadata": {
      "needs_background": "light"
     },
     "output_type": "display_data"
    },
    {
     "data": {
      "image/png": "[encoded data removed]",
      "text/plain": [
       "<Figure size 1440x360 with 1 Axes>"
      ]
     },
     "metadata": {
      "needs_background": "light"
     },
     "output_type": "display_data"
    },
    {
     "data": {
      "image/png": "[encoded data removed]",
      "text/plain": [
       "<Figure size 1440x360 with 1 Axes>"
      ]
     },
     "metadata": {
      "needs_background": "light"
     },
     "output_type": "display_data"
    },
    {
     "data": {
      "image/png": "[encoded data removed]",
      "text/plain": [
       "<Figure size 1440x360 with 1 Axes>"
      ]
     },
     "metadata": {
      "needs_background": "light"
     },
     "output_type": "display_data"
    },
    {
     "data": {
      "image/png": "[encoded data removed]",
      "text/plain": [
       "<Figure size 1440x360 with 1 Axes>"
      ]
     },
     "metadata": {
      "needs_background": "light"
     },
     "output_type": "display_data"
    },
    {
     "data": {
      "image/png": "[encoded data removed]",
      "text/plain": [
       "<Figure size 1440x360 with 1 Axes>"
      ]
     },
     "metadata": {
      "needs_background": "light"
     },
     "output_type": "display_data"
    },
    {
     "data": {
      "image/png": "[encoded data removed]",
      "text/plain": [
       "<Figure size 1440x360 with 1 Axes>"
      ]
     },
     "metadata": {
      "needs_background": "light"
     },
     "output_type": "display_data"
    }
   ],
   "source": [
    "for column in processed_df.columns.values:\n",
    "    if column == 'website' or column == 'broken_links' or column == 'merchant_name' or column == 'label':\n",
    "        continue\n",
    "    plt.figure(figsize=(20, 5))\n",
    "    sns.distplot(processed_df[processed_df.label == 'APPROVED'][column], label='APPROVED', kde=False)\n",
    "    sns.distplot(processed_df[processed_df.label == 'REJECTED'][column], label='REJECTED', kde=False)\n",
    "    plt.legend()\n",
    "    plt.show()"
   ]
  }
 ],
 "metadata": {
  "kernelspec": {
   "display_name": "Python 3",
   "language": "python",
   "name": "python3"
  },
  "language_info": {
   "codemirror_mode": {
    "name": "ipython",
    "version": 3
   },
   "file_extension": ".py",
   "mimetype": "text/x-python",
   "name": "python",
   "nbconvert_exporter": "python",
   "pygments_lexer": "ipython3",
   "version": "3.7.6"
  }
 },
 "nbformat": 4,
 "nbformat_minor": 4
}
