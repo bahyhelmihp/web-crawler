{
 "cells": [
  {
   "cell_type": "code",
   "execution_count": 1,
   "metadata": {},
   "outputs": [],
   "source": [
    "import pandas as pd\n",
    "import matplotlib.pyplot as plt\n",
    "import seaborn as sns"
   ]
  },
  {
   "cell_type": "markdown",
   "metadata": {},
   "source": [
    "## Input"
   ]
  },
  {
   "cell_type": "code",
   "execution_count": 2,
   "metadata": {},
   "outputs": [],
   "source": [
    "input_df = pd.read_csv(\"merchants_cleaned.csv\")"
   ]
  },
  {
   "cell_type": "markdown",
   "metadata": {},
   "source": [
    "input_df.shape"
   ]
  },
  {
   "cell_type": "markdown",
   "metadata": {},
   "source": [
    "stripped_url = input_df['website'].apply(lambda x: str(x).replace(\" \", \"\"))"
   ]
  },
  {
   "cell_type": "markdown",
   "metadata": {},
   "source": [
    "stripped_url"
   ]
  },
  {
   "cell_type": "markdown",
   "metadata": {},
   "source": [
    "stripped_name = input_df['merchant_name'].apply(lambda x: str(x).replace(\" \", \"\"))"
   ]
  },
  {
   "cell_type": "markdown",
   "metadata": {},
   "source": [
    "stripped_name"
   ]
  },
  {
   "cell_type": "markdown",
   "metadata": {},
   "source": [
    "input_df['website'] = stripped_url\n",
    "input_df['merchant_name'] = stripped_name"
   ]
  },
  {
   "cell_type": "markdown",
   "metadata": {},
   "source": [
    "input_df.to_csv(\"merchants_cleaned_stripped.csv\")"
   ]
  },
  {
   "cell_type": "markdown",
   "metadata": {},
   "source": [
    "## Results All"
   ]
  },
  {
   "cell_type": "code",
   "execution_count": 3,
   "metadata": {},
   "outputs": [],
   "source": [
    "all_df = pd.concat([pd.read_csv(\"results_all.csv\"), pd.read_csv(\"results_all_2.csv\")])"
   ]
  },
  {
   "cell_type": "code",
   "execution_count": 4,
   "metadata": {},
   "outputs": [],
   "source": [
    "all_df = all_df.iloc[:,1:]"
   ]
  },
  {
   "cell_type": "code",
   "execution_count": 5,
   "metadata": {},
   "outputs": [
    {
     "data": {
      "text/plain": [
       "(456, 13)"
      ]
     },
     "execution_count": 5,
     "metadata": {},
     "output_type": "execute_result"
    }
   ],
   "source": [
    "all_df.shape"
   ]
  },
  {
   "cell_type": "code",
   "execution_count": 6,
   "metadata": {},
   "outputs": [
    {
     "data": {
      "text/html": [
       "<div>\n",
       "<style scoped>\n",
       "    .dataframe tbody tr th:only-of-type {\n",
       "        vertical-align: middle;\n",
       "    }\n",
       "\n",
       "    .dataframe tbody tr th {\n",
       "        vertical-align: top;\n",
       "    }\n",
       "\n",
       "    .dataframe thead th {\n",
       "        text-align: right;\n",
       "    }\n",
       "</style>\n",
       "<table border=\"1\" class=\"dataframe\">\n",
       "  <thead>\n",
       "    <tr style=\"text-align: right;\">\n",
       "      <th></th>\n",
       "      <th>merchant_name</th>\n",
       "      <th>broken_link_score</th>\n",
       "      <th>link_contact_us_exist</th>\n",
       "      <th>cu_email_exist</th>\n",
       "      <th>cu_phone_number_exist</th>\n",
       "      <th>link_about_us_exist</th>\n",
       "      <th>link_tnc_exist</th>\n",
       "      <th>tnc_refund_policy_exist</th>\n",
       "      <th>contact_us_score</th>\n",
       "      <th>tnc_score</th>\n",
       "      <th>broken_links</th>\n",
       "      <th>website</th>\n",
       "      <th>label</th>\n",
       "    </tr>\n",
       "  </thead>\n",
       "  <tbody>\n",
       "    <tr>\n",
       "      <th>0</th>\n",
       "      <td>CV.ASIATRIPINDONESIA</td>\n",
       "      <td>0.0</td>\n",
       "      <td>1.0</td>\n",
       "      <td>1.0</td>\n",
       "      <td>1.0</td>\n",
       "      <td>0.0</td>\n",
       "      <td>1.0</td>\n",
       "      <td>1.0</td>\n",
       "      <td>100.0</td>\n",
       "      <td>100.0</td>\n",
       "      <td>{}</td>\n",
       "      <td>http://asiatrip.id/</td>\n",
       "      <td>APPROVED</td>\n",
       "    </tr>\n",
       "    <tr>\n",
       "      <th>1</th>\n",
       "      <td>Pt.BloomingLotusYoga</td>\n",
       "      <td>0.0</td>\n",
       "      <td>1.0</td>\n",
       "      <td>1.0</td>\n",
       "      <td>1.0</td>\n",
       "      <td>1.0</td>\n",
       "      <td>1.0</td>\n",
       "      <td>0.0</td>\n",
       "      <td>100.0</td>\n",
       "      <td>0.0</td>\n",
       "      <td>{}</td>\n",
       "      <td>https://www.blooming-lotus-yoga.com</td>\n",
       "      <td>APPROVED</td>\n",
       "    </tr>\n",
       "    <tr>\n",
       "      <th>2</th>\n",
       "      <td>YayasanGreenSejahtera</td>\n",
       "      <td>0.0</td>\n",
       "      <td>1.0</td>\n",
       "      <td>1.0</td>\n",
       "      <td>1.0</td>\n",
       "      <td>1.0</td>\n",
       "      <td>1.0</td>\n",
       "      <td>1.0</td>\n",
       "      <td>100.0</td>\n",
       "      <td>100.0</td>\n",
       "      <td>{}</td>\n",
       "      <td>https://greensejahterafoundation.com/</td>\n",
       "      <td>APPROVED</td>\n",
       "    </tr>\n",
       "    <tr>\n",
       "      <th>3</th>\n",
       "      <td>PTMatairTerraSolusi</td>\n",
       "      <td>0.0</td>\n",
       "      <td>0.0</td>\n",
       "      <td>0.0</td>\n",
       "      <td>0.0</td>\n",
       "      <td>1.0</td>\n",
       "      <td>0.0</td>\n",
       "      <td>0.0</td>\n",
       "      <td>0.0</td>\n",
       "      <td>0.0</td>\n",
       "      <td>{}</td>\n",
       "      <td>http://www.matair.co.id</td>\n",
       "      <td>APPROVED</td>\n",
       "    </tr>\n",
       "    <tr>\n",
       "      <th>4</th>\n",
       "      <td>SimplyMii</td>\n",
       "      <td>0.0</td>\n",
       "      <td>1.0</td>\n",
       "      <td>0.0</td>\n",
       "      <td>1.0</td>\n",
       "      <td>0.0</td>\n",
       "      <td>0.0</td>\n",
       "      <td>0.0</td>\n",
       "      <td>50.0</td>\n",
       "      <td>0.0</td>\n",
       "      <td>{}</td>\n",
       "      <td>https://www.simplymii.com/</td>\n",
       "      <td>APPROVED</td>\n",
       "    </tr>\n",
       "    <tr>\n",
       "      <th>...</th>\n",
       "      <td>...</td>\n",
       "      <td>...</td>\n",
       "      <td>...</td>\n",
       "      <td>...</td>\n",
       "      <td>...</td>\n",
       "      <td>...</td>\n",
       "      <td>...</td>\n",
       "      <td>...</td>\n",
       "      <td>...</td>\n",
       "      <td>...</td>\n",
       "      <td>...</td>\n",
       "      <td>...</td>\n",
       "      <td>...</td>\n",
       "    </tr>\n",
       "    <tr>\n",
       "      <th>221</th>\n",
       "      <td>Yskosmetik</td>\n",
       "      <td>10.0</td>\n",
       "      <td>1.0</td>\n",
       "      <td>1.0</td>\n",
       "      <td>1.0</td>\n",
       "      <td>1.0</td>\n",
       "      <td>0.0</td>\n",
       "      <td>0.0</td>\n",
       "      <td>100.0</td>\n",
       "      <td>0.0</td>\n",
       "      <td>{'https://quadlayers.com/portfolio/wordpress-w...</td>\n",
       "      <td>Www.smm4us.co.id</td>\n",
       "      <td>REVIEWED</td>\n",
       "    </tr>\n",
       "    <tr>\n",
       "      <th>222</th>\n",
       "      <td>ARMYsOutfit</td>\n",
       "      <td>0.0</td>\n",
       "      <td>1.0</td>\n",
       "      <td>0.0</td>\n",
       "      <td>0.0</td>\n",
       "      <td>1.0</td>\n",
       "      <td>0.0</td>\n",
       "      <td>0.0</td>\n",
       "      <td>0.0</td>\n",
       "      <td>0.0</td>\n",
       "      <td>{}</td>\n",
       "      <td>www.armysoutfit.com</td>\n",
       "      <td>REJECTED</td>\n",
       "    </tr>\n",
       "    <tr>\n",
       "      <th>223</th>\n",
       "      <td>Sociolo</td>\n",
       "      <td>0.0</td>\n",
       "      <td>1.0</td>\n",
       "      <td>0.0</td>\n",
       "      <td>0.0</td>\n",
       "      <td>0.0</td>\n",
       "      <td>1.0</td>\n",
       "      <td>1.0</td>\n",
       "      <td>0.0</td>\n",
       "      <td>100.0</td>\n",
       "      <td>{}</td>\n",
       "      <td>https://sociolo.net/</td>\n",
       "      <td>REJECTED</td>\n",
       "    </tr>\n",
       "    <tr>\n",
       "      <th>224</th>\n",
       "      <td>InsanDigital</td>\n",
       "      <td>10.0</td>\n",
       "      <td>0.0</td>\n",
       "      <td>0.0</td>\n",
       "      <td>1.0</td>\n",
       "      <td>0.0</td>\n",
       "      <td>1.0</td>\n",
       "      <td>1.0</td>\n",
       "      <td>50.0</td>\n",
       "      <td>100.0</td>\n",
       "      <td>{'https://www.fpkita.com:9191/index.php/login/...</td>\n",
       "      <td>https://www.fastpay.co.id/?FA30448</td>\n",
       "      <td>REJECTED</td>\n",
       "    </tr>\n",
       "    <tr>\n",
       "      <th>225</th>\n",
       "      <td>BinaryOption</td>\n",
       "      <td>100.0</td>\n",
       "      <td>0.0</td>\n",
       "      <td>0.0</td>\n",
       "      <td>0.0</td>\n",
       "      <td>0.0</td>\n",
       "      <td>0.0</td>\n",
       "      <td>0.0</td>\n",
       "      <td>0.0</td>\n",
       "      <td>0.0</td>\n",
       "      <td>{'': 'None'}</td>\n",
       "      <td>https://binomoidn.com/id/cashier</td>\n",
       "      <td>REJECTED</td>\n",
       "    </tr>\n",
       "  </tbody>\n",
       "</table>\n",
       "<p>456 rows × 13 columns</p>\n",
       "</div>"
      ],
      "text/plain": [
       "             merchant_name  broken_link_score  link_contact_us_exist  \\\n",
       "0     CV.ASIATRIPINDONESIA                0.0                    1.0   \n",
       "1     Pt.BloomingLotusYoga                0.0                    1.0   \n",
       "2    YayasanGreenSejahtera                0.0                    1.0   \n",
       "3      PTMatairTerraSolusi                0.0                    0.0   \n",
       "4                SimplyMii                0.0                    1.0   \n",
       "..                     ...                ...                    ...   \n",
       "221             Yskosmetik               10.0                    1.0   \n",
       "222            ARMYsOutfit                0.0                    1.0   \n",
       "223                Sociolo                0.0                    1.0   \n",
       "224           InsanDigital               10.0                    0.0   \n",
       "225           BinaryOption              100.0                    0.0   \n",
       "\n",
       "     cu_email_exist  cu_phone_number_exist  link_about_us_exist  \\\n",
       "0               1.0                    1.0                  0.0   \n",
       "1               1.0                    1.0                  1.0   \n",
       "2               1.0                    1.0                  1.0   \n",
       "3               0.0                    0.0                  1.0   \n",
       "4               0.0                    1.0                  0.0   \n",
       "..              ...                    ...                  ...   \n",
       "221             1.0                    1.0                  1.0   \n",
       "222             0.0                    0.0                  1.0   \n",
       "223             0.0                    0.0                  0.0   \n",
       "224             0.0                    1.0                  0.0   \n",
       "225             0.0                    0.0                  0.0   \n",
       "\n",
       "     link_tnc_exist  tnc_refund_policy_exist  contact_us_score  tnc_score  \\\n",
       "0               1.0                      1.0             100.0      100.0   \n",
       "1               1.0                      0.0             100.0        0.0   \n",
       "2               1.0                      1.0             100.0      100.0   \n",
       "3               0.0                      0.0               0.0        0.0   \n",
       "4               0.0                      0.0              50.0        0.0   \n",
       "..              ...                      ...               ...        ...   \n",
       "221             0.0                      0.0             100.0        0.0   \n",
       "222             0.0                      0.0               0.0        0.0   \n",
       "223             1.0                      1.0               0.0      100.0   \n",
       "224             1.0                      1.0              50.0      100.0   \n",
       "225             0.0                      0.0               0.0        0.0   \n",
       "\n",
       "                                          broken_links  \\\n",
       "0                                                   {}   \n",
       "1                                                   {}   \n",
       "2                                                   {}   \n",
       "3                                                   {}   \n",
       "4                                                   {}   \n",
       "..                                                 ...   \n",
       "221  {'https://quadlayers.com/portfolio/wordpress-w...   \n",
       "222                                                 {}   \n",
       "223                                                 {}   \n",
       "224  {'https://www.fpkita.com:9191/index.php/login/...   \n",
       "225                                       {'': 'None'}   \n",
       "\n",
       "                                   website     label  \n",
       "0                      http://asiatrip.id/  APPROVED  \n",
       "1      https://www.blooming-lotus-yoga.com  APPROVED  \n",
       "2    https://greensejahterafoundation.com/  APPROVED  \n",
       "3                  http://www.matair.co.id  APPROVED  \n",
       "4               https://www.simplymii.com/  APPROVED  \n",
       "..                                     ...       ...  \n",
       "221                       Www.smm4us.co.id  REVIEWED  \n",
       "222                    www.armysoutfit.com  REJECTED  \n",
       "223                   https://sociolo.net/  REJECTED  \n",
       "224     https://www.fastpay.co.id/?FA30448  REJECTED  \n",
       "225       https://binomoidn.com/id/cashier  REJECTED  \n",
       "\n",
       "[456 rows x 13 columns]"
      ]
     },
     "execution_count": 6,
     "metadata": {},
     "output_type": "execute_result"
    }
   ],
   "source": [
    "all_df"
   ]
  },
  {
   "cell_type": "code",
   "execution_count": 8,
   "metadata": {},
   "outputs": [
    {
     "data": {
      "image/png": "[encoded data removed]",
      "text/plain": [
       "<Figure size 1440x360 with 1 Axes>"
      ]
     },
     "metadata": {
      "needs_background": "light"
     },
     "output_type": "display_data"
    }
   ],
   "source": [
    "plt.figure(figsize=(20, 5))\n",
    "sns.distplot(all_df[all_df.label == 'APPROVED']['broken_link_score'], kde=False, label='APPROVED')\n",
    "sns.distplot(all_df[all_df.label == 'REJECTED']['broken_link_score'], kde=False, label='REJECTED')\n",
    "plt.legend()\n",
    "plt.show()"
   ]
  },
  {
   "cell_type": "code",
   "execution_count": 9,
   "metadata": {},
   "outputs": [
    {
     "data": {
      "text/html": [
       "<div>\n",
       "<style scoped>\n",
       "    .dataframe tbody tr th:only-of-type {\n",
       "        vertical-align: middle;\n",
       "    }\n",
       "\n",
       "    .dataframe tbody tr th {\n",
       "        vertical-align: top;\n",
       "    }\n",
       "\n",
       "    .dataframe thead tr th {\n",
       "        text-align: left;\n",
       "    }\n",
       "\n",
       "    .dataframe thead tr:last-of-type th {\n",
       "        text-align: right;\n",
       "    }\n",
       "</style>\n",
       "<table border=\"1\" class=\"dataframe\">\n",
       "  <thead>\n",
       "    <tr>\n",
       "      <th></th>\n",
       "      <th colspan=\"8\" halign=\"left\">broken_link_score</th>\n",
       "    </tr>\n",
       "    <tr>\n",
       "      <th></th>\n",
       "      <th>count</th>\n",
       "      <th>mean</th>\n",
       "      <th>std</th>\n",
       "      <th>min</th>\n",
       "      <th>25%</th>\n",
       "      <th>50%</th>\n",
       "      <th>75%</th>\n",
       "      <th>max</th>\n",
       "    </tr>\n",
       "    <tr>\n",
       "      <th>label</th>\n",
       "      <th></th>\n",
       "      <th></th>\n",
       "      <th></th>\n",
       "      <th></th>\n",
       "      <th></th>\n",
       "      <th></th>\n",
       "      <th></th>\n",
       "      <th></th>\n",
       "    </tr>\n",
       "  </thead>\n",
       "  <tbody>\n",
       "    <tr>\n",
       "      <th>APPROVED</th>\n",
       "      <td>321.0</td>\n",
       "      <td>29.764130</td>\n",
       "      <td>44.181058</td>\n",
       "      <td>0.0</td>\n",
       "      <td>0.0</td>\n",
       "      <td>0.0</td>\n",
       "      <td>100.0</td>\n",
       "      <td>100.0</td>\n",
       "    </tr>\n",
       "    <tr>\n",
       "      <th>REJECTED</th>\n",
       "      <td>25.0</td>\n",
       "      <td>37.733333</td>\n",
       "      <td>48.138689</td>\n",
       "      <td>0.0</td>\n",
       "      <td>0.0</td>\n",
       "      <td>0.0</td>\n",
       "      <td>100.0</td>\n",
       "      <td>100.0</td>\n",
       "    </tr>\n",
       "    <tr>\n",
       "      <th>REVIEWED</th>\n",
       "      <td>110.0</td>\n",
       "      <td>34.878788</td>\n",
       "      <td>46.772874</td>\n",
       "      <td>0.0</td>\n",
       "      <td>0.0</td>\n",
       "      <td>0.0</td>\n",
       "      <td>100.0</td>\n",
       "      <td>100.0</td>\n",
       "    </tr>\n",
       "  </tbody>\n",
       "</table>\n",
       "</div>"
      ],
      "text/plain": [
       "         broken_link_score                                                   \n",
       "                     count       mean        std  min  25%  50%    75%    max\n",
       "label                                                                        \n",
       "APPROVED             321.0  29.764130  44.181058  0.0  0.0  0.0  100.0  100.0\n",
       "REJECTED              25.0  37.733333  48.138689  0.0  0.0  0.0  100.0  100.0\n",
       "REVIEWED             110.0  34.878788  46.772874  0.0  0.0  0.0  100.0  100.0"
      ]
     },
     "execution_count": 9,
     "metadata": {},
     "output_type": "execute_result"
    }
   ],
   "source": [
    "all_df[['broken_link_score', 'label']].groupby(\"label\").describe()"
   ]
  },
  {
   "cell_type": "code",
   "execution_count": 10,
   "metadata": {},
   "outputs": [],
   "source": [
    "## Approved but scored 100 in broken links\n",
    "anomaly_df = all_df[(all_df.label == 'APPROVED') & (all_df.broken_link_score == 100)]\\\n",
    "[['merchant_name','broken_link_score', 'label', 'website','broken_links']]"
   ]
  },
  {
   "cell_type": "code",
   "execution_count": 11,
   "metadata": {
    "scrolled": true
   },
   "outputs": [
    {
     "data": {
      "text/html": [
       "<div>\n",
       "<style scoped>\n",
       "    .dataframe tbody tr th:only-of-type {\n",
       "        vertical-align: middle;\n",
       "    }\n",
       "\n",
       "    .dataframe tbody tr th {\n",
       "        vertical-align: top;\n",
       "    }\n",
       "\n",
       "    .dataframe thead th {\n",
       "        text-align: right;\n",
       "    }\n",
       "</style>\n",
       "<table border=\"1\" class=\"dataframe\">\n",
       "  <thead>\n",
       "    <tr style=\"text-align: right;\">\n",
       "      <th></th>\n",
       "      <th>merchant_name</th>\n",
       "      <th>broken_link_score</th>\n",
       "      <th>label</th>\n",
       "      <th>website</th>\n",
       "      <th>broken_links</th>\n",
       "    </tr>\n",
       "  </thead>\n",
       "  <tbody>\n",
       "    <tr>\n",
       "      <th>32</th>\n",
       "      <td>HuaningIndonesiaSukses</td>\n",
       "      <td>100.0</td>\n",
       "      <td>APPROVED</td>\n",
       "      <td>https://www.jomooz.com</td>\n",
       "      <td>{}</td>\n",
       "    </tr>\n",
       "    <tr>\n",
       "      <th>62</th>\n",
       "      <td>LUBRICANTS</td>\n",
       "      <td>100.0</td>\n",
       "      <td>APPROVED</td>\n",
       "      <td>http://payment.server-development.net</td>\n",
       "      <td>{'': 'None'}</td>\n",
       "    </tr>\n",
       "    <tr>\n",
       "      <th>70</th>\n",
       "      <td>BayyinahQuranIndonesia</td>\n",
       "      <td>100.0</td>\n",
       "      <td>APPROVED</td>\n",
       "      <td>bayyinah.id</td>\n",
       "      <td>{'': 'None'}</td>\n",
       "    </tr>\n",
       "    <tr>\n",
       "      <th>73</th>\n",
       "      <td>Aromanis</td>\n",
       "      <td>100.0</td>\n",
       "      <td>APPROVED</td>\n",
       "      <td>https://blanjamandiri.com</td>\n",
       "      <td>{'': 'None'}</td>\n",
       "    </tr>\n",
       "    <tr>\n",
       "      <th>74</th>\n",
       "      <td>CitraSuksesAbadi</td>\n",
       "      <td>100.0</td>\n",
       "      <td>APPROVED</td>\n",
       "      <td>https://blanjamandiri.com</td>\n",
       "      <td>{'': 'None'}</td>\n",
       "    </tr>\n",
       "    <tr>\n",
       "      <th>...</th>\n",
       "      <td>...</td>\n",
       "      <td>...</td>\n",
       "      <td>...</td>\n",
       "      <td>...</td>\n",
       "      <td>...</td>\n",
       "    </tr>\n",
       "    <tr>\n",
       "      <th>120</th>\n",
       "      <td>Glowy</td>\n",
       "      <td>100.0</td>\n",
       "      <td>APPROVED</td>\n",
       "      <td>https://www.glowi.id</td>\n",
       "      <td>{'': 'None'}</td>\n",
       "    </tr>\n",
       "    <tr>\n",
       "      <th>121</th>\n",
       "      <td>Valettashop</td>\n",
       "      <td>100.0</td>\n",
       "      <td>APPROVED</td>\n",
       "      <td>http://www.valettashop.com</td>\n",
       "      <td>{'': 'None'}</td>\n",
       "    </tr>\n",
       "    <tr>\n",
       "      <th>123</th>\n",
       "      <td>SportHelmetOnlineStore</td>\n",
       "      <td>100.0</td>\n",
       "      <td>APPROVED</td>\n",
       "      <td>https://sporthelmet.site/</td>\n",
       "      <td>{'': 'None'}</td>\n",
       "    </tr>\n",
       "    <tr>\n",
       "      <th>124</th>\n",
       "      <td>indovies.com</td>\n",
       "      <td>100.0</td>\n",
       "      <td>APPROVED</td>\n",
       "      <td>http://www.indovies.com</td>\n",
       "      <td>{'': 'None'}</td>\n",
       "    </tr>\n",
       "    <tr>\n",
       "      <th>125</th>\n",
       "      <td>AuthenticSimply</td>\n",
       "      <td>100.0</td>\n",
       "      <td>APPROVED</td>\n",
       "      <td>https://www.authenticsimply.com/</td>\n",
       "      <td>{'': 'None'}</td>\n",
       "    </tr>\n",
       "  </tbody>\n",
       "</table>\n",
       "<p>88 rows × 5 columns</p>\n",
       "</div>"
      ],
      "text/plain": [
       "              merchant_name  broken_link_score     label  \\\n",
       "32   HuaningIndonesiaSukses              100.0  APPROVED   \n",
       "62               LUBRICANTS              100.0  APPROVED   \n",
       "70   BayyinahQuranIndonesia              100.0  APPROVED   \n",
       "73                 Aromanis              100.0  APPROVED   \n",
       "74         CitraSuksesAbadi              100.0  APPROVED   \n",
       "..                      ...                ...       ...   \n",
       "120                   Glowy              100.0  APPROVED   \n",
       "121             Valettashop              100.0  APPROVED   \n",
       "123  SportHelmetOnlineStore              100.0  APPROVED   \n",
       "124            indovies.com              100.0  APPROVED   \n",
       "125         AuthenticSimply              100.0  APPROVED   \n",
       "\n",
       "                                   website  broken_links  \n",
       "32                  https://www.jomooz.com            {}  \n",
       "62   http://payment.server-development.net  {'': 'None'}  \n",
       "70                             bayyinah.id  {'': 'None'}  \n",
       "73               https://blanjamandiri.com  {'': 'None'}  \n",
       "74               https://blanjamandiri.com  {'': 'None'}  \n",
       "..                                     ...           ...  \n",
       "120                   https://www.glowi.id  {'': 'None'}  \n",
       "121             http://www.valettashop.com  {'': 'None'}  \n",
       "123              https://sporthelmet.site/  {'': 'None'}  \n",
       "124                http://www.indovies.com  {'': 'None'}  \n",
       "125       https://www.authenticsimply.com/  {'': 'None'}  \n",
       "\n",
       "[88 rows x 5 columns]"
      ]
     },
     "execution_count": 11,
     "metadata": {},
     "output_type": "execute_result"
    }
   ],
   "source": [
    "anomaly_df"
   ]
  },
  {
   "cell_type": "code",
   "execution_count": 12,
   "metadata": {},
   "outputs": [],
   "source": [
    "def url_format_handler(url):\n",
    "    \"\"\"Return url with http/https prefix if not written\"\"\"\n",
    "\n",
    "    if not url.startswith(\"http\") and not url.startswith(\"https\"):\n",
    "        url = \"http://\" + url\n",
    "\n",
    "    return url"
   ]
  },
  {
   "cell_type": "code",
   "execution_count": 21,
   "metadata": {
    "scrolled": true
   },
   "outputs": [
    {
     "name": "stdout",
     "output_type": "stream",
     "text": [
      "https://www.jomooz.com Error\n",
      "http://payment.server-development.net Error\n",
      "bayyinah.id <Response [200]>\n",
      "https://blanjamandiri.com <Response [200]>\n",
      "https://blanjamandiri.com <Response [200]>\n",
      "http://mantap.com <Response [403]>\n",
      "https://blanjamandiri.com <Response [200]>\n",
      "https://blanjamandiri.com <Response [200]>\n",
      "https://blanjamandiri.com <Response [200]>\n",
      "https://www.worldshopdeluxe.com Error\n",
      "https://ieltsregistration-staging.britishcouncil.org/test-chooser <Response [200]>\n",
      "www.globomart.co Error\n",
      "Https://hatapoda.id Error\n",
      "Http://ngastadamel.com Error\n",
      "Https://amayalin.com Error\n",
      "zoyareseller.com <Response [200]>\n",
      "https://jsw2019.fxsudirman.com Error\n",
      "https://www.bmd-net.com/ Error\n",
      "https://megadapur.com Error\n",
      "https://www.osloflytte.com Error\n",
      "http://www.anugrahalamindonesia.com Error\n",
      "hennessydeclassified.id Error\n",
      "https://www.jomooz.com <Response [523]>\n",
      "https://dections.com Error\n",
      "https://www.hotdealus.com/ Error\n",
      "https://www.risingstockadvisor.com/ Error\n",
      "Belisada.co.id Error\n",
      "https://www.bmd-net.com/ Error\n",
      "www.lavieux.com Error\n",
      "ZurichPro Error\n",
      "https://www.instagram.com/armybaseina/ <Response [200]>\n",
      "http://keppjjangfamstore.com Error\n",
      "http://www.loveclothing.top <Response [200]>\n",
      "https://gladeals.com/ Error\n",
      "http://www.alexagift.com <Response [403]>\n",
      "https://dekorie.com/ Error\n",
      "Https://cvatb.com Error\n",
      "www.numuhta.goherbalife.com Error\n",
      "https://cleopatrahotel.co.id <Response [200]>\n",
      "https://ebookmahasiswa.com Error\n",
      "https://a7pro.id Error\n",
      "https://www.jeggerstore.com/ Error\n",
      "Coier.co <Response [409]>\n",
      "https://kitchenited.com Error\n",
      "http://ichveps.org/ <Response [200]>\n",
      "https://guesthouse.waroengdiggers.com Error\n",
      "Frameprint.archiola.com Error\n",
      "www.cobatelur.com Error\n",
      "https://www.manulife.co.id <Response [200]>\n",
      "https://dagangbareng.com Error\n",
      "https://anantostore.com Error\n",
      "https://mysneakercollective.com/ Error\n",
      "https://makassarelektro.com Error\n",
      "http://www.itemar.net Error\n",
      "https://poocheveryday.com Error\n",
      "http://www.soxysocky.com Error\n",
      "https://www.tokosepeda.com Error\n",
      "https://www.baijan.co.id Error\n",
      "www.bnitapcash.com Error\n",
      "https://ikanasin.top Error\n",
      "https://a7pro.id Error\n",
      "https://malukutrade.com Error\n",
      "http://www.bandung.gausahbayar.com Error\n",
      "http://www.kattoen.id/ <Response [200]>\n",
      "https://www.myarrum.com Error\n",
      "http://www.letsgo4biggerworldbusiness.com <Response [200]>\n",
      "https://tokobalita.co.id Error\n",
      "http://www.dietkopihijau.com Error\n",
      "http://www.minoroprecuts.com <Response [200]>\n",
      "https://www.kioskorea.com Error\n",
      "https://www.pustakasirah.co.id/ Error\n",
      "https://www.edumart.id/ Error\n",
      "http://dhiyatest.com Error\n",
      "https://kraftnik.com Error\n",
      "http://www.orishop.id/ Error\n",
      "https://gayamu.id Error\n",
      "http://hushhobbies.co Error\n",
      "https://shop.sapicow.com Error\n",
      "https://aphroditeindonesia.com Error\n",
      "https://www.asamax.com/ Error\n",
      "http://www.buatkueyuk.com Error\n",
      "https://www.unclepandastore.com Error\n",
      "https://www.t-lessfashion.com Error\n",
      "https://www.glowi.id Error\n",
      "http://www.valettashop.com <Response [200]>\n",
      "https://sporthelmet.site/ Error\n",
      "http://www.indovies.com Error\n",
      "https://www.authenticsimply.com/ Error\n"
     ]
    }
   ],
   "source": [
    "import requests\n",
    "df_response = pd.DataFrame({\"website\": [], \"response\": []})\n",
    "websites = []\n",
    "responses = []\n",
    "for website in anomaly_df['website'].values:\n",
    "    try:\n",
    "        response = str(requests.get(url_format_handler(website), timeout=5))\n",
    "        print(website + \" \" + response) \n",
    "    except Exception as e:\n",
    "        response = str(e)\n",
    "        print(website + \" Error\")\n",
    "    websites.append(website)\n",
    "    responses.append(response)"
   ]
  },
  {
   "cell_type": "code",
   "execution_count": 22,
   "metadata": {},
   "outputs": [],
   "source": [
    "df_response['website'] = websites\n",
    "df_response['response'] = responses"
   ]
  },
  {
   "cell_type": "code",
   "execution_count": 41,
   "metadata": {},
   "outputs": [
    {
     "data": {
      "text/plain": [
       "(82, 2)"
      ]
     },
     "execution_count": 41,
     "metadata": {},
     "output_type": "execute_result"
    }
   ],
   "source": [
    "## Total anomaly website\n",
    "df_response.drop_duplicates().shape"
   ]
  },
  {
   "cell_type": "code",
   "execution_count": 69,
   "metadata": {
    "scrolled": true
   },
   "outputs": [
    {
     "name": "stdout",
     "output_type": "stream",
     "text": [
      "16\n"
     ]
    }
   ],
   "source": [
    "## Total SSL Error\n",
    "ssl = df_response[(df_response.response.str.contains(\"SSL\")) | (df_response.response.str.contains(\"ssl\"))].drop_duplicates()\n",
    "print(len(ssl))"
   ]
  },
  {
   "cell_type": "code",
   "execution_count": 70,
   "metadata": {
    "scrolled": true
   },
   "outputs": [
    {
     "name": "stdout",
     "output_type": "stream",
     "text": [
      "2\n"
     ]
    }
   ],
   "source": [
    "## Total Unauthorized\n",
    "unauthorized = df_response[df_response.response.str.contains(\"403\")].drop_duplicates()\n",
    "print(len(unauthorized))"
   ]
  },
  {
   "cell_type": "code",
   "execution_count": 71,
   "metadata": {},
   "outputs": [
    {
     "name": "stdout",
     "output_type": "stream",
     "text": [
      "13\n"
     ]
    }
   ],
   "source": [
    "## Total OK\n",
    "ok = df_response[df_response.response.str.contains(\"200\")].drop_duplicates()\n",
    "print(len(ok))"
   ]
  },
  {
   "cell_type": "code",
   "execution_count": 72,
   "metadata": {},
   "outputs": [
    {
     "name": "stdout",
     "output_type": "stream",
     "text": [
      "41\n"
     ]
    }
   ],
   "source": [
    "## Total Dead\n",
    "dead = df_response[df_response.response.str.contains(\"Failed to establish a new connection\")].drop_duplicates()\n",
    "print(len(dead))"
   ]
  },
  {
   "cell_type": "code",
   "execution_count": 74,
   "metadata": {},
   "outputs": [
    {
     "name": "stdout",
     "output_type": "stream",
     "text": [
      "8\n"
     ]
    }
   ],
   "source": [
    "## Total Timeout\n",
    "timeout = df_response[df_response.response.str.contains(\"timed out\")].drop_duplicates()\n",
    "print(len(timeout))"
   ]
  },
  {
   "cell_type": "code",
   "execution_count": 77,
   "metadata": {},
   "outputs": [
    {
     "data": {
      "text/plain": [
       "array(['bayyinah.id', 'https://blanjamandiri.com',\n",
       "       'https://ieltsregistration-staging.britishcouncil.org/test-chooser',\n",
       "       'zoyareseller.com', 'https://www.instagram.com/armybaseina/',\n",
       "       'http://www.loveclothing.top', 'https://cleopatrahotel.co.id',\n",
       "       'http://ichveps.org/', 'https://www.manulife.co.id',\n",
       "       'http://www.kattoen.id/',\n",
       "       'http://www.letsgo4biggerworldbusiness.com',\n",
       "       'http://www.minoroprecuts.com', 'http://www.valettashop.com'],\n",
       "      dtype=object)"
      ]
     },
     "execution_count": 77,
     "metadata": {},
     "output_type": "execute_result"
    }
   ],
   "source": [
    "ok['website'].values"
   ]
  },
  {
   "cell_type": "code",
   "execution_count": 14,
   "metadata": {},
   "outputs": [],
   "source": [
    "## Remove anomaly\n",
    "processed_df = all_df[~all_df['website'].isin(anomaly_df['website'])]"
   ]
  },
  {
   "cell_type": "code",
   "execution_count": 15,
   "metadata": {
    "scrolled": true
   },
   "outputs": [
    {
     "data": {
      "text/html": [
       "<div>\n",
       "<style scoped>\n",
       "    .dataframe tbody tr th:only-of-type {\n",
       "        vertical-align: middle;\n",
       "    }\n",
       "\n",
       "    .dataframe tbody tr th {\n",
       "        vertical-align: top;\n",
       "    }\n",
       "\n",
       "    .dataframe thead th {\n",
       "        text-align: right;\n",
       "    }\n",
       "</style>\n",
       "<table border=\"1\" class=\"dataframe\">\n",
       "  <thead>\n",
       "    <tr style=\"text-align: right;\">\n",
       "      <th></th>\n",
       "      <th>merchant_name</th>\n",
       "      <th>broken_link_score</th>\n",
       "      <th>link_contact_us_exist</th>\n",
       "      <th>cu_email_exist</th>\n",
       "      <th>cu_phone_number_exist</th>\n",
       "      <th>link_about_us_exist</th>\n",
       "      <th>link_tnc_exist</th>\n",
       "      <th>tnc_refund_policy_exist</th>\n",
       "      <th>contact_us_score</th>\n",
       "      <th>tnc_score</th>\n",
       "      <th>broken_links</th>\n",
       "      <th>website</th>\n",
       "      <th>label</th>\n",
       "    </tr>\n",
       "  </thead>\n",
       "  <tbody>\n",
       "    <tr>\n",
       "      <th>0</th>\n",
       "      <td>CV.ASIATRIPINDONESIA</td>\n",
       "      <td>0.0</td>\n",
       "      <td>1.0</td>\n",
       "      <td>1.0</td>\n",
       "      <td>1.0</td>\n",
       "      <td>0.0</td>\n",
       "      <td>1.0</td>\n",
       "      <td>1.0</td>\n",
       "      <td>100.0</td>\n",
       "      <td>100.0</td>\n",
       "      <td>{}</td>\n",
       "      <td>http://asiatrip.id/</td>\n",
       "      <td>APPROVED</td>\n",
       "    </tr>\n",
       "    <tr>\n",
       "      <th>1</th>\n",
       "      <td>Pt.BloomingLotusYoga</td>\n",
       "      <td>0.0</td>\n",
       "      <td>1.0</td>\n",
       "      <td>1.0</td>\n",
       "      <td>1.0</td>\n",
       "      <td>1.0</td>\n",
       "      <td>1.0</td>\n",
       "      <td>0.0</td>\n",
       "      <td>100.0</td>\n",
       "      <td>0.0</td>\n",
       "      <td>{}</td>\n",
       "      <td>https://www.blooming-lotus-yoga.com</td>\n",
       "      <td>APPROVED</td>\n",
       "    </tr>\n",
       "    <tr>\n",
       "      <th>2</th>\n",
       "      <td>YayasanGreenSejahtera</td>\n",
       "      <td>0.0</td>\n",
       "      <td>1.0</td>\n",
       "      <td>1.0</td>\n",
       "      <td>1.0</td>\n",
       "      <td>1.0</td>\n",
       "      <td>1.0</td>\n",
       "      <td>1.0</td>\n",
       "      <td>100.0</td>\n",
       "      <td>100.0</td>\n",
       "      <td>{}</td>\n",
       "      <td>https://greensejahterafoundation.com/</td>\n",
       "      <td>APPROVED</td>\n",
       "    </tr>\n",
       "    <tr>\n",
       "      <th>3</th>\n",
       "      <td>PTMatairTerraSolusi</td>\n",
       "      <td>0.0</td>\n",
       "      <td>0.0</td>\n",
       "      <td>0.0</td>\n",
       "      <td>0.0</td>\n",
       "      <td>1.0</td>\n",
       "      <td>0.0</td>\n",
       "      <td>0.0</td>\n",
       "      <td>0.0</td>\n",
       "      <td>0.0</td>\n",
       "      <td>{}</td>\n",
       "      <td>http://www.matair.co.id</td>\n",
       "      <td>APPROVED</td>\n",
       "    </tr>\n",
       "    <tr>\n",
       "      <th>4</th>\n",
       "      <td>SimplyMii</td>\n",
       "      <td>0.0</td>\n",
       "      <td>1.0</td>\n",
       "      <td>0.0</td>\n",
       "      <td>1.0</td>\n",
       "      <td>0.0</td>\n",
       "      <td>0.0</td>\n",
       "      <td>0.0</td>\n",
       "      <td>50.0</td>\n",
       "      <td>0.0</td>\n",
       "      <td>{}</td>\n",
       "      <td>https://www.simplymii.com/</td>\n",
       "      <td>APPROVED</td>\n",
       "    </tr>\n",
       "  </tbody>\n",
       "</table>\n",
       "</div>"
      ],
      "text/plain": [
       "           merchant_name  broken_link_score  link_contact_us_exist  \\\n",
       "0   CV.ASIATRIPINDONESIA                0.0                    1.0   \n",
       "1   Pt.BloomingLotusYoga                0.0                    1.0   \n",
       "2  YayasanGreenSejahtera                0.0                    1.0   \n",
       "3    PTMatairTerraSolusi                0.0                    0.0   \n",
       "4              SimplyMii                0.0                    1.0   \n",
       "\n",
       "   cu_email_exist  cu_phone_number_exist  link_about_us_exist  link_tnc_exist  \\\n",
       "0             1.0                    1.0                  0.0             1.0   \n",
       "1             1.0                    1.0                  1.0             1.0   \n",
       "2             1.0                    1.0                  1.0             1.0   \n",
       "3             0.0                    0.0                  1.0             0.0   \n",
       "4             0.0                    1.0                  0.0             0.0   \n",
       "\n",
       "   tnc_refund_policy_exist  contact_us_score  tnc_score broken_links  \\\n",
       "0                      1.0             100.0      100.0           {}   \n",
       "1                      0.0             100.0        0.0           {}   \n",
       "2                      1.0             100.0      100.0           {}   \n",
       "3                      0.0               0.0        0.0           {}   \n",
       "4                      0.0              50.0        0.0           {}   \n",
       "\n",
       "                                 website     label  \n",
       "0                    http://asiatrip.id/  APPROVED  \n",
       "1    https://www.blooming-lotus-yoga.com  APPROVED  \n",
       "2  https://greensejahterafoundation.com/  APPROVED  \n",
       "3                http://www.matair.co.id  APPROVED  \n",
       "4             https://www.simplymii.com/  APPROVED  "
      ]
     },
     "execution_count": 15,
     "metadata": {},
     "output_type": "execute_result"
    }
   ],
   "source": [
    "processed_df.head()"
   ]
  },
  {
   "cell_type": "code",
   "execution_count": 16,
   "metadata": {},
   "outputs": [
    {
     "data": {
      "text/html": [
       "<div>\n",
       "<style scoped>\n",
       "    .dataframe tbody tr th:only-of-type {\n",
       "        vertical-align: middle;\n",
       "    }\n",
       "\n",
       "    .dataframe tbody tr th {\n",
       "        vertical-align: top;\n",
       "    }\n",
       "\n",
       "    .dataframe thead tr th {\n",
       "        text-align: left;\n",
       "    }\n",
       "\n",
       "    .dataframe thead tr:last-of-type th {\n",
       "        text-align: right;\n",
       "    }\n",
       "</style>\n",
       "<table border=\"1\" class=\"dataframe\">\n",
       "  <thead>\n",
       "    <tr>\n",
       "      <th></th>\n",
       "      <th colspan=\"8\" halign=\"left\">broken_link_score</th>\n",
       "    </tr>\n",
       "    <tr>\n",
       "      <th></th>\n",
       "      <th>count</th>\n",
       "      <th>mean</th>\n",
       "      <th>std</th>\n",
       "      <th>min</th>\n",
       "      <th>25%</th>\n",
       "      <th>50%</th>\n",
       "      <th>75%</th>\n",
       "      <th>max</th>\n",
       "    </tr>\n",
       "    <tr>\n",
       "      <th>label</th>\n",
       "      <th></th>\n",
       "      <th></th>\n",
       "      <th></th>\n",
       "      <th></th>\n",
       "      <th></th>\n",
       "      <th></th>\n",
       "      <th></th>\n",
       "      <th></th>\n",
       "    </tr>\n",
       "  </thead>\n",
       "  <tbody>\n",
       "    <tr>\n",
       "      <th>APPROVED</th>\n",
       "      <td>233.0</td>\n",
       "      <td>3.237278</td>\n",
       "      <td>10.700115</td>\n",
       "      <td>0.0</td>\n",
       "      <td>0.0</td>\n",
       "      <td>0.0</td>\n",
       "      <td>0.0</td>\n",
       "      <td>90.0</td>\n",
       "    </tr>\n",
       "    <tr>\n",
       "      <th>REJECTED</th>\n",
       "      <td>25.0</td>\n",
       "      <td>37.733333</td>\n",
       "      <td>48.138689</td>\n",
       "      <td>0.0</td>\n",
       "      <td>0.0</td>\n",
       "      <td>0.0</td>\n",
       "      <td>100.0</td>\n",
       "      <td>100.0</td>\n",
       "    </tr>\n",
       "    <tr>\n",
       "      <th>REVIEWED</th>\n",
       "      <td>110.0</td>\n",
       "      <td>34.878788</td>\n",
       "      <td>46.772874</td>\n",
       "      <td>0.0</td>\n",
       "      <td>0.0</td>\n",
       "      <td>0.0</td>\n",
       "      <td>100.0</td>\n",
       "      <td>100.0</td>\n",
       "    </tr>\n",
       "  </tbody>\n",
       "</table>\n",
       "</div>"
      ],
      "text/plain": [
       "         broken_link_score                                                   \n",
       "                     count       mean        std  min  25%  50%    75%    max\n",
       "label                                                                        \n",
       "APPROVED             233.0   3.237278  10.700115  0.0  0.0  0.0    0.0   90.0\n",
       "REJECTED              25.0  37.733333  48.138689  0.0  0.0  0.0  100.0  100.0\n",
       "REVIEWED             110.0  34.878788  46.772874  0.0  0.0  0.0  100.0  100.0"
      ]
     },
     "execution_count": 16,
     "metadata": {},
     "output_type": "execute_result"
    }
   ],
   "source": [
    "processed_df[['broken_link_score', 'label']].groupby(\"label\").describe()"
   ]
  },
  {
   "cell_type": "code",
   "execution_count": 17,
   "metadata": {
    "scrolled": true
   },
   "outputs": [
    {
     "data": {
      "image/png": "[encoded data removed]",
      "text/plain": [
       "<Figure size 1440x360 with 1 Axes>"
      ]
     },
     "metadata": {
      "needs_background": "light"
     },
     "output_type": "display_data"
    },
    {
     "data": {
      "image/png": "[encoded data removed]",
      "text/plain": [
       "<Figure size 1440x360 with 1 Axes>"
      ]
     },
     "metadata": {
      "needs_background": "light"
     },
     "output_type": "display_data"
    },
    {
     "data": {
      "image/png": "[encoded data removed]",
      "text/plain": [
       "<Figure size 1440x360 with 1 Axes>"
      ]
     },
     "metadata": {
      "needs_background": "light"
     },
     "output_type": "display_data"
    },
    {
     "data": {
      "image/png": "[encoded data removed]",
      "text/plain": [
       "<Figure size 1440x360 with 1 Axes>"
      ]
     },
     "metadata": {
      "needs_background": "light"
     },
     "output_type": "display_data"
    },
    {
     "data": {
      "image/png": "[encoded data removed]",
      "text/plain": [
       "<Figure size 1440x360 with 1 Axes>"
      ]
     },
     "metadata": {
      "needs_background": "light"
     },
     "output_type": "display_data"
    },
    {
     "data": {
      "image/png": "[encoded data removed]",
      "text/plain": [
       "<Figure size 1440x360 with 1 Axes>"
      ]
     },
     "metadata": {
      "needs_background": "light"
     },
     "output_type": "display_data"
    },
    {
     "data": {
      "image/png": "[encoded data removed]",
      "text/plain": [
       "<Figure size 1440x360 with 1 Axes>"
      ]
     },
     "metadata": {
      "needs_background": "light"
     },
     "output_type": "display_data"
    },
    {
     "data": {
      "image/png": "[encoded data removed]",
      "text/plain": [
       "<Figure size 1440x360 with 1 Axes>"
      ]
     },
     "metadata": {
      "needs_background": "light"
     },
     "output_type": "display_data"
    },
    {
     "data": {
      "image/png": "[encoded data removed]",
      "text/plain": [
       "<Figure size 1440x360 with 1 Axes>"
      ]
     },
     "metadata": {
      "needs_background": "light"
     },
     "output_type": "display_data"
    }
   ],
   "source": [
    "for column in processed_df.columns.values:\n",
    "    if column == 'website' or column == 'broken_links' or column == 'merchant_name' or column == 'label':\n",
    "        continue\n",
    "    plt.figure(figsize=(20, 5))\n",
    "    sns.distplot(processed_df[processed_df.label == 'APPROVED'][column], label='APPROVED', kde=False)\n",
    "    sns.distplot(processed_df[processed_df.label == 'REJECTED'][column], label='REJECTED', kde=False)\n",
    "    plt.legend()\n",
    "    plt.show()"
   ]
  },
  {
   "cell_type": "code",
   "execution_count": 18,
   "metadata": {},
   "outputs": [
    {
     "data": {
      "text/html": [
       "<div>\n",
       "<style scoped>\n",
       "    .dataframe tbody tr th:only-of-type {\n",
       "        vertical-align: middle;\n",
       "    }\n",
       "\n",
       "    .dataframe tbody tr th {\n",
       "        vertical-align: top;\n",
       "    }\n",
       "\n",
       "    .dataframe thead th {\n",
       "        text-align: right;\n",
       "    }\n",
       "</style>\n",
       "<table border=\"1\" class=\"dataframe\">\n",
       "  <thead>\n",
       "    <tr style=\"text-align: right;\">\n",
       "      <th></th>\n",
       "      <th>merchant_name</th>\n",
       "      <th>broken_link_score</th>\n",
       "      <th>link_contact_us_exist</th>\n",
       "      <th>cu_email_exist</th>\n",
       "      <th>cu_phone_number_exist</th>\n",
       "      <th>link_about_us_exist</th>\n",
       "      <th>link_tnc_exist</th>\n",
       "      <th>tnc_refund_policy_exist</th>\n",
       "      <th>contact_us_score</th>\n",
       "      <th>tnc_score</th>\n",
       "      <th>broken_links</th>\n",
       "      <th>website</th>\n",
       "      <th>label</th>\n",
       "    </tr>\n",
       "  </thead>\n",
       "  <tbody>\n",
       "    <tr>\n",
       "      <th>1</th>\n",
       "      <td>Pt.BloomingLotusYoga</td>\n",
       "      <td>0.0</td>\n",
       "      <td>1.0</td>\n",
       "      <td>1.0</td>\n",
       "      <td>1.0</td>\n",
       "      <td>1.0</td>\n",
       "      <td>1.0</td>\n",
       "      <td>0.0</td>\n",
       "      <td>100.0</td>\n",
       "      <td>0.0</td>\n",
       "      <td>{}</td>\n",
       "      <td>https://www.blooming-lotus-yoga.com</td>\n",
       "      <td>APPROVED</td>\n",
       "    </tr>\n",
       "    <tr>\n",
       "      <th>3</th>\n",
       "      <td>PTMatairTerraSolusi</td>\n",
       "      <td>0.0</td>\n",
       "      <td>0.0</td>\n",
       "      <td>0.0</td>\n",
       "      <td>0.0</td>\n",
       "      <td>1.0</td>\n",
       "      <td>0.0</td>\n",
       "      <td>0.0</td>\n",
       "      <td>0.0</td>\n",
       "      <td>0.0</td>\n",
       "      <td>{}</td>\n",
       "      <td>http://www.matair.co.id</td>\n",
       "      <td>APPROVED</td>\n",
       "    </tr>\n",
       "    <tr>\n",
       "      <th>4</th>\n",
       "      <td>SimplyMii</td>\n",
       "      <td>0.0</td>\n",
       "      <td>1.0</td>\n",
       "      <td>0.0</td>\n",
       "      <td>1.0</td>\n",
       "      <td>0.0</td>\n",
       "      <td>0.0</td>\n",
       "      <td>0.0</td>\n",
       "      <td>50.0</td>\n",
       "      <td>0.0</td>\n",
       "      <td>{}</td>\n",
       "      <td>https://www.simplymii.com/</td>\n",
       "      <td>APPROVED</td>\n",
       "    </tr>\n",
       "    <tr>\n",
       "      <th>9</th>\n",
       "      <td>Fipper</td>\n",
       "      <td>0.0</td>\n",
       "      <td>1.0</td>\n",
       "      <td>1.0</td>\n",
       "      <td>1.0</td>\n",
       "      <td>1.0</td>\n",
       "      <td>1.0</td>\n",
       "      <td>0.0</td>\n",
       "      <td>100.0</td>\n",
       "      <td>0.0</td>\n",
       "      <td>{}</td>\n",
       "      <td>http://www.fippersandal.co.id</td>\n",
       "      <td>APPROVED</td>\n",
       "    </tr>\n",
       "    <tr>\n",
       "      <th>22</th>\n",
       "      <td>AOGIN</td>\n",
       "      <td>0.0</td>\n",
       "      <td>1.0</td>\n",
       "      <td>1.0</td>\n",
       "      <td>1.0</td>\n",
       "      <td>0.0</td>\n",
       "      <td>0.0</td>\n",
       "      <td>0.0</td>\n",
       "      <td>100.0</td>\n",
       "      <td>0.0</td>\n",
       "      <td>{}</td>\n",
       "      <td>aoginbali2020.com</td>\n",
       "      <td>APPROVED</td>\n",
       "    </tr>\n",
       "    <tr>\n",
       "      <th>...</th>\n",
       "      <td>...</td>\n",
       "      <td>...</td>\n",
       "      <td>...</td>\n",
       "      <td>...</td>\n",
       "      <td>...</td>\n",
       "      <td>...</td>\n",
       "      <td>...</td>\n",
       "      <td>...</td>\n",
       "      <td>...</td>\n",
       "      <td>...</td>\n",
       "      <td>...</td>\n",
       "      <td>...</td>\n",
       "      <td>...</td>\n",
       "    </tr>\n",
       "    <tr>\n",
       "      <th>101</th>\n",
       "      <td>TheCurvakum</td>\n",
       "      <td>0.0</td>\n",
       "      <td>0.0</td>\n",
       "      <td>0.0</td>\n",
       "      <td>0.0</td>\n",
       "      <td>0.0</td>\n",
       "      <td>0.0</td>\n",
       "      <td>0.0</td>\n",
       "      <td>0.0</td>\n",
       "      <td>0.0</td>\n",
       "      <td>{}</td>\n",
       "      <td>http://www.thecurvakumlabel.com/</td>\n",
       "      <td>APPROVED</td>\n",
       "    </tr>\n",
       "    <tr>\n",
       "      <th>108</th>\n",
       "      <td>buy-saber</td>\n",
       "      <td>0.0</td>\n",
       "      <td>0.0</td>\n",
       "      <td>0.0</td>\n",
       "      <td>0.0</td>\n",
       "      <td>0.0</td>\n",
       "      <td>0.0</td>\n",
       "      <td>0.0</td>\n",
       "      <td>0.0</td>\n",
       "      <td>0.0</td>\n",
       "      <td>{}</td>\n",
       "      <td>https://buy-saber.com/</td>\n",
       "      <td>APPROVED</td>\n",
       "    </tr>\n",
       "    <tr>\n",
       "      <th>110</th>\n",
       "      <td>ALKHANSAS</td>\n",
       "      <td>20.0</td>\n",
       "      <td>0.0</td>\n",
       "      <td>1.0</td>\n",
       "      <td>0.0</td>\n",
       "      <td>1.0</td>\n",
       "      <td>0.0</td>\n",
       "      <td>0.0</td>\n",
       "      <td>50.0</td>\n",
       "      <td>0.0</td>\n",
       "      <td>{'http://&lt;span id=\"cart\" class=\"cart\"&gt;&lt;a href=...</td>\n",
       "      <td>https://store.alkhansas.com/</td>\n",
       "      <td>APPROVED</td>\n",
       "    </tr>\n",
       "    <tr>\n",
       "      <th>113</th>\n",
       "      <td>PT.TirtaKumalaSari</td>\n",
       "      <td>0.0</td>\n",
       "      <td>1.0</td>\n",
       "      <td>0.0</td>\n",
       "      <td>0.0</td>\n",
       "      <td>1.0</td>\n",
       "      <td>1.0</td>\n",
       "      <td>0.0</td>\n",
       "      <td>0.0</td>\n",
       "      <td>0.0</td>\n",
       "      <td>{}</td>\n",
       "      <td>https://pureheals.co.id</td>\n",
       "      <td>APPROVED</td>\n",
       "    </tr>\n",
       "    <tr>\n",
       "      <th>115</th>\n",
       "      <td>Kaligrafina</td>\n",
       "      <td>30.0</td>\n",
       "      <td>1.0</td>\n",
       "      <td>0.0</td>\n",
       "      <td>0.0</td>\n",
       "      <td>0.0</td>\n",
       "      <td>1.0</td>\n",
       "      <td>0.0</td>\n",
       "      <td>0.0</td>\n",
       "      <td>0.0</td>\n",
       "      <td>{'https://www.kaligrafina.com/shop/?add-to-car...</td>\n",
       "      <td>https://www.kaligrafina.com/shop/</td>\n",
       "      <td>APPROVED</td>\n",
       "    </tr>\n",
       "  </tbody>\n",
       "</table>\n",
       "<p>113 rows × 13 columns</p>\n",
       "</div>"
      ],
      "text/plain": [
       "            merchant_name  broken_link_score  link_contact_us_exist  \\\n",
       "1    Pt.BloomingLotusYoga                0.0                    1.0   \n",
       "3     PTMatairTerraSolusi                0.0                    0.0   \n",
       "4               SimplyMii                0.0                    1.0   \n",
       "9                  Fipper                0.0                    1.0   \n",
       "22                  AOGIN                0.0                    1.0   \n",
       "..                    ...                ...                    ...   \n",
       "101           TheCurvakum                0.0                    0.0   \n",
       "108             buy-saber                0.0                    0.0   \n",
       "110             ALKHANSAS               20.0                    0.0   \n",
       "113    PT.TirtaKumalaSari                0.0                    1.0   \n",
       "115           Kaligrafina               30.0                    1.0   \n",
       "\n",
       "     cu_email_exist  cu_phone_number_exist  link_about_us_exist  \\\n",
       "1               1.0                    1.0                  1.0   \n",
       "3               0.0                    0.0                  1.0   \n",
       "4               0.0                    1.0                  0.0   \n",
       "9               1.0                    1.0                  1.0   \n",
       "22              1.0                    1.0                  0.0   \n",
       "..              ...                    ...                  ...   \n",
       "101             0.0                    0.0                  0.0   \n",
       "108             0.0                    0.0                  0.0   \n",
       "110             1.0                    0.0                  1.0   \n",
       "113             0.0                    0.0                  1.0   \n",
       "115             0.0                    0.0                  0.0   \n",
       "\n",
       "     link_tnc_exist  tnc_refund_policy_exist  contact_us_score  tnc_score  \\\n",
       "1               1.0                      0.0             100.0        0.0   \n",
       "3               0.0                      0.0               0.0        0.0   \n",
       "4               0.0                      0.0              50.0        0.0   \n",
       "9               1.0                      0.0             100.0        0.0   \n",
       "22              0.0                      0.0             100.0        0.0   \n",
       "..              ...                      ...               ...        ...   \n",
       "101             0.0                      0.0               0.0        0.0   \n",
       "108             0.0                      0.0               0.0        0.0   \n",
       "110             0.0                      0.0              50.0        0.0   \n",
       "113             1.0                      0.0               0.0        0.0   \n",
       "115             1.0                      0.0               0.0        0.0   \n",
       "\n",
       "                                          broken_links  \\\n",
       "1                                                   {}   \n",
       "3                                                   {}   \n",
       "4                                                   {}   \n",
       "9                                                   {}   \n",
       "22                                                  {}   \n",
       "..                                                 ...   \n",
       "101                                                 {}   \n",
       "108                                                 {}   \n",
       "110  {'http://<span id=\"cart\" class=\"cart\"><a href=...   \n",
       "113                                                 {}   \n",
       "115  {'https://www.kaligrafina.com/shop/?add-to-car...   \n",
       "\n",
       "                                 website     label  \n",
       "1    https://www.blooming-lotus-yoga.com  APPROVED  \n",
       "3                http://www.matair.co.id  APPROVED  \n",
       "4             https://www.simplymii.com/  APPROVED  \n",
       "9          http://www.fippersandal.co.id  APPROVED  \n",
       "22                     aoginbali2020.com  APPROVED  \n",
       "..                                   ...       ...  \n",
       "101     http://www.thecurvakumlabel.com/  APPROVED  \n",
       "108               https://buy-saber.com/  APPROVED  \n",
       "110         https://store.alkhansas.com/  APPROVED  \n",
       "113              https://pureheals.co.id  APPROVED  \n",
       "115    https://www.kaligrafina.com/shop/  APPROVED  \n",
       "\n",
       "[113 rows x 13 columns]"
      ]
     },
     "execution_count": 18,
     "metadata": {},
     "output_type": "execute_result"
    }
   ],
   "source": [
    "processed_df[(processed_df['tnc_score'] == 0) & (processed_df['label'] == 'APPROVED')]"
   ]
  },
  {
   "cell_type": "code",
   "execution_count": null,
   "metadata": {},
   "outputs": [],
   "source": []
  }
 ],
 "metadata": {
  "kernelspec": {
   "display_name": "Python 3",
   "language": "python",
   "name": "python3"
  },
  "language_info": {
   "codemirror_mode": {
    "name": "ipython",
    "version": 3
   },
   "file_extension": ".py",
   "mimetype": "text/x-python",
   "name": "python",
   "nbconvert_exporter": "python",
   "pygments_lexer": "ipython3",
   "version": "3.7.6"
  }
 },
 "nbformat": 4,
 "nbformat_minor": 4
}
