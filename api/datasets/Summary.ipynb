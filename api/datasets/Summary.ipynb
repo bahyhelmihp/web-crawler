{
 "cells": [
  {
   "cell_type": "code",
   "execution_count": 3,
   "metadata": {},
   "outputs": [],
   "source": [
    "import matplotlib.pyplot as plt\n",
    "import pandas as pd\n",
    "import seaborn as sns"
   ]
  },
  {
   "cell_type": "markdown",
   "metadata": {},
   "source": [
    "### Model Summary"
   ]
  },
  {
   "cell_type": "code",
   "execution_count": 40,
   "metadata": {},
   "outputs": [],
   "source": [
    "## Load all csv\n",
    "models = ['dt', 'rf', 'xgb', 'nb']\n",
    "res = pd.DataFrame({\"model\":[]})\n",
    "for model in models:\n",
    "    df = pd.read_csv(\"res_%s.csv\" % model)\n",
    "    df['model'] = model\n",
    "    res = pd.concat([res, df], axis=0)"
   ]
  },
  {
   "cell_type": "code",
   "execution_count": 41,
   "metadata": {},
   "outputs": [],
   "source": [
    "res = res.drop(\"0\", axis=1)"
   ]
  },
  {
   "cell_type": "code",
   "execution_count": 42,
   "metadata": {},
   "outputs": [],
   "source": [
    "pd.options.display.float_format = '{:,.3f}'.format"
   ]
  },
  {
   "cell_type": "code",
   "execution_count": 43,
   "metadata": {},
   "outputs": [
    {
     "data": {
      "text/html": [
       "<div>\n",
       "<style scoped>\n",
       "    .dataframe tbody tr th:only-of-type {\n",
       "        vertical-align: middle;\n",
       "    }\n",
       "\n",
       "    .dataframe tbody tr th {\n",
       "        vertical-align: top;\n",
       "    }\n",
       "\n",
       "    .dataframe thead th {\n",
       "        text-align: right;\n",
       "    }\n",
       "</style>\n",
       "<table border=\"1\" class=\"dataframe\">\n",
       "  <thead>\n",
       "    <tr style=\"text-align: right;\">\n",
       "      <th></th>\n",
       "      <th>model</th>\n",
       "      <th>auc</th>\n",
       "      <th>accuracy</th>\n",
       "      <th>balanced_accuracy</th>\n",
       "      <th>precision</th>\n",
       "      <th>recall</th>\n",
       "      <th>f1_score</th>\n",
       "    </tr>\n",
       "  </thead>\n",
       "  <tbody>\n",
       "    <tr>\n",
       "      <th>0</th>\n",
       "      <td>dt</td>\n",
       "      <td>0.944</td>\n",
       "      <td>0.920</td>\n",
       "      <td>0.871</td>\n",
       "      <td>0.895</td>\n",
       "      <td>0.773</td>\n",
       "      <td>0.829</td>\n",
       "    </tr>\n",
       "    <tr>\n",
       "      <th>0</th>\n",
       "      <td>rf</td>\n",
       "      <td>0.953</td>\n",
       "      <td>0.909</td>\n",
       "      <td>0.879</td>\n",
       "      <td>0.818</td>\n",
       "      <td>0.818</td>\n",
       "      <td>0.818</td>\n",
       "    </tr>\n",
       "    <tr>\n",
       "      <th>0</th>\n",
       "      <td>xgb</td>\n",
       "      <td>0.953</td>\n",
       "      <td>0.898</td>\n",
       "      <td>0.871</td>\n",
       "      <td>0.783</td>\n",
       "      <td>0.818</td>\n",
       "      <td>0.800</td>\n",
       "    </tr>\n",
       "    <tr>\n",
       "      <th>0</th>\n",
       "      <td>nb</td>\n",
       "      <td>0.954</td>\n",
       "      <td>0.875</td>\n",
       "      <td>0.871</td>\n",
       "      <td>0.704</td>\n",
       "      <td>0.864</td>\n",
       "      <td>0.776</td>\n",
       "    </tr>\n",
       "  </tbody>\n",
       "</table>\n",
       "</div>"
      ],
      "text/plain": [
       "  model   auc  accuracy  balanced_accuracy  precision  recall  f1_score\n",
       "0    dt 0.944     0.920              0.871      0.895   0.773     0.829\n",
       "0    rf 0.953     0.909              0.879      0.818   0.818     0.818\n",
       "0   xgb 0.953     0.898              0.871      0.783   0.818     0.800\n",
       "0    nb 0.954     0.875              0.871      0.704   0.864     0.776"
      ]
     },
     "execution_count": 43,
     "metadata": {},
     "output_type": "execute_result"
    }
   ],
   "source": [
    "res.iloc[:,:-1]"
   ]
  },
  {
   "cell_type": "code",
   "execution_count": 44,
   "metadata": {},
   "outputs": [
    {
     "name": "stdout",
     "output_type": "stream",
     "text": [
      "\\begin{tabular}{lrrrrrr}\n",
      "\\toprule\n",
      "model &   auc &  accuracy &  balanced\\_accuracy &  precision &  recall &  f1\\_score \\\\\n",
      "\\midrule\n",
      "   dt & 0.944 &     0.920 &              0.871 &      0.895 &   0.773 &     0.829 \\\\\n",
      "   rf & 0.953 &     0.909 &              0.879 &      0.818 &   0.818 &     0.818 \\\\\n",
      "  xgb & 0.953 &     0.898 &              0.871 &      0.783 &   0.818 &     0.800 \\\\\n",
      "   nb & 0.954 &     0.875 &              0.871 &      0.704 &   0.864 &     0.776 \\\\\n",
      "\\bottomrule\n",
      "\\end{tabular}\n",
      "\n"
     ]
    }
   ],
   "source": [
    "print(res.iloc[:,:-1].to_latex(index=False))"
   ]
  },
  {
   "cell_type": "code",
   "execution_count": 45,
   "metadata": {},
   "outputs": [
    {
     "data": {
      "text/html": [
       "<div>\n",
       "<style scoped>\n",
       "    .dataframe tbody tr th:only-of-type {\n",
       "        vertical-align: middle;\n",
       "    }\n",
       "\n",
       "    .dataframe tbody tr th {\n",
       "        vertical-align: top;\n",
       "    }\n",
       "\n",
       "    .dataframe thead th {\n",
       "        text-align: right;\n",
       "    }\n",
       "</style>\n",
       "<table border=\"1\" class=\"dataframe\">\n",
       "  <thead>\n",
       "    <tr style=\"text-align: right;\">\n",
       "      <th></th>\n",
       "      <th>model</th>\n",
       "      <th>confusion_matrix (tp,tn,fp,fn)</th>\n",
       "    </tr>\n",
       "  </thead>\n",
       "  <tbody>\n",
       "    <tr>\n",
       "      <th>0</th>\n",
       "      <td>dt</td>\n",
       "      <td>[17, 64, 2, 5]</td>\n",
       "    </tr>\n",
       "    <tr>\n",
       "      <th>0</th>\n",
       "      <td>rf</td>\n",
       "      <td>[18, 62, 4, 4]</td>\n",
       "    </tr>\n",
       "    <tr>\n",
       "      <th>0</th>\n",
       "      <td>xgb</td>\n",
       "      <td>[18, 61, 5, 4]</td>\n",
       "    </tr>\n",
       "    <tr>\n",
       "      <th>0</th>\n",
       "      <td>nb</td>\n",
       "      <td>[19, 58, 8, 3]</td>\n",
       "    </tr>\n",
       "  </tbody>\n",
       "</table>\n",
       "</div>"
      ],
      "text/plain": [
       "  model confusion_matrix (tp,tn,fp,fn)\n",
       "0    dt                 [17, 64, 2, 5]\n",
       "0    rf                 [18, 62, 4, 4]\n",
       "0   xgb                 [18, 61, 5, 4]\n",
       "0    nb                 [19, 58, 8, 3]"
      ]
     },
     "execution_count": 45,
     "metadata": {},
     "output_type": "execute_result"
    }
   ],
   "source": [
    "pd.concat([res['model'], res.iloc[:,-1:]], axis=1)"
   ]
  },
  {
   "cell_type": "code",
   "execution_count": 46,
   "metadata": {},
   "outputs": [
    {
     "name": "stdout",
     "output_type": "stream",
     "text": [
      "\\begin{tabular}{ll}\n",
      "\\toprule\n",
      "model & confusion\\_matrix (tp,tn,fp,fn) \\\\\n",
      "\\midrule\n",
      "   dt &                 [17, 64, 2, 5] \\\\\n",
      "   rf &                 [18, 62, 4, 4] \\\\\n",
      "  xgb &                 [18, 61, 5, 4] \\\\\n",
      "   nb &                 [19, 58, 8, 3] \\\\\n",
      "\\bottomrule\n",
      "\\end{tabular}\n",
      "\n"
     ]
    }
   ],
   "source": [
    "print(pd.concat([res['model'], res.iloc[:,-1:]], axis=1).to_latex(index=False))"
   ]
  },
  {
   "cell_type": "markdown",
   "metadata": {},
   "source": [
    "### Generalization Performance"
   ]
  },
  {
   "cell_type": "code",
   "execution_count": 1,
   "metadata": {},
   "outputs": [],
   "source": [
    "auc_outer_score = [0.9058618, 0.9166982, 0.912393, 0.9303134]\n",
    "models = ['dt', 'rf', 'xgb', 'nb']"
   ]
  },
  {
   "cell_type": "code",
   "execution_count": 8,
   "metadata": {},
   "outputs": [],
   "source": [
    "df_gen_performance = pd.DataFrame([models, auc_outer_score]).T.rename(columns={0:'models', 1:'avg_outer_score'})"
   ]
  },
  {
   "cell_type": "code",
   "execution_count": 20,
   "metadata": {},
   "outputs": [],
   "source": [
    "sns.set_style('whitegrid')"
   ]
  },
  {
   "cell_type": "code",
   "execution_count": 37,
   "metadata": {},
   "outputs": [
    {
     "data": {
      "image/png": "[encoded data removed]",
      "text/plain": [
       "<Figure size 720x576 with 1 Axes>"
      ]
     },
     "metadata": {},
     "output_type": "display_data"
    }
   ],
   "source": [
    "plt.figure(figsize=(10,8))\n",
    "plt.title(\"Average Outer Loop Score (in AUC)\")\n",
    "sns.barplot(x='models', y='avg_outer_score', data=df_gen_performance)\n",
    "plt.ylim(0.85)\n",
    "plt.show()"
   ]
  },
  {
   "cell_type": "markdown",
   "metadata": {},
   "source": [
    "### Time Performance"
   ]
  },
  {
   "cell_type": "code",
   "execution_count": 47,
   "metadata": {
    "scrolled": true
   },
   "outputs": [],
   "source": [
    "df = pd.concat([pd.read_csv(\"tes_n.csv\"), pd.read_csv(\"tes_n2.csv\"), pd.read_csv(\"tes_n3.csv\")], axis=0)"
   ]
  },
  {
   "cell_type": "code",
   "execution_count": 48,
   "metadata": {
    "scrolled": true
   },
   "outputs": [
    {
     "data": {
      "text/html": [
       "<div>\n",
       "<style scoped>\n",
       "    .dataframe tbody tr th:only-of-type {\n",
       "        vertical-align: middle;\n",
       "    }\n",
       "\n",
       "    .dataframe tbody tr th {\n",
       "        vertical-align: top;\n",
       "    }\n",
       "\n",
       "    .dataframe thead th {\n",
       "        text-align: right;\n",
       "    }\n",
       "</style>\n",
       "<table border=\"1\" class=\"dataframe\">\n",
       "  <thead>\n",
       "    <tr style=\"text-align: right;\">\n",
       "      <th></th>\n",
       "      <th>merchant_name</th>\n",
       "      <th>broken_link_score</th>\n",
       "      <th>link_contact_us_exist</th>\n",
       "      <th>cu_email_exist</th>\n",
       "      <th>cu_phone_number_exist</th>\n",
       "      <th>link_about_us_exist</th>\n",
       "      <th>link_tnc_exist</th>\n",
       "      <th>tnc_refund_policy_exist</th>\n",
       "      <th>contact_us_score</th>\n",
       "      <th>tnc_score</th>\n",
       "      <th>links_response</th>\n",
       "      <th>website</th>\n",
       "      <th>prediction_class</th>\n",
       "      <th>prediction_prob</th>\n",
       "      <th>time_taken</th>\n",
       "    </tr>\n",
       "  </thead>\n",
       "  <tbody>\n",
       "    <tr>\n",
       "      <th>0</th>\n",
       "      <td>Enomin.com</td>\n",
       "      <td>0.000</td>\n",
       "      <td>1.000</td>\n",
       "      <td>0.000</td>\n",
       "      <td>1.000</td>\n",
       "      <td>1.000</td>\n",
       "      <td>1.000</td>\n",
       "      <td>1.000</td>\n",
       "      <td>66.667</td>\n",
       "      <td>100.000</td>\n",
       "      <td>{'https://1.bp.blogspot.com/-nmP3X7WFP4Y/XmD13...</td>\n",
       "      <td>https://www.enomin.com</td>\n",
       "      <td>0.000</td>\n",
       "      <td>0.000</td>\n",
       "      <td>12.161</td>\n",
       "    </tr>\n",
       "    <tr>\n",
       "      <th>1</th>\n",
       "      <td>PTAsuransiJiwaManulifeIndonesia</td>\n",
       "      <td>0.000</td>\n",
       "      <td>1.000</td>\n",
       "      <td>1.000</td>\n",
       "      <td>1.000</td>\n",
       "      <td>1.000</td>\n",
       "      <td>1.000</td>\n",
       "      <td>1.000</td>\n",
       "      <td>100.000</td>\n",
       "      <td>100.000</td>\n",
       "      <td>{'https://www.manulife.co.id/id/layanan/kelola...</td>\n",
       "      <td>https://www.manulife.co.id</td>\n",
       "      <td>0.000</td>\n",
       "      <td>0.000</td>\n",
       "      <td>17.885</td>\n",
       "    </tr>\n",
       "    <tr>\n",
       "      <th>2</th>\n",
       "      <td>DigitalServiceTestingMerchant</td>\n",
       "      <td>0.000</td>\n",
       "      <td>1.000</td>\n",
       "      <td>1.000</td>\n",
       "      <td>1.000</td>\n",
       "      <td>1.000</td>\n",
       "      <td>1.000</td>\n",
       "      <td>1.000</td>\n",
       "      <td>100.000</td>\n",
       "      <td>100.000</td>\n",
       "      <td>{'https://www.doku.com/customer-support': '&lt;Re...</td>\n",
       "      <td>www.doku.com</td>\n",
       "      <td>0.000</td>\n",
       "      <td>0.000</td>\n",
       "      <td>9.589</td>\n",
       "    </tr>\n",
       "    <tr>\n",
       "      <th>3</th>\n",
       "      <td>WhiskerWoof</td>\n",
       "      <td>1.000</td>\n",
       "      <td>0.000</td>\n",
       "      <td>0.000</td>\n",
       "      <td>0.000</td>\n",
       "      <td>0.000</td>\n",
       "      <td>0.000</td>\n",
       "      <td>0.000</td>\n",
       "      <td>0.000</td>\n",
       "      <td>0.000</td>\n",
       "      <td>No hyperlinks gathered</td>\n",
       "      <td>WhiskerWoof.com</td>\n",
       "      <td>1.000</td>\n",
       "      <td>0.998</td>\n",
       "      <td>1.074</td>\n",
       "    </tr>\n",
       "    <tr>\n",
       "      <th>4</th>\n",
       "      <td>AndrologiIndonesia</td>\n",
       "      <td>1.000</td>\n",
       "      <td>0.000</td>\n",
       "      <td>0.000</td>\n",
       "      <td>0.000</td>\n",
       "      <td>0.000</td>\n",
       "      <td>0.000</td>\n",
       "      <td>0.000</td>\n",
       "      <td>0.000</td>\n",
       "      <td>0.000</td>\n",
       "      <td>No hyperlinks gathered</td>\n",
       "      <td>https://www.andrologi.id</td>\n",
       "      <td>1.000</td>\n",
       "      <td>0.998</td>\n",
       "      <td>2.123</td>\n",
       "    </tr>\n",
       "    <tr>\n",
       "      <th>...</th>\n",
       "      <td>...</td>\n",
       "      <td>...</td>\n",
       "      <td>...</td>\n",
       "      <td>...</td>\n",
       "      <td>...</td>\n",
       "      <td>...</td>\n",
       "      <td>...</td>\n",
       "      <td>...</td>\n",
       "      <td>...</td>\n",
       "      <td>...</td>\n",
       "      <td>...</td>\n",
       "      <td>...</td>\n",
       "      <td>...</td>\n",
       "      <td>...</td>\n",
       "      <td>...</td>\n",
       "    </tr>\n",
       "    <tr>\n",
       "      <th>50</th>\n",
       "      <td>SukaLes</td>\n",
       "      <td>0.000</td>\n",
       "      <td>1.000</td>\n",
       "      <td>1.000</td>\n",
       "      <td>1.000</td>\n",
       "      <td>1.000</td>\n",
       "      <td>1.000</td>\n",
       "      <td>0.000</td>\n",
       "      <td>100.000</td>\n",
       "      <td>50.000</td>\n",
       "      <td>{'': 'No Response/Timeout', 'https://www.sukal...</td>\n",
       "      <td>https://www.sukales.com/</td>\n",
       "      <td>0.000</td>\n",
       "      <td>0.000</td>\n",
       "      <td>17.866</td>\n",
       "    </tr>\n",
       "    <tr>\n",
       "      <th>51</th>\n",
       "      <td>Wrsell</td>\n",
       "      <td>1.000</td>\n",
       "      <td>0.000</td>\n",
       "      <td>0.000</td>\n",
       "      <td>0.000</td>\n",
       "      <td>0.000</td>\n",
       "      <td>0.000</td>\n",
       "      <td>0.000</td>\n",
       "      <td>0.000</td>\n",
       "      <td>0.000</td>\n",
       "      <td>No hyperlinks gathered</td>\n",
       "      <td>wrsell.com</td>\n",
       "      <td>1.000</td>\n",
       "      <td>0.998</td>\n",
       "      <td>0.855</td>\n",
       "    </tr>\n",
       "    <tr>\n",
       "      <th>52</th>\n",
       "      <td>WhereisWayan?</td>\n",
       "      <td>1.000</td>\n",
       "      <td>1.000</td>\n",
       "      <td>1.000</td>\n",
       "      <td>1.000</td>\n",
       "      <td>0.000</td>\n",
       "      <td>0.000</td>\n",
       "      <td>1.000</td>\n",
       "      <td>100.000</td>\n",
       "      <td>50.000</td>\n",
       "      <td>No hyperlinks gathered</td>\n",
       "      <td>https://www.whereiswayan.com</td>\n",
       "      <td>0.000</td>\n",
       "      <td>0.017</td>\n",
       "      <td>15.877</td>\n",
       "    </tr>\n",
       "    <tr>\n",
       "      <th>53</th>\n",
       "      <td>Megadapur</td>\n",
       "      <td>1.000</td>\n",
       "      <td>0.000</td>\n",
       "      <td>0.000</td>\n",
       "      <td>0.000</td>\n",
       "      <td>0.000</td>\n",
       "      <td>0.000</td>\n",
       "      <td>0.000</td>\n",
       "      <td>0.000</td>\n",
       "      <td>0.000</td>\n",
       "      <td>No hyperlinks gathered</td>\n",
       "      <td>https://megadapur.com</td>\n",
       "      <td>1.000</td>\n",
       "      <td>0.998</td>\n",
       "      <td>6.000</td>\n",
       "    </tr>\n",
       "    <tr>\n",
       "      <th>0</th>\n",
       "      <td>Excellentholiday</td>\n",
       "      <td>1.000</td>\n",
       "      <td>0.000</td>\n",
       "      <td>0.000</td>\n",
       "      <td>0.000</td>\n",
       "      <td>0.000</td>\n",
       "      <td>0.000</td>\n",
       "      <td>0.000</td>\n",
       "      <td>0.000</td>\n",
       "      <td>0.000</td>\n",
       "      <td>No hyperlinks gathered</td>\n",
       "      <td>Http://excellentholiday.id</td>\n",
       "      <td>1.000</td>\n",
       "      <td>0.998</td>\n",
       "      <td>34.513</td>\n",
       "    </tr>\n",
       "  </tbody>\n",
       "</table>\n",
       "<p>100 rows × 15 columns</p>\n",
       "</div>"
      ],
      "text/plain": [
       "                      merchant_name  broken_link_score  link_contact_us_exist  \\\n",
       "0                        Enomin.com              0.000                  1.000   \n",
       "1   PTAsuransiJiwaManulifeIndonesia              0.000                  1.000   \n",
       "2     DigitalServiceTestingMerchant              0.000                  1.000   \n",
       "3                       WhiskerWoof              1.000                  0.000   \n",
       "4                AndrologiIndonesia              1.000                  0.000   \n",
       "..                              ...                ...                    ...   \n",
       "50                          SukaLes              0.000                  1.000   \n",
       "51                           Wrsell              1.000                  0.000   \n",
       "52                    WhereisWayan?              1.000                  1.000   \n",
       "53                        Megadapur              1.000                  0.000   \n",
       "0                  Excellentholiday              1.000                  0.000   \n",
       "\n",
       "    cu_email_exist  cu_phone_number_exist  link_about_us_exist  \\\n",
       "0            0.000                  1.000                1.000   \n",
       "1            1.000                  1.000                1.000   \n",
       "2            1.000                  1.000                1.000   \n",
       "3            0.000                  0.000                0.000   \n",
       "4            0.000                  0.000                0.000   \n",
       "..             ...                    ...                  ...   \n",
       "50           1.000                  1.000                1.000   \n",
       "51           0.000                  0.000                0.000   \n",
       "52           1.000                  1.000                0.000   \n",
       "53           0.000                  0.000                0.000   \n",
       "0            0.000                  0.000                0.000   \n",
       "\n",
       "    link_tnc_exist  tnc_refund_policy_exist  contact_us_score  tnc_score  \\\n",
       "0            1.000                    1.000            66.667    100.000   \n",
       "1            1.000                    1.000           100.000    100.000   \n",
       "2            1.000                    1.000           100.000    100.000   \n",
       "3            0.000                    0.000             0.000      0.000   \n",
       "4            0.000                    0.000             0.000      0.000   \n",
       "..             ...                      ...               ...        ...   \n",
       "50           1.000                    0.000           100.000     50.000   \n",
       "51           0.000                    0.000             0.000      0.000   \n",
       "52           0.000                    1.000           100.000     50.000   \n",
       "53           0.000                    0.000             0.000      0.000   \n",
       "0            0.000                    0.000             0.000      0.000   \n",
       "\n",
       "                                       links_response  \\\n",
       "0   {'https://1.bp.blogspot.com/-nmP3X7WFP4Y/XmD13...   \n",
       "1   {'https://www.manulife.co.id/id/layanan/kelola...   \n",
       "2   {'https://www.doku.com/customer-support': '<Re...   \n",
       "3                              No hyperlinks gathered   \n",
       "4                              No hyperlinks gathered   \n",
       "..                                                ...   \n",
       "50  {'': 'No Response/Timeout', 'https://www.sukal...   \n",
       "51                             No hyperlinks gathered   \n",
       "52                             No hyperlinks gathered   \n",
       "53                             No hyperlinks gathered   \n",
       "0                              No hyperlinks gathered   \n",
       "\n",
       "                         website  prediction_class  prediction_prob  \\\n",
       "0         https://www.enomin.com             0.000            0.000   \n",
       "1     https://www.manulife.co.id             0.000            0.000   \n",
       "2                   www.doku.com             0.000            0.000   \n",
       "3                WhiskerWoof.com             1.000            0.998   \n",
       "4       https://www.andrologi.id             1.000            0.998   \n",
       "..                           ...               ...              ...   \n",
       "50      https://www.sukales.com/             0.000            0.000   \n",
       "51                    wrsell.com             1.000            0.998   \n",
       "52  https://www.whereiswayan.com             0.000            0.017   \n",
       "53         https://megadapur.com             1.000            0.998   \n",
       "0     Http://excellentholiday.id             1.000            0.998   \n",
       "\n",
       "    time_taken  \n",
       "0       12.161  \n",
       "1       17.885  \n",
       "2        9.589  \n",
       "3        1.074  \n",
       "4        2.123  \n",
       "..         ...  \n",
       "50      17.866  \n",
       "51       0.855  \n",
       "52      15.877  \n",
       "53       6.000  \n",
       "0       34.513  \n",
       "\n",
       "[100 rows x 15 columns]"
      ]
     },
     "execution_count": 48,
     "metadata": {},
     "output_type": "execute_result"
    }
   ],
   "source": [
    "## Find Time Taken Average\n",
    "df.iloc[:,1:]"
   ]
  },
  {
   "cell_type": "code",
   "execution_count": 65,
   "metadata": {},
   "outputs": [
    {
     "data": {
      "text/plain": [
       "'count   100.000\\nmean     14.375\\nstd      22.086\\nmin       0.313\\n25%       1.575\\n50%       8.288\\n75%      18.564\\nmax     186.286'"
      ]
     },
     "execution_count": 65,
     "metadata": {},
     "output_type": "execute_result"
    }
   ],
   "source": [
    "df['time_taken'].describe().to_string()"
   ]
  },
  {
   "cell_type": "code",
   "execution_count": 75,
   "metadata": {},
   "outputs": [
    {
     "data": {
      "image/png": "[encoded data removed]",
      "text/plain": [
       "<Figure size 1080x360 with 1 Axes>"
      ]
     },
     "metadata": {},
     "output_type": "display_data"
    }
   ],
   "source": [
    "sns.set_style(\"darkgrid\")\n",
    "plt.figure(figsize=(15,5))\n",
    "sns.distplot(df['time_taken'], kde=False)\n",
    "plt.text(x=130, y=20, s=df['time_taken'].describe().to_string(), fontsize=12)\n",
    "plt.title(\"Distribution of Processing Time by Web Crawler\\n(in seconds)\")\n",
    "plt.show()"
   ]
  },
  {
   "cell_type": "markdown",
   "metadata": {},
   "source": [
    "### Sample Merchant Data"
   ]
  },
  {
   "cell_type": "code",
   "execution_count": 28,
   "metadata": {},
   "outputs": [],
   "source": [
    "merchants = pd.read_csv(\"merchants_cleaned.csv\")"
   ]
  },
  {
   "cell_type": "code",
   "execution_count": 29,
   "metadata": {},
   "outputs": [],
   "source": [
    "merchants.drop_duplicates(\"website\").sample(n=100, replace=False).iloc[:,1:].reset_index(drop=True).to_csv(\"merchants_sampled.csv\", index=False)"
   ]
  },
  {
   "cell_type": "code",
   "execution_count": 30,
   "metadata": {},
   "outputs": [
    {
     "data": {
      "text/html": [
       "<div>\n",
       "<style scoped>\n",
       "    .dataframe tbody tr th:only-of-type {\n",
       "        vertical-align: middle;\n",
       "    }\n",
       "\n",
       "    .dataframe tbody tr th {\n",
       "        vertical-align: top;\n",
       "    }\n",
       "\n",
       "    .dataframe thead th {\n",
       "        text-align: right;\n",
       "    }\n",
       "</style>\n",
       "<table border=\"1\" class=\"dataframe\">\n",
       "  <thead>\n",
       "    <tr style=\"text-align: right;\">\n",
       "      <th></th>\n",
       "      <th>merchant_name</th>\n",
       "      <th>website</th>\n",
       "      <th>label</th>\n",
       "    </tr>\n",
       "  </thead>\n",
       "  <tbody>\n",
       "    <tr>\n",
       "      <th>0</th>\n",
       "      <td>Enomin.com</td>\n",
       "      <td>https://www.enomin.com</td>\n",
       "      <td>APPROVED</td>\n",
       "    </tr>\n",
       "    <tr>\n",
       "      <th>1</th>\n",
       "      <td>PTAsuransiJiwaManulifeIndonesia</td>\n",
       "      <td>https://www.manulife.co.id</td>\n",
       "      <td>APPROVED</td>\n",
       "    </tr>\n",
       "    <tr>\n",
       "      <th>2</th>\n",
       "      <td>DigitalServiceTestingMerchant</td>\n",
       "      <td>www.doku.com</td>\n",
       "      <td>APPROVED</td>\n",
       "    </tr>\n",
       "    <tr>\n",
       "      <th>3</th>\n",
       "      <td>WhiskerWoof</td>\n",
       "      <td>WhiskerWoof.com</td>\n",
       "      <td>REJECTED</td>\n",
       "    </tr>\n",
       "    <tr>\n",
       "      <th>4</th>\n",
       "      <td>AndrologiIndonesia</td>\n",
       "      <td>https://www.andrologi.id</td>\n",
       "      <td>APPROVED</td>\n",
       "    </tr>\n",
       "    <tr>\n",
       "      <th>...</th>\n",
       "      <td>...</td>\n",
       "      <td>...</td>\n",
       "      <td>...</td>\n",
       "    </tr>\n",
       "    <tr>\n",
       "      <th>95</th>\n",
       "      <td>buy-saber</td>\n",
       "      <td>https://buy-saber.com/</td>\n",
       "      <td>APPROVED</td>\n",
       "    </tr>\n",
       "    <tr>\n",
       "      <th>96</th>\n",
       "      <td>SukaLes</td>\n",
       "      <td>https://www.sukales.com/</td>\n",
       "      <td>APPROVED</td>\n",
       "    </tr>\n",
       "    <tr>\n",
       "      <th>97</th>\n",
       "      <td>Wrsell</td>\n",
       "      <td>wrsell.com</td>\n",
       "      <td>REJECTED</td>\n",
       "    </tr>\n",
       "    <tr>\n",
       "      <th>98</th>\n",
       "      <td>WhereisWayan?</td>\n",
       "      <td>https://www.whereiswayan.com</td>\n",
       "      <td>APPROVED</td>\n",
       "    </tr>\n",
       "    <tr>\n",
       "      <th>99</th>\n",
       "      <td>Megadapur</td>\n",
       "      <td>https://megadapur.com</td>\n",
       "      <td>APPROVED</td>\n",
       "    </tr>\n",
       "  </tbody>\n",
       "</table>\n",
       "<p>100 rows × 3 columns</p>\n",
       "</div>"
      ],
      "text/plain": [
       "                      merchant_name                       website     label\n",
       "0                        Enomin.com        https://www.enomin.com  APPROVED\n",
       "1   PTAsuransiJiwaManulifeIndonesia    https://www.manulife.co.id  APPROVED\n",
       "2     DigitalServiceTestingMerchant                  www.doku.com  APPROVED\n",
       "3                       WhiskerWoof               WhiskerWoof.com  REJECTED\n",
       "4                AndrologiIndonesia      https://www.andrologi.id  APPROVED\n",
       "..                              ...                           ...       ...\n",
       "95                        buy-saber        https://buy-saber.com/  APPROVED\n",
       "96                          SukaLes      https://www.sukales.com/  APPROVED\n",
       "97                           Wrsell                    wrsell.com  REJECTED\n",
       "98                    WhereisWayan?  https://www.whereiswayan.com  APPROVED\n",
       "99                        Megadapur         https://megadapur.com  APPROVED\n",
       "\n",
       "[100 rows x 3 columns]"
      ]
     },
     "execution_count": 30,
     "metadata": {},
     "output_type": "execute_result"
    }
   ],
   "source": [
    "merchants_sampled = pd.read_csv(\"merchants_sampled.csv\")\n",
    "merchants_sampled"
   ]
  }
 ],
 "metadata": {
  "kernelspec": {
   "display_name": "Python 3",
   "language": "python",
   "name": "python3"
  },
  "language_info": {
   "codemirror_mode": {
    "name": "ipython",
    "version": 3
   },
   "file_extension": ".py",
   "mimetype": "text/x-python",
   "name": "python",
   "nbconvert_exporter": "python",
   "pygments_lexer": "ipython3",
   "version": "3.7.3"
  }
 },
 "nbformat": 4,
 "nbformat_minor": 4
}
