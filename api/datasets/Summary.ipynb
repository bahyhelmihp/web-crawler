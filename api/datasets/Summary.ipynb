{
 "cells": [
  {
   "cell_type": "code",
   "execution_count": 49,
   "metadata": {},
   "outputs": [],
   "source": [
    "import matplotlib.pyplot as plt\n",
    "import pandas as pd"
   ]
  },
  {
   "cell_type": "code",
   "execution_count": 58,
   "metadata": {},
   "outputs": [],
   "source": [
    "## Load all csv\n",
    "models = ['dt', 'rf', 'xgb', 'nb']\n",
    "res = pd.DataFrame({\"model\":[]})\n",
    "for model in models:\n",
    "    df = pd.read_csv(\"res_%s.csv\" % model)\n",
    "    df['model'] = model\n",
    "    res = pd.concat([res, df], axis=0)"
   ]
  },
  {
   "cell_type": "code",
   "execution_count": 59,
   "metadata": {},
   "outputs": [],
   "source": [
    "res = res.drop(\"0\", axis=1)"
   ]
  },
  {
   "cell_type": "code",
   "execution_count": 66,
   "metadata": {},
   "outputs": [],
   "source": [
    "pd.options.display.float_format = '{:,.3f}'.format"
   ]
  },
  {
   "cell_type": "code",
   "execution_count": 70,
   "metadata": {},
   "outputs": [
    {
     "data": {
      "text/html": [
       "<div>\n",
       "<style scoped>\n",
       "    .dataframe tbody tr th:only-of-type {\n",
       "        vertical-align: middle;\n",
       "    }\n",
       "\n",
       "    .dataframe tbody tr th {\n",
       "        vertical-align: top;\n",
       "    }\n",
       "\n",
       "    .dataframe thead th {\n",
       "        text-align: right;\n",
       "    }\n",
       "</style>\n",
       "<table border=\"1\" class=\"dataframe\">\n",
       "  <thead>\n",
       "    <tr style=\"text-align: right;\">\n",
       "      <th></th>\n",
       "      <th>model</th>\n",
       "      <th>auc</th>\n",
       "      <th>accuracy</th>\n",
       "      <th>balanced_accuracy</th>\n",
       "      <th>precision</th>\n",
       "      <th>recall</th>\n",
       "      <th>f1_score</th>\n",
       "    </tr>\n",
       "  </thead>\n",
       "  <tbody>\n",
       "    <tr>\n",
       "      <th>0</th>\n",
       "      <td>dt</td>\n",
       "      <td>0.944</td>\n",
       "      <td>0.920</td>\n",
       "      <td>0.871</td>\n",
       "      <td>0.895</td>\n",
       "      <td>0.773</td>\n",
       "      <td>0.829</td>\n",
       "    </tr>\n",
       "    <tr>\n",
       "      <th>0</th>\n",
       "      <td>rf</td>\n",
       "      <td>0.953</td>\n",
       "      <td>0.909</td>\n",
       "      <td>0.879</td>\n",
       "      <td>0.818</td>\n",
       "      <td>0.818</td>\n",
       "      <td>0.818</td>\n",
       "    </tr>\n",
       "    <tr>\n",
       "      <th>0</th>\n",
       "      <td>xgb</td>\n",
       "      <td>0.953</td>\n",
       "      <td>0.898</td>\n",
       "      <td>0.871</td>\n",
       "      <td>0.783</td>\n",
       "      <td>0.818</td>\n",
       "      <td>0.800</td>\n",
       "    </tr>\n",
       "    <tr>\n",
       "      <th>0</th>\n",
       "      <td>nb</td>\n",
       "      <td>0.953</td>\n",
       "      <td>0.864</td>\n",
       "      <td>0.864</td>\n",
       "      <td>0.679</td>\n",
       "      <td>0.864</td>\n",
       "      <td>0.760</td>\n",
       "    </tr>\n",
       "  </tbody>\n",
       "</table>\n",
       "</div>"
      ],
      "text/plain": [
       "  model   auc  accuracy  balanced_accuracy  precision  recall  f1_score\n",
       "0    dt 0.944     0.920              0.871      0.895   0.773     0.829\n",
       "0    rf 0.953     0.909              0.879      0.818   0.818     0.818\n",
       "0   xgb 0.953     0.898              0.871      0.783   0.818     0.800\n",
       "0    nb 0.953     0.864              0.864      0.679   0.864     0.760"
      ]
     },
     "execution_count": 70,
     "metadata": {},
     "output_type": "execute_result"
    }
   ],
   "source": [
    "res.iloc[:,:-1]"
   ]
  },
  {
   "cell_type": "code",
   "execution_count": 71,
   "metadata": {},
   "outputs": [
    {
     "name": "stdout",
     "output_type": "stream",
     "text": [
      "\\begin{tabular}{lrrrrrr}\n",
      "\\toprule\n",
      "model &   auc &  accuracy &  balanced\\_accuracy &  precision &  recall &  f1\\_score \\\\\n",
      "\\midrule\n",
      "   dt & 0.944 &     0.920 &              0.871 &      0.895 &   0.773 &     0.829 \\\\\n",
      "   rf & 0.953 &     0.909 &              0.879 &      0.818 &   0.818 &     0.818 \\\\\n",
      "  xgb & 0.953 &     0.898 &              0.871 &      0.783 &   0.818 &     0.800 \\\\\n",
      "   nb & 0.953 &     0.864 &              0.864 &      0.679 &   0.864 &     0.760 \\\\\n",
      "\\bottomrule\n",
      "\\end{tabular}\n",
      "\n"
     ]
    }
   ],
   "source": [
    "print(res.iloc[:,:-1].to_latex(index=False))"
   ]
  },
  {
   "cell_type": "code",
   "execution_count": 74,
   "metadata": {},
   "outputs": [
    {
     "data": {
      "text/html": [
       "<div>\n",
       "<style scoped>\n",
       "    .dataframe tbody tr th:only-of-type {\n",
       "        vertical-align: middle;\n",
       "    }\n",
       "\n",
       "    .dataframe tbody tr th {\n",
       "        vertical-align: top;\n",
       "    }\n",
       "\n",
       "    .dataframe thead th {\n",
       "        text-align: right;\n",
       "    }\n",
       "</style>\n",
       "<table border=\"1\" class=\"dataframe\">\n",
       "  <thead>\n",
       "    <tr style=\"text-align: right;\">\n",
       "      <th></th>\n",
       "      <th>model</th>\n",
       "      <th>confusion_matrix (tp,tn,fp,fn)</th>\n",
       "    </tr>\n",
       "  </thead>\n",
       "  <tbody>\n",
       "    <tr>\n",
       "      <th>0</th>\n",
       "      <td>dt</td>\n",
       "      <td>[17, 64, 2, 5]</td>\n",
       "    </tr>\n",
       "    <tr>\n",
       "      <th>0</th>\n",
       "      <td>rf</td>\n",
       "      <td>[18, 62, 4, 4]</td>\n",
       "    </tr>\n",
       "    <tr>\n",
       "      <th>0</th>\n",
       "      <td>xgb</td>\n",
       "      <td>[18, 61, 5, 4]</td>\n",
       "    </tr>\n",
       "    <tr>\n",
       "      <th>0</th>\n",
       "      <td>nb</td>\n",
       "      <td>[19, 57, 9, 3]</td>\n",
       "    </tr>\n",
       "  </tbody>\n",
       "</table>\n",
       "</div>"
      ],
      "text/plain": [
       "  model confusion_matrix (tp,tn,fp,fn)\n",
       "0    dt                 [17, 64, 2, 5]\n",
       "0    rf                 [18, 62, 4, 4]\n",
       "0   xgb                 [18, 61, 5, 4]\n",
       "0    nb                 [19, 57, 9, 3]"
      ]
     },
     "execution_count": 74,
     "metadata": {},
     "output_type": "execute_result"
    }
   ],
   "source": [
    "pd.concat([res['model'], res.iloc[:,-1:]], axis=1)"
   ]
  },
  {
   "cell_type": "code",
   "execution_count": 75,
   "metadata": {},
   "outputs": [
    {
     "name": "stdout",
     "output_type": "stream",
     "text": [
      "\\begin{tabular}{ll}\n",
      "\\toprule\n",
      "model & confusion\\_matrix (tp,tn,fp,fn) \\\\\n",
      "\\midrule\n",
      "   dt &                 [17, 64, 2, 5] \\\\\n",
      "   rf &                 [18, 62, 4, 4] \\\\\n",
      "  xgb &                 [18, 61, 5, 4] \\\\\n",
      "   nb &                 [19, 57, 9, 3] \\\\\n",
      "\\bottomrule\n",
      "\\end{tabular}\n",
      "\n"
     ]
    }
   ],
   "source": [
    "print(pd.concat([res['model'], res.iloc[:,-1:]], axis=1).to_latex(index=False))"
   ]
  },
  {
   "cell_type": "code",
   "execution_count": null,
   "metadata": {},
   "outputs": [],
   "source": []
  }
 ],
 "metadata": {
  "kernelspec": {
   "display_name": "Python 3",
   "language": "python",
   "name": "python3"
  },
  "language_info": {
   "codemirror_mode": {
    "name": "ipython",
    "version": 3
   },
   "file_extension": ".py",
   "mimetype": "text/x-python",
   "name": "python",
   "nbconvert_exporter": "python",
   "pygments_lexer": "ipython3",
   "version": "3.7.3"
  }
 },
 "nbformat": 4,
 "nbformat_minor": 4
}
