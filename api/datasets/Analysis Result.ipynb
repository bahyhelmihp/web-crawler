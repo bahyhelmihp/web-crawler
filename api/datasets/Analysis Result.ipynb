{
 "cells": [
  {
   "cell_type": "code",
   "execution_count": 1,
   "metadata": {
    "scrolled": true
   },
   "outputs": [],
   "source": [
    "import pandas as pd\n",
    "import matplotlib.pyplot as plt\n",
    "import seaborn as sns\n",
    "import requests\n",
    "import re\n",
    "from bs4 import BeautifulSoup as bs\n",
    "import numpy as np"
   ]
  },
  {
   "cell_type": "markdown",
   "metadata": {},
   "source": [
    "## Results All"
   ]
  },
  {
   "cell_type": "code",
   "execution_count": 19,
   "metadata": {},
   "outputs": [],
   "source": [
    "all_df = pd.concat([pd.read_csv(\"tes1.csv\"), pd.read_csv(\"tes2.csv\"), pd.read_csv(\"tes3.csv\"), pd.read_csv(\"tes4.csv\")]\\\n",
    "              ).iloc[:,1:].drop_duplicates()"
   ]
  },
  {
   "cell_type": "code",
   "execution_count": 20,
   "metadata": {
    "scrolled": true
   },
   "outputs": [
    {
     "data": {
      "text/plain": [
       "(432, 13)"
      ]
     },
     "execution_count": 20,
     "metadata": {},
     "output_type": "execute_result"
    }
   ],
   "source": [
    "all_df.shape"
   ]
  },
  {
   "cell_type": "code",
   "execution_count": 50,
   "metadata": {
    "scrolled": true
   },
   "outputs": [
    {
     "data": {
      "text/html": [
       "<div>\n",
       "<style scoped>\n",
       "    .dataframe tbody tr th:only-of-type {\n",
       "        vertical-align: middle;\n",
       "    }\n",
       "\n",
       "    .dataframe tbody tr th {\n",
       "        vertical-align: top;\n",
       "    }\n",
       "\n",
       "    .dataframe thead th {\n",
       "        text-align: right;\n",
       "    }\n",
       "</style>\n",
       "<table border=\"1\" class=\"dataframe\">\n",
       "  <thead>\n",
       "    <tr style=\"text-align: right;\">\n",
       "      <th></th>\n",
       "      <th>merchant_name</th>\n",
       "      <th>broken_link_score</th>\n",
       "      <th>link_contact_us_exist</th>\n",
       "      <th>cu_email_exist</th>\n",
       "      <th>cu_phone_number_exist</th>\n",
       "      <th>link_about_us_exist</th>\n",
       "      <th>link_tnc_exist</th>\n",
       "      <th>tnc_refund_policy_exist</th>\n",
       "      <th>contact_us_score</th>\n",
       "      <th>tnc_score</th>\n",
       "      <th>broken_links</th>\n",
       "      <th>website</th>\n",
       "      <th>label</th>\n",
       "    </tr>\n",
       "  </thead>\n",
       "  <tbody>\n",
       "    <tr>\n",
       "      <th>0</th>\n",
       "      <td>CV.ASIATRIPINDONESIA</td>\n",
       "      <td>0.0</td>\n",
       "      <td>1.0</td>\n",
       "      <td>1.0</td>\n",
       "      <td>1.0</td>\n",
       "      <td>0.0</td>\n",
       "      <td>1.0</td>\n",
       "      <td>1.0</td>\n",
       "      <td>100.0</td>\n",
       "      <td>100.0</td>\n",
       "      <td>{}</td>\n",
       "      <td>http://asiatrip.id/</td>\n",
       "      <td>APPROVED</td>\n",
       "    </tr>\n",
       "    <tr>\n",
       "      <th>1</th>\n",
       "      <td>Pt.BloomingLotusYoga</td>\n",
       "      <td>0.0</td>\n",
       "      <td>1.0</td>\n",
       "      <td>1.0</td>\n",
       "      <td>1.0</td>\n",
       "      <td>1.0</td>\n",
       "      <td>1.0</td>\n",
       "      <td>0.0</td>\n",
       "      <td>100.0</td>\n",
       "      <td>50.0</td>\n",
       "      <td>{}</td>\n",
       "      <td>https://www.blooming-lotus-yoga.com</td>\n",
       "      <td>APPROVED</td>\n",
       "    </tr>\n",
       "    <tr>\n",
       "      <th>2</th>\n",
       "      <td>YayasanGreenSejahtera</td>\n",
       "      <td>0.0</td>\n",
       "      <td>1.0</td>\n",
       "      <td>1.0</td>\n",
       "      <td>1.0</td>\n",
       "      <td>1.0</td>\n",
       "      <td>1.0</td>\n",
       "      <td>1.0</td>\n",
       "      <td>100.0</td>\n",
       "      <td>100.0</td>\n",
       "      <td>{}</td>\n",
       "      <td>https://greensejahterafoundation.com/</td>\n",
       "      <td>APPROVED</td>\n",
       "    </tr>\n",
       "    <tr>\n",
       "      <th>3</th>\n",
       "      <td>PTMatairTerraSolusi</td>\n",
       "      <td>0.0</td>\n",
       "      <td>1.0</td>\n",
       "      <td>0.0</td>\n",
       "      <td>0.0</td>\n",
       "      <td>1.0</td>\n",
       "      <td>1.0</td>\n",
       "      <td>0.0</td>\n",
       "      <td>0.0</td>\n",
       "      <td>0.0</td>\n",
       "      <td>{}</td>\n",
       "      <td>http://www.matair.co.id</td>\n",
       "      <td>APPROVED</td>\n",
       "    </tr>\n",
       "    <tr>\n",
       "      <th>4</th>\n",
       "      <td>SimplyMii</td>\n",
       "      <td>0.0</td>\n",
       "      <td>1.0</td>\n",
       "      <td>1.0</td>\n",
       "      <td>1.0</td>\n",
       "      <td>0.0</td>\n",
       "      <td>0.0</td>\n",
       "      <td>0.0</td>\n",
       "      <td>100.0</td>\n",
       "      <td>0.0</td>\n",
       "      <td>{}</td>\n",
       "      <td>https://www.simplymii.com/</td>\n",
       "      <td>APPROVED</td>\n",
       "    </tr>\n",
       "  </tbody>\n",
       "</table>\n",
       "</div>"
      ],
      "text/plain": [
       "           merchant_name  broken_link_score  link_contact_us_exist  \\\n",
       "0   CV.ASIATRIPINDONESIA                0.0                    1.0   \n",
       "1   Pt.BloomingLotusYoga                0.0                    1.0   \n",
       "2  YayasanGreenSejahtera                0.0                    1.0   \n",
       "3    PTMatairTerraSolusi                0.0                    1.0   \n",
       "4              SimplyMii                0.0                    1.0   \n",
       "\n",
       "   cu_email_exist  cu_phone_number_exist  link_about_us_exist  link_tnc_exist  \\\n",
       "0             1.0                    1.0                  0.0             1.0   \n",
       "1             1.0                    1.0                  1.0             1.0   \n",
       "2             1.0                    1.0                  1.0             1.0   \n",
       "3             0.0                    0.0                  1.0             1.0   \n",
       "4             1.0                    1.0                  0.0             0.0   \n",
       "\n",
       "   tnc_refund_policy_exist  contact_us_score  tnc_score broken_links  \\\n",
       "0                      1.0             100.0      100.0           {}   \n",
       "1                      0.0             100.0       50.0           {}   \n",
       "2                      1.0             100.0      100.0           {}   \n",
       "3                      0.0               0.0        0.0           {}   \n",
       "4                      0.0             100.0        0.0           {}   \n",
       "\n",
       "                                 website     label  \n",
       "0                    http://asiatrip.id/  APPROVED  \n",
       "1    https://www.blooming-lotus-yoga.com  APPROVED  \n",
       "2  https://greensejahterafoundation.com/  APPROVED  \n",
       "3                http://www.matair.co.id  APPROVED  \n",
       "4             https://www.simplymii.com/  APPROVED  "
      ]
     },
     "execution_count": 50,
     "metadata": {},
     "output_type": "execute_result"
    }
   ],
   "source": [
    "all_df.head()"
   ]
  },
  {
   "cell_type": "code",
   "execution_count": 43,
   "metadata": {},
   "outputs": [
    {
     "data": {
      "text/plain": [
       "label\n",
       "APPROVED    300\n",
       "REJECTED     25\n",
       "REVIEWED    107\n",
       "dtype: int64"
      ]
     },
     "execution_count": 43,
     "metadata": {},
     "output_type": "execute_result"
    }
   ],
   "source": [
    "all_df.groupby(\"label\").size()"
   ]
  },
  {
   "cell_type": "code",
   "execution_count": 69,
   "metadata": {
    "scrolled": true
   },
   "outputs": [],
   "source": [
    "## Inspect the negative label\n",
    "negative_df = all_df[all_df.label == 'REJECTED']"
   ]
  },
  {
   "cell_type": "code",
   "execution_count": 71,
   "metadata": {
    "scrolled": true
   },
   "outputs": [
    {
     "data": {
      "text/html": [
       "<div>\n",
       "<style scoped>\n",
       "    .dataframe tbody tr th:only-of-type {\n",
       "        vertical-align: middle;\n",
       "    }\n",
       "\n",
       "    .dataframe tbody tr th {\n",
       "        vertical-align: top;\n",
       "    }\n",
       "\n",
       "    .dataframe thead th {\n",
       "        text-align: right;\n",
       "    }\n",
       "</style>\n",
       "<table border=\"1\" class=\"dataframe\">\n",
       "  <thead>\n",
       "    <tr style=\"text-align: right;\">\n",
       "      <th></th>\n",
       "      <th>merchant_name</th>\n",
       "      <th>broken_link_score</th>\n",
       "      <th>link_contact_us_exist</th>\n",
       "      <th>cu_email_exist</th>\n",
       "      <th>cu_phone_number_exist</th>\n",
       "      <th>link_about_us_exist</th>\n",
       "      <th>link_tnc_exist</th>\n",
       "      <th>tnc_refund_policy_exist</th>\n",
       "      <th>contact_us_score</th>\n",
       "      <th>tnc_score</th>\n",
       "      <th>broken_links</th>\n",
       "      <th>website</th>\n",
       "      <th>label</th>\n",
       "    </tr>\n",
       "  </thead>\n",
       "  <tbody>\n",
       "    <tr>\n",
       "      <th>7</th>\n",
       "      <td>YoYoMats</td>\n",
       "      <td>0.0</td>\n",
       "      <td>0.0</td>\n",
       "      <td>0.0</td>\n",
       "      <td>0.0</td>\n",
       "      <td>0.0</td>\n",
       "      <td>1.0</td>\n",
       "      <td>1.0</td>\n",
       "      <td>0.000000</td>\n",
       "      <td>100.0</td>\n",
       "      <td>{}</td>\n",
       "      <td>https://yoyomatsindonesia.myshopify.com</td>\n",
       "      <td>REJECTED</td>\n",
       "    </tr>\n",
       "    <tr>\n",
       "      <th>10</th>\n",
       "      <td>SisilShop</td>\n",
       "      <td>100.0</td>\n",
       "      <td>1.0</td>\n",
       "      <td>0.0</td>\n",
       "      <td>0.0</td>\n",
       "      <td>0.0</td>\n",
       "      <td>1.0</td>\n",
       "      <td>0.0</td>\n",
       "      <td>33.333333</td>\n",
       "      <td>0.0</td>\n",
       "      <td>{'': 'None'}</td>\n",
       "      <td>SisilShop.com</td>\n",
       "      <td>REJECTED</td>\n",
       "    </tr>\n",
       "    <tr>\n",
       "      <th>11</th>\n",
       "      <td>GammaMedia</td>\n",
       "      <td>100.0</td>\n",
       "      <td>1.0</td>\n",
       "      <td>0.0</td>\n",
       "      <td>0.0</td>\n",
       "      <td>0.0</td>\n",
       "      <td>1.0</td>\n",
       "      <td>0.0</td>\n",
       "      <td>33.333333</td>\n",
       "      <td>0.0</td>\n",
       "      <td>{'': 'None'}</td>\n",
       "      <td>http://gammamedia.co.id</td>\n",
       "      <td>REJECTED</td>\n",
       "    </tr>\n",
       "    <tr>\n",
       "      <th>12</th>\n",
       "      <td>ShinhwaGlobalSakuraBear</td>\n",
       "      <td>100.0</td>\n",
       "      <td>1.0</td>\n",
       "      <td>0.0</td>\n",
       "      <td>0.0</td>\n",
       "      <td>0.0</td>\n",
       "      <td>1.0</td>\n",
       "      <td>0.0</td>\n",
       "      <td>33.333333</td>\n",
       "      <td>0.0</td>\n",
       "      <td>{'': 'None'}</td>\n",
       "      <td>http://www.shinhwaglobalsakurabearinternationa...</td>\n",
       "      <td>REJECTED</td>\n",
       "    </tr>\n",
       "    <tr>\n",
       "      <th>13</th>\n",
       "      <td>Gitra</td>\n",
       "      <td>12.5</td>\n",
       "      <td>0.0</td>\n",
       "      <td>0.0</td>\n",
       "      <td>0.0</td>\n",
       "      <td>0.0</td>\n",
       "      <td>1.0</td>\n",
       "      <td>0.0</td>\n",
       "      <td>0.000000</td>\n",
       "      <td>50.0</td>\n",
       "      <td>{'http://s.my.id': 'None'}</td>\n",
       "      <td>s.id/StartFromTheBottom</td>\n",
       "      <td>REJECTED</td>\n",
       "    </tr>\n",
       "  </tbody>\n",
       "</table>\n",
       "</div>"
      ],
      "text/plain": [
       "              merchant_name  broken_link_score  link_contact_us_exist  \\\n",
       "7                  YoYoMats                0.0                    0.0   \n",
       "10                SisilShop              100.0                    1.0   \n",
       "11               GammaMedia              100.0                    1.0   \n",
       "12  ShinhwaGlobalSakuraBear              100.0                    1.0   \n",
       "13                    Gitra               12.5                    0.0   \n",
       "\n",
       "    cu_email_exist  cu_phone_number_exist  link_about_us_exist  \\\n",
       "7              0.0                    0.0                  0.0   \n",
       "10             0.0                    0.0                  0.0   \n",
       "11             0.0                    0.0                  0.0   \n",
       "12             0.0                    0.0                  0.0   \n",
       "13             0.0                    0.0                  0.0   \n",
       "\n",
       "    link_tnc_exist  tnc_refund_policy_exist  contact_us_score  tnc_score  \\\n",
       "7              1.0                      1.0          0.000000      100.0   \n",
       "10             1.0                      0.0         33.333333        0.0   \n",
       "11             1.0                      0.0         33.333333        0.0   \n",
       "12             1.0                      0.0         33.333333        0.0   \n",
       "13             1.0                      0.0          0.000000       50.0   \n",
       "\n",
       "                  broken_links  \\\n",
       "7                           {}   \n",
       "10                {'': 'None'}   \n",
       "11                {'': 'None'}   \n",
       "12                {'': 'None'}   \n",
       "13  {'http://s.my.id': 'None'}   \n",
       "\n",
       "                                              website     label  \n",
       "7             https://yoyomatsindonesia.myshopify.com  REJECTED  \n",
       "10                                      SisilShop.com  REJECTED  \n",
       "11                            http://gammamedia.co.id  REJECTED  \n",
       "12  http://www.shinhwaglobalsakurabearinternationa...  REJECTED  \n",
       "13                            s.id/StartFromTheBottom  REJECTED  "
      ]
     },
     "execution_count": 71,
     "metadata": {},
     "output_type": "execute_result"
    }
   ],
   "source": [
    "negative_df.head()"
   ]
  },
  {
   "cell_type": "code",
   "execution_count": 72,
   "metadata": {},
   "outputs": [
    {
     "data": {
      "image/png": "[encoded data removed]",
      "text/plain": [
       "<Figure size 1440x360 with 1 Axes>"
      ]
     },
     "metadata": {
      "needs_background": "light"
     },
     "output_type": "display_data"
    }
   ],
   "source": [
    "## Plot broken link score\n",
    "plt.figure(figsize=(20,5))\n",
    "plt.title(\"Broken Link Score (Rejected Merchants)\\n0: Good, 100: Bad\")\n",
    "sns.countplot(negative_df.broken_link_score)\n",
    "plt.show()"
   ]
  },
  {
   "cell_type": "code",
   "execution_count": 82,
   "metadata": {},
   "outputs": [
    {
     "data": {
      "image/png": "[encoded data removed]",
      "text/plain": [
       "<Figure size 1440x360 with 1 Axes>"
      ]
     },
     "metadata": {
      "needs_background": "light"
     },
     "output_type": "display_data"
    }
   ],
   "source": [
    "## Inspecting High Broken Link Score vs. Contact Us Score\n",
    "plt.figure(figsize=(20,5))\n",
    "plt.title(\"Merchant Contact Us Score for High Broken Link Score\\n0: Bad, 100: Good\")\n",
    "sns.countplot(negative_df.contact_us_score[negative_df.broken_link_score == 100])\n",
    "plt.show()"
   ]
  },
  {
   "cell_type": "code",
   "execution_count": 87,
   "metadata": {},
   "outputs": [
    {
     "data": {
      "text/html": [
       "<div>\n",
       "<style scoped>\n",
       "    .dataframe tbody tr th:only-of-type {\n",
       "        vertical-align: middle;\n",
       "    }\n",
       "\n",
       "    .dataframe tbody tr th {\n",
       "        vertical-align: top;\n",
       "    }\n",
       "\n",
       "    .dataframe thead th {\n",
       "        text-align: right;\n",
       "    }\n",
       "</style>\n",
       "<table border=\"1\" class=\"dataframe\">\n",
       "  <thead>\n",
       "    <tr style=\"text-align: right;\">\n",
       "      <th></th>\n",
       "      <th>website</th>\n",
       "      <th>contact_us_score</th>\n",
       "      <th>broken_link_score</th>\n",
       "      <th>link_contact_us_exist</th>\n",
       "      <th>cu_email_exist</th>\n",
       "    </tr>\n",
       "  </thead>\n",
       "  <tbody>\n",
       "    <tr>\n",
       "      <th>10</th>\n",
       "      <td>SisilShop.com</td>\n",
       "      <td>33.333333</td>\n",
       "      <td>100.0</td>\n",
       "      <td>1.0</td>\n",
       "      <td>0.0</td>\n",
       "    </tr>\n",
       "    <tr>\n",
       "      <th>11</th>\n",
       "      <td>http://gammamedia.co.id</td>\n",
       "      <td>33.333333</td>\n",
       "      <td>100.0</td>\n",
       "      <td>1.0</td>\n",
       "      <td>0.0</td>\n",
       "    </tr>\n",
       "    <tr>\n",
       "      <th>12</th>\n",
       "      <td>http://www.shinhwaglobalsakurabearinternationa...</td>\n",
       "      <td>33.333333</td>\n",
       "      <td>100.0</td>\n",
       "      <td>1.0</td>\n",
       "      <td>0.0</td>\n",
       "    </tr>\n",
       "    <tr>\n",
       "      <th>14</th>\n",
       "      <td>Www.mitsubishiputribali.com</td>\n",
       "      <td>33.333333</td>\n",
       "      <td>100.0</td>\n",
       "      <td>1.0</td>\n",
       "      <td>0.0</td>\n",
       "    </tr>\n",
       "    <tr>\n",
       "      <th>15</th>\n",
       "      <td>www.sdntamunti.com</td>\n",
       "      <td>33.333333</td>\n",
       "      <td>100.0</td>\n",
       "      <td>1.0</td>\n",
       "      <td>0.0</td>\n",
       "    </tr>\n",
       "    <tr>\n",
       "      <th>17</th>\n",
       "      <td>Www.Klink.com</td>\n",
       "      <td>33.333333</td>\n",
       "      <td>100.0</td>\n",
       "      <td>1.0</td>\n",
       "      <td>0.0</td>\n",
       "    </tr>\n",
       "    <tr>\n",
       "      <th>18</th>\n",
       "      <td>Merahhitam.com</td>\n",
       "      <td>33.333333</td>\n",
       "      <td>100.0</td>\n",
       "      <td>1.0</td>\n",
       "      <td>0.0</td>\n",
       "    </tr>\n",
       "    <tr>\n",
       "      <th>45</th>\n",
       "      <td>Https://Facebook.com/andiktamvan</td>\n",
       "      <td>33.333333</td>\n",
       "      <td>100.0</td>\n",
       "      <td>1.0</td>\n",
       "      <td>0.0</td>\n",
       "    </tr>\n",
       "  </tbody>\n",
       "</table>\n",
       "</div>"
      ],
      "text/plain": [
       "                                              website  contact_us_score  \\\n",
       "10                                      SisilShop.com         33.333333   \n",
       "11                            http://gammamedia.co.id         33.333333   \n",
       "12  http://www.shinhwaglobalsakurabearinternationa...         33.333333   \n",
       "14                        Www.mitsubishiputribali.com         33.333333   \n",
       "15                                 www.sdntamunti.com         33.333333   \n",
       "17                                      Www.Klink.com         33.333333   \n",
       "18                                     Merahhitam.com         33.333333   \n",
       "45                   Https://Facebook.com/andiktamvan         33.333333   \n",
       "\n",
       "    broken_link_score  link_contact_us_exist  cu_email_exist  \n",
       "10              100.0                    1.0             0.0  \n",
       "11              100.0                    1.0             0.0  \n",
       "12              100.0                    1.0             0.0  \n",
       "14              100.0                    1.0             0.0  \n",
       "15              100.0                    1.0             0.0  \n",
       "17              100.0                    1.0             0.0  \n",
       "18              100.0                    1.0             0.0  \n",
       "45              100.0                    1.0             0.0  "
      ]
     },
     "execution_count": 87,
     "metadata": {},
     "output_type": "execute_result"
    }
   ],
   "source": [
    "## Merchants with CU Score > 0 & BL Score 100\n",
    "negative_df[(negative_df.contact_us_score > 0) & (negative_df.broken_link_score == 100)]\\\n",
    "[['website','contact_us_score','broken_link_score','link_contact_us_exist','cu_email_exist']]"
   ]
  },
  {
   "cell_type": "markdown",
   "metadata": {},
   "source": [
    "CU score diatas adalah kesalahan crawler, removing keywords = [\"cs\", \"tc\", \"tos\"]"
   ]
  }
 ],
 "metadata": {
  "kernelspec": {
   "display_name": "Python 3",
   "language": "python",
   "name": "python3"
  },
  "language_info": {
   "codemirror_mode": {
    "name": "ipython",
    "version": 3
   },
   "file_extension": ".py",
   "mimetype": "text/x-python",
   "name": "python",
   "nbconvert_exporter": "python",
   "pygments_lexer": "ipython3",
   "version": "3.7.6"
  }
 },
 "nbformat": 4,
 "nbformat_minor": 4
}
