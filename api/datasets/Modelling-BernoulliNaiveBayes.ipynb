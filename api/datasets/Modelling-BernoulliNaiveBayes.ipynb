{
 "cells": [
  {
   "cell_type": "code",
   "execution_count": 2,
   "metadata": {},
   "outputs": [],
   "source": [
    "## Table & Visualization Libraries\n",
    "import pandas as pd\n",
    "import matplotlib.pyplot as plt\n",
    "import seaborn as sns\n",
    "import numpy as np\n",
    "import scipy\n",
    "import pickle\n",
    "import json\n",
    "\n",
    "## Prediction Libraries\n",
    "from sklearn.metrics import classification_report, confusion_matrix, \\\n",
    "accuracy_score, plot_confusion_matrix, auc, roc_curve\n",
    "\n",
    "## Cross-Validation Libraries\n",
    "from sklearn.model_selection import train_test_split, cross_val_score, StratifiedKFold\n",
    "\n",
    "## Model Libraries\n",
    "from sklearn.naive_bayes import BernoulliNB"
   ]
  },
  {
   "cell_type": "code",
   "execution_count": 3,
   "metadata": {},
   "outputs": [],
   "source": [
    "## Change this to your new training data\n",
    "df = pd.read_csv(\"df_cleaned.csv\")\n",
    "df = df.drop_duplicates(subset='website')"
   ]
  },
  {
   "cell_type": "code",
   "execution_count": 4,
   "metadata": {},
   "outputs": [
    {
     "data": {
      "text/html": [
       "<div>\n",
       "<style scoped>\n",
       "    .dataframe tbody tr th:only-of-type {\n",
       "        vertical-align: middle;\n",
       "    }\n",
       "\n",
       "    .dataframe tbody tr th {\n",
       "        vertical-align: top;\n",
       "    }\n",
       "\n",
       "    .dataframe thead th {\n",
       "        text-align: right;\n",
       "    }\n",
       "</style>\n",
       "<table border=\"1\" class=\"dataframe\">\n",
       "  <thead>\n",
       "    <tr style=\"text-align: right;\">\n",
       "      <th></th>\n",
       "      <th>Unnamed: 0</th>\n",
       "      <th>merchant_name</th>\n",
       "      <th>broken_link_score</th>\n",
       "      <th>link_contact_us_exist</th>\n",
       "      <th>cu_email_exist</th>\n",
       "      <th>cu_phone_number_exist</th>\n",
       "      <th>link_about_us_exist</th>\n",
       "      <th>link_tnc_exist</th>\n",
       "      <th>tnc_refund_policy_exist</th>\n",
       "      <th>contact_us_score</th>\n",
       "      <th>tnc_score</th>\n",
       "      <th>links_response</th>\n",
       "      <th>website</th>\n",
       "      <th>fraud_score</th>\n",
       "      <th>label</th>\n",
       "    </tr>\n",
       "  </thead>\n",
       "  <tbody>\n",
       "    <tr>\n",
       "      <th>0</th>\n",
       "      <td>0</td>\n",
       "      <td>CV.ASIATRIPINDONESIA</td>\n",
       "      <td>0.000000</td>\n",
       "      <td>1.0</td>\n",
       "      <td>1.0</td>\n",
       "      <td>1.0</td>\n",
       "      <td>0.0</td>\n",
       "      <td>1.0</td>\n",
       "      <td>1.0</td>\n",
       "      <td>100.0</td>\n",
       "      <td>100.0</td>\n",
       "      <td>{'https://asiatrip.id/reseller/': '&lt;Response [...</td>\n",
       "      <td>http://asiatrip.id/</td>\n",
       "      <td>0.000000</td>\n",
       "      <td>APPROVED</td>\n",
       "    </tr>\n",
       "    <tr>\n",
       "      <th>1</th>\n",
       "      <td>1</td>\n",
       "      <td>Pt.BloomingLotusYoga</td>\n",
       "      <td>70.000000</td>\n",
       "      <td>1.0</td>\n",
       "      <td>1.0</td>\n",
       "      <td>1.0</td>\n",
       "      <td>1.0</td>\n",
       "      <td>1.0</td>\n",
       "      <td>1.0</td>\n",
       "      <td>100.0</td>\n",
       "      <td>100.0</td>\n",
       "      <td>{'http://www.blooming-lotus-yoga.com/bliss-mag...</td>\n",
       "      <td>https://www.blooming-lotus-yoga.com</td>\n",
       "      <td>0.000000</td>\n",
       "      <td>APPROVED</td>\n",
       "    </tr>\n",
       "    <tr>\n",
       "      <th>2</th>\n",
       "      <td>2</td>\n",
       "      <td>YayasanGreenSejahtera</td>\n",
       "      <td>11.111111</td>\n",
       "      <td>1.0</td>\n",
       "      <td>1.0</td>\n",
       "      <td>1.0</td>\n",
       "      <td>1.0</td>\n",
       "      <td>1.0</td>\n",
       "      <td>1.0</td>\n",
       "      <td>100.0</td>\n",
       "      <td>100.0</td>\n",
       "      <td>{'': 'No Response/Timeout', 'https://greenseja...</td>\n",
       "      <td>https://greensejahterafoundation.com/</td>\n",
       "      <td>0.000000</td>\n",
       "      <td>APPROVED</td>\n",
       "    </tr>\n",
       "    <tr>\n",
       "      <th>3</th>\n",
       "      <td>3</td>\n",
       "      <td>PTMatairTerraSolusi</td>\n",
       "      <td>12.500000</td>\n",
       "      <td>0.0</td>\n",
       "      <td>0.0</td>\n",
       "      <td>0.0</td>\n",
       "      <td>1.0</td>\n",
       "      <td>0.0</td>\n",
       "      <td>0.0</td>\n",
       "      <td>0.0</td>\n",
       "      <td>0.0</td>\n",
       "      <td>{'': 'No Response/Timeout', 'https://www.matai...</td>\n",
       "      <td>http://www.matair.co.id</td>\n",
       "      <td>0.666667</td>\n",
       "      <td>APPROVED</td>\n",
       "    </tr>\n",
       "    <tr>\n",
       "      <th>4</th>\n",
       "      <td>4</td>\n",
       "      <td>SimplyMii</td>\n",
       "      <td>0.000000</td>\n",
       "      <td>1.0</td>\n",
       "      <td>1.0</td>\n",
       "      <td>1.0</td>\n",
       "      <td>0.0</td>\n",
       "      <td>0.0</td>\n",
       "      <td>0.0</td>\n",
       "      <td>100.0</td>\n",
       "      <td>0.0</td>\n",
       "      <td>{'https://www.simplymii.com/products/category/...</td>\n",
       "      <td>https://www.simplymii.com/</td>\n",
       "      <td>0.000000</td>\n",
       "      <td>APPROVED</td>\n",
       "    </tr>\n",
       "  </tbody>\n",
       "</table>\n",
       "</div>"
      ],
      "text/plain": [
       "   Unnamed: 0          merchant_name  broken_link_score  \\\n",
       "0           0   CV.ASIATRIPINDONESIA           0.000000   \n",
       "1           1   Pt.BloomingLotusYoga          70.000000   \n",
       "2           2  YayasanGreenSejahtera          11.111111   \n",
       "3           3    PTMatairTerraSolusi          12.500000   \n",
       "4           4              SimplyMii           0.000000   \n",
       "\n",
       "   link_contact_us_exist  cu_email_exist  cu_phone_number_exist  \\\n",
       "0                    1.0             1.0                    1.0   \n",
       "1                    1.0             1.0                    1.0   \n",
       "2                    1.0             1.0                    1.0   \n",
       "3                    0.0             0.0                    0.0   \n",
       "4                    1.0             1.0                    1.0   \n",
       "\n",
       "   link_about_us_exist  link_tnc_exist  tnc_refund_policy_exist  \\\n",
       "0                  0.0             1.0                      1.0   \n",
       "1                  1.0             1.0                      1.0   \n",
       "2                  1.0             1.0                      1.0   \n",
       "3                  1.0             0.0                      0.0   \n",
       "4                  0.0             0.0                      0.0   \n",
       "\n",
       "   contact_us_score  tnc_score  \\\n",
       "0             100.0      100.0   \n",
       "1             100.0      100.0   \n",
       "2             100.0      100.0   \n",
       "3               0.0        0.0   \n",
       "4             100.0        0.0   \n",
       "\n",
       "                                      links_response  \\\n",
       "0  {'https://asiatrip.id/reseller/': '<Response [...   \n",
       "1  {'http://www.blooming-lotus-yoga.com/bliss-mag...   \n",
       "2  {'': 'No Response/Timeout', 'https://greenseja...   \n",
       "3  {'': 'No Response/Timeout', 'https://www.matai...   \n",
       "4  {'https://www.simplymii.com/products/category/...   \n",
       "\n",
       "                                 website  fraud_score     label  \n",
       "0                    http://asiatrip.id/     0.000000  APPROVED  \n",
       "1    https://www.blooming-lotus-yoga.com     0.000000  APPROVED  \n",
       "2  https://greensejahterafoundation.com/     0.000000  APPROVED  \n",
       "3                http://www.matair.co.id     0.666667  APPROVED  \n",
       "4             https://www.simplymii.com/     0.000000  APPROVED  "
      ]
     },
     "execution_count": 4,
     "metadata": {},
     "output_type": "execute_result"
    }
   ],
   "source": [
    "df.head()"
   ]
  },
  {
   "cell_type": "code",
   "execution_count": 5,
   "metadata": {},
   "outputs": [
    {
     "data": {
      "text/plain": [
       "label\n",
       "APPROVED    215\n",
       "REJECTED     77\n",
       "dtype: int64"
      ]
     },
     "execution_count": 5,
     "metadata": {},
     "output_type": "execute_result"
    }
   ],
   "source": [
    "df.groupby(\"label\").size()"
   ]
  },
  {
   "cell_type": "code",
   "execution_count": 6,
   "metadata": {},
   "outputs": [
    {
     "data": {
      "text/plain": [
       "(292, 15)"
      ]
     },
     "execution_count": 6,
     "metadata": {},
     "output_type": "execute_result"
    }
   ],
   "source": [
    "df.shape"
   ]
  },
  {
   "cell_type": "code",
   "execution_count": 7,
   "metadata": {},
   "outputs": [],
   "source": [
    "y = df['label'].apply(lambda x: 1 if x == 'REJECTED' else 0)"
   ]
  },
  {
   "cell_type": "code",
   "execution_count": 89,
   "metadata": {},
   "outputs": [],
   "source": [
    "X = df.iloc[:, 2:9]"
   ]
  },
  {
   "cell_type": "markdown",
   "metadata": {},
   "source": [
    "## Train/Test Split"
   ]
  },
  {
   "cell_type": "code",
   "execution_count": 82,
   "metadata": {},
   "outputs": [
    {
     "data": {
      "text/html": [
       "<div>\n",
       "<style scoped>\n",
       "    .dataframe tbody tr th:only-of-type {\n",
       "        vertical-align: middle;\n",
       "    }\n",
       "\n",
       "    .dataframe tbody tr th {\n",
       "        vertical-align: top;\n",
       "    }\n",
       "\n",
       "    .dataframe thead th {\n",
       "        text-align: right;\n",
       "    }\n",
       "</style>\n",
       "<table border=\"1\" class=\"dataframe\">\n",
       "  <thead>\n",
       "    <tr style=\"text-align: right;\">\n",
       "      <th></th>\n",
       "      <th>broken_link_score</th>\n",
       "      <th>link_contact_us_exist</th>\n",
       "      <th>cu_email_exist</th>\n",
       "      <th>cu_phone_number_exist</th>\n",
       "      <th>link_about_us_exist</th>\n",
       "      <th>link_tnc_exist</th>\n",
       "      <th>tnc_refund_policy_exist</th>\n",
       "    </tr>\n",
       "  </thead>\n",
       "  <tbody>\n",
       "    <tr>\n",
       "      <th>0</th>\n",
       "      <td>0.0</td>\n",
       "      <td>1.0</td>\n",
       "      <td>1.0</td>\n",
       "      <td>1.0</td>\n",
       "      <td>0.0</td>\n",
       "      <td>1.0</td>\n",
       "      <td>1.0</td>\n",
       "    </tr>\n",
       "  </tbody>\n",
       "</table>\n",
       "</div>"
      ],
      "text/plain": [
       "   broken_link_score  link_contact_us_exist  cu_email_exist  \\\n",
       "0                0.0                    1.0             1.0   \n",
       "\n",
       "   cu_phone_number_exist  link_about_us_exist  link_tnc_exist  \\\n",
       "0                    1.0                  0.0             1.0   \n",
       "\n",
       "   tnc_refund_policy_exist  \n",
       "0                      1.0  "
      ]
     },
     "execution_count": 82,
     "metadata": {},
     "output_type": "execute_result"
    }
   ],
   "source": [
    "X.head(1)"
   ]
  },
  {
   "cell_type": "code",
   "execution_count": 113,
   "metadata": {},
   "outputs": [],
   "source": [
    "## Binarize broken_link_score, with threshold 50.0\n",
    "X[\"broken_link_score\"] = (X[\"broken_link_score\"] < 50.0)"
   ]
  },
  {
   "cell_type": "code",
   "execution_count": null,
   "metadata": {},
   "outputs": [],
   "source": []
  },
  {
   "cell_type": "code",
   "execution_count": 115,
   "metadata": {},
   "outputs": [],
   "source": [
    "for col in X:\n",
    "    X[col] = X[col].astype(int)"
   ]
  },
  {
   "cell_type": "code",
   "execution_count": 116,
   "metadata": {},
   "outputs": [
    {
     "data": {
      "text/plain": [
       "0      1\n",
       "1      0\n",
       "2      1\n",
       "3      1\n",
       "4      1\n",
       "      ..\n",
       "435    0\n",
       "436    1\n",
       "437    0\n",
       "438    0\n",
       "440    0\n",
       "Name: broken_link_score, Length: 292, dtype: int64"
      ]
     },
     "execution_count": 116,
     "metadata": {},
     "output_type": "execute_result"
    }
   ],
   "source": [
    "X['broken_link_score']"
   ]
  },
  {
   "cell_type": "code",
   "execution_count": 117,
   "metadata": {},
   "outputs": [
    {
     "data": {
      "text/plain": [
       "(292, 7)"
      ]
     },
     "execution_count": 117,
     "metadata": {},
     "output_type": "execute_result"
    }
   ],
   "source": [
    "X.shape"
   ]
  },
  {
   "cell_type": "code",
   "execution_count": 118,
   "metadata": {},
   "outputs": [
    {
     "data": {
      "text/plain": [
       "Index(['broken_link_score', 'link_contact_us_exist', 'cu_email_exist',\n",
       "       'cu_phone_number_exist', 'link_about_us_exist', 'link_tnc_exist',\n",
       "       'tnc_refund_policy_exist'],\n",
       "      dtype='object')"
      ]
     },
     "execution_count": 118,
     "metadata": {},
     "output_type": "execute_result"
    }
   ],
   "source": [
    "X.columns"
   ]
  },
  {
   "cell_type": "code",
   "execution_count": 120,
   "metadata": {},
   "outputs": [
    {
     "data": {
      "text/html": [
       "<div>\n",
       "<style scoped>\n",
       "    .dataframe tbody tr th:only-of-type {\n",
       "        vertical-align: middle;\n",
       "    }\n",
       "\n",
       "    .dataframe tbody tr th {\n",
       "        vertical-align: top;\n",
       "    }\n",
       "\n",
       "    .dataframe thead th {\n",
       "        text-align: right;\n",
       "    }\n",
       "</style>\n",
       "<table border=\"1\" class=\"dataframe\">\n",
       "  <thead>\n",
       "    <tr style=\"text-align: right;\">\n",
       "      <th></th>\n",
       "      <th>broken_link_score</th>\n",
       "      <th>link_contact_us_exist</th>\n",
       "      <th>cu_email_exist</th>\n",
       "      <th>cu_phone_number_exist</th>\n",
       "      <th>link_about_us_exist</th>\n",
       "      <th>link_tnc_exist</th>\n",
       "      <th>tnc_refund_policy_exist</th>\n",
       "    </tr>\n",
       "  </thead>\n",
       "  <tbody>\n",
       "    <tr>\n",
       "      <th>0</th>\n",
       "      <td>1</td>\n",
       "      <td>1</td>\n",
       "      <td>1</td>\n",
       "      <td>1</td>\n",
       "      <td>0</td>\n",
       "      <td>1</td>\n",
       "      <td>1</td>\n",
       "    </tr>\n",
       "    <tr>\n",
       "      <th>1</th>\n",
       "      <td>0</td>\n",
       "      <td>1</td>\n",
       "      <td>1</td>\n",
       "      <td>1</td>\n",
       "      <td>1</td>\n",
       "      <td>1</td>\n",
       "      <td>1</td>\n",
       "    </tr>\n",
       "    <tr>\n",
       "      <th>2</th>\n",
       "      <td>1</td>\n",
       "      <td>1</td>\n",
       "      <td>1</td>\n",
       "      <td>1</td>\n",
       "      <td>1</td>\n",
       "      <td>1</td>\n",
       "      <td>1</td>\n",
       "    </tr>\n",
       "    <tr>\n",
       "      <th>3</th>\n",
       "      <td>1</td>\n",
       "      <td>0</td>\n",
       "      <td>0</td>\n",
       "      <td>0</td>\n",
       "      <td>1</td>\n",
       "      <td>0</td>\n",
       "      <td>0</td>\n",
       "    </tr>\n",
       "    <tr>\n",
       "      <th>4</th>\n",
       "      <td>1</td>\n",
       "      <td>1</td>\n",
       "      <td>1</td>\n",
       "      <td>1</td>\n",
       "      <td>0</td>\n",
       "      <td>0</td>\n",
       "      <td>0</td>\n",
       "    </tr>\n",
       "    <tr>\n",
       "      <th>...</th>\n",
       "      <td>...</td>\n",
       "      <td>...</td>\n",
       "      <td>...</td>\n",
       "      <td>...</td>\n",
       "      <td>...</td>\n",
       "      <td>...</td>\n",
       "      <td>...</td>\n",
       "    </tr>\n",
       "    <tr>\n",
       "      <th>435</th>\n",
       "      <td>0</td>\n",
       "      <td>0</td>\n",
       "      <td>0</td>\n",
       "      <td>0</td>\n",
       "      <td>0</td>\n",
       "      <td>0</td>\n",
       "      <td>0</td>\n",
       "    </tr>\n",
       "    <tr>\n",
       "      <th>436</th>\n",
       "      <td>1</td>\n",
       "      <td>1</td>\n",
       "      <td>1</td>\n",
       "      <td>1</td>\n",
       "      <td>0</td>\n",
       "      <td>0</td>\n",
       "      <td>0</td>\n",
       "    </tr>\n",
       "    <tr>\n",
       "      <th>437</th>\n",
       "      <td>0</td>\n",
       "      <td>0</td>\n",
       "      <td>0</td>\n",
       "      <td>0</td>\n",
       "      <td>0</td>\n",
       "      <td>0</td>\n",
       "      <td>0</td>\n",
       "    </tr>\n",
       "    <tr>\n",
       "      <th>438</th>\n",
       "      <td>0</td>\n",
       "      <td>0</td>\n",
       "      <td>0</td>\n",
       "      <td>0</td>\n",
       "      <td>0</td>\n",
       "      <td>0</td>\n",
       "      <td>0</td>\n",
       "    </tr>\n",
       "    <tr>\n",
       "      <th>440</th>\n",
       "      <td>0</td>\n",
       "      <td>0</td>\n",
       "      <td>0</td>\n",
       "      <td>0</td>\n",
       "      <td>0</td>\n",
       "      <td>0</td>\n",
       "      <td>0</td>\n",
       "    </tr>\n",
       "  </tbody>\n",
       "</table>\n",
       "<p>292 rows × 7 columns</p>\n",
       "</div>"
      ],
      "text/plain": [
       "     broken_link_score  link_contact_us_exist  cu_email_exist  \\\n",
       "0                    1                      1               1   \n",
       "1                    0                      1               1   \n",
       "2                    1                      1               1   \n",
       "3                    1                      0               0   \n",
       "4                    1                      1               1   \n",
       "..                 ...                    ...             ...   \n",
       "435                  0                      0               0   \n",
       "436                  1                      1               1   \n",
       "437                  0                      0               0   \n",
       "438                  0                      0               0   \n",
       "440                  0                      0               0   \n",
       "\n",
       "     cu_phone_number_exist  link_about_us_exist  link_tnc_exist  \\\n",
       "0                        1                    0               1   \n",
       "1                        1                    1               1   \n",
       "2                        1                    1               1   \n",
       "3                        0                    1               0   \n",
       "4                        1                    0               0   \n",
       "..                     ...                  ...             ...   \n",
       "435                      0                    0               0   \n",
       "436                      1                    0               0   \n",
       "437                      0                    0               0   \n",
       "438                      0                    0               0   \n",
       "440                      0                    0               0   \n",
       "\n",
       "     tnc_refund_policy_exist  \n",
       "0                          1  \n",
       "1                          1  \n",
       "2                          1  \n",
       "3                          0  \n",
       "4                          0  \n",
       "..                       ...  \n",
       "435                        0  \n",
       "436                        0  \n",
       "437                        0  \n",
       "438                        0  \n",
       "440                        0  \n",
       "\n",
       "[292 rows x 7 columns]"
      ]
     },
     "execution_count": 120,
     "metadata": {},
     "output_type": "execute_result"
    }
   ],
   "source": [
    "X"
   ]
  },
  {
   "cell_type": "code",
   "execution_count": 121,
   "metadata": {},
   "outputs": [],
   "source": [
    "X_train, X_test, y_train, y_test = train_test_split(X, y, test_size=0.33, random_state=42)"
   ]
  },
  {
   "cell_type": "code",
   "execution_count": 122,
   "metadata": {},
   "outputs": [],
   "source": [
    "model_choice = BernoulliNB()"
   ]
  },
  {
   "cell_type": "code",
   "execution_count": 123,
   "metadata": {},
   "outputs": [],
   "source": [
    "clf = model_choice\n",
    "clf = clf.fit(X_train, y_train)"
   ]
  },
  {
   "cell_type": "code",
   "execution_count": 124,
   "metadata": {},
   "outputs": [],
   "source": [
    "## Using the best TPR threshold\n",
    "# y_pred = (clf.predict_proba(X_test)[:,1] >= 0.7367280663362746).astype(bool)"
   ]
  },
  {
   "cell_type": "code",
   "execution_count": 125,
   "metadata": {},
   "outputs": [],
   "source": [
    "## Using the default threshold == 0.5\n",
    "y_pred = clf.predict(X_test)"
   ]
  },
  {
   "cell_type": "code",
   "execution_count": 126,
   "metadata": {},
   "outputs": [],
   "source": [
    "y_pred_proba = clf.predict_proba(X_test)"
   ]
  },
  {
   "cell_type": "code",
   "execution_count": 127,
   "metadata": {},
   "outputs": [
    {
     "data": {
      "text/plain": [
       "0.85"
      ]
     },
     "execution_count": 127,
     "metadata": {},
     "output_type": "execute_result"
    }
   ],
   "source": [
    "np.round(accuracy_score(y_test, y_pred), 2)"
   ]
  },
  {
   "cell_type": "code",
   "execution_count": 128,
   "metadata": {},
   "outputs": [
    {
     "data": {
      "text/plain": [
       "(0    141\n",
       " 1     54\n",
       " Name: label, dtype: int64,\n",
       " 0    74\n",
       " 1    23\n",
       " Name: label, dtype: int64)"
      ]
     },
     "execution_count": 128,
     "metadata": {},
     "output_type": "execute_result"
    }
   ],
   "source": [
    "y_train.value_counts(), y_test.value_counts()"
   ]
  },
  {
   "cell_type": "code",
   "execution_count": 129,
   "metadata": {},
   "outputs": [],
   "source": [
    "## Confusion matrix with best TPR threshold\n",
    "tn, fp, fn, tp = confusion_matrix(y_test, y_pred).ravel()"
   ]
  },
  {
   "cell_type": "code",
   "execution_count": 130,
   "metadata": {},
   "outputs": [
    {
     "data": {
      "text/plain": [
       "(0.87, 0.162)"
      ]
     },
     "execution_count": 130,
     "metadata": {},
     "output_type": "execute_result"
    }
   ],
   "source": [
    "tpr, fpr = np.round((tp/(tp+fn), fp/(fp+tn)), 3)\n",
    "## TPR = Dari semua REJECTED merchant berapa % yang berhasil kereject, \n",
    "## FPR = Dari semua APPROVED berapa % yang kita salah tebak sebagai REJECTED\n",
    "## This rate applies to a default threshold of 0.5\n",
    "tpr, fpr"
   ]
  },
  {
   "cell_type": "code",
   "execution_count": 131,
   "metadata": {},
   "outputs": [
    {
     "data": {
      "text/plain": [
       "(62, 12, 3, 20)"
      ]
     },
     "execution_count": 131,
     "metadata": {},
     "output_type": "execute_result"
    }
   ],
   "source": [
    "tn, fp, fn, tp"
   ]
  },
  {
   "cell_type": "code",
   "execution_count": 132,
   "metadata": {},
   "outputs": [
    {
     "data": {
      "image/png": "[encoded data removed]",
      "text/plain": [
       "<Figure size 432x288 with 2 Axes>"
      ]
     },
     "metadata": {
      "needs_background": "light"
     },
     "output_type": "display_data"
    }
   ],
   "source": [
    "## This matrix visualization is based on 0.5 threshold\n",
    "plot_confusion_matrix(clf, X_test, y_test, cmap=plt.cm.Blues)\n",
    "plt.show()"
   ]
  },
  {
   "cell_type": "code",
   "execution_count": 133,
   "metadata": {},
   "outputs": [],
   "source": [
    "fpr, tpr, thresholds = roc_curve(y_test, y_pred_proba[:,1])"
   ]
  },
  {
   "cell_type": "code",
   "execution_count": 134,
   "metadata": {},
   "outputs": [],
   "source": [
    "auc_score = auc(fpr, tpr)"
   ]
  },
  {
   "cell_type": "code",
   "execution_count": 135,
   "metadata": {},
   "outputs": [
    {
     "data": {
      "image/png": "[encoded data removed]",
      "text/plain": [
       "<Figure size 720x288 with 1 Axes>"
      ]
     },
     "metadata": {
      "needs_background": "light"
     },
     "output_type": "display_data"
    }
   ],
   "source": [
    "plt.figure(figsize=(10,4))\n",
    "plt.plot(fpr, tpr, label='AUC %0.2f' % (auc_score))\n",
    "plt.plot([0, 1], [0, 1], 'k--')\n",
    "plt.xlim([0.0, 1.0])\n",
    "plt.ylim([0.0, 1.05])\n",
    "plt.xlabel('False Positive Rate')\n",
    "plt.ylabel('True Positive Rate')\n",
    "plt.title('ROC Curve - Bernoulli NB Classifier')\n",
    "plt.legend(loc=\"lower right\")\n",
    "\n",
    "# # find optimum thresholds\n",
    "# i = np.arange(len(tpr)) # index for df\n",
    "# roc = pd.DataFrame({'fpr' : pd.Series(fpr, index=i),'tpr' : pd.Series(tpr, index = i), '1-fpr' : pd.Series(1-fpr, index = i), 'tf' : pd.Series(tpr - (1-fpr), index = i).apply(lambda x: x), 'thresholds' : pd.Series(thresholds, index = i)})\n",
    "# df_thresh = roc.iloc[(roc.tf-0).abs().argsort()[:1]]\n",
    "\n",
    "# plt.plot(df_thresh['fpr'], df_thresh['tpr'], marker='o', markersize=8, color='darkred')\n",
    "\n",
    "# # create the axis of thresholds (scores)\n",
    "# ax2 = plt.gca().twinx()\n",
    "# ax2.plot(fpr, thresholds, markeredgecolor='r',linestyle='dashed', color='darkred')\n",
    "# ax2.set_ylabel('Threshold',color='darkred')\n",
    "# ax2.set_ylim([thresholds[-1],thresholds[0]])\n",
    "# ax2.set_xlim([fpr[0],fpr[-1]])\n",
    "# ax2.plot(df_thresh['fpr'], df_thresh['thresholds'], marker='o', markersize=8, color='darkred')\n",
    "\n",
    "\n",
    "plt.show()\n",
    "# print(\" -- Optimum Threshold -- \")\n",
    "# print(df_thresh)"
   ]
  },
  {
   "cell_type": "code",
   "execution_count": 136,
   "metadata": {
    "scrolled": true
   },
   "outputs": [
    {
     "name": "stdout",
     "output_type": "stream",
     "text": [
      "-- Best TPR Threshold -- \n",
      "TPR 0.0, FPR 0.0, Threshold 1.9984643075547237\n",
      "TPR 0.7391304347826086, FPR 0.0, Threshold 0.9984643075547237\n",
      "TPR 0.8260869565217391, FPR 0.02702702702702703, Threshold 0.9843519641719499\n",
      "TPR 0.8260869565217391, FPR 0.10810810810810811, Threshold 0.8010188502339551\n",
      "TPR 0.8695652173913043, FPR 0.10810810810810811, Threshold 0.735690395396714\n",
      "TPR 0.8695652173913043, FPR 0.13513513513513514, Threshold 0.7250578327124112\n",
      "TPR 0.8695652173913043, FPR 0.21621621621621623, Threshold 0.26954700633825296\n",
      "TPR 0.8695652173913043, FPR 0.24324324324324326, Threshold 0.17632238375635578\n",
      "TPR 0.8695652173913043, FPR 0.25675675675675674, Threshold 0.16838061489907666\n",
      "TPR 0.9130434782608695, FPR 0.2702702702702703, Threshold 0.12117229687958225\n",
      "TPR 0.9130434782608695, FPR 0.3108108108108108, Threshold 0.08774382214631858\n",
      "TPR 0.9565217391304348, FPR 0.32432432432432434, Threshold 0.05842971268107445\n",
      "TPR 0.9565217391304348, FPR 0.36486486486486486, Threshold 0.019245184234759505\n",
      "TPR 1.0, FPR 0.3783783783783784, Threshold 0.0179511709177107\n",
      "TPR 1.0, FPR 0.40540540540540543, Threshold 0.009946617384755817\n",
      "TPR 1.0, FPR 0.43243243243243246, Threshold 0.008739747122279344\n",
      "TPR 1.0, FPR 0.5135135135135135, Threshold 0.0014253696183301086\n",
      "TPR 1.0, FPR 0.581081081081081, Threshold 0.0009710847686602033\n",
      "TPR 1.0, FPR 0.6621621621621622, Threshold 0.0003899719226386803\n",
      "TPR 1.0, FPR 0.6891891891891891, Threshold 0.00021077408316705684\n",
      "TPR 1.0, FPR 0.7297297297297297, Threshold 0.00019969683241701706\n",
      "TPR 1.0, FPR 0.8108108108108109, Threshold 0.00013808588218953616\n",
      "TPR 1.0, FPR 0.8243243243243243, Threshold 0.0001359975108853426\n",
      "TPR 1.0, FPR 1.0, Threshold 1.9324657389704176e-05\n"
     ]
    }
   ],
   "source": [
    "print(\"-- Best TPR Threshold -- \")\n",
    "## Finding threshold where TPR > Optimum TPR but FPR stays below 15%\n",
    "for i in range(len(fpr)):\n",
    "#     if tpr[i] > 0.85 and fpr[i] < 0.20:\n",
    "        print(\"TPR %s, FPR %s, Threshold %s\" % (tpr[i], fpr[i], thresholds[i]))"
   ]
  },
  {
   "cell_type": "markdown",
   "metadata": {},
   "source": [
    "## Bootstrapped"
   ]
  },
  {
   "cell_type": "code",
   "execution_count": 137,
   "metadata": {
    "scrolled": true
   },
   "outputs": [
    {
     "name": "stdout",
     "output_type": "stream",
     "text": [
      "Iteration 0: AUC:0.9477777777777778, Accuracy:0.8556701030927835\n",
      "Iteration 1: AUC:0.9381338742393509, Accuracy:0.7938144329896907\n",
      "Iteration 2: AUC:0.944770857814336, Accuracy:0.865979381443299\n",
      "Iteration 3: AUC:0.9634703196347033, Accuracy:0.865979381443299\n",
      "Iteration 4: AUC:0.9582881906825568, Accuracy:0.8969072164948454\n",
      "Iteration 5: AUC:0.9222222222222222, Accuracy:0.7938144329896907\n",
      "Iteration 6: AUC:0.9649038461538462, Accuracy:0.8969072164948454\n",
      "Iteration 7: AUC:0.9161111111111112, Accuracy:0.7938144329896907\n",
      "Iteration 8: AUC:0.9611872146118722, Accuracy:0.8762886597938144\n",
      "Iteration 9: AUC:0.9165687426556992, Accuracy:0.8247422680412371\n",
      "Iteration 10: AUC:0.9723084886128364, Accuracy:0.865979381443299\n",
      "Iteration 11: AUC:0.9102434077079108, Accuracy:0.7835051546391752\n",
      "Iteration 12: AUC:0.9365079365079365, Accuracy:0.8350515463917526\n",
      "Iteration 13: AUC:0.9367724867724867, Accuracy:0.8247422680412371\n",
      "Iteration 14: AUC:0.927796803652968, Accuracy:0.845360824742268\n",
      "Iteration 15: AUC:0.9450162513542795, Accuracy:0.865979381443299\n",
      "Iteration 16: AUC:0.8729685807150596, Accuracy:0.7731958762886598\n",
      "Iteration 17: AUC:0.9444444444444444, Accuracy:0.8247422680412371\n",
      "Iteration 18: AUC:0.9330628803245435, Accuracy:0.845360824742268\n",
      "Iteration 19: AUC:0.9466413867822319, Accuracy:0.845360824742268\n",
      "Iteration 20: AUC:0.9039393939393939, Accuracy:0.865979381443299\n",
      "Iteration 21: AUC:0.931551116333725, Accuracy:0.865979381443299\n",
      "Iteration 22: AUC:0.9487562189054726, Accuracy:0.865979381443299\n",
      "Iteration 23: AUC:0.9330199764982373, Accuracy:0.8556701030927835\n",
      "Iteration 24: AUC:0.9188888888888889, Accuracy:0.8247422680412371\n",
      "Iteration 25: AUC:0.931551116333725, Accuracy:0.8762886597938144\n",
      "Iteration 26: AUC:0.930909090909091, Accuracy:0.8556701030927835\n",
      "Iteration 27: AUC:0.9357769423558897, Accuracy:0.8762886597938144\n",
      "Iteration 28: AUC:0.9704545454545455, Accuracy:0.845360824742268\n",
      "Iteration 29: AUC:0.9132275132275133, Accuracy:0.8350515463917526\n",
      "Iteration 30: AUC:0.94, Accuracy:0.845360824742268\n",
      "Iteration 31: AUC:0.9477248104008668, Accuracy:0.865979381443299\n",
      "Iteration 32: AUC:0.932451923076923, Accuracy:0.8556701030927835\n",
      "Iteration 33: AUC:0.9601926977687626, Accuracy:0.8969072164948454\n",
      "Iteration 34: AUC:0.9142424242424243, Accuracy:0.8247422680412371\n",
      "Iteration 35: AUC:0.9539682539682539, Accuracy:0.865979381443299\n",
      "Iteration 36: AUC:0.8807429130009775, Accuracy:0.7835051546391752\n",
      "Iteration 37: AUC:0.9429223744292238, Accuracy:0.8762886597938144\n",
      "Iteration 38: AUC:0.9074519230769231, Accuracy:0.8247422680412371\n",
      "Iteration 39: AUC:0.9252777777777778, Accuracy:0.8350515463917526\n",
      "Iteration 40: AUC:0.9177777777777778, Accuracy:0.8041237113402062\n",
      "Iteration 41: AUC:0.9767920094007051, Accuracy:0.8247422680412371\n",
      "Iteration 42: AUC:0.9527027027027026, Accuracy:0.845360824742268\n",
      "Iteration 43: AUC:0.940951821386604, Accuracy:0.8556701030927835\n",
      "Iteration 44: AUC:0.9304232804232804, Accuracy:0.8144329896907216\n",
      "Iteration 45: AUC:0.9094444444444445, Accuracy:0.7938144329896907\n",
      "Iteration 46: AUC:0.9236192714453584, Accuracy:0.8556701030927835\n",
      "Iteration 47: AUC:0.9363354037267081, Accuracy:0.8556701030927835\n",
      "Iteration 48: AUC:0.9375661375661376, Accuracy:0.8969072164948454\n",
      "Iteration 49: AUC:0.9498106060606062, Accuracy:0.8969072164948454\n",
      "Iteration 50: AUC:0.9069634703196348, Accuracy:0.8144329896907216\n",
      "Iteration 51: AUC:0.9224242424242424, Accuracy:0.845360824742268\n",
      "Iteration 52: AUC:0.9487878787878788, Accuracy:0.8865979381443299\n",
      "Iteration 53: AUC:0.9377203290246768, Accuracy:0.845360824742268\n",
      "Iteration 54: AUC:0.9412242686890574, Accuracy:0.8247422680412371\n",
      "Iteration 55: AUC:0.9061624649859943, Accuracy:0.8041237113402062\n",
      "Iteration 56: AUC:0.9427144535840187, Accuracy:0.8762886597938144\n",
      "Iteration 57: AUC:0.9557575757575758, Accuracy:0.8762886597938144\n",
      "Iteration 58: AUC:0.9451345755693581, Accuracy:0.8350515463917526\n",
      "Iteration 59: AUC:0.9378306878306878, Accuracy:0.8556701030927835\n",
      "Iteration 60: AUC:0.923532196969697, Accuracy:0.845360824742268\n",
      "Iteration 61: AUC:0.9495614035087719, Accuracy:0.8762886597938144\n",
      "Iteration 62: AUC:0.8550228310502284, Accuracy:0.7938144329896907\n",
      "Iteration 63: AUC:0.960184182015168, Accuracy:0.8762886597938144\n",
      "Iteration 64: AUC:0.9542253521126761, Accuracy:0.8144329896907216\n",
      "Iteration 65: AUC:0.9608395989974938, Accuracy:0.9072164948453608\n",
      "Iteration 66: AUC:0.9339488636363636, Accuracy:0.865979381443299\n",
      "Iteration 67: AUC:0.9317460317460317, Accuracy:0.845360824742268\n",
      "Iteration 68: AUC:0.9264423076923077, Accuracy:0.8350515463917526\n",
      "Iteration 69: AUC:0.9316770186335405, Accuracy:0.8556701030927835\n",
      "Iteration 70: AUC:0.9230555555555555, Accuracy:0.8041237113402062\n",
      "Iteration 71: AUC:0.9042207792207791, Accuracy:0.8041237113402062\n",
      "Iteration 72: AUC:0.9303900325027086, Accuracy:0.8247422680412371\n",
      "Iteration 73: AUC:0.9218426501035197, Accuracy:0.845360824742268\n",
      "Iteration 74: AUC:0.954623287671233, Accuracy:0.8556701030927835\n",
      "Iteration 75: AUC:0.9152777777777777, Accuracy:0.8350515463917526\n",
      "Iteration 76: AUC:0.9246323529411764, Accuracy:0.8556701030927835\n",
      "Iteration 77: AUC:0.952054794520548, Accuracy:0.8556701030927835\n",
      "Iteration 78: AUC:0.9753521126760564, Accuracy:0.8762886597938144\n",
      "Iteration 79: AUC:0.9521151586368978, Accuracy:0.8041237113402062\n",
      "Iteration 80: AUC:0.9062838569880823, Accuracy:0.8144329896907216\n",
      "Iteration 81: AUC:0.938701923076923, Accuracy:0.8247422680412371\n",
      "Iteration 82: AUC:0.9386111111111111, Accuracy:0.845360824742268\n",
      "Iteration 83: AUC:0.9049657534246576, Accuracy:0.845360824742268\n",
      "Iteration 84: AUC:0.8807077625570776, Accuracy:0.7422680412371134\n",
      "Iteration 85: AUC:0.9258087201125176, Accuracy:0.845360824742268\n",
      "Iteration 86: AUC:0.8904761904761904, Accuracy:0.8041237113402062\n",
      "Iteration 87: AUC:0.9194796061884669, Accuracy:0.8350515463917526\n",
      "Iteration 88: AUC:0.9302777777777778, Accuracy:0.8556701030927835\n",
      "Iteration 89: AUC:0.9255146262188516, Accuracy:0.8247422680412371\n",
      "Iteration 90: AUC:0.9410511363636364, Accuracy:0.845360824742268\n",
      "Iteration 91: AUC:0.9528710725893824, Accuracy:0.8762886597938144\n",
      "Iteration 92: AUC:0.9430348258706468, Accuracy:0.8350515463917526\n",
      "Iteration 93: AUC:0.9420821114369501, Accuracy:0.845360824742268\n",
      "Iteration 94: AUC:0.9462397179788484, Accuracy:0.8350515463917526\n",
      "Iteration 95: AUC:0.9247020585048754, Accuracy:0.8350515463917526\n",
      "Iteration 96: AUC:0.976190476190476, Accuracy:0.9175257731958762\n",
      "Iteration 97: AUC:0.9453584018801411, Accuracy:0.865979381443299\n",
      "Iteration 98: AUC:0.9382832080200502, Accuracy:0.7938144329896907\n",
      "Iteration 99: AUC:0.9019501625135429, Accuracy:0.8144329896907216\n",
      "Iteration 100: AUC:0.920131845841785, Accuracy:0.8144329896907216\n",
      "Iteration 101: AUC:0.9291044776119401, Accuracy:0.8350515463917526\n",
      "Iteration 102: AUC:0.9210526315789473, Accuracy:0.8247422680412371\n",
      "Iteration 103: AUC:0.8957204767063922, Accuracy:0.7628865979381443\n",
      "Iteration 104: AUC:0.9279220779220779, Accuracy:0.8350515463917526\n",
      "Iteration 105: AUC:0.8933747412008283, Accuracy:0.7938144329896907\n",
      "Iteration 106: AUC:0.9466413867822319, Accuracy:0.845360824742268\n",
      "Iteration 107: AUC:0.9276442307692307, Accuracy:0.8350515463917526\n",
      "Iteration 108: AUC:0.9298507462686567, Accuracy:0.8247422680412371\n",
      "Iteration 109: AUC:0.9309090909090909, Accuracy:0.8350515463917526\n",
      "Iteration 110: AUC:0.9399470899470899, Accuracy:0.845360824742268\n",
      "Iteration 111: AUC:0.9647222222222223, Accuracy:0.8865979381443299\n",
      "Iteration 112: AUC:0.9531963470319634, Accuracy:0.8865979381443299\n",
      "Iteration 113: AUC:0.9563921993499459, Accuracy:0.8762886597938144\n",
      "Iteration 114: AUC:0.8934837092731829, Accuracy:0.7938144329896907\n",
      "Iteration 115: AUC:0.9617788461538462, Accuracy:0.865979381443299\n",
      "Iteration 116: AUC:0.9062838569880823, Accuracy:0.8247422680412371\n",
      "Iteration 117: AUC:0.9203980099502488, Accuracy:0.8350515463917526\n",
      "Iteration 118: AUC:0.9004112808460635, Accuracy:0.7938144329896907\n",
      "Iteration 119: AUC:0.9161375661375661, Accuracy:0.8144329896907216\n",
      "Iteration 120: AUC:0.9245005875440657, Accuracy:0.8350515463917526\n",
      "Iteration 121: AUC:0.9297222222222222, Accuracy:0.8144329896907216\n",
      "Iteration 122: AUC:0.9197722567287785, Accuracy:0.8144329896907216\n",
      "Iteration 123: AUC:0.9291005291005291, Accuracy:0.845360824742268\n",
      "Iteration 124: AUC:0.9386111111111111, Accuracy:0.8556701030927835\n",
      "Iteration 125: AUC:0.9702058504875406, Accuracy:0.8969072164948454\n",
      "Iteration 126: AUC:0.9375661375661376, Accuracy:0.845360824742268\n",
      "Iteration 127: AUC:0.9303030303030302, Accuracy:0.865979381443299\n",
      "Iteration 128: AUC:0.8898354876615746, Accuracy:0.7628865979381443\n",
      "Iteration 129: AUC:0.9098119858989424, Accuracy:0.8041237113402062\n",
      "Iteration 130: AUC:0.9103995299647473, Accuracy:0.8247422680412371\n",
      "Iteration 131: AUC:0.9352226720647774, Accuracy:0.845360824742268\n",
      "Iteration 132: AUC:0.9478787878787879, Accuracy:0.8556701030927835\n",
      "Iteration 133: AUC:0.9298654244306418, Accuracy:0.865979381443299\n",
      "Iteration 134: AUC:0.9345841784989858, Accuracy:0.8350515463917526\n",
      "Iteration 135: AUC:0.8833333333333334, Accuracy:0.7938144329896907\n",
      "Iteration 136: AUC:0.908390410958904, Accuracy:0.8350515463917526\n"
     ]
    },
    {
     "name": "stdout",
     "output_type": "stream",
     "text": [
      "Iteration 137: AUC:0.9579905992949471, Accuracy:0.845360824742268\n",
      "Iteration 138: AUC:0.9219444444444443, Accuracy:0.8041237113402062\n",
      "Iteration 139: AUC:0.9407407407407408, Accuracy:0.845360824742268\n",
      "Iteration 140: AUC:0.9324242424242425, Accuracy:0.8556701030927835\n",
      "Iteration 141: AUC:0.924074074074074, Accuracy:0.8350515463917526\n",
      "Iteration 142: AUC:0.96875, Accuracy:0.845360824742268\n",
      "Iteration 143: AUC:0.8608333333333332, Accuracy:0.7731958762886598\n",
      "Iteration 144: AUC:0.9412455934195064, Accuracy:0.8556701030927835\n",
      "Iteration 145: AUC:0.8873144399460189, Accuracy:0.7525773195876289\n",
      "Iteration 146: AUC:0.8922413793103449, Accuracy:0.8144329896907216\n",
      "Iteration 147: AUC:0.90527950310559, Accuracy:0.7938144329896907\n",
      "Iteration 148: AUC:0.9446022727272727, Accuracy:0.8556701030927835\n",
      "Iteration 149: AUC:0.9110040567951317, Accuracy:0.845360824742268\n",
      "Iteration 150: AUC:0.9271255060728746, Accuracy:0.865979381443299\n",
      "Iteration 151: AUC:0.9252403846153846, Accuracy:0.8247422680412371\n",
      "Iteration 152: AUC:0.9662162162162162, Accuracy:0.9072164948453608\n",
      "Iteration 153: AUC:0.9628995433789954, Accuracy:0.8969072164948454\n",
      "Iteration 154: AUC:0.9169312169312169, Accuracy:0.8350515463917526\n",
      "Iteration 155: AUC:0.9285714285714286, Accuracy:0.8556701030927835\n",
      "Iteration 156: AUC:0.9433862433862433, Accuracy:0.865979381443299\n",
      "Iteration 157: AUC:0.9200975081256771, Accuracy:0.8556701030927835\n",
      "Iteration 158: AUC:0.8920807453416149, Accuracy:0.7938144329896907\n",
      "Iteration 159: AUC:0.9221602434077079, Accuracy:0.8350515463917526\n",
      "Iteration 160: AUC:0.8924999999999998, Accuracy:0.8041237113402062\n",
      "Iteration 161: AUC:0.9560846560846561, Accuracy:0.865979381443299\n",
      "Iteration 162: AUC:0.9565217391304348, Accuracy:0.8556701030927835\n",
      "Iteration 163: AUC:0.9330199764982373, Accuracy:0.845360824742268\n",
      "Iteration 164: AUC:0.9148148148148147, Accuracy:0.845360824742268\n",
      "Iteration 165: AUC:0.927800269905533, Accuracy:0.865979381443299\n",
      "Iteration 166: AUC:0.9298941798941799, Accuracy:0.8350515463917526\n",
      "Iteration 167: AUC:0.921727395411606, Accuracy:0.8350515463917526\n",
      "Iteration 168: AUC:0.9087878787878787, Accuracy:0.845360824742268\n",
      "Iteration 169: AUC:0.893915343915344, Accuracy:0.8144329896907216\n",
      "Iteration 170: AUC:0.9080555555555556, Accuracy:0.8041237113402062\n",
      "Iteration 171: AUC:0.9428571428571428, Accuracy:0.865979381443299\n",
      "Iteration 172: AUC:0.9143518518518519, Accuracy:0.8041237113402062\n",
      "Iteration 173: AUC:0.9467418546365914, Accuracy:0.8762886597938144\n",
      "Iteration 174: AUC:0.9069602272727273, Accuracy:0.7835051546391752\n",
      "Iteration 175: AUC:0.9534127843986998, Accuracy:0.8969072164948454\n",
      "Iteration 176: AUC:0.9021739130434783, Accuracy:0.845360824742268\n",
      "Iteration 177: AUC:0.9525862068965517, Accuracy:0.865979381443299\n",
      "Iteration 178: AUC:0.965872156013001, Accuracy:0.8865979381443299\n",
      "Iteration 179: AUC:0.9511241446725318, Accuracy:0.8762886597938144\n",
      "Iteration 180: AUC:0.9196517412935323, Accuracy:0.8350515463917526\n",
      "Iteration 181: AUC:0.9655844155844155, Accuracy:0.8865979381443299\n",
      "Iteration 182: AUC:0.9192546583850931, Accuracy:0.8144329896907216\n",
      "Iteration 183: AUC:0.9166666666666666, Accuracy:0.8247422680412371\n",
      "Iteration 184: AUC:0.8743734335839598, Accuracy:0.7835051546391752\n",
      "Iteration 185: AUC:0.8822463768115942, Accuracy:0.7835051546391752\n",
      "Iteration 186: AUC:0.898051948051948, Accuracy:0.8556701030927835\n",
      "Iteration 187: AUC:0.9369444444444445, Accuracy:0.8041237113402062\n",
      "Iteration 188: AUC:0.9370265151515151, Accuracy:0.8556701030927835\n",
      "Iteration 189: AUC:0.9342105263157895, Accuracy:0.8350515463917526\n",
      "Iteration 190: AUC:0.9727777777777779, Accuracy:0.8762886597938144\n",
      "Iteration 191: AUC:0.9516045548654244, Accuracy:0.8556701030927835\n",
      "Iteration 192: AUC:0.9445273631840796, Accuracy:0.845360824742268\n",
      "Iteration 193: AUC:0.9402116402116403, Accuracy:0.8247422680412371\n",
      "Iteration 194: AUC:0.9643206256109482, Accuracy:0.9175257731958762\n",
      "Iteration 195: AUC:0.9083431257344301, Accuracy:0.8144329896907216\n",
      "Iteration 196: AUC:0.9412525879917184, Accuracy:0.845360824742268\n",
      "Iteration 197: AUC:0.9221153846153847, Accuracy:0.8350515463917526\n",
      "Iteration 198: AUC:0.9360902255639098, Accuracy:0.8350515463917526\n",
      "Iteration 199: AUC:0.9333333333333333, Accuracy:0.845360824742268\n",
      "Iteration 200: AUC:0.8902129817444218, Accuracy:0.8144329896907216\n",
      "Iteration 201: AUC:0.9275114155251141, Accuracy:0.8247422680412371\n",
      "Iteration 202: AUC:0.9214015151515151, Accuracy:0.8350515463917526\n",
      "Iteration 203: AUC:0.8845475910693302, Accuracy:0.7938144329896907\n",
      "Iteration 204: AUC:0.9373134328358209, Accuracy:0.8556701030927835\n",
      "Iteration 205: AUC:0.9438405797101449, Accuracy:0.8556701030927835\n",
      "Iteration 206: AUC:0.9497222222222222, Accuracy:0.8556701030927835\n",
      "Iteration 207: AUC:0.9621034077555817, Accuracy:0.8969072164948454\n",
      "Iteration 208: AUC:0.9507422402159245, Accuracy:0.8865979381443299\n",
      "Iteration 209: AUC:0.9479472140762463, Accuracy:0.865979381443299\n",
      "Iteration 210: AUC:0.964935064935065, Accuracy:0.8556701030927835\n",
      "Iteration 211: AUC:0.9293066088840737, Accuracy:0.8556701030927835\n",
      "Iteration 212: AUC:0.9217532467532468, Accuracy:0.845360824742268\n",
      "Iteration 213: AUC:0.9362514688601644, Accuracy:0.8556701030927835\n",
      "Iteration 214: AUC:0.9485898942420682, Accuracy:0.8247422680412371\n",
      "Iteration 215: AUC:0.9455555555555556, Accuracy:0.8556701030927835\n",
      "Iteration 216: AUC:0.9459939148073023, Accuracy:0.8865979381443299\n",
      "Iteration 217: AUC:0.9446022727272727, Accuracy:0.8762886597938144\n",
      "Iteration 218: AUC:0.9451515151515151, Accuracy:0.8144329896907216\n",
      "Iteration 219: AUC:0.9074618096357226, Accuracy:0.8144329896907216\n",
      "Iteration 220: AUC:0.8997222222222222, Accuracy:0.8144329896907216\n",
      "Iteration 221: AUC:0.8918181818181818, Accuracy:0.8247422680412371\n",
      "Iteration 222: AUC:0.9459459459459459, Accuracy:0.8350515463917526\n",
      "Iteration 223: AUC:0.936318407960199, Accuracy:0.865979381443299\n",
      "Iteration 224: AUC:0.9530933062880325, Accuracy:0.8865979381443299\n",
      "Iteration 225: AUC:0.9345238095238095, Accuracy:0.845360824742268\n",
      "Iteration 226: AUC:0.937703141928494, Accuracy:0.8865979381443299\n",
      "Iteration 227: AUC:0.902762730227519, Accuracy:0.8144329896907216\n",
      "Iteration 228: AUC:0.9547222222222222, Accuracy:0.845360824742268\n",
      "Iteration 229: AUC:0.9219066937119675, Accuracy:0.845360824742268\n",
      "Iteration 230: AUC:0.9251322751322751, Accuracy:0.8556701030927835\n",
      "Iteration 231: AUC:0.9024918743228603, Accuracy:0.8247422680412371\n",
      "Iteration 232: AUC:0.9292009400705052, Accuracy:0.8144329896907216\n",
      "Iteration 233: AUC:0.9081818181818182, Accuracy:0.8247422680412371\n",
      "Iteration 234: AUC:0.9224137931034482, Accuracy:0.8247422680412371\n",
      "Iteration 235: AUC:0.9206389452332656, Accuracy:0.8247422680412371\n",
      "Iteration 236: AUC:0.9401408450704225, Accuracy:0.8350515463917526\n",
      "Iteration 237: AUC:0.9163286004056795, Accuracy:0.8144329896907216\n",
      "Iteration 238: AUC:0.8969444444444444, Accuracy:0.8041237113402062\n",
      "Iteration 239: AUC:0.9291666666666666, Accuracy:0.845360824742268\n",
      "Iteration 240: AUC:0.9195075757575758, Accuracy:0.8247422680412371\n",
      "Iteration 241: AUC:0.9233333333333333, Accuracy:0.8350515463917526\n",
      "Iteration 242: AUC:0.9596153846153846, Accuracy:0.8762886597938144\n",
      "Iteration 243: AUC:0.923076923076923, Accuracy:0.8350515463917526\n",
      "Iteration 244: AUC:0.9587662337662338, Accuracy:0.8762886597938144\n",
      "Iteration 245: AUC:0.9377777777777778, Accuracy:0.8865979381443299\n",
      "Iteration 246: AUC:0.9055555555555556, Accuracy:0.8350515463917526\n",
      "Iteration 247: AUC:0.9288461538461539, Accuracy:0.8350515463917526\n",
      "Iteration 248: AUC:0.9334415584415584, Accuracy:0.7835051546391752\n",
      "Iteration 249: AUC:0.9445273631840796, Accuracy:0.845360824742268\n",
      "Iteration 250: AUC:0.9422794117647059, Accuracy:0.8865979381443299\n",
      "Iteration 251: AUC:0.9292009400705052, Accuracy:0.8144329896907216\n",
      "Iteration 252: AUC:0.9124378109452737, Accuracy:0.8144329896907216\n",
      "Iteration 253: AUC:0.9531746031746032, Accuracy:0.865979381443299\n",
      "Iteration 254: AUC:0.9502487562189055, Accuracy:0.8556701030927835\n",
      "Iteration 255: AUC:0.9253819036427732, Accuracy:0.8556701030927835\n",
      "Iteration 256: AUC:0.9318448883666275, Accuracy:0.8247422680412371\n",
      "Iteration 257: AUC:0.9376267748478702, Accuracy:0.8762886597938144\n",
      "Iteration 258: AUC:0.9147376543209876, Accuracy:0.8556701030927835\n",
      "Iteration 259: AUC:0.9101027397260274, Accuracy:0.8350515463917526\n",
      "Iteration 260: AUC:0.9295454545454546, Accuracy:0.845360824742268\n",
      "Iteration 261: AUC:0.9354497354497354, Accuracy:0.845360824742268\n",
      "Iteration 262: AUC:0.8846153846153846, Accuracy:0.7422680412371134\n",
      "Iteration 263: AUC:0.9485294117647058, Accuracy:0.8865979381443299\n",
      "Iteration 264: AUC:0.9256613756613756, Accuracy:0.8144329896907216\n",
      "Iteration 265: AUC:0.9535840188014101, Accuracy:0.845360824742268\n",
      "Iteration 266: AUC:0.9247638326585694, Accuracy:0.7938144329896907\n",
      "Iteration 267: AUC:0.9235449735449736, Accuracy:0.8350515463917526\n",
      "Iteration 268: AUC:0.9785546415981199, Accuracy:0.8865979381443299\n",
      "Iteration 269: AUC:0.9289071680376029, Accuracy:0.8556701030927835\n",
      "Iteration 270: AUC:0.9478835978835979, Accuracy:0.8556701030927835\n",
      "Iteration 271: AUC:0.947702834799609, Accuracy:0.865979381443299\n"
     ]
    },
    {
     "name": "stdout",
     "output_type": "stream",
     "text": [
      "Iteration 272: AUC:0.9396825396825397, Accuracy:0.8350515463917526\n",
      "Iteration 273: AUC:0.9145454545454546, Accuracy:0.8350515463917526\n",
      "Iteration 274: AUC:0.9532258064516129, Accuracy:0.865979381443299\n",
      "Iteration 275: AUC:0.9125939849624061, Accuracy:0.8350515463917526\n",
      "Iteration 276: AUC:0.9236111111111112, Accuracy:0.8144329896907216\n",
      "Iteration 277: AUC:0.9460996749729144, Accuracy:0.8556701030927835\n",
      "Iteration 278: AUC:0.9233954451345755, Accuracy:0.8144329896907216\n",
      "Iteration 279: AUC:0.9470551378446115, Accuracy:0.845360824742268\n",
      "Iteration 280: AUC:0.8719574036511156, Accuracy:0.7938144329896907\n",
      "Iteration 281: AUC:0.9471830985915493, Accuracy:0.8144329896907216\n",
      "Iteration 282: AUC:0.9677248677248678, Accuracy:0.8762886597938144\n",
      "Iteration 283: AUC:0.9276497695852534, Accuracy:0.8247422680412371\n",
      "Iteration 284: AUC:0.9280555555555555, Accuracy:0.845360824742268\n",
      "Iteration 285: AUC:0.9021164021164021, Accuracy:0.8247422680412371\n",
      "Iteration 286: AUC:0.894973544973545, Accuracy:0.8144329896907216\n",
      "Iteration 287: AUC:0.9112903225806451, Accuracy:0.8041237113402062\n",
      "Iteration 288: AUC:0.9333333333333333, Accuracy:0.865979381443299\n",
      "Iteration 289: AUC:0.9363488624052003, Accuracy:0.845360824742268\n",
      "Iteration 290: AUC:0.9606060606060606, Accuracy:0.8865979381443299\n",
      "Iteration 291: AUC:0.9642424242424242, Accuracy:0.865979381443299\n",
      "Iteration 292: AUC:0.9374120956399438, Accuracy:0.8556701030927835\n",
      "Iteration 293: AUC:0.9337899543378996, Accuracy:0.845360824742268\n",
      "Iteration 294: AUC:0.9574030552291423, Accuracy:0.865979381443299\n",
      "Iteration 295: AUC:0.9738805970149254, Accuracy:0.9278350515463918\n",
      "Iteration 296: AUC:0.9442036836403033, Accuracy:0.8556701030927835\n",
      "Iteration 297: AUC:0.9119444444444444, Accuracy:0.8350515463917526\n",
      "Iteration 298: AUC:0.9286069651741293, Accuracy:0.8247422680412371\n",
      "Iteration 299: AUC:0.9127272727272727, Accuracy:0.8144329896907216\n",
      "Iteration 300: AUC:0.8804347826086957, Accuracy:0.8041237113402062\n",
      "Iteration 301: AUC:0.9288961038961039, Accuracy:0.8350515463917526\n",
      "Iteration 302: AUC:0.9255146262188516, Accuracy:0.8556701030927835\n",
      "Iteration 303: AUC:0.9243506493506494, Accuracy:0.8350515463917526\n",
      "Iteration 304: AUC:0.9207792207792208, Accuracy:0.8350515463917526\n",
      "Iteration 305: AUC:0.9536340852130326, Accuracy:0.8350515463917526\n",
      "Iteration 306: AUC:0.9356060606060606, Accuracy:0.8247422680412371\n",
      "Iteration 307: AUC:0.9042303172737955, Accuracy:0.8350515463917526\n",
      "Iteration 308: AUC:0.9386016451233843, Accuracy:0.8865979381443299\n",
      "Iteration 309: AUC:0.9029503105590062, Accuracy:0.845360824742268\n",
      "Iteration 310: AUC:0.9403030303030303, Accuracy:0.865979381443299\n",
      "Iteration 311: AUC:0.9342424242424242, Accuracy:0.8247422680412371\n",
      "Iteration 312: AUC:0.9292237442922375, Accuracy:0.8041237113402062\n",
      "Iteration 313: AUC:0.9385572139303483, Accuracy:0.8247422680412371\n",
      "Iteration 314: AUC:0.9147222222222223, Accuracy:0.845360824742268\n",
      "Iteration 315: AUC:0.9354545454545454, Accuracy:0.8247422680412371\n",
      "Iteration 316: AUC:0.9338972431077694, Accuracy:0.845360824742268\n",
      "Iteration 317: AUC:0.8918831168831169, Accuracy:0.7731958762886598\n",
      "Iteration 318: AUC:0.8889490790899242, Accuracy:0.8144329896907216\n",
      "Iteration 319: AUC:0.9558441558441558, Accuracy:0.8556701030927835\n",
      "Iteration 320: AUC:0.9196247464503042, Accuracy:0.8350515463917526\n",
      "Iteration 321: AUC:0.9375000000000001, Accuracy:0.8350515463917526\n",
      "Iteration 322: AUC:0.9283126293995859, Accuracy:0.865979381443299\n",
      "Iteration 323: AUC:0.9313725490196079, Accuracy:0.8247422680412371\n",
      "Iteration 324: AUC:0.9307809330628803, Accuracy:0.8350515463917526\n",
      "Iteration 325: AUC:0.890716803760282, Accuracy:0.7628865979381443\n",
      "Iteration 326: AUC:0.932648401826484, Accuracy:0.8350515463917526\n",
      "Iteration 327: AUC:0.9217226435536294, Accuracy:0.8144329896907216\n",
      "Iteration 328: AUC:0.9526255707762558, Accuracy:0.845360824742268\n",
      "Iteration 329: AUC:0.9269444444444445, Accuracy:0.8556701030927835\n",
      "Iteration 330: AUC:0.95, Accuracy:0.8247422680412371\n",
      "Iteration 331: AUC:0.9245454545454546, Accuracy:0.845360824742268\n",
      "Iteration 332: AUC:0.8959134615384615, Accuracy:0.8041237113402062\n",
      "Iteration 333: AUC:0.9483333333333334, Accuracy:0.845360824742268\n",
      "Iteration 334: AUC:0.94068255687974, Accuracy:0.8350515463917526\n",
      "Iteration 335: AUC:0.9645454545454546, Accuracy:0.9175257731958762\n",
      "Iteration 336: AUC:0.938095238095238, Accuracy:0.8350515463917526\n",
      "Iteration 337: AUC:0.889090909090909, Accuracy:0.7835051546391752\n",
      "Iteration 338: AUC:0.9515720081135903, Accuracy:0.8762886597938144\n",
      "Iteration 339: AUC:0.9407349896480331, Accuracy:0.845360824742268\n",
      "Iteration 340: AUC:0.9450162513542795, Accuracy:0.8762886597938144\n",
      "Iteration 341: AUC:0.945, Accuracy:0.845360824742268\n",
      "Iteration 342: AUC:0.9615158636897767, Accuracy:0.8865979381443299\n",
      "Iteration 343: AUC:0.9616977225672878, Accuracy:0.865979381443299\n",
      "Iteration 344: AUC:0.901255707762557, Accuracy:0.7938144329896907\n",
      "Iteration 345: AUC:0.91, Accuracy:0.8350515463917526\n",
      "Iteration 346: AUC:0.908390410958904, Accuracy:0.8350515463917526\n",
      "Iteration 347: AUC:0.9310776942355891, Accuracy:0.8556701030927835\n",
      "Iteration 348: AUC:0.922737955346651, Accuracy:0.845360824742268\n",
      "Iteration 349: AUC:0.9314734561213435, Accuracy:0.8144329896907216\n",
      "Iteration 350: AUC:0.9310850439882697, Accuracy:0.8762886597938144\n",
      "Iteration 351: AUC:0.9297945205479451, Accuracy:0.845360824742268\n",
      "Iteration 352: AUC:0.9466873706004141, Accuracy:0.8144329896907216\n",
      "Iteration 353: AUC:0.9089552238805969, Accuracy:0.8041237113402062\n",
      "Iteration 354: AUC:0.9332298136645962, Accuracy:0.845360824742268\n",
      "Iteration 355: AUC:0.9608465608465608, Accuracy:0.8762886597938144\n",
      "Iteration 356: AUC:0.9175228310502284, Accuracy:0.8350515463917526\n",
      "Iteration 357: AUC:0.916095890410959, Accuracy:0.8247422680412371\n",
      "Iteration 358: AUC:0.9404158215010141, Accuracy:0.845360824742268\n",
      "Iteration 359: AUC:0.9108465608465608, Accuracy:0.8041237113402062\n",
      "Iteration 360: AUC:0.9492063492063492, Accuracy:0.845360824742268\n",
      "Iteration 361: AUC:0.9209100758396533, Accuracy:0.8350515463917526\n",
      "Iteration 362: AUC:0.9155555555555556, Accuracy:0.845360824742268\n",
      "Iteration 363: AUC:0.9382448537378115, Accuracy:0.8556701030927835\n",
      "Iteration 364: AUC:0.9492063492063492, Accuracy:0.8865979381443299\n",
      "Iteration 365: AUC:0.9237012987012987, Accuracy:0.845360824742268\n",
      "Iteration 366: AUC:0.9541666666666666, Accuracy:0.8865979381443299\n",
      "Iteration 367: AUC:0.9463705308775731, Accuracy:0.9072164948453608\n",
      "Iteration 368: AUC:0.9270186335403727, Accuracy:0.8247422680412371\n",
      "Iteration 369: AUC:0.93213866039953, Accuracy:0.8350515463917526\n",
      "Iteration 370: AUC:0.9400684931506849, Accuracy:0.865979381443299\n",
      "Iteration 371: AUC:0.9364035087719299, Accuracy:0.865979381443299\n",
      "Iteration 372: AUC:0.9531963470319635, Accuracy:0.8556701030927835\n",
      "Iteration 373: AUC:0.894406392694064, Accuracy:0.7938144329896907\n",
      "Iteration 374: AUC:0.9210654936461388, Accuracy:0.8350515463917526\n",
      "Iteration 375: AUC:0.911297852474323, Accuracy:0.8041237113402062\n",
      "Iteration 376: AUC:0.9361111111111111, Accuracy:0.8556701030927835\n",
      "Iteration 377: AUC:0.8965608465608466, Accuracy:0.8247422680412371\n",
      "Iteration 378: AUC:0.8742424242424243, Accuracy:0.7938144329896907\n",
      "Iteration 379: AUC:0.9187878787878787, Accuracy:0.845360824742268\n",
      "Iteration 380: AUC:0.8984375, Accuracy:0.8144329896907216\n",
      "Iteration 381: AUC:0.9016233766233767, Accuracy:0.845360824742268\n",
      "Iteration 382: AUC:0.9333137485311398, Accuracy:0.8144329896907216\n",
      "Iteration 383: AUC:0.9375661375661376, Accuracy:0.8144329896907216\n",
      "Iteration 384: AUC:0.9477225672877846, Accuracy:0.8350515463917526\n",
      "Iteration 385: AUC:0.897089947089947, Accuracy:0.8144329896907216\n",
      "Iteration 386: AUC:0.9452380952380952, Accuracy:0.8762886597938144\n",
      "Iteration 387: AUC:0.9275114155251142, Accuracy:0.8556701030927835\n",
      "Iteration 388: AUC:0.97, Accuracy:0.9072164948453608\n",
      "Iteration 389: AUC:0.9293066088840737, Accuracy:0.845360824742268\n",
      "Iteration 390: AUC:0.9401408450704226, Accuracy:0.8350515463917526\n",
      "Iteration 391: AUC:0.9489155251141553, Accuracy:0.845360824742268\n",
      "Iteration 392: AUC:0.9217986314760508, Accuracy:0.8144329896907216\n",
      "Iteration 393: AUC:0.9084134615384616, Accuracy:0.8350515463917526\n",
      "Iteration 394: AUC:0.9312214611872147, Accuracy:0.845360824742268\n",
      "Iteration 395: AUC:0.9108465608465608, Accuracy:0.8556701030927835\n",
      "Iteration 396: AUC:0.9314734561213435, Accuracy:0.8556701030927835\n",
      "Iteration 397: AUC:0.9210662525879917, Accuracy:0.8350515463917526\n",
      "Iteration 398: AUC:0.9106060606060606, Accuracy:0.8247422680412371\n",
      "Iteration 399: AUC:0.9389051808406647, Accuracy:0.845360824742268\n",
      "Iteration 400: AUC:0.9633333333333333, Accuracy:0.8865979381443299\n",
      "Iteration 401: AUC:0.9016793066088841, Accuracy:0.7731958762886598\n"
     ]
    },
    {
     "name": "stdout",
     "output_type": "stream",
     "text": [
      "Iteration 402: AUC:0.9727272727272728, Accuracy:0.9072164948453608\n",
      "Iteration 403: AUC:0.9433333333333334, Accuracy:0.865979381443299\n",
      "Iteration 404: AUC:0.9407894736842105, Accuracy:0.8865979381443299\n",
      "Iteration 405: AUC:0.9213888888888889, Accuracy:0.8350515463917526\n",
      "Iteration 406: AUC:0.8975124378109454, Accuracy:0.7938144329896907\n",
      "Iteration 407: AUC:0.9469122426868906, Accuracy:0.8144329896907216\n",
      "Iteration 408: AUC:0.9218036529680366, Accuracy:0.8350515463917526\n",
      "Iteration 409: AUC:0.9661654135338346, Accuracy:0.9072164948453608\n",
      "Iteration 410: AUC:0.8970747562296858, Accuracy:0.8144329896907216\n",
      "Iteration 411: AUC:0.9333333333333332, Accuracy:0.845360824742268\n",
      "Iteration 412: AUC:0.9134920634920635, Accuracy:0.8350515463917526\n",
      "Iteration 413: AUC:0.9727777777777779, Accuracy:0.9072164948453608\n",
      "Iteration 414: AUC:0.9230317273795534, Accuracy:0.8041237113402062\n",
      "Iteration 415: AUC:0.9082089552238806, Accuracy:0.8144329896907216\n",
      "Iteration 416: AUC:0.9726027397260275, Accuracy:0.8762886597938144\n",
      "Iteration 417: AUC:0.9257990867579908, Accuracy:0.8144329896907216\n",
      "Iteration 418: AUC:0.960618846694796, Accuracy:0.8762886597938144\n",
      "Iteration 419: AUC:0.9106933019976499, Accuracy:0.8247422680412371\n",
      "Iteration 420: AUC:0.9233333333333333, Accuracy:0.845360824742268\n",
      "Iteration 421: AUC:0.9328277356446371, Accuracy:0.8350515463917526\n",
      "Iteration 422: AUC:0.934723726977248, Accuracy:0.8556701030927835\n",
      "Iteration 423: AUC:0.9619444444444445, Accuracy:0.8969072164948454\n",
      "Iteration 424: AUC:0.9449797160243408, Accuracy:0.8762886597938144\n",
      "Iteration 425: AUC:0.9248756218905473, Accuracy:0.7835051546391752\n",
      "Iteration 426: AUC:0.9417989417989419, Accuracy:0.8556701030927835\n",
      "Iteration 427: AUC:0.9106933019976498, Accuracy:0.7938144329896907\n",
      "Iteration 428: AUC:0.9153726708074534, Accuracy:0.8350515463917526\n",
      "Iteration 429: AUC:0.8886111111111111, Accuracy:0.8041237113402062\n",
      "Iteration 430: AUC:0.9272727272727272, Accuracy:0.7938144329896907\n",
      "Iteration 431: AUC:0.9075, Accuracy:0.8041237113402062\n",
      "Iteration 432: AUC:0.8941666666666667, Accuracy:0.7835051546391752\n",
      "Iteration 433: AUC:0.9197722567287784, Accuracy:0.8350515463917526\n",
      "Iteration 434: AUC:0.9297667342799188, Accuracy:0.845360824742268\n",
      "Iteration 435: AUC:0.9140786749482401, Accuracy:0.8041237113402062\n",
      "Iteration 436: AUC:0.9132275132275133, Accuracy:0.8144329896907216\n",
      "Iteration 437: AUC:0.9544444444444444, Accuracy:0.8969072164948454\n",
      "Iteration 438: AUC:0.8894523326572008, Accuracy:0.8247422680412371\n",
      "Iteration 439: AUC:0.957815734989648, Accuracy:0.8762886597938144\n",
      "Iteration 440: AUC:0.8884132420091324, Accuracy:0.7938144329896907\n",
      "Iteration 441: AUC:0.9437810945273631, Accuracy:0.845360824742268\n",
      "Iteration 442: AUC:0.9140981735159818, Accuracy:0.8247422680412371\n",
      "Iteration 443: AUC:0.9177248677248677, Accuracy:0.845360824742268\n",
      "Iteration 444: AUC:0.9503042596348884, Accuracy:0.8762886597938144\n",
      "Iteration 445: AUC:0.9246575342465754, Accuracy:0.8556701030927835\n",
      "Iteration 446: AUC:0.9198059360730594, Accuracy:0.8144329896907216\n",
      "Iteration 447: AUC:0.962080173347779, Accuracy:0.8762886597938144\n",
      "Iteration 448: AUC:0.9414300202839756, Accuracy:0.8865979381443299\n",
      "Iteration 449: AUC:0.9619444444444445, Accuracy:0.9072164948453608\n",
      "Iteration 450: AUC:0.9074675324675324, Accuracy:0.8041237113402062\n",
      "Iteration 451: AUC:0.9328042328042329, Accuracy:0.8556701030927835\n",
      "Iteration 452: AUC:0.9216531440162272, Accuracy:0.8247422680412371\n",
      "Iteration 453: AUC:0.914409534127844, Accuracy:0.845360824742268\n",
      "Iteration 454: AUC:0.9768835616438356, Accuracy:0.8865979381443299\n",
      "Iteration 455: AUC:0.9405555555555557, Accuracy:0.8556701030927835\n",
      "Iteration 456: AUC:0.8951612903225806, Accuracy:0.7835051546391752\n",
      "Iteration 457: AUC:0.9172222222222223, Accuracy:0.8041237113402062\n",
      "Iteration 458: AUC:0.9293939393939394, Accuracy:0.845360824742268\n",
      "Iteration 459: AUC:0.8859026369168356, Accuracy:0.7835051546391752\n",
      "Iteration 460: AUC:0.9371327849588719, Accuracy:0.8762886597938144\n",
      "Iteration 461: AUC:0.8764976958525346, Accuracy:0.7422680412371134\n",
      "Iteration 462: AUC:0.8560846560846561, Accuracy:0.7628865979381443\n",
      "Iteration 463: AUC:0.9350763807285547, Accuracy:0.8247422680412371\n",
      "Iteration 464: AUC:0.9699792960662525, Accuracy:0.8762886597938144\n",
      "Iteration 465: AUC:0.9541075050709938, Accuracy:0.865979381443299\n",
      "Iteration 466: AUC:0.9375, Accuracy:0.8247422680412371\n",
      "Iteration 467: AUC:0.9257086999022482, Accuracy:0.845360824742268\n",
      "Iteration 468: AUC:0.949486301369863, Accuracy:0.8865979381443299\n",
      "Iteration 469: AUC:0.9719444444444445, Accuracy:0.9175257731958762\n",
      "Iteration 470: AUC:0.971875, Accuracy:0.8865979381443299\n",
      "Iteration 471: AUC:0.9011387163561076, Accuracy:0.8041237113402062\n",
      "Iteration 472: AUC:0.9451515151515151, Accuracy:0.845360824742268\n",
      "Iteration 473: AUC:0.9406392694063928, Accuracy:0.8556701030927835\n",
      "Iteration 474: AUC:0.9517412935323383, Accuracy:0.865979381443299\n",
      "Iteration 475: AUC:0.9241854636591478, Accuracy:0.8350515463917526\n",
      "Iteration 476: AUC:0.9330303030303031, Accuracy:0.8762886597938144\n",
      "Iteration 477: AUC:0.9247538677918425, Accuracy:0.8247422680412371\n",
      "Iteration 478: AUC:0.9469444444444444, Accuracy:0.865979381443299\n",
      "Iteration 479: AUC:0.9601990049751243, Accuracy:0.8762886597938144\n",
      "Iteration 480: AUC:0.9263698630136986, Accuracy:0.8247422680412371\n",
      "Iteration 481: AUC:0.926969696969697, Accuracy:0.8144329896907216\n",
      "Iteration 482: AUC:0.9233830845771145, Accuracy:0.8350515463917526\n",
      "Iteration 483: AUC:0.9464285714285714, Accuracy:0.8762886597938144\n",
      "Iteration 484: AUC:0.9505555555555555, Accuracy:0.8762886597938144\n",
      "Iteration 485: AUC:0.8537271448663853, Accuracy:0.7731958762886598\n",
      "Iteration 486: AUC:0.9613636363636364, Accuracy:0.8969072164948454\n",
      "Iteration 487: AUC:0.9012707722385142, Accuracy:0.8350515463917526\n",
      "Iteration 488: AUC:0.9335820895522388, Accuracy:0.845360824742268\n",
      "Iteration 489: AUC:0.9412100456621004, Accuracy:0.865979381443299\n",
      "Iteration 490: AUC:0.9350414078674948, Accuracy:0.8350515463917526\n",
      "Iteration 491: AUC:0.9433333333333334, Accuracy:0.865979381443299\n",
      "Iteration 492: AUC:0.9132275132275133, Accuracy:0.8247422680412371\n",
      "Iteration 493: AUC:0.9566666666666667, Accuracy:0.8865979381443299\n",
      "Iteration 494: AUC:0.9381469979296067, Accuracy:0.865979381443299\n",
      "Iteration 495: AUC:0.9546232876712328, Accuracy:0.8556701030927835\n",
      "Iteration 496: AUC:0.9220647773279352, Accuracy:0.8350515463917526\n",
      "Iteration 497: AUC:0.9833333333333334, Accuracy:0.9381443298969072\n",
      "Iteration 498: AUC:0.929035752979415, Accuracy:0.845360824742268\n",
      "Iteration 499: AUC:0.9084507042253521, Accuracy:0.8350515463917526\n",
      "Iteration 500: AUC:0.9516233766233767, Accuracy:0.8556701030927835\n",
      "Iteration 501: AUC:0.9298941798941799, Accuracy:0.8350515463917526\n",
      "Iteration 502: AUC:0.9205555555555555, Accuracy:0.8144329896907216\n",
      "Iteration 503: AUC:0.860248447204969, Accuracy:0.7422680412371134\n",
      "Iteration 504: AUC:0.9544653349001175, Accuracy:0.865979381443299\n",
      "Iteration 505: AUC:0.9261904761904762, Accuracy:0.8350515463917526\n",
      "Iteration 506: AUC:0.9174603174603174, Accuracy:0.8350515463917526\n",
      "Iteration 507: AUC:0.9287525354969574, Accuracy:0.8556701030927835\n",
      "Iteration 508: AUC:0.962984723854289, Accuracy:0.8556701030927835\n",
      "Iteration 509: AUC:0.8927174975562072, Accuracy:0.7938144329896907\n",
      "Iteration 510: AUC:0.9472222222222222, Accuracy:0.845360824742268\n",
      "Iteration 511: AUC:0.9382448537378115, Accuracy:0.8041237113402062\n",
      "Iteration 512: AUC:0.956060606060606, Accuracy:0.865979381443299\n",
      "Iteration 513: AUC:0.8443204868154157, Accuracy:0.7422680412371134\n",
      "Iteration 514: AUC:0.9495024875621891, Accuracy:0.845360824742268\n",
      "Iteration 515: AUC:0.9283126293995859, Accuracy:0.8247422680412371\n",
      "Iteration 516: AUC:0.9583333333333333, Accuracy:0.865979381443299\n",
      "Iteration 517: AUC:0.9227761485826002, Accuracy:0.8247422680412371\n",
      "Iteration 518: AUC:0.9389269406392694, Accuracy:0.8556701030927835\n",
      "Iteration 519: AUC:0.8827777777777778, Accuracy:0.7731958762886598\n",
      "Iteration 520: AUC:0.9183333333333333, Accuracy:0.8350515463917526\n",
      "Iteration 521: AUC:0.9141386782231853, Accuracy:0.7835051546391752\n",
      "Iteration 522: AUC:0.9387878787878788, Accuracy:0.845360824742268\n",
      "Iteration 523: AUC:0.91, Accuracy:0.8350515463917526\n",
      "Iteration 524: AUC:0.9028904665314402, Accuracy:0.8144329896907216\n",
      "Iteration 525: AUC:0.9568783068783069, Accuracy:0.8556701030927835\n",
      "Iteration 526: AUC:0.9108015640273706, Accuracy:0.8247422680412371\n",
      "Iteration 527: AUC:0.9463705308775731, Accuracy:0.8762886597938144\n",
      "Iteration 528: AUC:0.9226673427991886, Accuracy:0.8556701030927835\n",
      "Iteration 529: AUC:0.9490259740259741, Accuracy:0.8969072164948454\n",
      "Iteration 530: AUC:0.9731182795698925, Accuracy:0.9175257731958762\n",
      "Iteration 531: AUC:0.9442424242424243, Accuracy:0.8144329896907216\n",
      "Iteration 532: AUC:0.8877403846153846, Accuracy:0.8144329896907216\n",
      "Iteration 533: AUC:0.9058441558441558, Accuracy:0.8041237113402062\n",
      "Iteration 534: AUC:0.9325568797399784, Accuracy:0.8556701030927835\n",
      "Iteration 535: AUC:0.9365942028985507, Accuracy:0.8556701030927835\n",
      "Iteration 536: AUC:0.9122315592903828, Accuracy:0.8144329896907216\n",
      "Iteration 537: AUC:0.9092465753424657, Accuracy:0.8247422680412371\n",
      "Iteration 538: AUC:0.9045031055900621, Accuracy:0.7938144329896907\n",
      "Iteration 539: AUC:0.9298483206933911, Accuracy:0.845360824742268\n"
     ]
    },
    {
     "name": "stdout",
     "output_type": "stream",
     "text": [
      "Iteration 540: AUC:0.9355362946912243, Accuracy:0.8247422680412371\n",
      "Iteration 541: AUC:0.8987012987012988, Accuracy:0.8144329896907216\n",
      "Iteration 542: AUC:0.9184782608695652, Accuracy:0.845360824742268\n",
      "Iteration 543: AUC:0.9266169154228856, Accuracy:0.865979381443299\n",
      "Iteration 544: AUC:0.9500517598343685, Accuracy:0.8969072164948454\n",
      "Iteration 545: AUC:0.9555555555555556, Accuracy:0.8762886597938144\n",
      "Iteration 546: AUC:0.9197115384615384, Accuracy:0.8247422680412371\n",
      "Iteration 547: AUC:0.8950501253132832, Accuracy:0.8041237113402062\n",
      "Iteration 548: AUC:0.9597402597402598, Accuracy:0.845360824742268\n",
      "Iteration 549: AUC:0.9311688311688312, Accuracy:0.8041237113402062\n",
      "Iteration 550: AUC:0.9442424242424242, Accuracy:0.8350515463917526\n",
      "Iteration 551: AUC:0.9433333333333334, Accuracy:0.845360824742268\n",
      "Iteration 552: AUC:0.9375621890547263, Accuracy:0.8556701030927835\n",
      "Iteration 553: AUC:0.9241718426501035, Accuracy:0.8350515463917526\n",
      "Iteration 554: AUC:0.961388888888889, Accuracy:0.8865979381443299\n",
      "Iteration 555: AUC:0.9428494041170098, Accuracy:0.8556701030927835\n",
      "Iteration 556: AUC:0.9378306878306878, Accuracy:0.8350515463917526\n",
      "Iteration 557: AUC:0.9221014492753623, Accuracy:0.8556701030927835\n",
      "Iteration 558: AUC:0.902762730227519, Accuracy:0.8144329896907216\n",
      "Iteration 559: AUC:0.9249755620723363, Accuracy:0.8350515463917526\n",
      "Iteration 560: AUC:0.9295091324200913, Accuracy:0.845360824742268\n",
      "Iteration 561: AUC:0.9115111561866126, Accuracy:0.8350515463917526\n",
      "Iteration 562: AUC:0.9447222222222222, Accuracy:0.865979381443299\n",
      "Iteration 563: AUC:0.9603407755581669, Accuracy:0.8865979381443299\n",
      "Iteration 564: AUC:0.9006085192697769, Accuracy:0.8350515463917526\n",
      "Iteration 565: AUC:0.9251515151515152, Accuracy:0.8556701030927835\n",
      "Iteration 566: AUC:0.9560846560846561, Accuracy:0.8762886597938144\n",
      "Iteration 567: AUC:0.9138678223185266, Accuracy:0.8247422680412371\n",
      "Iteration 568: AUC:0.9510649087221096, Accuracy:0.8556701030927835\n",
      "Iteration 569: AUC:0.9555555555555555, Accuracy:0.865979381443299\n",
      "Iteration 570: AUC:0.9397222222222221, Accuracy:0.8556701030927835\n",
      "Iteration 571: AUC:0.9244444444444445, Accuracy:0.8350515463917526\n",
      "Iteration 572: AUC:0.9360780065005417, Accuracy:0.845360824742268\n",
      "Iteration 573: AUC:0.932648401826484, Accuracy:0.845360824742268\n",
      "Iteration 574: AUC:0.9661111111111111, Accuracy:0.8762886597938144\n",
      "Iteration 575: AUC:0.9432077625570776, Accuracy:0.8556701030927835\n",
      "Iteration 576: AUC:0.9504333694474539, Accuracy:0.8556701030927835\n",
      "Iteration 577: AUC:0.9332191780821918, Accuracy:0.8350515463917526\n",
      "Iteration 578: AUC:0.9355555555555556, Accuracy:0.845360824742268\n",
      "Iteration 579: AUC:0.9105571847507331, Accuracy:0.8144329896907216\n",
      "Iteration 580: AUC:0.8962981744421906, Accuracy:0.7628865979381443\n",
      "Iteration 581: AUC:0.9420662100456622, Accuracy:0.8350515463917526\n",
      "Iteration 582: AUC:0.9761904761904763, Accuracy:0.9072164948453608\n",
      "Iteration 583: AUC:0.9424206815511164, Accuracy:0.8762886597938144\n",
      "Iteration 584: AUC:0.9115746180963572, Accuracy:0.8247422680412371\n",
      "Iteration 585: AUC:0.9471830985915494, Accuracy:0.8969072164948454\n",
      "Iteration 586: AUC:0.9419831223628692, Accuracy:0.845360824742268\n",
      "Iteration 587: AUC:0.9544513457556937, Accuracy:0.8865979381443299\n",
      "Iteration 588: AUC:0.9552277432712216, Accuracy:0.8762886597938144\n",
      "Iteration 589: AUC:0.9479956663055255, Accuracy:0.8556701030927835\n",
      "Iteration 590: AUC:0.9456521739130436, Accuracy:0.865979381443299\n",
      "Iteration 591: AUC:0.9467545638945233, Accuracy:0.8247422680412371\n",
      "Iteration 592: AUC:0.9395363408521302, Accuracy:0.845360824742268\n",
      "Iteration 593: AUC:0.9136310223266745, Accuracy:0.8247422680412371\n",
      "Iteration 594: AUC:0.9205767350928641, Accuracy:0.8247422680412371\n",
      "Iteration 595: AUC:0.9269406392694064, Accuracy:0.845360824742268\n",
      "Iteration 596: AUC:0.9155555555555556, Accuracy:0.8247422680412371\n",
      "Iteration 597: AUC:0.937785388127854, Accuracy:0.8762886597938144\n",
      "Iteration 598: AUC:0.9553466509988249, Accuracy:0.845360824742268\n",
      "Iteration 599: AUC:0.9332191780821918, Accuracy:0.845360824742268\n",
      "Iteration 600: AUC:0.9482961222091656, Accuracy:0.8041237113402062\n",
      "Iteration 601: AUC:0.915, Accuracy:0.8350515463917526\n",
      "Iteration 602: AUC:0.9107505070993914, Accuracy:0.8144329896907216\n",
      "Iteration 603: AUC:0.9298483206933911, Accuracy:0.8247422680412371\n",
      "Iteration 604: AUC:0.963572267920094, Accuracy:0.8556701030927835\n",
      "Iteration 605: AUC:0.9529109589041096, Accuracy:0.8247422680412371\n",
      "Iteration 606: AUC:0.9566630552546046, Accuracy:0.8969072164948454\n",
      "Iteration 607: AUC:0.9574756229685807, Accuracy:0.8865979381443299\n",
      "Iteration 608: AUC:0.9530555555555555, Accuracy:0.8350515463917526\n",
      "Iteration 609: AUC:0.9433333333333334, Accuracy:0.865979381443299\n",
      "Iteration 610: AUC:0.9541666666666667, Accuracy:0.8556701030927835\n",
      "Iteration 611: AUC:0.9204545454545454, Accuracy:0.8144329896907216\n",
      "Iteration 612: AUC:0.9350414078674949, Accuracy:0.845360824742268\n",
      "Iteration 613: AUC:0.9818181818181818, Accuracy:0.9072164948453608\n",
      "Iteration 614: AUC:0.919284940411701, Accuracy:0.8144329896907216\n",
      "Iteration 615: AUC:0.9348739495798319, Accuracy:0.8350515463917526\n",
      "Iteration 616: AUC:0.931592039800995, Accuracy:0.8247422680412371\n",
      "Iteration 617: AUC:0.9175324675324675, Accuracy:0.8247422680412371\n",
      "Iteration 618: AUC:0.9441833137485312, Accuracy:0.8556701030927835\n",
      "Iteration 619: AUC:0.9301191765980499, Accuracy:0.8247422680412371\n",
      "Iteration 620: AUC:0.9437785388127854, Accuracy:0.865979381443299\n",
      "Iteration 621: AUC:0.9192849404117011, Accuracy:0.8247422680412371\n",
      "Iteration 622: AUC:0.8902691511387164, Accuracy:0.7835051546391752\n",
      "Iteration 623: AUC:0.9148550724637681, Accuracy:0.8350515463917526\n",
      "Iteration 624: AUC:0.9171562867215042, Accuracy:0.8762886597938144\n",
      "Iteration 625: AUC:0.8997833152762731, Accuracy:0.7731958762886598\n",
      "Iteration 626: AUC:0.9390756302521008, Accuracy:0.8041237113402062\n",
      "Iteration 627: AUC:0.8997222222222223, Accuracy:0.7835051546391752\n",
      "Iteration 628: AUC:0.9769444444444444, Accuracy:0.9072164948453608\n",
      "Iteration 629: AUC:0.9149085794655414, Accuracy:0.845360824742268\n",
      "Iteration 630: AUC:0.9349315068493151, Accuracy:0.8762886597938144\n",
      "Iteration 631: AUC:0.9399460188933874, Accuracy:0.865979381443299\n",
      "Iteration 632: AUC:0.9527027027027026, Accuracy:0.8762886597938144\n",
      "Iteration 633: AUC:0.9432835820895522, Accuracy:0.8350515463917526\n",
      "Iteration 634: AUC:0.9623510292524378, Accuracy:0.8762886597938144\n",
      "Iteration 635: AUC:0.930952380952381, Accuracy:0.845360824742268\n",
      "Iteration 636: AUC:0.935216894977169, Accuracy:0.8762886597938144\n",
      "Iteration 637: AUC:0.9098119858989424, Accuracy:0.8247422680412371\n",
      "Iteration 638: AUC:0.9324675324675324, Accuracy:0.845360824742268\n",
      "Iteration 639: AUC:0.9306608884073673, Accuracy:0.8247422680412371\n",
      "Iteration 640: AUC:0.9264550264550264, Accuracy:0.845360824742268\n",
      "Iteration 641: AUC:0.9394016227180528, Accuracy:0.8556701030927835\n",
      "Iteration 642: AUC:0.9628995433789954, Accuracy:0.8969072164948454\n",
      "Iteration 643: AUC:0.877497062279671, Accuracy:0.7835051546391752\n",
      "Iteration 644: AUC:0.9391821946169773, Accuracy:0.8041237113402062\n",
      "Iteration 645: AUC:0.9222925457102673, Accuracy:0.8350515463917526\n",
      "Iteration 646: AUC:0.9422222222222222, Accuracy:0.8350515463917526\n",
      "Iteration 647: AUC:0.9142857142857143, Accuracy:0.7938144329896907\n",
      "Iteration 648: AUC:0.9365942028985507, Accuracy:0.8762886597938144\n",
      "Iteration 649: AUC:0.9026826484018264, Accuracy:0.7835051546391752\n",
      "Iteration 650: AUC:0.9447089947089947, Accuracy:0.845360824742268\n",
      "Iteration 651: AUC:0.9277383367139959, Accuracy:0.8144329896907216\n",
      "Iteration 652: AUC:0.9225, Accuracy:0.845360824742268\n",
      "Iteration 653: AUC:0.9194444444444444, Accuracy:0.8350515463917526\n",
      "Iteration 654: AUC:0.9746268656716418, Accuracy:0.8865979381443299\n",
      "Iteration 655: AUC:0.9496578690127078, Accuracy:0.845360824742268\n",
      "Iteration 656: AUC:0.9074074074074073, Accuracy:0.8144329896907216\n",
      "Iteration 657: AUC:0.9367724867724868, Accuracy:0.8556701030927835\n",
      "Iteration 658: AUC:0.958288190682557, Accuracy:0.8556701030927835\n",
      "Iteration 659: AUC:0.9382448537378115, Accuracy:0.8556701030927835\n",
      "Iteration 660: AUC:0.9451345755693582, Accuracy:0.845360824742268\n",
      "Iteration 661: AUC:0.939783105022831, Accuracy:0.845360824742268\n",
      "Iteration 662: AUC:0.8998478701825557, Accuracy:0.8041237113402062\n",
      "Iteration 663: AUC:0.915079365079365, Accuracy:0.8247422680412371\n",
      "Iteration 664: AUC:0.9322751322751323, Accuracy:0.8041237113402062\n",
      "Iteration 665: AUC:0.8915422885572138, Accuracy:0.7835051546391752\n",
      "Iteration 666: AUC:0.954326923076923, Accuracy:0.865979381443299\n",
      "Iteration 667: AUC:0.8990683229813664, Accuracy:0.8041237113402062\n",
      "Iteration 668: AUC:0.9156084656084655, Accuracy:0.8144329896907216\n",
      "Iteration 669: AUC:0.9192351598173516, Accuracy:0.8350515463917526\n",
      "Iteration 670: AUC:0.9320776255707763, Accuracy:0.8247422680412371\n",
      "Iteration 671: AUC:0.884417808219178, Accuracy:0.7731958762886598\n",
      "Iteration 672: AUC:0.9106060606060605, Accuracy:0.7938144329896907\n",
      "Iteration 673: AUC:0.9409937888198758, Accuracy:0.845360824742268\n",
      "Iteration 674: AUC:0.9132205513784462, Accuracy:0.8247422680412371\n",
      "Iteration 675: AUC:0.9182539682539682, Accuracy:0.8247422680412371\n",
      "Iteration 676: AUC:0.926060606060606, Accuracy:0.845360824742268\n"
     ]
    },
    {
     "name": "stdout",
     "output_type": "stream",
     "text": [
      "Iteration 677: AUC:0.960618846694796, Accuracy:0.8556701030927835\n",
      "Iteration 678: AUC:0.8709273182957393, Accuracy:0.8041237113402062\n",
      "Iteration 679: AUC:0.9169312169312169, Accuracy:0.7938144329896907\n",
      "Iteration 680: AUC:0.925189393939394, Accuracy:0.845360824742268\n",
      "Iteration 681: AUC:0.9448757763975155, Accuracy:0.8762886597938144\n",
      "Iteration 682: AUC:0.9091614906832297, Accuracy:0.8144329896907216\n",
      "Iteration 683: AUC:0.9329573934837092, Accuracy:0.845360824742268\n",
      "Iteration 684: AUC:0.9290382819794585, Accuracy:0.845360824742268\n",
      "Iteration 685: AUC:0.9349945828819068, Accuracy:0.8350515463917526\n",
      "Iteration 686: AUC:0.8946917808219178, Accuracy:0.8041237113402062\n",
      "Iteration 687: AUC:0.933316430020284, Accuracy:0.865979381443299\n",
      "Iteration 688: AUC:0.9325, Accuracy:0.8350515463917526\n",
      "Iteration 689: AUC:0.8824485373781149, Accuracy:0.7835051546391752\n",
      "Iteration 690: AUC:0.9384057971014493, Accuracy:0.8762886597938144\n",
      "Iteration 691: AUC:0.9241363211951448, Accuracy:0.8247422680412371\n",
      "Iteration 692: AUC:0.9394179894179895, Accuracy:0.8762886597938144\n",
      "Iteration 693: AUC:0.9688601645123385, Accuracy:0.8865979381443299\n",
      "Iteration 694: AUC:0.9105571847507331, Accuracy:0.8144329896907216\n",
      "Iteration 695: AUC:0.8915151515151515, Accuracy:0.8041237113402062\n",
      "Iteration 696: AUC:0.9647222222222223, Accuracy:0.8865979381443299\n",
      "Iteration 697: AUC:0.9159335288367546, Accuracy:0.8041237113402062\n",
      "Iteration 698: AUC:0.9173427991886409, Accuracy:0.8144329896907216\n",
      "Iteration 699: AUC:0.9146766169154229, Accuracy:0.8350515463917526\n",
      "Iteration 700: AUC:0.9433911159263272, Accuracy:0.845360824742268\n",
      "Iteration 701: AUC:0.9643264840182648, Accuracy:0.8969072164948454\n",
      "Iteration 702: AUC:0.9333694474539546, Accuracy:0.8247422680412371\n",
      "Iteration 703: AUC:0.9505291005291006, Accuracy:0.8556701030927835\n",
      "Iteration 704: AUC:0.9089310829817158, Accuracy:0.8247422680412371\n",
      "Iteration 705: AUC:0.9019501625135428, Accuracy:0.8247422680412371\n",
      "Iteration 706: AUC:0.9696969696969697, Accuracy:0.8762886597938144\n",
      "Iteration 707: AUC:0.9380555555555555, Accuracy:0.8350515463917526\n",
      "Iteration 708: AUC:0.9166666666666667, Accuracy:0.7835051546391752\n",
      "Iteration 709: AUC:0.9606345475910694, Accuracy:0.865979381443299\n",
      "Iteration 710: AUC:0.9551217038539553, Accuracy:0.8865979381443299\n",
      "Iteration 711: AUC:0.9248756218905473, Accuracy:0.8144329896907216\n",
      "Iteration 712: AUC:0.9418331374853114, Accuracy:0.8556701030927835\n",
      "Iteration 713: AUC:0.9138127853881278, Accuracy:0.8041237113402062\n",
      "Iteration 714: AUC:0.9637784090909092, Accuracy:0.8865979381443299\n",
      "Iteration 715: AUC:0.9600470035252644, Accuracy:0.8865979381443299\n",
      "Iteration 716: AUC:0.9197012138188608, Accuracy:0.8041237113402062\n",
      "Iteration 717: AUC:0.9058704453441295, Accuracy:0.845360824742268\n",
      "Iteration 718: AUC:0.946111111111111, Accuracy:0.865979381443299\n",
      "Iteration 719: AUC:0.9169254658385093, Accuracy:0.8762886597938144\n",
      "Iteration 720: AUC:0.9287648970747562, Accuracy:0.8350515463917526\n",
      "Iteration 721: AUC:0.9133116883116883, Accuracy:0.7938144329896907\n",
      "Iteration 722: AUC:0.9261974584555229, Accuracy:0.8247422680412371\n",
      "Iteration 723: AUC:0.9380707762557078, Accuracy:0.845360824742268\n",
      "Iteration 724: AUC:0.9156084656084656, Accuracy:0.845360824742268\n",
      "Iteration 725: AUC:0.9327262044653348, Accuracy:0.8556701030927835\n",
      "Iteration 726: AUC:0.9400684931506849, Accuracy:0.8350515463917526\n",
      "Iteration 727: AUC:0.9385157096424702, Accuracy:0.845360824742268\n",
      "Iteration 728: AUC:0.9279448621553885, Accuracy:0.8144329896907216\n",
      "Iteration 729: AUC:0.957936507936508, Accuracy:0.8556701030927835\n",
      "Iteration 730: AUC:0.8994360902255639, Accuracy:0.8247422680412371\n",
      "Iteration 731: AUC:0.913681592039801, Accuracy:0.845360824742268\n",
      "Iteration 732: AUC:0.9208333333333334, Accuracy:0.8041237113402062\n",
      "Iteration 733: AUC:0.9147222222222222, Accuracy:0.8144329896907216\n",
      "Iteration 734: AUC:0.953781512605042, Accuracy:0.865979381443299\n",
      "Iteration 735: AUC:0.890527950310559, Accuracy:0.7731958762886598\n",
      "Iteration 736: AUC:0.946060606060606, Accuracy:0.865979381443299\n",
      "Iteration 737: AUC:0.9449200913242009, Accuracy:0.865979381443299\n",
      "Iteration 738: AUC:0.9190340909090909, Accuracy:0.8144329896907216\n",
      "Iteration 739: AUC:0.9531039136302294, Accuracy:0.865979381443299\n",
      "Iteration 740: AUC:0.9425785482123511, Accuracy:0.845360824742268\n",
      "Iteration 741: AUC:0.9335978835978836, Accuracy:0.8041237113402062\n",
      "Iteration 742: AUC:0.9682726204465335, Accuracy:0.865979381443299\n",
      "Iteration 743: AUC:0.9554794520547945, Accuracy:0.865979381443299\n",
      "Iteration 744: AUC:0.9290060851926978, Accuracy:0.7938144329896907\n",
      "Iteration 745: AUC:0.95, Accuracy:0.8556701030927835\n",
      "Iteration 746: AUC:0.9376267748478703, Accuracy:0.8350515463917526\n",
      "Iteration 747: AUC:0.9433333333333332, Accuracy:0.8865979381443299\n",
      "Iteration 748: AUC:0.9241293532338309, Accuracy:0.8350515463917526\n",
      "Iteration 749: AUC:0.9169312169312169, Accuracy:0.845360824742268\n",
      "Iteration 750: AUC:0.9332298136645962, Accuracy:0.845360824742268\n",
      "Iteration 751: AUC:0.9349206349206349, Accuracy:0.8350515463917526\n",
      "Iteration 752: AUC:0.9273200757575757, Accuracy:0.8350515463917526\n",
      "Iteration 753: AUC:0.9444745395449621, Accuracy:0.845360824742268\n",
      "Iteration 754: AUC:0.9233333333333333, Accuracy:0.8247422680412371\n",
      "Iteration 755: AUC:0.954623287671233, Accuracy:0.8144329896907216\n",
      "Iteration 756: AUC:0.9194444444444444, Accuracy:0.8041237113402062\n",
      "Iteration 757: AUC:0.9090909090909091, Accuracy:0.8144329896907216\n",
      "Iteration 758: AUC:0.9213659147869674, Accuracy:0.8247422680412371\n",
      "Iteration 759: AUC:0.9115746180963572, Accuracy:0.8350515463917526\n",
      "Iteration 760: AUC:0.9263698630136986, Accuracy:0.8144329896907216\n",
      "Iteration 761: AUC:0.9143835616438357, Accuracy:0.8556701030927835\n",
      "Iteration 762: AUC:0.9333333333333333, Accuracy:0.845360824742268\n",
      "Iteration 763: AUC:0.9523460410557185, Accuracy:0.845360824742268\n",
      "Iteration 764: AUC:0.9301191765980498, Accuracy:0.8556701030927835\n",
      "Iteration 765: AUC:0.9619565217391304, Accuracy:0.8762886597938144\n",
      "Iteration 766: AUC:0.9297222222222222, Accuracy:0.8350515463917526\n",
      "Iteration 767: AUC:0.9383561643835617, Accuracy:0.845360824742268\n",
      "Iteration 768: AUC:0.9352777777777778, Accuracy:0.865979381443299\n",
      "Iteration 769: AUC:0.9286111111111112, Accuracy:0.865979381443299\n",
      "Iteration 770: AUC:0.928396871945259, Accuracy:0.8556701030927835\n",
      "Iteration 771: AUC:0.9314182194616978, Accuracy:0.8350515463917526\n",
      "Iteration 772: AUC:0.9320151679306609, Accuracy:0.8350515463917526\n",
      "Iteration 773: AUC:0.9394179894179895, Accuracy:0.845360824742268\n",
      "Iteration 774: AUC:0.9712121212121212, Accuracy:0.9278350515463918\n",
      "Iteration 775: AUC:0.9626984126984127, Accuracy:0.8865979381443299\n",
      "Iteration 776: AUC:0.9060130010834236, Accuracy:0.8247422680412371\n",
      "Iteration 777: AUC:0.9229323308270677, Accuracy:0.8247422680412371\n",
      "Iteration 778: AUC:0.8759479956663054, Accuracy:0.7628865979381443\n",
      "Iteration 779: AUC:0.9166666666666667, Accuracy:0.845360824742268\n",
      "Iteration 780: AUC:0.921180931744312, Accuracy:0.8350515463917526\n",
      "Iteration 781: AUC:0.9468253968253968, Accuracy:0.8041237113402062\n",
      "Iteration 782: AUC:0.8941798941798942, Accuracy:0.7938144329896907\n",
      "Iteration 783: AUC:0.9249429223744292, Accuracy:0.845360824742268\n",
      "Iteration 784: AUC:0.9511278195488723, Accuracy:0.8350515463917526\n",
      "Iteration 785: AUC:0.9115151515151515, Accuracy:0.8350515463917526\n",
      "Iteration 786: AUC:0.9466324200913242, Accuracy:0.8556701030927835\n",
      "Iteration 787: AUC:0.9688601645123385, Accuracy:0.8969072164948454\n",
      "Iteration 788: AUC:0.9449735449735449, Accuracy:0.8762886597938144\n",
      "Iteration 789: AUC:0.936969696969697, Accuracy:0.865979381443299\n",
      "Iteration 790: AUC:0.9306608884073673, Accuracy:0.8556701030927835\n",
      "Iteration 791: AUC:0.9252403846153847, Accuracy:0.8247422680412371\n",
      "Iteration 792: AUC:0.9196969696969697, Accuracy:0.8350515463917526\n",
      "Iteration 793: AUC:0.9372222222222223, Accuracy:0.8556701030927835\n",
      "Iteration 794: AUC:0.9516045548654244, Accuracy:0.865979381443299\n",
      "Iteration 795: AUC:0.9280555555555555, Accuracy:0.8556701030927835\n",
      "Iteration 796: AUC:0.9151515151515152, Accuracy:0.8247422680412371\n",
      "Iteration 797: AUC:0.9509090909090909, Accuracy:0.865979381443299\n",
      "Iteration 798: AUC:0.9293066088840737, Accuracy:0.865979381443299\n",
      "Iteration 799: AUC:0.9529850746268657, Accuracy:0.8865979381443299\n",
      "Iteration 800: AUC:0.9572222222222222, Accuracy:0.8865979381443299\n",
      "Iteration 801: AUC:0.9484848484848485, Accuracy:0.865979381443299\n",
      "Iteration 802: AUC:0.9152777777777779, Accuracy:0.8247422680412371\n",
      "Iteration 803: AUC:0.9005958829902492, Accuracy:0.7835051546391752\n",
      "Iteration 804: AUC:0.9176598049837487, Accuracy:0.8144329896907216\n",
      "Iteration 805: AUC:0.973726977248104, Accuracy:0.8865979381443299\n",
      "Iteration 806: AUC:0.9297667342799188, Accuracy:0.845360824742268\n",
      "Iteration 807: AUC:0.9555555555555556, Accuracy:0.8556701030927835\n",
      "Iteration 808: AUC:0.9380555555555554, Accuracy:0.845360824742268\n"
     ]
    },
    {
     "name": "stdout",
     "output_type": "stream",
     "text": [
      "Iteration 809: AUC:0.9243386243386243, Accuracy:0.8247422680412371\n",
      "Iteration 810: AUC:0.9165763813651139, Accuracy:0.8247422680412371\n",
      "Iteration 811: AUC:0.8993271221532091, Accuracy:0.8144329896907216\n",
      "Iteration 812: AUC:0.9451923076923077, Accuracy:0.8556701030927835\n",
      "Iteration 813: AUC:0.9379084967320261, Accuracy:0.8350515463917526\n",
      "Iteration 814: AUC:0.9124338624338624, Accuracy:0.8144329896907216\n",
      "Iteration 815: AUC:0.9322222222222222, Accuracy:0.8247422680412371\n",
      "Iteration 816: AUC:0.9129566210045663, Accuracy:0.7835051546391752\n",
      "Iteration 817: AUC:0.9386016451233843, Accuracy:0.865979381443299\n",
      "Iteration 818: AUC:0.9079614604462475, Accuracy:0.8144329896907216\n",
      "Iteration 819: AUC:0.9175228310502284, Accuracy:0.845360824742268\n",
      "Iteration 820: AUC:0.9552238805970149, Accuracy:0.8762886597938144\n",
      "Iteration 821: AUC:0.9447708578143361, Accuracy:0.8350515463917526\n",
      "Iteration 822: AUC:0.9285714285714286, Accuracy:0.845360824742268\n",
      "Iteration 823: AUC:0.9293650793650794, Accuracy:0.8247422680412371\n",
      "Iteration 824: AUC:0.9569892473118279, Accuracy:0.8556701030927835\n",
      "Iteration 825: AUC:0.910958904109589, Accuracy:0.7938144329896907\n",
      "Iteration 826: AUC:0.9215151515151515, Accuracy:0.8762886597938144\n",
      "Iteration 827: AUC:0.9619047619047619, Accuracy:0.8969072164948454\n",
      "Iteration 828: AUC:0.9283196239717978, Accuracy:0.865979381443299\n",
      "Iteration 829: AUC:0.9409534127843987, Accuracy:0.865979381443299\n",
      "Iteration 830: AUC:0.958173076923077, Accuracy:0.8762886597938144\n",
      "Iteration 831: AUC:0.9291979949874687, Accuracy:0.8247422680412371\n",
      "Iteration 832: AUC:0.9154929577464789, Accuracy:0.8041237113402062\n",
      "Iteration 833: AUC:0.9174603174603174, Accuracy:0.7938144329896907\n",
      "Iteration 834: AUC:0.9403642773207991, Accuracy:0.845360824742268\n",
      "Iteration 835: AUC:0.9130434782608695, Accuracy:0.8247422680412371\n",
      "Iteration 836: AUC:0.940734989648033, Accuracy:0.865979381443299\n",
      "Iteration 837: AUC:0.963701923076923, Accuracy:0.8762886597938144\n",
      "Iteration 838: AUC:0.9336363636363636, Accuracy:0.8556701030927835\n",
      "Iteration 839: AUC:0.8989417989417989, Accuracy:0.8144329896907216\n",
      "Iteration 840: AUC:0.9481481481481481, Accuracy:0.865979381443299\n",
      "Iteration 841: AUC:0.9078787878787878, Accuracy:0.8350515463917526\n",
      "Iteration 842: AUC:0.8952380952380952, Accuracy:0.7938144329896907\n",
      "Iteration 843: AUC:0.9219066937119675, Accuracy:0.8144329896907216\n",
      "Iteration 844: AUC:0.9241603466955579, Accuracy:0.8247422680412371\n",
      "Iteration 845: AUC:0.9724242424242424, Accuracy:0.9072164948453608\n",
      "Iteration 846: AUC:0.937111801242236, Accuracy:0.8556701030927835\n",
      "Iteration 847: AUC:0.9297297297297298, Accuracy:0.8144329896907216\n",
      "Iteration 848: AUC:0.8941798941798941, Accuracy:0.7835051546391752\n",
      "Iteration 849: AUC:0.949290060851927, Accuracy:0.8865979381443299\n",
      "Iteration 850: AUC:0.9433862433862434, Accuracy:0.8556701030927835\n",
      "Iteration 851: AUC:0.8952777777777778, Accuracy:0.8350515463917526\n",
      "Iteration 852: AUC:0.8866666666666667, Accuracy:0.8041237113402062\n",
      "Iteration 853: AUC:0.8694331983805668, Accuracy:0.8041237113402062\n",
      "Iteration 854: AUC:0.9256613756613757, Accuracy:0.8350515463917526\n",
      "Iteration 855: AUC:0.9013227513227513, Accuracy:0.8350515463917526\n",
      "Iteration 856: AUC:0.9523401826484018, Accuracy:0.8762886597938144\n",
      "Iteration 857: AUC:0.9477739726027397, Accuracy:0.845360824742268\n",
      "Iteration 858: AUC:0.8930555555555556, Accuracy:0.7731958762886598\n",
      "Iteration 859: AUC:0.9236363636363636, Accuracy:0.8556701030927835\n",
      "Iteration 860: AUC:0.9525862068965517, Accuracy:0.8762886597938144\n",
      "Iteration 861: AUC:0.8518518518518519, Accuracy:0.7731958762886598\n",
      "Iteration 862: AUC:0.9591894977168949, Accuracy:0.8865979381443299\n",
      "Iteration 863: AUC:0.9566666666666668, Accuracy:0.865979381443299\n",
      "Iteration 864: AUC:0.9152221018418202, Accuracy:0.8350515463917526\n",
      "Iteration 865: AUC:0.9412455934195064, Accuracy:0.865979381443299\n",
      "Iteration 866: AUC:0.9360730593607306, Accuracy:0.865979381443299\n",
      "Iteration 867: AUC:0.9033044420368365, Accuracy:0.8247422680412371\n",
      "Iteration 868: AUC:0.8977591036414566, Accuracy:0.8247422680412371\n",
      "Iteration 869: AUC:0.9569444444444444, Accuracy:0.8762886597938144\n",
      "Iteration 870: AUC:0.94824016563147, Accuracy:0.8865979381443299\n",
      "Iteration 871: AUC:0.9477611940298508, Accuracy:0.8556701030927835\n",
      "Iteration 872: AUC:0.9373706004140786, Accuracy:0.8350515463917526\n",
      "Iteration 873: AUC:0.9282581453634086, Accuracy:0.8247422680412371\n",
      "Iteration 874: AUC:0.9165687426556992, Accuracy:0.8041237113402062\n",
      "Iteration 875: AUC:0.933030303030303, Accuracy:0.7835051546391752\n",
      "Iteration 876: AUC:0.8996969696969697, Accuracy:0.8041237113402062\n",
      "Iteration 877: AUC:0.9312169312169312, Accuracy:0.845360824742268\n",
      "Iteration 878: AUC:0.9454326923076922, Accuracy:0.8556701030927835\n",
      "Iteration 879: AUC:0.908675799086758, Accuracy:0.8144329896907216\n",
      "Iteration 880: AUC:0.9493371212121212, Accuracy:0.865979381443299\n",
      "Iteration 881: AUC:0.9161931818181819, Accuracy:0.8041237113402062\n",
      "Iteration 882: AUC:0.8839198435972629, Accuracy:0.7628865979381443\n",
      "Iteration 883: AUC:0.9263636363636363, Accuracy:0.845360824742268\n",
      "Iteration 884: AUC:0.9644278606965174, Accuracy:0.8865979381443299\n",
      "Iteration 885: AUC:0.9477739726027398, Accuracy:0.8556701030927835\n",
      "Iteration 886: AUC:0.9219934994582882, Accuracy:0.8247422680412371\n",
      "Iteration 887: AUC:0.9233954451345756, Accuracy:0.8247422680412371\n",
      "Iteration 888: AUC:0.9515151515151515, Accuracy:0.845360824742268\n",
      "Iteration 889: AUC:0.9302777777777778, Accuracy:0.8144329896907216\n",
      "Iteration 890: AUC:0.9178787878787878, Accuracy:0.8041237113402062\n",
      "Iteration 891: AUC:0.9104010025062657, Accuracy:0.8247422680412371\n",
      "Iteration 892: AUC:0.9458288190682557, Accuracy:0.865979381443299\n",
      "Iteration 893: AUC:0.9505012531328321, Accuracy:0.8865979381443299\n",
      "Iteration 894: AUC:0.9583333333333333, Accuracy:0.8247422680412371\n",
      "Iteration 895: AUC:0.9335699797160243, Accuracy:0.8350515463917526\n",
      "Iteration 896: AUC:0.9012557077625571, Accuracy:0.7938144329896907\n",
      "Iteration 897: AUC:0.9451275045537341, Accuracy:0.845360824742268\n",
      "Iteration 898: AUC:0.9388059701492537, Accuracy:0.8556701030927835\n",
      "Iteration 899: AUC:0.9099502487562189, Accuracy:0.7938144329896907\n",
      "Iteration 900: AUC:0.9596855983772821, Accuracy:0.8762886597938144\n",
      "Iteration 901: AUC:0.9560846560846561, Accuracy:0.8556701030927835\n",
      "Iteration 902: AUC:0.9081262939958592, Accuracy:0.7938144329896907\n",
      "Iteration 903: AUC:0.9146803900325027, Accuracy:0.8247422680412371\n",
      "Iteration 904: AUC:0.9287405303030303, Accuracy:0.845360824742268\n",
      "Iteration 905: AUC:0.9509750812567714, Accuracy:0.8762886597938144\n",
      "Iteration 906: AUC:0.8875621890547264, Accuracy:0.8041237113402062\n",
      "Iteration 907: AUC:0.9408333333333334, Accuracy:0.8556701030927835\n",
      "Iteration 908: AUC:0.9645178764897075, Accuracy:0.865979381443299\n",
      "Iteration 909: AUC:0.930161943319838, Accuracy:0.845360824742268\n",
      "Iteration 910: AUC:0.9738542890716804, Accuracy:0.8865979381443299\n",
      "Iteration 911: AUC:0.954248366013072, Accuracy:0.8969072164948454\n",
      "Iteration 912: AUC:0.9293532338308458, Accuracy:0.8350515463917526\n",
      "Iteration 913: AUC:0.9388059701492537, Accuracy:0.865979381443299\n",
      "Iteration 914: AUC:0.9241718426501034, Accuracy:0.845360824742268\n",
      "Iteration 915: AUC:0.908450704225352, Accuracy:0.8144329896907216\n",
      "Iteration 916: AUC:0.9240890688259109, Accuracy:0.8556701030927835\n",
      "Iteration 917: AUC:0.9253968253968253, Accuracy:0.845360824742268\n",
      "Iteration 918: AUC:0.9303900325027085, Accuracy:0.8144329896907216\n",
      "Iteration 919: AUC:0.9080555555555556, Accuracy:0.8144329896907216\n",
      "Iteration 920: AUC:0.9457403651115619, Accuracy:0.8969072164948454\n",
      "Iteration 921: AUC:0.9323069403714564, Accuracy:0.8144329896907216\n",
      "Iteration 922: AUC:0.953030303030303, Accuracy:0.865979381443299\n",
      "Iteration 923: AUC:0.938133874239351, Accuracy:0.865979381443299\n",
      "Iteration 924: AUC:0.9264418377321603, Accuracy:0.8247422680412371\n",
      "Iteration 925: AUC:0.9562189054726368, Accuracy:0.8865979381443299\n",
      "Iteration 926: AUC:0.9479813664596273, Accuracy:0.845360824742268\n",
      "Iteration 927: AUC:0.9492009132420092, Accuracy:0.865979381443299\n",
      "Iteration 928: AUC:0.9378803245436106, Accuracy:0.8556701030927835\n",
      "Iteration 929: AUC:0.9327188940092167, Accuracy:0.845360824742268\n",
      "Iteration 930: AUC:0.9211442786069651, Accuracy:0.8247422680412371\n",
      "Iteration 931: AUC:0.9355721393034826, Accuracy:0.845360824742268\n",
      "Iteration 932: AUC:0.9361111111111111, Accuracy:0.8556701030927835\n",
      "Iteration 933: AUC:0.9209090909090909, Accuracy:0.8041237113402062\n",
      "Iteration 934: AUC:0.9421212121212121, Accuracy:0.845360824742268\n",
      "Iteration 935: AUC:0.9340753424657535, Accuracy:0.845360824742268\n",
      "Iteration 936: AUC:0.9554924242424243, Accuracy:0.8865979381443299\n",
      "Iteration 937: AUC:0.9121212121212121, Accuracy:0.845360824742268\n",
      "Iteration 938: AUC:0.9263271939328277, Accuracy:0.8350515463917526\n",
      "Iteration 939: AUC:0.9526455026455027, Accuracy:0.845360824742268\n",
      "Iteration 940: AUC:0.9559341950646298, Accuracy:0.8865979381443299\n",
      "Iteration 941: AUC:0.9113888888888889, Accuracy:0.8041237113402062\n",
      "Iteration 942: AUC:0.9308406647116324, Accuracy:0.8144329896907216\n",
      "Iteration 943: AUC:0.9441833137485312, Accuracy:0.8247422680412371\n",
      "Iteration 944: AUC:0.9514840182648402, Accuracy:0.865979381443299\n"
     ]
    },
    {
     "name": "stdout",
     "output_type": "stream",
     "text": [
      "Iteration 945: AUC:0.9241293532338308, Accuracy:0.8247422680412371\n",
      "Iteration 946: AUC:0.9386111111111111, Accuracy:0.865979381443299\n",
      "Iteration 947: AUC:0.9039800995024876, Accuracy:0.8247422680412371\n",
      "Iteration 948: AUC:0.9425, Accuracy:0.865979381443299\n",
      "Iteration 949: AUC:0.941005291005291, Accuracy:0.8556701030927835\n",
      "Iteration 950: AUC:0.9298654244306418, Accuracy:0.8144329896907216\n",
      "Iteration 951: AUC:0.9227272727272727, Accuracy:0.845360824742268\n",
      "Iteration 952: AUC:0.9354497354497354, Accuracy:0.8556701030927835\n",
      "Iteration 953: AUC:0.9230158730158731, Accuracy:0.8247422680412371\n",
      "Iteration 954: AUC:0.9023809523809524, Accuracy:0.8041237113402062\n",
      "Iteration 955: AUC:0.9179606625258798, Accuracy:0.8041237113402062\n",
      "Iteration 956: AUC:0.9348958333333334, Accuracy:0.8762886597938144\n",
      "Iteration 957: AUC:0.9565217391304347, Accuracy:0.8969072164948454\n",
      "Iteration 958: AUC:0.961388888888889, Accuracy:0.8762886597938144\n",
      "Iteration 959: AUC:0.9058219178082192, Accuracy:0.7938144329896907\n",
      "Iteration 960: AUC:0.9139676113360324, Accuracy:0.8350515463917526\n",
      "Iteration 961: AUC:0.9537313432835821, Accuracy:0.845360824742268\n",
      "Iteration 962: AUC:0.9330985915492958, Accuracy:0.8556701030927835\n",
      "Iteration 963: AUC:0.9378881987577639, Accuracy:0.8556701030927835\n",
      "Iteration 964: AUC:0.9178787878787878, Accuracy:0.8247422680412371\n",
      "Iteration 965: AUC:0.9038220551378446, Accuracy:0.8247422680412371\n",
      "Iteration 966: AUC:0.9425154320987654, Accuracy:0.845360824742268\n",
      "Iteration 967: AUC:0.9187830687830688, Accuracy:0.8144329896907216\n",
      "Iteration 968: AUC:0.9177248677248677, Accuracy:0.8247422680412371\n",
      "Iteration 969: AUC:0.9241718426501035, Accuracy:0.8350515463917526\n",
      "Iteration 970: AUC:0.9518518518518518, Accuracy:0.8865979381443299\n",
      "Iteration 971: AUC:0.9469696969696969, Accuracy:0.845360824742268\n",
      "Iteration 972: AUC:0.9264550264550264, Accuracy:0.7938144329896907\n",
      "Iteration 973: AUC:0.9233830845771144, Accuracy:0.8247422680412371\n",
      "Iteration 974: AUC:0.9328093306288032, Accuracy:0.865979381443299\n",
      "Iteration 975: AUC:0.9477058029689609, Accuracy:0.8556701030927835\n",
      "Iteration 976: AUC:0.9362433862433862, Accuracy:0.8247422680412371\n",
      "Iteration 977: AUC:0.9329573934837092, Accuracy:0.865979381443299\n",
      "Iteration 978: AUC:0.9549086757990867, Accuracy:0.8969072164948454\n",
      "Iteration 979: AUC:0.9192546583850932, Accuracy:0.845360824742268\n",
      "Iteration 980: AUC:0.9480223123732251, Accuracy:0.8350515463917526\n",
      "Iteration 981: AUC:0.9152397260273972, Accuracy:0.8350515463917526\n",
      "Iteration 982: AUC:0.9275568181818182, Accuracy:0.8144329896907216\n",
      "Iteration 983: AUC:0.9083904109589042, Accuracy:0.845360824742268\n",
      "Iteration 984: AUC:0.9640762463343109, Accuracy:0.8865979381443299\n",
      "Iteration 985: AUC:0.9439393939393939, Accuracy:0.9072164948453608\n",
      "Iteration 986: AUC:0.9082010582010582, Accuracy:0.8350515463917526\n",
      "Iteration 987: AUC:0.9211640211640212, Accuracy:0.8247422680412371\n",
      "Iteration 988: AUC:0.9147222222222222, Accuracy:0.8144329896907216\n",
      "Iteration 989: AUC:0.9635093167701864, Accuracy:0.8762886597938144\n",
      "Iteration 990: AUC:0.9438895417156287, Accuracy:0.845360824742268\n",
      "Iteration 991: AUC:0.9579905992949471, Accuracy:0.8865979381443299\n",
      "Iteration 992: AUC:0.9544962080173348, Accuracy:0.845360824742268\n",
      "Iteration 993: AUC:0.9224025974025974, Accuracy:0.8556701030927835\n",
      "Iteration 994: AUC:0.9383561643835616, Accuracy:0.8144329896907216\n",
      "Iteration 995: AUC:0.9669444444444445, Accuracy:0.845360824742268\n",
      "Iteration 996: AUC:0.9513457556935818, Accuracy:0.845360824742268\n",
      "Iteration 997: AUC:0.9279411764705883, Accuracy:0.7835051546391752\n",
      "Iteration 998: AUC:0.8969979296066253, Accuracy:0.8041237113402062\n",
      "Iteration 999: AUC:0.9473684210526316, Accuracy:0.845360824742268\n"
     ]
    }
   ],
   "source": [
    "accuracy_list = []\n",
    "auc_list = []\n",
    "for i in range(1000):\n",
    "    X_train, X_test, y_train, y_test = train_test_split(X, y, test_size=0.33, random_state=i)\n",
    "    clf = model_choice\n",
    "    clf = clf.fit(X_train, y_train)\n",
    "    y_pred = clf.predict(X_test)\n",
    "    y_pred_proba = clf.predict_proba(X_test)\n",
    "    accuracy = accuracy_score(y_test, y_pred)\n",
    "    fpr, tpr, thresholds = roc_curve(y_test, y_pred_proba[:,1])\n",
    "    auc_score = auc(fpr, tpr)\n",
    "    \n",
    "    accuracy_list.append(accuracy)\n",
    "    auc_list.append(auc_score)\n",
    "    print(\"Iteration %s: AUC:%s, Accuracy:%s\" % (i, auc_score, accuracy))"
   ]
  },
  {
   "cell_type": "code",
   "execution_count": 138,
   "metadata": {},
   "outputs": [
    {
     "data": {
      "image/png": "[encoded data removed]",
      "text/plain": [
       "<Figure size 1440x360 with 1 Axes>"
      ]
     },
     "metadata": {
      "needs_background": "light"
     },
     "output_type": "display_data"
    },
    {
     "name": "stdout",
     "output_type": "stream",
     "text": [
      "Accuracy mean: 0.84\n",
      "AUC mean: 0.93\n"
     ]
    }
   ],
   "source": [
    "plt.figure(figsize=(20,5))\n",
    "plt.title(\"1000 Tries of Split Validation\")\n",
    "sns.distplot(accuracy_list, bins=10, label = 'Accuracy', kde=False)\n",
    "sns.distplot(auc_list, bins=10, label = 'AUC', kde=False)\n",
    "plt.axvline(x=pd.Series(accuracy_list).mean(), lw=5)\n",
    "plt.axvline(x=pd.Series(auc_list).mean(), lw=5, color='orange')\n",
    "plt.legend()\n",
    "plt.show()\n",
    "print(\"Accuracy mean: %0.2f\" % pd.Series(accuracy_list).mean())\n",
    "print(\"AUC mean: %0.2f\" % pd.Series(auc_list).mean())"
   ]
  },
  {
   "cell_type": "markdown",
   "metadata": {},
   "source": [
    "## Cross Validation & Hyperparameter Tuning"
   ]
  },
  {
   "cell_type": "markdown",
   "metadata": {},
   "source": [
    "#### Process"
   ]
  },
  {
   "cell_type": "code",
   "execution_count": 139,
   "metadata": {},
   "outputs": [
    {
     "data": {
      "text/plain": [
       "{'alpha': [0, 1.0], 'fit_prior': [False, True]}"
      ]
     },
     "execution_count": 139,
     "metadata": {},
     "output_type": "execute_result"
    }
   ],
   "source": [
    "## Hyperparameters\n",
    "{\"alpha\"    : [0, 1.0],\n",
    " \"fit_prior\" : [False, True]}"
   ]
  },
  {
   "cell_type": "code",
   "execution_count": 140,
   "metadata": {},
   "outputs": [],
   "source": [
    "X_train, X_test, y_train, y_test = train_test_split(X, y, test_size=0.33, random_state=42)\n",
    "model_choice = BernoulliNB()"
   ]
  },
  {
   "cell_type": "code",
   "execution_count": 141,
   "metadata": {},
   "outputs": [],
   "source": [
    "kfold = StratifiedKFold(n_splits=5)\n",
    "cv_results = cross_val_score(model_choice, X_train, y_train, cv=kfold, scoring='roc_auc')"
   ]
  },
  {
   "cell_type": "code",
   "execution_count": 142,
   "metadata": {},
   "outputs": [
    {
     "data": {
      "text/plain": [
       "array([0.98051948, 0.88798701, 0.93181818, 0.92857143, 0.94482759])"
      ]
     },
     "execution_count": 142,
     "metadata": {},
     "output_type": "execute_result"
    }
   ],
   "source": [
    "cv_results"
   ]
  },
  {
   "cell_type": "code",
   "execution_count": 143,
   "metadata": {},
   "outputs": [],
   "source": [
    "## Get the best fold train data to be tested on dataset B\n",
    "i = 0\n",
    "idx_train_best = []\n",
    "idx_test_best = []\n",
    "for train, test in kfold.split(X_train, y_train):\n",
    "    if i == np.argmax(cv_results):\n",
    "        idx_train_best = train\n",
    "        idx_test_best = test\n",
    "    i += 1"
   ]
  },
  {
   "cell_type": "code",
   "execution_count": 144,
   "metadata": {},
   "outputs": [],
   "source": [
    "X_train_best = X_train.reset_index().iloc[idx_train_best].drop(\"index\", axis=1)\n",
    "y_train_best = y_train.reset_index().iloc[idx_train_best].drop(\"index\", axis=1)"
   ]
  },
  {
   "cell_type": "code",
   "execution_count": 145,
   "metadata": {},
   "outputs": [],
   "source": [
    "X_test_best = X_train.reset_index().iloc[idx_test_best].drop(\"index\", axis=1)\n",
    "y_test_best = y_train.reset_index().iloc[idx_test_best].drop(\"index\", axis=1)"
   ]
  },
  {
   "cell_type": "code",
   "execution_count": 146,
   "metadata": {},
   "outputs": [
    {
     "data": {
      "text/plain": [
       "0.9805194805194805"
      ]
     },
     "execution_count": 146,
     "metadata": {},
     "output_type": "execute_result"
    }
   ],
   "source": [
    "clf = model_choice.fit(X_train_best, y_train_best.values.ravel())\n",
    "y_best_proba = clf.predict_proba(X_test_best)\n",
    "fpr, tpr, thresholds = roc_curve(y_test_best, y_best_proba[:,1])\n",
    "auc_score = auc(fpr, tpr)\n",
    "## Check its the same as cv_results\n",
    "auc_score"
   ]
  },
  {
   "cell_type": "code",
   "execution_count": 147,
   "metadata": {},
   "outputs": [
    {
     "data": {
      "text/plain": [
       "0.9527027027027026"
      ]
     },
     "execution_count": 147,
     "metadata": {},
     "output_type": "execute_result"
    }
   ],
   "source": [
    "## Test the best fold to dataset B\n",
    "clf = model_choice.fit(X_train_best, y_train_best.values.ravel())\n",
    "y_test_proba = clf.predict_proba(X_test)\n",
    "fpr, tpr, thresholds = roc_curve(y_test, y_test_proba[:,1])\n",
    "auc_score = auc(fpr, tpr)\n",
    "## Check the AUC on dataset B\n",
    "auc_score"
   ]
  },
  {
   "cell_type": "markdown",
   "metadata": {},
   "source": [
    "#### Calculate Results"
   ]
  },
  {
   "cell_type": "code",
   "execution_count": 152,
   "metadata": {
    "scrolled": true
   },
   "outputs": [
    {
     "name": "stdout",
     "output_type": "stream",
     "text": [
      "Alpha: 0, Fit Prior: False, Best Fold AUC: 0.9805194805194805 (Fold 1), Dataset B AUC: 0.9509400705052878\n",
      "Alpha: 0, Fit Prior: True, Best Fold AUC: 0.9805194805194805 (Fold 1), Dataset B AUC: 0.9509400705052878\n",
      "Alpha: 1, Fit Prior: False, Best Fold AUC: 0.9805194805194805 (Fold 1), Dataset B AUC: 0.9527027027027026\n",
      "Alpha: 1, Fit Prior: True, Best Fold AUC: 0.9805194805194805 (Fold 1), Dataset B AUC: 0.9527027027027026\n"
     ]
    },
    {
     "name": "stderr",
     "output_type": "stream",
     "text": [
      "/Users/bahyhelmihp/Library/Python/3.7/lib/python/site-packages/sklearn/naive_bayes.py:507: UserWarning: alpha too small will result in numeric errors, setting alpha = 1.0e-10\n",
      "  'setting alpha = %.1e' % _ALPHA_MIN)\n",
      "/Users/bahyhelmihp/Library/Python/3.7/lib/python/site-packages/sklearn/naive_bayes.py:507: UserWarning: alpha too small will result in numeric errors, setting alpha = 1.0e-10\n",
      "  'setting alpha = %.1e' % _ALPHA_MIN)\n",
      "/Users/bahyhelmihp/Library/Python/3.7/lib/python/site-packages/sklearn/naive_bayes.py:507: UserWarning: alpha too small will result in numeric errors, setting alpha = 1.0e-10\n",
      "  'setting alpha = %.1e' % _ALPHA_MIN)\n",
      "/Users/bahyhelmihp/Library/Python/3.7/lib/python/site-packages/sklearn/naive_bayes.py:507: UserWarning: alpha too small will result in numeric errors, setting alpha = 1.0e-10\n",
      "  'setting alpha = %.1e' % _ALPHA_MIN)\n",
      "/Users/bahyhelmihp/Library/Python/3.7/lib/python/site-packages/sklearn/naive_bayes.py:507: UserWarning: alpha too small will result in numeric errors, setting alpha = 1.0e-10\n",
      "  'setting alpha = %.1e' % _ALPHA_MIN)\n",
      "/Users/bahyhelmihp/Library/Python/3.7/lib/python/site-packages/sklearn/naive_bayes.py:507: UserWarning: alpha too small will result in numeric errors, setting alpha = 1.0e-10\n",
      "  'setting alpha = %.1e' % _ALPHA_MIN)\n",
      "/Users/bahyhelmihp/Library/Python/3.7/lib/python/site-packages/sklearn/naive_bayes.py:507: UserWarning: alpha too small will result in numeric errors, setting alpha = 1.0e-10\n",
      "  'setting alpha = %.1e' % _ALPHA_MIN)\n",
      "/Users/bahyhelmihp/Library/Python/3.7/lib/python/site-packages/sklearn/naive_bayes.py:507: UserWarning: alpha too small will result in numeric errors, setting alpha = 1.0e-10\n",
      "  'setting alpha = %.1e' % _ALPHA_MIN)\n",
      "/Users/bahyhelmihp/Library/Python/3.7/lib/python/site-packages/sklearn/naive_bayes.py:507: UserWarning: alpha too small will result in numeric errors, setting alpha = 1.0e-10\n",
      "  'setting alpha = %.1e' % _ALPHA_MIN)\n",
      "/Users/bahyhelmihp/Library/Python/3.7/lib/python/site-packages/sklearn/naive_bayes.py:507: UserWarning: alpha too small will result in numeric errors, setting alpha = 1.0e-10\n",
      "  'setting alpha = %.1e' % _ALPHA_MIN)\n",
      "/Users/bahyhelmihp/Library/Python/3.7/lib/python/site-packages/sklearn/naive_bayes.py:507: UserWarning: alpha too small will result in numeric errors, setting alpha = 1.0e-10\n",
      "  'setting alpha = %.1e' % _ALPHA_MIN)\n",
      "/Users/bahyhelmihp/Library/Python/3.7/lib/python/site-packages/sklearn/naive_bayes.py:507: UserWarning: alpha too small will result in numeric errors, setting alpha = 1.0e-10\n",
      "  'setting alpha = %.1e' % _ALPHA_MIN)\n"
     ]
    }
   ],
   "source": [
    "## Results\n",
    "best_fold = []\n",
    "best_fold_auc = []\n",
    "dataset_b_auc = []\n",
    "parameter_1 = []\n",
    "parameter_2 = []\n",
    "idx_train_data = []\n",
    "\n",
    "## Hyperparameters\n",
    "params = {\"alpha\": [0, 1],\n",
    "          \"fit_prior\" : [False, True]}\n",
    "\n",
    "## Split the data to dataset A (train) and dataset B (test)\n",
    "X_train, X_test, y_train, y_test = train_test_split(X, y, test_size=0.33, random_state=42)\n",
    "\n",
    "## Split dataset A (train) to 5 folds\n",
    "kfold = StratifiedKFold(n_splits=5)\n",
    "\n",
    "for i in range(len(params['alpha'])):\n",
    "    for j in range(len(params['fit_prior'])):\n",
    "\n",
    "        ## Fit the params\n",
    "        model_choice = BernoulliNB\\\n",
    "        (alpha=params['alpha'][i],\\\n",
    "         fit_prior=params['fit_prior'][j])\n",
    "\n",
    "        ## Do cross validation\n",
    "        cv_results = cross_val_score(model_choice, X_train, y_train.values.ravel(), cv=kfold, scoring='roc_auc')\n",
    "\n",
    "        ## Get the index best fold train data to be tested on dataset B\n",
    "        idx = 0\n",
    "        idx_train_best = []\n",
    "        idx_test_best = []\n",
    "        for train, test in kfold.split(X_train, y_train):\n",
    "            if idx == np.argmax(cv_results):\n",
    "                idx_train_best = train\n",
    "                idx_test_best = test\n",
    "            idx += 1\n",
    "\n",
    "        ## Get the best fold train and test data\n",
    "        X_train_best = X_train.reset_index().iloc[idx_train_best].drop(\"index\", axis=1)\n",
    "        y_train_best = y_train.reset_index().iloc[idx_train_best].drop(\"index\", axis=1)\n",
    "\n",
    "        X_test_best = X_train.reset_index().iloc[idx_test_best].drop(\"index\", axis=1)\n",
    "        y_test_best = y_train.reset_index().iloc[idx_test_best].drop(\"index\", axis=1)\n",
    "\n",
    "        ## Fit the model with the best fold data\n",
    "        clf = model_choice.fit(X_train_best, y_train_best.values.ravel())\n",
    "\n",
    "        ## Test the best fold to dataset B\n",
    "        ## Check the AUC on dataset B\n",
    "        y_test_proba = clf.predict_proba(X_test)\n",
    "        fpr, tpr, thresholds = roc_curve(y_test, y_test_proba[:,1])\n",
    "        auc_score = auc(fpr, tpr)\n",
    "\n",
    "        best_fold.append(np.argmax(cv_results)+1)\n",
    "        best_fold_auc.append(np.max(cv_results))\n",
    "        dataset_b_auc.append(auc_score)\n",
    "        parameter_1.append(params['alpha'][i])\n",
    "        parameter_2.append(params['fit_prior'][j])\n",
    "        idx_train_data.append(idx_train_best)\n",
    "\n",
    "        print(\"Alpha: %s, Fit Prior: %s, Best Fold AUC: %s (Fold %s), Dataset B AUC: %s\" \\\n",
    "              % (params['alpha'][i], params['fit_prior'][j],\\\n",
    "                 np.max(cv_results), np.argmax(cv_results)+1, auc_score))"
   ]
  },
  {
   "cell_type": "code",
   "execution_count": 153,
   "metadata": {
    "scrolled": true
   },
   "outputs": [
    {
     "data": {
      "text/html": [
       "<div>\n",
       "<style scoped>\n",
       "    .dataframe tbody tr th:only-of-type {\n",
       "        vertical-align: middle;\n",
       "    }\n",
       "\n",
       "    .dataframe tbody tr th {\n",
       "        vertical-align: top;\n",
       "    }\n",
       "\n",
       "    .dataframe thead th {\n",
       "        text-align: right;\n",
       "    }\n",
       "</style>\n",
       "<table border=\"1\" class=\"dataframe\">\n",
       "  <thead>\n",
       "    <tr style=\"text-align: right;\">\n",
       "      <th></th>\n",
       "      <th>alpha</th>\n",
       "      <th>fit_prior</th>\n",
       "      <th>fold_index</th>\n",
       "      <th>best_fold_auc</th>\n",
       "      <th>test_auc</th>\n",
       "      <th>train_idx</th>\n",
       "    </tr>\n",
       "  </thead>\n",
       "  <tbody>\n",
       "    <tr>\n",
       "      <th>0</th>\n",
       "      <td>0</td>\n",
       "      <td>False</td>\n",
       "      <td>1</td>\n",
       "      <td>0.980519</td>\n",
       "      <td>0.950940</td>\n",
       "      <td>[35, 36, 37, 39, 40, 41, 42, 45, 46, 47, 48, 4...</td>\n",
       "    </tr>\n",
       "    <tr>\n",
       "      <th>1</th>\n",
       "      <td>0</td>\n",
       "      <td>True</td>\n",
       "      <td>1</td>\n",
       "      <td>0.980519</td>\n",
       "      <td>0.950940</td>\n",
       "      <td>[35, 36, 37, 39, 40, 41, 42, 45, 46, 47, 48, 4...</td>\n",
       "    </tr>\n",
       "    <tr>\n",
       "      <th>2</th>\n",
       "      <td>1</td>\n",
       "      <td>False</td>\n",
       "      <td>1</td>\n",
       "      <td>0.980519</td>\n",
       "      <td>0.952703</td>\n",
       "      <td>[35, 36, 37, 39, 40, 41, 42, 45, 46, 47, 48, 4...</td>\n",
       "    </tr>\n",
       "    <tr>\n",
       "      <th>3</th>\n",
       "      <td>1</td>\n",
       "      <td>True</td>\n",
       "      <td>1</td>\n",
       "      <td>0.980519</td>\n",
       "      <td>0.952703</td>\n",
       "      <td>[35, 36, 37, 39, 40, 41, 42, 45, 46, 47, 48, 4...</td>\n",
       "    </tr>\n",
       "  </tbody>\n",
       "</table>\n",
       "</div>"
      ],
      "text/plain": [
       "   alpha  fit_prior  fold_index  best_fold_auc  test_auc  \\\n",
       "0      0      False           1       0.980519  0.950940   \n",
       "1      0       True           1       0.980519  0.950940   \n",
       "2      1      False           1       0.980519  0.952703   \n",
       "3      1       True           1       0.980519  0.952703   \n",
       "\n",
       "                                           train_idx  \n",
       "0  [35, 36, 37, 39, 40, 41, 42, 45, 46, 47, 48, 4...  \n",
       "1  [35, 36, 37, 39, 40, 41, 42, 45, 46, 47, 48, 4...  \n",
       "2  [35, 36, 37, 39, 40, 41, 42, 45, 46, 47, 48, 4...  \n",
       "3  [35, 36, 37, 39, 40, 41, 42, 45, 46, 47, 48, 4...  "
      ]
     },
     "execution_count": 153,
     "metadata": {},
     "output_type": "execute_result"
    }
   ],
   "source": [
    "df_result = pd.DataFrame({\"alpha\": parameter_1, \"fit_prior\": parameter_2,\\\n",
    "                          \"fold_index\": best_fold, \\\n",
    "                          \"best_fold_auc\": best_fold_auc, \"test_auc\": dataset_b_auc, \"train_idx\": idx_train_data})\n",
    "df_result.head()"
   ]
  },
  {
   "cell_type": "code",
   "execution_count": 154,
   "metadata": {
    "scrolled": true
   },
   "outputs": [
    {
     "data": {
      "text/html": [
       "<div>\n",
       "<style scoped>\n",
       "    .dataframe tbody tr th:only-of-type {\n",
       "        vertical-align: middle;\n",
       "    }\n",
       "\n",
       "    .dataframe tbody tr th {\n",
       "        vertical-align: top;\n",
       "    }\n",
       "\n",
       "    .dataframe thead th {\n",
       "        text-align: right;\n",
       "    }\n",
       "</style>\n",
       "<table border=\"1\" class=\"dataframe\">\n",
       "  <thead>\n",
       "    <tr style=\"text-align: right;\">\n",
       "      <th></th>\n",
       "      <th>alpha</th>\n",
       "      <th>fit_prior</th>\n",
       "      <th>fold_index</th>\n",
       "      <th>best_fold_auc</th>\n",
       "      <th>test_auc</th>\n",
       "    </tr>\n",
       "  </thead>\n",
       "  <tbody>\n",
       "    <tr>\n",
       "      <th>0</th>\n",
       "      <td>0</td>\n",
       "      <td>False</td>\n",
       "      <td>1</td>\n",
       "      <td>0.980519</td>\n",
       "      <td>0.95094</td>\n",
       "    </tr>\n",
       "    <tr>\n",
       "      <th>1</th>\n",
       "      <td>0</td>\n",
       "      <td>True</td>\n",
       "      <td>1</td>\n",
       "      <td>0.980519</td>\n",
       "      <td>0.95094</td>\n",
       "    </tr>\n",
       "  </tbody>\n",
       "</table>\n",
       "</div>"
      ],
      "text/plain": [
       "   alpha  fit_prior  fold_index  best_fold_auc  test_auc\n",
       "0      0      False           1       0.980519   0.95094\n",
       "1      0       True           1       0.980519   0.95094"
      ]
     },
     "execution_count": 154,
     "metadata": {},
     "output_type": "execute_result"
    }
   ],
   "source": [
    "df_result[df_result.test_auc == df_result.test_auc.min()].iloc[:,:-1].head()"
   ]
  },
  {
   "cell_type": "code",
   "execution_count": 188,
   "metadata": {},
   "outputs": [
    {
     "data": {
      "text/html": [
       "<div>\n",
       "<style scoped>\n",
       "    .dataframe tbody tr th:only-of-type {\n",
       "        vertical-align: middle;\n",
       "    }\n",
       "\n",
       "    .dataframe tbody tr th {\n",
       "        vertical-align: top;\n",
       "    }\n",
       "\n",
       "    .dataframe thead th {\n",
       "        text-align: right;\n",
       "    }\n",
       "</style>\n",
       "<table border=\"1\" class=\"dataframe\">\n",
       "  <thead>\n",
       "    <tr style=\"text-align: right;\">\n",
       "      <th></th>\n",
       "      <th>alpha</th>\n",
       "      <th>fit_prior</th>\n",
       "      <th>fold_index</th>\n",
       "      <th>best_fold_auc</th>\n",
       "      <th>test_auc</th>\n",
       "    </tr>\n",
       "  </thead>\n",
       "  <tbody>\n",
       "    <tr>\n",
       "      <th>2</th>\n",
       "      <td>1</td>\n",
       "      <td>False</td>\n",
       "      <td>1</td>\n",
       "      <td>0.980519</td>\n",
       "      <td>0.952703</td>\n",
       "    </tr>\n",
       "    <tr>\n",
       "      <th>3</th>\n",
       "      <td>1</td>\n",
       "      <td>True</td>\n",
       "      <td>1</td>\n",
       "      <td>0.980519</td>\n",
       "      <td>0.952703</td>\n",
       "    </tr>\n",
       "  </tbody>\n",
       "</table>\n",
       "</div>"
      ],
      "text/plain": [
       "   alpha  fit_prior  fold_index  best_fold_auc  test_auc\n",
       "2      1      False           1       0.980519  0.952703\n",
       "3      1       True           1       0.980519  0.952703"
      ]
     },
     "execution_count": 188,
     "metadata": {},
     "output_type": "execute_result"
    }
   ],
   "source": [
    "df_result[df_result.test_auc == df_result.test_auc.max()].iloc[:,:-1].head()"
   ]
  },
  {
   "cell_type": "code",
   "execution_count": 189,
   "metadata": {},
   "outputs": [],
   "source": [
    "best_idx = df_result[df_result.test_auc == df_result.test_auc.max()]['train_idx'].iloc[0]\n",
    "best_alpha = df_result[df_result.test_auc == df_result.test_auc.max()]['alpha'].iloc[0]\n",
    "best_fit_prior = df_result[df_result.test_auc == df_result.test_auc.max()]['fit_prior'].iloc[1]"
   ]
  },
  {
   "cell_type": "code",
   "execution_count": 190,
   "metadata": {},
   "outputs": [],
   "source": [
    "## Calculating the metrics for the best AUC params\n",
    "X_train_chosen = X_train.reset_index().iloc[best_idx].drop(\"index\", axis=1)\n",
    "y_train_chosen = y_train.reset_index().iloc[best_idx].drop(\"index\", axis=1)"
   ]
  },
  {
   "cell_type": "code",
   "execution_count": 191,
   "metadata": {},
   "outputs": [],
   "source": [
    "clf = BernoulliNB\\\n",
    "        (alpha=best_alpha,\\\n",
    "         fit_prior=best_fit_prior)"
   ]
  },
  {
   "cell_type": "code",
   "execution_count": 192,
   "metadata": {},
   "outputs": [],
   "source": [
    "clf.fit(X_train_chosen, y_train_chosen.values.ravel())\n",
    "y_test_proba = clf.predict_proba(X_test)\n",
    "y_test_predict = clf.predict(X_test)\n",
    "fpr, tpr, thresholds = roc_curve(y_test, y_test_proba[:,1])\n",
    "auc_score = auc(fpr, tpr)\n",
    "accuracy = accuracy_score(y_test, y_test_predict)\n",
    "tn, fp, fn, tp = confusion_matrix(y_test, y_test_predict).ravel()\n",
    "precision = tp / (tp + fp)\n",
    "recall = tp / (tp + fn)\n",
    "f1_score = 2 * (precision * recall) / (precision + recall)"
   ]
  },
  {
   "cell_type": "code",
   "execution_count": 193,
   "metadata": {},
   "outputs": [
    {
     "name": "stdout",
     "output_type": "stream",
     "text": [
      "AUC: 0.953\n",
      "Accuracy: 0.825 \n",
      "Precision: 0.588 \n",
      "Recall: 0.870 \n",
      "F1 Score: 0.702 \n"
     ]
    }
   ],
   "source": [
    "print(\"AUC: %.3f\" % auc_score)\n",
    "print(\"Accuracy: %.3f \" % accuracy)\n",
    "print(\"Precision: %.3f \" % precision)\n",
    "print(\"Recall: %.3f \" % recall)\n",
    "print(\"F1 Score: %.3f \" % f1_score)"
   ]
  },
  {
   "cell_type": "code",
   "execution_count": 194,
   "metadata": {},
   "outputs": [
    {
     "data": {
      "image/png": "[encoded data removed]",
      "text/plain": [
       "<Figure size 432x288 with 2 Axes>"
      ]
     },
     "metadata": {
      "needs_background": "light"
     },
     "output_type": "display_data"
    }
   ],
   "source": [
    "## This matrix visualization is based on 0.5 threshold\n",
    "plot_confusion_matrix(clf, X_test, y_test, cmap=plt.cm.Blues)\n",
    "plt.show()"
   ]
  },
  {
   "cell_type": "code",
   "execution_count": 195,
   "metadata": {},
   "outputs": [
    {
     "name": "stdout",
     "output_type": "stream",
     "text": [
      "True Positive: 20\n",
      "False Pasitive: 14\n",
      "True Negative: 60\n",
      "False Negative: 3\n"
     ]
    }
   ],
   "source": [
    "print(\"True Positive: %s\" % tp)\n",
    "print(\"False Positive: %s\" % fp)\n",
    "print(\"True Negative: %s\" % tn)\n",
    "print(\"False Negative: %s\" % fn)"
   ]
  },
  {
   "cell_type": "code",
   "execution_count": 196,
   "metadata": {},
   "outputs": [
    {
     "data": {
      "image/png": "[encoded data removed]",
      "text/plain": [
       "<Figure size 720x288 with 1 Axes>"
      ]
     },
     "metadata": {
      "needs_background": "light"
     },
     "output_type": "display_data"
    }
   ],
   "source": [
    "plt.figure(figsize=(10,4))\n",
    "plt.plot(fpr, tpr, label='ROC curve (area = %0.2f)' % (auc_score))\n",
    "plt.plot([0, 1], [0, 1], 'k--')\n",
    "plt.xlim([0.0, 1.0])\n",
    "plt.ylim([0.0, 1.05])\n",
    "plt.xlabel('False Positive Rate')\n",
    "plt.ylabel('True Positive Rate')\n",
    "plt.title('Receiver operating characteristic')\n",
    "plt.legend(loc=\"lower right\")\n",
    "plt.show()"
   ]
  },
  {
   "cell_type": "code",
   "execution_count": 209,
   "metadata": {},
   "outputs": [],
   "source": [
    "## Calculate feature importance by seeing empirical log probability of features given a class, P(x_i|y).\n",
    "feat_log_prob_0 = clf.feature_log_prob_[0]\n",
    "feat_log_prob_1 = clf.feature_log_prob_[1]\n",
    "feat_name = X_train_chosen.columns.values"
   ]
  },
  {
   "cell_type": "code",
   "execution_count": 219,
   "metadata": {},
   "outputs": [
    {
     "name": "stdout",
     "output_type": "stream",
     "text": [
      "[-0.32246819 -1.28865589]\n"
     ]
    }
   ],
   "source": [
    "## Class prior\n",
    "print(clf.class_log_prior_)"
   ]
  },
  {
   "cell_type": "code",
   "execution_count": 215,
   "metadata": {},
   "outputs": [
    {
     "data": {
      "image/png": "[encoded data removed]",
      "text/plain": [
       "<Figure size 432x288 with 1 Axes>"
      ]
     },
     "metadata": {
      "needs_background": "light"
     },
     "output_type": "display_data"
    }
   ],
   "source": [
    "feat_imp = pd.Series(index=feat_name, data=feat_log_prob_0).sort_values(ascending=False)\n",
    "feat_imp.plot(kind='bar', title='Feature Importances - APPROVED')\n",
    "plt.ylabel('Feature Importance Score')\n",
    "plt.show()"
   ]
  },
  {
   "cell_type": "code",
   "execution_count": 216,
   "metadata": {},
   "outputs": [
    {
     "data": {
      "image/png": "[encoded data removed]",
      "text/plain": [
       "<Figure size 432x288 with 1 Axes>"
      ]
     },
     "metadata": {
      "needs_background": "light"
     },
     "output_type": "display_data"
    }
   ],
   "source": [
    "feat_imp = pd.Series(index=feat_name, data=feat_log_prob_1).sort_values(ascending=False)\n",
    "feat_imp.plot(kind='bar', title='Feature Importances - REJECTED', color='darkred')\n",
    "plt.ylabel('Feature Importance Score')\n",
    "plt.show()"
   ]
  },
  {
   "cell_type": "markdown",
   "metadata": {},
   "source": [
    "## Dump To Pickle"
   ]
  },
  {
   "cell_type": "code",
   "execution_count": 42,
   "metadata": {},
   "outputs": [],
   "source": [
    "# clf = model_choice\n",
    "# clf = clf.fit(X, y)\n",
    "# pickle.dump(clf, open('../models/final_prediction.pickle', 'wb'))"
   ]
  },
  {
   "cell_type": "code",
   "execution_count": 43,
   "metadata": {},
   "outputs": [],
   "source": [
    "# feat_imp = pd.Series(clf.get_booster().get_fscore()).sort_values(ascending=False)\n",
    "# feat_imp.plot(kind='bar', title='Feature Importances')\n",
    "# plt.ylabel('Feature Importance Score')\n",
    "# plt.show()"
   ]
  }
 ],
 "metadata": {
  "kernelspec": {
   "display_name": "Python 3",
   "language": "python",
   "name": "python3"
  },
  "language_info": {
   "codemirror_mode": {
    "name": "ipython",
    "version": 3
   },
   "file_extension": ".py",
   "mimetype": "text/x-python",
   "name": "python",
   "nbconvert_exporter": "python",
   "pygments_lexer": "ipython3",
   "version": "3.7.3"
  }
 },
 "nbformat": 4,
 "nbformat_minor": 4
}
