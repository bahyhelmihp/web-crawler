{
 "cells": [
  {
   "cell_type": "code",
   "execution_count": 1,
   "metadata": {},
   "outputs": [],
   "source": [
    "## Table & Visualization Libraries\n",
    "import pandas as pd\n",
    "import matplotlib.pyplot as plt\n",
    "import seaborn as sns\n",
    "import numpy as np\n",
    "import scipy\n",
    "import pickle\n",
    "import json\n",
    "\n",
    "## Prediction Libraries\n",
    "from sklearn.metrics import classification_report, confusion_matrix, \\\n",
    "accuracy_score, plot_confusion_matrix, auc, roc_curve\n",
    "\n",
    "## Cross-Validation Libraries\n",
    "from sklearn.model_selection import train_test_split, cross_val_score, StratifiedKFold, GridSearchCV\n",
    "\n",
    "## Model Libraries\n",
    "from sklearn.tree import DecisionTreeClassifier"
   ]
  },
  {
   "cell_type": "code",
   "execution_count": 2,
   "metadata": {},
   "outputs": [],
   "source": [
    "## Change this to your new training data\n",
    "df = pd.read_csv(\"df_cleaned.csv\")\n",
    "df = df.drop_duplicates(subset='website')"
   ]
  },
  {
   "cell_type": "code",
   "execution_count": 3,
   "metadata": {},
   "outputs": [
    {
     "data": {
      "text/html": [
       "<div>\n",
       "<style scoped>\n",
       "    .dataframe tbody tr th:only-of-type {\n",
       "        vertical-align: middle;\n",
       "    }\n",
       "\n",
       "    .dataframe tbody tr th {\n",
       "        vertical-align: top;\n",
       "    }\n",
       "\n",
       "    .dataframe thead th {\n",
       "        text-align: right;\n",
       "    }\n",
       "</style>\n",
       "<table border=\"1\" class=\"dataframe\">\n",
       "  <thead>\n",
       "    <tr style=\"text-align: right;\">\n",
       "      <th></th>\n",
       "      <th>Unnamed: 0</th>\n",
       "      <th>merchant_name</th>\n",
       "      <th>broken_link_score</th>\n",
       "      <th>link_contact_us_exist</th>\n",
       "      <th>cu_email_exist</th>\n",
       "      <th>cu_phone_number_exist</th>\n",
       "      <th>link_about_us_exist</th>\n",
       "      <th>link_tnc_exist</th>\n",
       "      <th>tnc_refund_policy_exist</th>\n",
       "      <th>contact_us_score</th>\n",
       "      <th>tnc_score</th>\n",
       "      <th>links_response</th>\n",
       "      <th>website</th>\n",
       "      <th>fraud_score</th>\n",
       "      <th>label</th>\n",
       "    </tr>\n",
       "  </thead>\n",
       "  <tbody>\n",
       "    <tr>\n",
       "      <th>0</th>\n",
       "      <td>0</td>\n",
       "      <td>CV.ASIATRIPINDONESIA</td>\n",
       "      <td>0.000000</td>\n",
       "      <td>1.0</td>\n",
       "      <td>1.0</td>\n",
       "      <td>1.0</td>\n",
       "      <td>0.0</td>\n",
       "      <td>1.0</td>\n",
       "      <td>1.0</td>\n",
       "      <td>100.0</td>\n",
       "      <td>100.0</td>\n",
       "      <td>{'https://asiatrip.id/reseller/': '&lt;Response [...</td>\n",
       "      <td>http://asiatrip.id/</td>\n",
       "      <td>0.000000</td>\n",
       "      <td>APPROVED</td>\n",
       "    </tr>\n",
       "    <tr>\n",
       "      <th>1</th>\n",
       "      <td>1</td>\n",
       "      <td>Pt.BloomingLotusYoga</td>\n",
       "      <td>70.000000</td>\n",
       "      <td>1.0</td>\n",
       "      <td>1.0</td>\n",
       "      <td>1.0</td>\n",
       "      <td>1.0</td>\n",
       "      <td>1.0</td>\n",
       "      <td>1.0</td>\n",
       "      <td>100.0</td>\n",
       "      <td>100.0</td>\n",
       "      <td>{'http://www.blooming-lotus-yoga.com/bliss-mag...</td>\n",
       "      <td>https://www.blooming-lotus-yoga.com</td>\n",
       "      <td>0.000000</td>\n",
       "      <td>APPROVED</td>\n",
       "    </tr>\n",
       "    <tr>\n",
       "      <th>2</th>\n",
       "      <td>2</td>\n",
       "      <td>YayasanGreenSejahtera</td>\n",
       "      <td>11.111111</td>\n",
       "      <td>1.0</td>\n",
       "      <td>1.0</td>\n",
       "      <td>1.0</td>\n",
       "      <td>1.0</td>\n",
       "      <td>1.0</td>\n",
       "      <td>1.0</td>\n",
       "      <td>100.0</td>\n",
       "      <td>100.0</td>\n",
       "      <td>{'': 'No Response/Timeout', 'https://greenseja...</td>\n",
       "      <td>https://greensejahterafoundation.com/</td>\n",
       "      <td>0.000000</td>\n",
       "      <td>APPROVED</td>\n",
       "    </tr>\n",
       "    <tr>\n",
       "      <th>3</th>\n",
       "      <td>3</td>\n",
       "      <td>PTMatairTerraSolusi</td>\n",
       "      <td>12.500000</td>\n",
       "      <td>0.0</td>\n",
       "      <td>0.0</td>\n",
       "      <td>0.0</td>\n",
       "      <td>1.0</td>\n",
       "      <td>0.0</td>\n",
       "      <td>0.0</td>\n",
       "      <td>0.0</td>\n",
       "      <td>0.0</td>\n",
       "      <td>{'': 'No Response/Timeout', 'https://www.matai...</td>\n",
       "      <td>http://www.matair.co.id</td>\n",
       "      <td>0.666667</td>\n",
       "      <td>APPROVED</td>\n",
       "    </tr>\n",
       "    <tr>\n",
       "      <th>4</th>\n",
       "      <td>4</td>\n",
       "      <td>SimplyMii</td>\n",
       "      <td>0.000000</td>\n",
       "      <td>1.0</td>\n",
       "      <td>1.0</td>\n",
       "      <td>1.0</td>\n",
       "      <td>0.0</td>\n",
       "      <td>0.0</td>\n",
       "      <td>0.0</td>\n",
       "      <td>100.0</td>\n",
       "      <td>0.0</td>\n",
       "      <td>{'https://www.simplymii.com/products/category/...</td>\n",
       "      <td>https://www.simplymii.com/</td>\n",
       "      <td>0.000000</td>\n",
       "      <td>APPROVED</td>\n",
       "    </tr>\n",
       "  </tbody>\n",
       "</table>\n",
       "</div>"
      ],
      "text/plain": [
       "   Unnamed: 0          merchant_name  broken_link_score  \\\n",
       "0           0   CV.ASIATRIPINDONESIA           0.000000   \n",
       "1           1   Pt.BloomingLotusYoga          70.000000   \n",
       "2           2  YayasanGreenSejahtera          11.111111   \n",
       "3           3    PTMatairTerraSolusi          12.500000   \n",
       "4           4              SimplyMii           0.000000   \n",
       "\n",
       "   link_contact_us_exist  cu_email_exist  cu_phone_number_exist  \\\n",
       "0                    1.0             1.0                    1.0   \n",
       "1                    1.0             1.0                    1.0   \n",
       "2                    1.0             1.0                    1.0   \n",
       "3                    0.0             0.0                    0.0   \n",
       "4                    1.0             1.0                    1.0   \n",
       "\n",
       "   link_about_us_exist  link_tnc_exist  tnc_refund_policy_exist  \\\n",
       "0                  0.0             1.0                      1.0   \n",
       "1                  1.0             1.0                      1.0   \n",
       "2                  1.0             1.0                      1.0   \n",
       "3                  1.0             0.0                      0.0   \n",
       "4                  0.0             0.0                      0.0   \n",
       "\n",
       "   contact_us_score  tnc_score  \\\n",
       "0             100.0      100.0   \n",
       "1             100.0      100.0   \n",
       "2             100.0      100.0   \n",
       "3               0.0        0.0   \n",
       "4             100.0        0.0   \n",
       "\n",
       "                                      links_response  \\\n",
       "0  {'https://asiatrip.id/reseller/': '<Response [...   \n",
       "1  {'http://www.blooming-lotus-yoga.com/bliss-mag...   \n",
       "2  {'': 'No Response/Timeout', 'https://greenseja...   \n",
       "3  {'': 'No Response/Timeout', 'https://www.matai...   \n",
       "4  {'https://www.simplymii.com/products/category/...   \n",
       "\n",
       "                                 website  fraud_score     label  \n",
       "0                    http://asiatrip.id/     0.000000  APPROVED  \n",
       "1    https://www.blooming-lotus-yoga.com     0.000000  APPROVED  \n",
       "2  https://greensejahterafoundation.com/     0.000000  APPROVED  \n",
       "3                http://www.matair.co.id     0.666667  APPROVED  \n",
       "4             https://www.simplymii.com/     0.000000  APPROVED  "
      ]
     },
     "execution_count": 3,
     "metadata": {},
     "output_type": "execute_result"
    }
   ],
   "source": [
    "df.head()"
   ]
  },
  {
   "cell_type": "code",
   "execution_count": 4,
   "metadata": {},
   "outputs": [],
   "source": [
    "y = df['label'].apply(lambda x: 1 if x == 'REJECTED' else 0)"
   ]
  },
  {
   "cell_type": "code",
   "execution_count": 5,
   "metadata": {},
   "outputs": [],
   "source": [
    "X = df.iloc[:, 2:9]"
   ]
  },
  {
   "cell_type": "code",
   "execution_count": 6,
   "metadata": {},
   "outputs": [],
   "source": [
    "## Binarize broken_link_score, with threshold 50.0\n",
    "X[\"broken_link_score\"] = (X[\"broken_link_score\"] < 50.0)"
   ]
  },
  {
   "cell_type": "code",
   "execution_count": 7,
   "metadata": {},
   "outputs": [],
   "source": [
    "for col in X:\n",
    "    X[col] = X[col].astype(int)"
   ]
  },
  {
   "cell_type": "code",
   "execution_count": 8,
   "metadata": {
    "scrolled": true
   },
   "outputs": [
    {
     "data": {
      "text/html": [
       "<div>\n",
       "<style scoped>\n",
       "    .dataframe tbody tr th:only-of-type {\n",
       "        vertical-align: middle;\n",
       "    }\n",
       "\n",
       "    .dataframe tbody tr th {\n",
       "        vertical-align: top;\n",
       "    }\n",
       "\n",
       "    .dataframe thead th {\n",
       "        text-align: right;\n",
       "    }\n",
       "</style>\n",
       "<table border=\"1\" class=\"dataframe\">\n",
       "  <thead>\n",
       "    <tr style=\"text-align: right;\">\n",
       "      <th></th>\n",
       "      <th>broken_link_score</th>\n",
       "      <th>link_contact_us_exist</th>\n",
       "      <th>cu_email_exist</th>\n",
       "      <th>cu_phone_number_exist</th>\n",
       "      <th>link_about_us_exist</th>\n",
       "      <th>link_tnc_exist</th>\n",
       "      <th>tnc_refund_policy_exist</th>\n",
       "    </tr>\n",
       "  </thead>\n",
       "  <tbody>\n",
       "    <tr>\n",
       "      <th>0</th>\n",
       "      <td>1</td>\n",
       "      <td>1</td>\n",
       "      <td>1</td>\n",
       "      <td>1</td>\n",
       "      <td>0</td>\n",
       "      <td>1</td>\n",
       "      <td>1</td>\n",
       "    </tr>\n",
       "    <tr>\n",
       "      <th>1</th>\n",
       "      <td>0</td>\n",
       "      <td>1</td>\n",
       "      <td>1</td>\n",
       "      <td>1</td>\n",
       "      <td>1</td>\n",
       "      <td>1</td>\n",
       "      <td>1</td>\n",
       "    </tr>\n",
       "    <tr>\n",
       "      <th>2</th>\n",
       "      <td>1</td>\n",
       "      <td>1</td>\n",
       "      <td>1</td>\n",
       "      <td>1</td>\n",
       "      <td>1</td>\n",
       "      <td>1</td>\n",
       "      <td>1</td>\n",
       "    </tr>\n",
       "    <tr>\n",
       "      <th>3</th>\n",
       "      <td>1</td>\n",
       "      <td>0</td>\n",
       "      <td>0</td>\n",
       "      <td>0</td>\n",
       "      <td>1</td>\n",
       "      <td>0</td>\n",
       "      <td>0</td>\n",
       "    </tr>\n",
       "    <tr>\n",
       "      <th>4</th>\n",
       "      <td>1</td>\n",
       "      <td>1</td>\n",
       "      <td>1</td>\n",
       "      <td>1</td>\n",
       "      <td>0</td>\n",
       "      <td>0</td>\n",
       "      <td>0</td>\n",
       "    </tr>\n",
       "  </tbody>\n",
       "</table>\n",
       "</div>"
      ],
      "text/plain": [
       "   broken_link_score  link_contact_us_exist  cu_email_exist  \\\n",
       "0                  1                      1               1   \n",
       "1                  0                      1               1   \n",
       "2                  1                      1               1   \n",
       "3                  1                      0               0   \n",
       "4                  1                      1               1   \n",
       "\n",
       "   cu_phone_number_exist  link_about_us_exist  link_tnc_exist  \\\n",
       "0                      1                    0               1   \n",
       "1                      1                    1               1   \n",
       "2                      1                    1               1   \n",
       "3                      0                    1               0   \n",
       "4                      1                    0               0   \n",
       "\n",
       "   tnc_refund_policy_exist  \n",
       "0                        1  \n",
       "1                        1  \n",
       "2                        1  \n",
       "3                        0  \n",
       "4                        0  "
      ]
     },
     "execution_count": 8,
     "metadata": {},
     "output_type": "execute_result"
    }
   ],
   "source": [
    "X.head()"
   ]
  },
  {
   "cell_type": "code",
   "execution_count": 9,
   "metadata": {},
   "outputs": [
    {
     "data": {
      "text/plain": [
       "(292, 7)"
      ]
     },
     "execution_count": 9,
     "metadata": {},
     "output_type": "execute_result"
    }
   ],
   "source": [
    "X.shape"
   ]
  },
  {
   "cell_type": "code",
   "execution_count": 10,
   "metadata": {},
   "outputs": [
    {
     "data": {
      "text/plain": [
       "label\n",
       "APPROVED    215\n",
       "REJECTED     77\n",
       "dtype: int64"
      ]
     },
     "execution_count": 10,
     "metadata": {},
     "output_type": "execute_result"
    }
   ],
   "source": [
    "df.groupby(\"label\").size()"
   ]
  },
  {
   "cell_type": "code",
   "execution_count": 11,
   "metadata": {},
   "outputs": [
    {
     "data": {
      "text/plain": [
       "Index(['broken_link_score', 'link_contact_us_exist', 'cu_email_exist',\n",
       "       'cu_phone_number_exist', 'link_about_us_exist', 'link_tnc_exist',\n",
       "       'tnc_refund_policy_exist'],\n",
       "      dtype='object')"
      ]
     },
     "execution_count": 11,
     "metadata": {},
     "output_type": "execute_result"
    }
   ],
   "source": [
    "X.columns"
   ]
  },
  {
   "cell_type": "markdown",
   "metadata": {},
   "source": [
    "## Cross Validation & Hyperparameter Tuning\n",
    "Adopted from: https://weina.me/nested-cross-validation/"
   ]
  },
  {
   "cell_type": "markdown",
   "metadata": {},
   "source": [
    "#### Data Splitting"
   ]
  },
  {
   "cell_type": "code",
   "execution_count": 12,
   "metadata": {},
   "outputs": [],
   "source": [
    "## Divide data into train and \"unseen\" test set\n",
    "## Unseen test set will be used for final testing after best hyperparameter sets chose\n",
    "X_train, X_test_unseen, y_train, y_test_unseen = train_test_split(X, y, test_size=0.30, random_state=42)"
   ]
  },
  {
   "cell_type": "code",
   "execution_count": 13,
   "metadata": {},
   "outputs": [
    {
     "data": {
      "text/plain": [
       "0    149\n",
       "1     55\n",
       "Name: label, dtype: int64"
      ]
     },
     "execution_count": 13,
     "metadata": {},
     "output_type": "execute_result"
    }
   ],
   "source": [
    "y_train.value_counts()"
   ]
  },
  {
   "cell_type": "code",
   "execution_count": 14,
   "metadata": {},
   "outputs": [
    {
     "data": {
      "text/plain": [
       "0    66\n",
       "1    22\n",
       "Name: label, dtype: int64"
      ]
     },
     "execution_count": 14,
     "metadata": {},
     "output_type": "execute_result"
    }
   ],
   "source": [
    "y_test_unseen.value_counts()"
   ]
  },
  {
   "cell_type": "markdown",
   "metadata": {},
   "source": [
    "#### Find The Best Hyperparameter Candidates"
   ]
  },
  {
   "cell_type": "code",
   "execution_count": 15,
   "metadata": {},
   "outputs": [],
   "source": [
    "## Define a parameters grid\n",
    "p_grid = {\"max_depth\": [1,2,3,4,5,6,7,8,9,10,11,12,13,14,15],\\\n",
    "          \"min_samples_split\": [2,5,10,15,20,25,30],\\\n",
    "          \"min_samples_leaf\": [1,3,5,10,15]}"
   ]
  },
  {
   "cell_type": "code",
   "execution_count": 16,
   "metadata": {},
   "outputs": [],
   "source": [
    "## Split train data to 5 (outer) folds\n",
    "skfold_outer = StratifiedKFold(n_splits=5)\n",
    "skfold_inner = StratifiedKFold(n_splits=4)"
   ]
  },
  {
   "cell_type": "code",
   "execution_count": 17,
   "metadata": {
    "scrolled": true
   },
   "outputs": [
    {
     "name": "stdout",
     "output_type": "stream",
     "text": [
      "Outer Fold 1\n",
      "Best Params: {'max_depth': 3, 'min_samples_leaf': 3, 'min_samples_split': 25}\n",
      "Best Avg. Score: 0.9128657262277952\n",
      "Test Outer Score: 0.9106060606060606\n",
      "Outer Fold 2\n",
      "Best Params: {'max_depth': 4, 'min_samples_leaf': 1, 'min_samples_split': 20}\n",
      "Best Avg. Score: 0.94489289446186\n",
      "Test Outer Score: 0.7803030303030304\n",
      "Outer Fold 3\n",
      "Best Params: {'max_depth': 3, 'min_samples_leaf': 5, 'min_samples_split': 25}\n",
      "Best Avg. Score: 0.8918103448275861\n",
      "Test Outer Score: 0.9333333333333333\n",
      "Outer Fold 4\n",
      "Best Params: {'max_depth': 4, 'min_samples_leaf': 5, 'min_samples_split': 20}\n",
      "Best Avg. Score: 0.883346394984326\n",
      "Test Outer Score: 0.9348484848484848\n",
      "Outer Fold 5\n",
      "Best Params: {'max_depth': 4, 'min_samples_leaf': 5, 'min_samples_split': 15}\n",
      "Best Avg. Score: 0.8856060606060606\n",
      "Test Outer Score: 0.9702194357366771\n"
     ]
    }
   ],
   "source": [
    "i = 1\n",
    "folds = []\n",
    "for train_index_outer, test_index_outer in skfold_outer.split(X_train, y_train):\n",
    "    fold_data = {}\n",
    "    \n",
    "    print(\"Outer Fold %s\" % i)\n",
    "    data_X_train = X_train.iloc[train_index_outer]\n",
    "    data_y_train = y_train.iloc[train_index_outer]\n",
    "    data_X_test = X_train.iloc[test_index_outer]\n",
    "    data_y_test = y_train.iloc[test_index_outer]\n",
    "    \n",
    "    ## Define model\n",
    "    model = DecisionTreeClassifier(random_state=0)\n",
    "    \n",
    "    ## Do cross validation in inner fold, get the best params\n",
    "    clf = GridSearchCV(model, p_grid, scoring='roc_auc', cv=skfold_inner)\n",
    "    clf.fit(data_X_train, data_y_train)\n",
    "    print(\"Best Params: %s\" % clf.best_params_)\n",
    "    print(\"Best Avg. Score: %s\" % clf.best_score_)\n",
    "    fold_data['outer_fold'] = i\n",
    "    fold_data['best_param'] = clf.best_params_\n",
    "    fold_data['best_avg_score'] = clf.best_score_\n",
    "    \n",
    "    ## Test to test data in outer loop\n",
    "    model = DecisionTreeClassifier(random_state=0,\\\n",
    "                          min_samples_split=fold_data['best_param']['min_samples_split'],\\\n",
    "                          max_depth=fold_data['best_param']['max_depth'],\\\n",
    "                          min_samples_leaf=fold_data['best_param']['min_samples_leaf'])\n",
    "    \n",
    "    model.fit(data_X_train, data_y_train)\n",
    "    y_pred_proba = model.predict_proba(data_X_test)\n",
    "    fpr, tpr, thresholds = roc_curve(data_y_test, y_pred_proba[:,1])\n",
    "    auc_score = auc(fpr, tpr)\n",
    "    fold_data['test_outer_score'] = auc_score\n",
    "    print(\"Test Outer Score: %s\" % auc_score)\n",
    "    \n",
    "    folds.append(fold_data)\n",
    "    \n",
    "    i+=1"
   ]
  },
  {
   "cell_type": "code",
   "execution_count": 18,
   "metadata": {},
   "outputs": [
    {
     "data": {
      "text/plain": [
       "[{'outer_fold': 1,\n",
       "  'best_param': {'max_depth': 3,\n",
       "   'min_samples_leaf': 3,\n",
       "   'min_samples_split': 25},\n",
       "  'best_avg_score': 0.9128657262277952,\n",
       "  'test_outer_score': 0.9106060606060606},\n",
       " {'outer_fold': 2,\n",
       "  'best_param': {'max_depth': 4,\n",
       "   'min_samples_leaf': 1,\n",
       "   'min_samples_split': 20},\n",
       "  'best_avg_score': 0.94489289446186,\n",
       "  'test_outer_score': 0.7803030303030304},\n",
       " {'outer_fold': 3,\n",
       "  'best_param': {'max_depth': 3,\n",
       "   'min_samples_leaf': 5,\n",
       "   'min_samples_split': 25},\n",
       "  'best_avg_score': 0.8918103448275861,\n",
       "  'test_outer_score': 0.9333333333333333},\n",
       " {'outer_fold': 4,\n",
       "  'best_param': {'max_depth': 4,\n",
       "   'min_samples_leaf': 5,\n",
       "   'min_samples_split': 20},\n",
       "  'best_avg_score': 0.883346394984326,\n",
       "  'test_outer_score': 0.9348484848484848},\n",
       " {'outer_fold': 5,\n",
       "  'best_param': {'max_depth': 4,\n",
       "   'min_samples_leaf': 5,\n",
       "   'min_samples_split': 15},\n",
       "  'best_avg_score': 0.8856060606060606,\n",
       "  'test_outer_score': 0.9702194357366771}]"
      ]
     },
     "execution_count": 18,
     "metadata": {},
     "output_type": "execute_result"
    }
   ],
   "source": [
    "folds"
   ]
  },
  {
   "cell_type": "code",
   "execution_count": 19,
   "metadata": {},
   "outputs": [],
   "source": [
    "df_outer_fold_result = pd.DataFrame({\"outer_fold\":[], \"max_depth\":[], \"min_samples_split\":[],\\\n",
    "                                    \"min_samples_leaf\": [], \"best_avg_score\":[], \"test_outer_score\":[]})\n",
    "for fold in folds:\n",
    "    res = pd.concat([pd.DataFrame(fold['best_param'], index=[0]),\\\n",
    "                    pd.DataFrame(fold, index=[0]).drop('best_param', axis=1)], axis=1)\n",
    "    df_outer_fold_result = pd.concat([df_outer_fold_result, res])"
   ]
  },
  {
   "cell_type": "code",
   "execution_count": 20,
   "metadata": {},
   "outputs": [
    {
     "data": {
      "text/html": [
       "<div>\n",
       "<style scoped>\n",
       "    .dataframe tbody tr th:only-of-type {\n",
       "        vertical-align: middle;\n",
       "    }\n",
       "\n",
       "    .dataframe tbody tr th {\n",
       "        vertical-align: top;\n",
       "    }\n",
       "\n",
       "    .dataframe thead th {\n",
       "        text-align: right;\n",
       "    }\n",
       "</style>\n",
       "<table border=\"1\" class=\"dataframe\">\n",
       "  <thead>\n",
       "    <tr style=\"text-align: right;\">\n",
       "      <th></th>\n",
       "      <th>outer_fold</th>\n",
       "      <th>max_depth</th>\n",
       "      <th>min_samples_split</th>\n",
       "      <th>min_samples_leaf</th>\n",
       "      <th>best_avg_score</th>\n",
       "    </tr>\n",
       "  </thead>\n",
       "  <tbody>\n",
       "    <tr>\n",
       "      <th>0</th>\n",
       "      <td>1.0</td>\n",
       "      <td>3.0</td>\n",
       "      <td>25.0</td>\n",
       "      <td>3.0</td>\n",
       "      <td>0.912866</td>\n",
       "    </tr>\n",
       "    <tr>\n",
       "      <th>0</th>\n",
       "      <td>2.0</td>\n",
       "      <td>4.0</td>\n",
       "      <td>20.0</td>\n",
       "      <td>1.0</td>\n",
       "      <td>0.944893</td>\n",
       "    </tr>\n",
       "    <tr>\n",
       "      <th>0</th>\n",
       "      <td>3.0</td>\n",
       "      <td>3.0</td>\n",
       "      <td>25.0</td>\n",
       "      <td>5.0</td>\n",
       "      <td>0.891810</td>\n",
       "    </tr>\n",
       "    <tr>\n",
       "      <th>0</th>\n",
       "      <td>4.0</td>\n",
       "      <td>4.0</td>\n",
       "      <td>20.0</td>\n",
       "      <td>5.0</td>\n",
       "      <td>0.883346</td>\n",
       "    </tr>\n",
       "    <tr>\n",
       "      <th>0</th>\n",
       "      <td>5.0</td>\n",
       "      <td>4.0</td>\n",
       "      <td>15.0</td>\n",
       "      <td>5.0</td>\n",
       "      <td>0.885606</td>\n",
       "    </tr>\n",
       "  </tbody>\n",
       "</table>\n",
       "</div>"
      ],
      "text/plain": [
       "   outer_fold  max_depth  min_samples_split  min_samples_leaf  best_avg_score\n",
       "0         1.0        3.0               25.0               3.0        0.912866\n",
       "0         2.0        4.0               20.0               1.0        0.944893\n",
       "0         3.0        3.0               25.0               5.0        0.891810\n",
       "0         4.0        4.0               20.0               5.0        0.883346\n",
       "0         5.0        4.0               15.0               5.0        0.885606"
      ]
     },
     "execution_count": 20,
     "metadata": {},
     "output_type": "execute_result"
    }
   ],
   "source": [
    "df_outer_fold_result.iloc[:,:-1]"
   ]
  },
  {
   "cell_type": "code",
   "execution_count": 21,
   "metadata": {},
   "outputs": [
    {
     "name": "stdout",
     "output_type": "stream",
     "text": [
      "\\begin{tabular}{rrrrr}\n",
      "\\toprule\n",
      " outer\\_fold &  max\\_depth &  min\\_samples\\_split &  min\\_samples\\_leaf &  best\\_avg\\_score \\\\\n",
      "\\midrule\n",
      "        1.0 &        3.0 &               25.0 &               3.0 &        0.912866 \\\\\n",
      "        2.0 &        4.0 &               20.0 &               1.0 &        0.944893 \\\\\n",
      "        3.0 &        3.0 &               25.0 &               5.0 &        0.891810 \\\\\n",
      "        4.0 &        4.0 &               20.0 &               5.0 &        0.883346 \\\\\n",
      "        5.0 &        4.0 &               15.0 &               5.0 &        0.885606 \\\\\n",
      "\\bottomrule\n",
      "\\end{tabular}\n",
      "\n"
     ]
    }
   ],
   "source": [
    "print(df_outer_fold_result.iloc[:,:-1].to_latex(index=False))"
   ]
  },
  {
   "cell_type": "markdown",
   "metadata": {},
   "source": [
    "#### Test All Candidates To Unseen Data"
   ]
  },
  {
   "cell_type": "code",
   "execution_count": 22,
   "metadata": {
    "scrolled": true
   },
   "outputs": [
    {
     "name": "stdout",
     "output_type": "stream",
     "text": [
      "==============================\n",
      "Fold 1\n",
      "Parameter: {'max_depth': 3, 'min_samples_leaf': 3, 'min_samples_split': 25}\n",
      "AUC: 0.938\n",
      "Accuracy: 0.920 \n",
      "Precision: 0.895 \n",
      "Recall: 0.773 \n",
      "F1 Score: 0.829 \n",
      "True Positive: 17\n",
      "False Positive: 2\n",
      "True Negative: 64\n",
      "False Negative: 5\n",
      "==============================\n",
      "==============================\n",
      "Fold 2\n",
      "Parameter: {'max_depth': 4, 'min_samples_leaf': 1, 'min_samples_split': 20}\n",
      "AUC: 0.944\n",
      "Accuracy: 0.920 \n",
      "Precision: 0.895 \n",
      "Recall: 0.773 \n",
      "F1 Score: 0.829 \n",
      "True Positive: 17\n",
      "False Positive: 2\n",
      "True Negative: 64\n",
      "False Negative: 5\n",
      "==============================\n",
      "==============================\n",
      "Fold 3\n",
      "Parameter: {'max_depth': 3, 'min_samples_leaf': 5, 'min_samples_split': 25}\n",
      "AUC: 0.938\n",
      "Accuracy: 0.920 \n",
      "Precision: 0.895 \n",
      "Recall: 0.773 \n",
      "F1 Score: 0.829 \n",
      "True Positive: 17\n",
      "False Positive: 2\n",
      "True Negative: 64\n",
      "False Negative: 5\n",
      "==============================\n",
      "==============================\n",
      "Fold 4\n",
      "Parameter: {'max_depth': 4, 'min_samples_leaf': 5, 'min_samples_split': 20}\n",
      "AUC: 0.944\n",
      "Accuracy: 0.920 \n",
      "Precision: 0.895 \n",
      "Recall: 0.773 \n",
      "F1 Score: 0.829 \n",
      "True Positive: 17\n",
      "False Positive: 2\n",
      "True Negative: 64\n",
      "False Negative: 5\n",
      "==============================\n",
      "==============================\n",
      "Fold 5\n",
      "Parameter: {'max_depth': 4, 'min_samples_leaf': 5, 'min_samples_split': 15}\n",
      "AUC: 0.928\n",
      "Accuracy: 0.920 \n",
      "Precision: 0.895 \n",
      "Recall: 0.773 \n",
      "F1 Score: 0.829 \n",
      "True Positive: 17\n",
      "False Positive: 2\n",
      "True Negative: 64\n",
      "False Negative: 5\n",
      "==============================\n"
     ]
    }
   ],
   "source": [
    "pred_class = []\n",
    "pred_proba = []\n",
    "pred_auc = []\n",
    "for fold in folds:\n",
    "    model = DecisionTreeClassifier(random_state=0,\\\n",
    "                          min_samples_split=fold['best_param']['min_samples_split'],\\\n",
    "                          max_depth=fold['best_param']['max_depth'])\n",
    "    \n",
    "    ## Predict\n",
    "    model.fit(X_train, y_train)\n",
    "    y_pred = model.predict(X_test_unseen)\n",
    "    y_pred_proba = model.predict_proba(X_test_unseen)\n",
    "    \n",
    "    ## Print metrics\n",
    "    print(\"==============================\")\n",
    "    print(\"Fold %s\" % fold['outer_fold'])\n",
    "    print(\"Parameter: %s\" % fold['best_param'])\n",
    "    fpr, tpr, thresholds = roc_curve(y_test_unseen, y_pred_proba[:,1])\n",
    "    auc_score = auc(fpr, tpr)\n",
    "    accuracy = accuracy_score(y_test_unseen, y_pred)\n",
    "    tn, fp, fn, tp = confusion_matrix(y_test_unseen, y_pred).ravel()\n",
    "    precision = tp / (tp + fp)\n",
    "    recall = tp / (tp + fn)\n",
    "    f1_score = 2 * (precision * recall) / (precision + recall)\n",
    "    \n",
    "    print(\"AUC: %.3f\" % auc_score)\n",
    "    print(\"Accuracy: %.3f \" % accuracy)\n",
    "    print(\"Precision: %.3f \" % precision)\n",
    "    print(\"Recall: %.3f \" % recall)\n",
    "    print(\"F1 Score: %.3f \" % f1_score)\n",
    "    print(\"True Positive: %s\" % tp)\n",
    "    print(\"False Positive: %s\" % fp)\n",
    "    print(\"True Negative: %s\" % tn)\n",
    "    print(\"False Negative: %s\" % fn)\n",
    "    print(\"==============================\")\n",
    "    \n",
    "    pred_class.append(y_pred)\n",
    "    pred_proba.append(y_pred_proba)\n",
    "    pred_auc.append(auc_score)"
   ]
  },
  {
   "cell_type": "code",
   "execution_count": 23,
   "metadata": {},
   "outputs": [
    {
     "data": {
      "text/html": [
       "<div>\n",
       "<style scoped>\n",
       "    .dataframe tbody tr th:only-of-type {\n",
       "        vertical-align: middle;\n",
       "    }\n",
       "\n",
       "    .dataframe tbody tr th {\n",
       "        vertical-align: top;\n",
       "    }\n",
       "\n",
       "    .dataframe thead th {\n",
       "        text-align: right;\n",
       "    }\n",
       "</style>\n",
       "<table border=\"1\" class=\"dataframe\">\n",
       "  <thead>\n",
       "    <tr style=\"text-align: right;\">\n",
       "      <th></th>\n",
       "      <th>candidates</th>\n",
       "      <th>max_depth</th>\n",
       "      <th>min_samples_split</th>\n",
       "      <th>min_samples_leaf</th>\n",
       "      <th>test_unseen_score</th>\n",
       "    </tr>\n",
       "  </thead>\n",
       "  <tbody>\n",
       "    <tr>\n",
       "      <th>0</th>\n",
       "      <td>1.0</td>\n",
       "      <td>3.0</td>\n",
       "      <td>25.0</td>\n",
       "      <td>3.0</td>\n",
       "      <td>0.937672</td>\n",
       "    </tr>\n",
       "    <tr>\n",
       "      <th>0</th>\n",
       "      <td>2.0</td>\n",
       "      <td>4.0</td>\n",
       "      <td>20.0</td>\n",
       "      <td>1.0</td>\n",
       "      <td>0.943871</td>\n",
       "    </tr>\n",
       "    <tr>\n",
       "      <th>0</th>\n",
       "      <td>3.0</td>\n",
       "      <td>3.0</td>\n",
       "      <td>25.0</td>\n",
       "      <td>5.0</td>\n",
       "      <td>0.937672</td>\n",
       "    </tr>\n",
       "    <tr>\n",
       "      <th>0</th>\n",
       "      <td>4.0</td>\n",
       "      <td>4.0</td>\n",
       "      <td>20.0</td>\n",
       "      <td>5.0</td>\n",
       "      <td>0.943871</td>\n",
       "    </tr>\n",
       "    <tr>\n",
       "      <th>0</th>\n",
       "      <td>5.0</td>\n",
       "      <td>4.0</td>\n",
       "      <td>15.0</td>\n",
       "      <td>5.0</td>\n",
       "      <td>0.928375</td>\n",
       "    </tr>\n",
       "  </tbody>\n",
       "</table>\n",
       "</div>"
      ],
      "text/plain": [
       "   candidates  max_depth  min_samples_split  min_samples_leaf  \\\n",
       "0         1.0        3.0               25.0               3.0   \n",
       "0         2.0        4.0               20.0               1.0   \n",
       "0         3.0        3.0               25.0               5.0   \n",
       "0         4.0        4.0               20.0               5.0   \n",
       "0         5.0        4.0               15.0               5.0   \n",
       "\n",
       "   test_unseen_score  \n",
       "0           0.937672  \n",
       "0           0.943871  \n",
       "0           0.937672  \n",
       "0           0.943871  \n",
       "0           0.928375  "
      ]
     },
     "execution_count": 23,
     "metadata": {},
     "output_type": "execute_result"
    }
   ],
   "source": [
    "## Result table all training data test to unseen test data\n",
    "df_test_unseen_result = pd.DataFrame({\"candidates\": df_outer_fold_result['outer_fold'], \\\n",
    "                                      \"max_depth\": df_outer_fold_result['max_depth'], \\\n",
    "                                      \"min_samples_split\": df_outer_fold_result['min_samples_split'],\\\n",
    "                                      \"min_samples_leaf\": df_outer_fold_result['min_samples_leaf'],\\\n",
    "                                      \"test_unseen_score\": pred_auc})\n",
    "df_test_unseen_result"
   ]
  },
  {
   "cell_type": "code",
   "execution_count": 24,
   "metadata": {},
   "outputs": [],
   "source": [
    "df_x = pd.concat([df_outer_fold_result.iloc[:,0:1] , df_outer_fold_result.iloc[:,-1:], df_test_unseen_result[['test_unseen_score']]], axis=1)"
   ]
  },
  {
   "cell_type": "code",
   "execution_count": 25,
   "metadata": {},
   "outputs": [
    {
     "name": "stdout",
     "output_type": "stream",
     "text": [
      "\\begin{tabular}{rrr}\n",
      "\\toprule\n",
      " outer\\_fold &  test\\_outer\\_score &  test\\_unseen\\_score \\\\\n",
      "\\midrule\n",
      "        1.0 &          0.910606 &           0.937672 \\\\\n",
      "        2.0 &          0.780303 &           0.943871 \\\\\n",
      "        3.0 &          0.933333 &           0.937672 \\\\\n",
      "        4.0 &          0.934848 &           0.943871 \\\\\n",
      "        5.0 &          0.970219 &           0.928375 \\\\\n",
      "\\bottomrule\n",
      "\\end{tabular}\n",
      "\n"
     ]
    }
   ],
   "source": [
    "print(df_x.to_latex(index=False))"
   ]
  },
  {
   "cell_type": "code",
   "execution_count": 26,
   "metadata": {},
   "outputs": [],
   "source": [
    "## Best hyperparameter test to unseen data\n",
    "fold_best = folds[3]"
   ]
  },
  {
   "cell_type": "code",
   "execution_count": 27,
   "metadata": {},
   "outputs": [],
   "source": [
    "## Predict with the best params\n",
    "model = DecisionTreeClassifier(random_state=0,\\\n",
    "                          min_samples_split=fold_best['best_param']['min_samples_split'],\\\n",
    "                          max_depth=fold_best['best_param']['max_depth'])        \n",
    "model.fit(X_train, y_train)\n",
    "y_pred = model.predict(X_test_unseen)\n",
    "y_pred_proba = model.predict_proba(X_test_unseen)"
   ]
  },
  {
   "cell_type": "code",
   "execution_count": 28,
   "metadata": {},
   "outputs": [
    {
     "name": "stdout",
     "output_type": "stream",
     "text": [
      "AUC: 0.944\n",
      "Accuracy: 0.920 \n",
      "Precision: 0.895 \n",
      "Recall: 0.773 \n",
      "F1 Score: 0.829 \n",
      "True Positive: 17\n",
      "False Positive: 2\n",
      "True Negative: 64\n",
      "False Negative: 5\n"
     ]
    }
   ],
   "source": [
    "fpr, tpr, thresholds = roc_curve(y_test_unseen, y_pred_proba[:,1])\n",
    "auc_score = auc(fpr, tpr)\n",
    "accuracy = accuracy_score(y_test_unseen, y_pred)\n",
    "tn, fp, fn, tp = confusion_matrix(y_test_unseen, y_pred).ravel()\n",
    "precision = tp / (tp + fp)\n",
    "recall = tp / (tp + fn)\n",
    "f1_score = 2 * (precision * recall) / (precision + recall)\n",
    "\n",
    "print(\"AUC: %.3f\" % auc_score)\n",
    "print(\"Accuracy: %.3f \" % accuracy)\n",
    "print(\"Precision: %.3f \" % precision)\n",
    "print(\"Recall: %.3f \" % recall)\n",
    "print(\"F1 Score: %.3f \" % f1_score)\n",
    "print(\"True Positive: %s\" % tp)\n",
    "print(\"False Positive: %s\" % fp)\n",
    "print(\"True Negative: %s\" % tn)\n",
    "print(\"False Negative: %s\" % fn)"
   ]
  },
  {
   "cell_type": "code",
   "execution_count": 42,
   "metadata": {},
   "outputs": [],
   "source": [
    "df_res = pd.DataFrame({\"\"}, index=[0])\n",
    "df_res['auc'] = auc_score\n",
    "df_res['accuracy'] = accuracy\n",
    "tnr = tn/(tn+fp)\n",
    "df_res['balanced_accuracy'] = (recall + tnr)/2\n",
    "df_res['precision'] = precision\n",
    "df_res['recall'] = recall\n",
    "df_res['f1_score'] = f1_score\n",
    "df_res['confusion_matrix (tp,tn,fp,fn)'] = str([tp, tn, fp, fn])"
   ]
  },
  {
   "cell_type": "code",
   "execution_count": 43,
   "metadata": {},
   "outputs": [
    {
     "data": {
      "text/html": [
       "<div>\n",
       "<style scoped>\n",
       "    .dataframe tbody tr th:only-of-type {\n",
       "        vertical-align: middle;\n",
       "    }\n",
       "\n",
       "    .dataframe tbody tr th {\n",
       "        vertical-align: top;\n",
       "    }\n",
       "\n",
       "    .dataframe thead th {\n",
       "        text-align: right;\n",
       "    }\n",
       "</style>\n",
       "<table border=\"1\" class=\"dataframe\">\n",
       "  <thead>\n",
       "    <tr style=\"text-align: right;\">\n",
       "      <th></th>\n",
       "      <th>0</th>\n",
       "      <th>auc</th>\n",
       "      <th>accuracy</th>\n",
       "      <th>balanced_accuracy</th>\n",
       "      <th>precision</th>\n",
       "      <th>recall</th>\n",
       "      <th>f1_score</th>\n",
       "      <th>confusion_matrix (tp,tn,fp,fn)</th>\n",
       "    </tr>\n",
       "  </thead>\n",
       "  <tbody>\n",
       "    <tr>\n",
       "      <th>0</th>\n",
       "      <td></td>\n",
       "      <td>0.943871</td>\n",
       "      <td>0.920455</td>\n",
       "      <td>0.871212</td>\n",
       "      <td>0.894737</td>\n",
       "      <td>0.772727</td>\n",
       "      <td>0.829268</td>\n",
       "      <td>[17, 64, 2, 5]</td>\n",
       "    </tr>\n",
       "  </tbody>\n",
       "</table>\n",
       "</div>"
      ],
      "text/plain": [
       "  0       auc  accuracy  balanced_accuracy  precision    recall  f1_score  \\\n",
       "0    0.943871  0.920455           0.871212   0.894737  0.772727  0.829268   \n",
       "\n",
       "  confusion_matrix (tp,tn,fp,fn)  \n",
       "0                 [17, 64, 2, 5]  "
      ]
     },
     "execution_count": 43,
     "metadata": {},
     "output_type": "execute_result"
    }
   ],
   "source": [
    "df_res"
   ]
  },
  {
   "cell_type": "code",
   "execution_count": 44,
   "metadata": {},
   "outputs": [],
   "source": [
    "df_res.to_csv(\"res_dt.csv\", index=False)"
   ]
  },
  {
   "cell_type": "code",
   "execution_count": 29,
   "metadata": {},
   "outputs": [
    {
     "data": {
      "text/plain": [
       "<sklearn.metrics._plot.confusion_matrix.ConfusionMatrixDisplay at 0x12b3a1518>"
      ]
     },
     "execution_count": 29,
     "metadata": {},
     "output_type": "execute_result"
    },
    {
     "data": {
      "image/png": "[encoded data removed]",
      "text/plain": [
       "<Figure size 432x288 with 2 Axes>"
      ]
     },
     "metadata": {
      "needs_background": "light"
     },
     "output_type": "display_data"
    }
   ],
   "source": [
    "plot_confusion_matrix(model, X_test_unseen, y_test_unseen, cmap=plt.cm.Blues)"
   ]
  },
  {
   "cell_type": "code",
   "execution_count": 30,
   "metadata": {},
   "outputs": [
    {
     "data": {
      "image/png": "[encoded data removed]",
      "text/plain": [
       "<Figure size 720x288 with 1 Axes>"
      ]
     },
     "metadata": {
      "needs_background": "light"
     },
     "output_type": "display_data"
    }
   ],
   "source": [
    "## ROC AUC Graph\n",
    "plt.figure(figsize=(10,4))\n",
    "plt.plot(fpr, tpr, label='AUC = %0.2f' % (auc_score))\n",
    "plt.plot([0, 1], [0, 1], 'k--')\n",
    "plt.xlim([0.0, 1.0])\n",
    "plt.ylim([0.0, 1.05])\n",
    "# for i in range(len(fpr)):\n",
    "#     plt.text(fpr[i], tpr[i], \"%0.2f\" % thresholds[i])\n",
    "#     plt.plot(fpr[i], tpr[i], 'ro')\n",
    "plt.xlabel('False Positive Rate')\n",
    "plt.ylabel('True Positive Rate')\n",
    "plt.title('ROC Curve - Decision Tree Classifier')\n",
    "plt.legend(loc=\"lower right\")\n",
    "plt.show()"
   ]
  },
  {
   "cell_type": "code",
   "execution_count": 31,
   "metadata": {},
   "outputs": [
    {
     "data": {
      "image/png": "[encoded data removed]",
      "text/plain": [
       "<Figure size 432x288 with 1 Axes>"
      ]
     },
     "metadata": {
      "needs_background": "light"
     },
     "output_type": "display_data"
    }
   ],
   "source": [
    "## Calculate feature importance by compute the (normalized) total reduction of the criterion brought by that feature\n",
    "## Also known as Gini Importance\n",
    "feat_score = model.tree_.compute_feature_importances()\n",
    "feat_name = X_train.columns.values\n",
    "\n",
    "feat_imp = pd.Series(index=feat_name, data=feat_score).sort_values(ascending=False)\n",
    "feat_imp.plot(kind='bar', title='Feature Importances')\n",
    "plt.ylabel('Feature Importance Score')\n",
    "plt.show()"
   ]
  },
  {
   "cell_type": "markdown",
   "metadata": {},
   "source": [
    "## Dump To Pickle"
   ]
  },
  {
   "cell_type": "code",
   "execution_count": 32,
   "metadata": {},
   "outputs": [],
   "source": [
    "# clf = model_choice\n",
    "# clf = clf.fit(X, y)\n",
    "# pickle.dump(clf, open('../models/model.pickle', 'wb'))"
   ]
  }
 ],
 "metadata": {
  "kernelspec": {
   "display_name": "Python 3",
   "language": "python",
   "name": "python3"
  },
  "language_info": {
   "codemirror_mode": {
    "name": "ipython",
    "version": 3
   },
   "file_extension": ".py",
   "mimetype": "text/x-python",
   "name": "python",
   "nbconvert_exporter": "python",
   "pygments_lexer": "ipython3",
   "version": "3.7.3"
  }
 },
 "nbformat": 4,
 "nbformat_minor": 4
}
